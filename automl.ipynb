{
 "cells": [
  {
   "cell_type": "markdown",
   "metadata": {},
   "source": [
    "# Automated ML\n",
    "\n",
    "TODO: Import Dependencies. In the cell below, import all the dependencies that you will need to complete the project."
   ]
  },
  {
   "cell_type": "code",
   "execution_count": 1,
   "metadata": {
    "gather": {
     "logged": 1598423888013
    },
    "jupyter": {
     "outputs_hidden": false,
     "source_hidden": false
    },
    "nteract": {
     "transient": {
      "deleting": false
     }
    }
   },
   "outputs": [
    {
     "name": "stdout",
     "output_type": "stream",
     "text": [
      "SDK version: 1.31.0\n"
     ]
    }
   ],
   "source": [
    "\n",
    "import logging\n",
    "import os\n",
    "import csv\n",
    "\n",
    "from matplotlib import pyplot as plt\n",
    "import numpy as np\n",
    "import pandas as pd\n",
    "from sklearn import datasets\n",
    "import pkg_resources\n",
    "\n",
    "import azureml.core\n",
    "from azureml.core.experiment import Experiment\n",
    "from azureml.core.workspace import Workspace\n",
    "from azureml.train.automl import AutoMLConfig\n",
    "from azureml.core.dataset import Dataset\n",
    "\n",
    "from azureml.pipeline.steps import AutoMLStep\n",
    "\n",
    "# Check core SDK version number\n",
    "print(\"SDK version:\", azureml.core.VERSION)"
   ]
  },
  {
   "cell_type": "markdown",
   "metadata": {},
   "source": [
    "## Dataset\n",
    "\n",
    "### Overview\n",
    "TODO: In this markdown cell, give an overview of the dataset you are using. Also mention the task you will be performing.\n",
    "\n",
    "\n",
    "TODO: Get data. In the cell below, write code to access the data you will be using in this project. Remember that the dataset needs to be external."
   ]
  },
  {
   "cell_type": "code",
   "execution_count": 2,
   "metadata": {
    "gather": {
     "logged": 1598423890461
    },
    "jupyter": {
     "outputs_hidden": false,
     "source_hidden": false
    },
    "nteract": {
     "transient": {
      "deleting": false
     }
    }
   },
   "outputs": [],
   "source": [
    "ws = Workspace.from_config()\n",
    "\n",
    "# choose a name for experiment\n",
    "experiment_name = 'automl-telco-churn'\n",
    "\n",
    "experiment=Experiment(ws, experiment_name)"
   ]
  },
  {
   "cell_type": "markdown",
   "metadata": {},
   "source": [
    "## AutoML Configuration\n",
    "\n",
    "TODO: Explain why you chose the automl settings and cofiguration you used below."
   ]
  },
  {
   "cell_type": "code",
   "execution_count": 3,
   "metadata": {
    "gather": {
     "logged": 1598429217746
    },
    "jupyter": {
     "outputs_hidden": false,
     "source_hidden": false
    },
    "nteract": {
     "transient": {
      "deleting": false
     }
    },
    "scrolled": true
   },
   "outputs": [
    {
     "name": "stdout",
     "output_type": "stream",
     "text": [
      "Found existing cluster, use it.\n",
      "Succeeded\n",
      "AmlCompute wait for completion finished\n",
      "\n",
      "Minimum number of nodes requested have been provisioned\n"
     ]
    }
   ],
   "source": [
    "from azureml.core.compute import AmlCompute\n",
    "from azureml.core.compute import ComputeTarget\n",
    "from azureml.core.compute_target import ComputeTargetException\n",
    "\n",
    "\n",
    "cpu_cluster_name = \"cpucluster\"\n",
    "\n",
    "# Verify that cluster does not exist already\n",
    "try:\n",
    "    compute_target = ComputeTarget(workspace=ws, name=cpu_cluster_name)\n",
    "    print('Found existing cluster, use it.')\n",
    "except ComputeTargetException:\n",
    "    compute_config = AmlCompute.provisioning_configuration(vm_size='STANDARD_D2_V2',# for GPU, use \"STANDARD_NC6\"\n",
    "                                                           #vm_priority = 'lowpriority', # optional\n",
    "                                                           max_nodes=4)\n",
    "    compute_target = ComputeTarget.create(ws, amlcompute_cluster_name, compute_config)\n",
    "\n",
    "compute_target.wait_for_completion(show_output=True)\n"
   ]
  },
  {
   "cell_type": "code",
   "execution_count": 4,
   "metadata": {},
   "outputs": [],
   "source": [
    "from azureml.data.dataset_factory import TabularDatasetFactory\n",
    "from azureml.data.dataset_factory import DataType\n",
    "\n",
    "#file uploaded to github\n",
    "url = \"https://raw.githubusercontent.com/thomascjw30/ML-Engineer-Capstone-Project/main/WA_Fn-UseC_-Telco-Customer-Churn.csv\"\n",
    "\n",
    "# pass url to Tabular dataset.  Note this is different to pandas dataframe, and gets converted to a dataframe in the function.\n",
    "\n",
    "dataset = TabularDatasetFactory.from_delimited_files(url,header = True)\n",
    "ds = dataset.to_pandas_dataframe().dropna()"
   ]
  },
  {
   "cell_type": "code",
   "execution_count": 5,
   "metadata": {},
   "outputs": [],
   "source": [
    "\n",
    "# TODO: Put your automl config here\n",
    "automl_settings = {\n",
    "    \"experiment_timeout_minutes\": 20,\n",
    "    \"max_concurrent_iterations\": 5,\n",
    "    \"primary_metric\" : 'accuracy'\n",
    "}\n",
    "automl_config = AutoMLConfig(compute_target=compute_target,\n",
    "                             task = \"classification\",\n",
    "                             training_data=dataset,\n",
    "                             label_column_name=\"Churn\",   \n",
    "                             path = './telco_project',\n",
    "                             enable_early_stopping= True,\n",
    "                             featurization= 'auto',\n",
    "                             debug_log = \"automl_errors.log\",\n",
    "                             **automl_settings\n",
    "                            )\n",
    "\n",
    "#automl_config = AutoMLConfig()"
   ]
  },
  {
   "cell_type": "code",
   "execution_count": 6,
   "metadata": {
    "gather": {
     "logged": 1598431107951
    },
    "jupyter": {
     "outputs_hidden": false,
     "source_hidden": false
    },
    "nteract": {
     "transient": {
      "deleting": false
     }
    }
   },
   "outputs": [
    {
     "name": "stdout",
     "output_type": "stream",
     "text": [
      "Submitting remote run.\n"
     ]
    },
    {
     "data": {
      "text/html": [
       "<table style=\"width:100%\"><tr><th>Experiment</th><th>Id</th><th>Type</th><th>Status</th><th>Details Page</th><th>Docs Page</th></tr><tr><td>automl-telco-churn</td><td>AutoML_fb01e616-3472-444a-9e60-8fb471a0fa75</td><td>automl</td><td>NotStarted</td><td><a href=\"https://ml.azure.com/runs/AutoML_fb01e616-3472-444a-9e60-8fb471a0fa75?wsid=/subscriptions/57edfb84-e1fe-4fdf-8da0-d05684406ce1/resourcegroups/udacity-project-3/workspaces/udacity-p3&amp;tid=69c15541-01ca-426a-a860-b0b1c1a0e229\" target=\"_blank\" rel=\"noopener\">Link to Azure Machine Learning studio</a></td><td><a href=\"https://docs.microsoft.com/en-us/python/api/overview/azure/ml/intro?view=azure-ml-py\" target=\"_blank\" rel=\"noopener\">Link to Documentation</a></td></tr></table>"
      ],
      "text/plain": [
       "<IPython.core.display.HTML object>"
      ]
     },
     "metadata": {},
     "output_type": "display_data"
    }
   ],
   "source": [
    "# TODO: Submit your experiment\n",
    "remote_run = experiment.submit(automl_config)"
   ]
  },
  {
   "cell_type": "markdown",
   "metadata": {},
   "source": [
    "## Run Details\n",
    "\n",
    "OPTIONAL: Write about the different models trained and their performance. Why do you think some models did better than others?\n",
    "\n",
    "TODO: In the cell below, use the `RunDetails` widget to show the different experiments."
   ]
  },
  {
   "cell_type": "code",
   "execution_count": 7,
   "metadata": {
    "gather": {
     "logged": 1598431121770
    },
    "jupyter": {
     "outputs_hidden": false,
     "source_hidden": false
    },
    "nteract": {
     "transient": {
      "deleting": false
     }
    }
   },
   "outputs": [
    {
     "data": {
      "application/vnd.jupyter.widget-view+json": {
       "model_id": "5d8dde7fddb04758b465886b4b249c5c",
       "version_major": 2,
       "version_minor": 0
      },
      "text/plain": [
       "_AutoMLWidget(widget_settings={'childWidgetDisplay': 'popup', 'send_telemetry': False, 'log_level': 'INFO', 's…"
      ]
     },
     "metadata": {},
     "output_type": "display_data"
    },
    {
     "data": {
      "application/aml.mini.widget.v1": "{\"status\": \"Completed\", \"workbench_run_details_uri\": \"https://ml.azure.com/runs/AutoML_fb01e616-3472-444a-9e60-8fb471a0fa75?wsid=/subscriptions/57edfb84-e1fe-4fdf-8da0-d05684406ce1/resourcegroups/udacity-project-3/workspaces/udacity-p3&tid=69c15541-01ca-426a-a860-b0b1c1a0e229\", \"run_id\": \"AutoML_fb01e616-3472-444a-9e60-8fb471a0fa75\", \"run_properties\": {\"run_id\": \"AutoML_fb01e616-3472-444a-9e60-8fb471a0fa75\", \"created_utc\": \"2021-07-27T13:33:35.112741Z\", \"properties\": {\"num_iterations\": \"1000\", \"training_type\": \"TrainFull\", \"acquisition_function\": \"EI\", \"primary_metric\": \"accuracy\", \"train_split\": \"0\", \"acquisition_parameter\": \"0\", \"num_cross_validation\": null, \"target\": \"cpucluster\", \"AMLSettingsJsonString\": \"{\\\"path\\\":null,\\\"name\\\":\\\"automl-telco-churn\\\",\\\"subscription_id\\\":\\\"57edfb84-e1fe-4fdf-8da0-d05684406ce1\\\",\\\"resource_group\\\":\\\"udacity-project-3\\\",\\\"workspace_name\\\":\\\"udacity-p3\\\",\\\"region\\\":\\\"eastus2\\\",\\\"compute_target\\\":\\\"cpucluster\\\",\\\"spark_service\\\":null,\\\"azure_service\\\":\\\"remote\\\",\\\"many_models\\\":false,\\\"pipeline_fetch_max_batch_size\\\":1,\\\"enable_batch_run\\\":false,\\\"enable_run_restructure\\\":false,\\\"start_auxiliary_runs_before_parent_complete\\\":false,\\\"enable_code_generation\\\":false,\\\"iterations\\\":1000,\\\"primary_metric\\\":\\\"accuracy\\\",\\\"task_type\\\":\\\"classification\\\",\\\"data_script\\\":null,\\\"test_size\\\":0.0,\\\"validation_size\\\":0.0,\\\"n_cross_validations\\\":null,\\\"y_min\\\":null,\\\"y_max\\\":null,\\\"num_classes\\\":null,\\\"featurization\\\":\\\"auto\\\",\\\"_ignore_package_version_incompatibilities\\\":false,\\\"is_timeseries\\\":false,\\\"max_cores_per_iteration\\\":1,\\\"max_concurrent_iterations\\\":5,\\\"iteration_timeout_minutes\\\":null,\\\"mem_in_mb\\\":null,\\\"enforce_time_on_windows\\\":false,\\\"experiment_timeout_minutes\\\":20,\\\"experiment_exit_score\\\":null,\\\"whitelist_models\\\":null,\\\"blacklist_algos\\\":[\\\"TensorFlowLinearClassifier\\\",\\\"TensorFlowDNN\\\"],\\\"supported_models\\\":[\\\"SGD\\\",\\\"SVM\\\",\\\"TensorFlowLinearClassifier\\\",\\\"AveragedPerceptronClassifier\\\",\\\"ExtremeRandomTrees\\\",\\\"GradientBoosting\\\",\\\"DecisionTree\\\",\\\"TensorFlowDNN\\\",\\\"BernoulliNaiveBayes\\\",\\\"XGBoostClassifier\\\",\\\"RandomForest\\\",\\\"LinearSVM\\\",\\\"LightGBM\\\",\\\"LogisticRegression\\\",\\\"KNN\\\",\\\"MultinomialNaiveBayes\\\"],\\\"private_models\\\":[],\\\"auto_blacklist\\\":true,\\\"blacklist_samples_reached\\\":false,\\\"exclude_nan_labels\\\":true,\\\"verbosity\\\":20,\\\"_debug_log\\\":\\\"azureml_automl.log\\\",\\\"show_warnings\\\":false,\\\"model_explainability\\\":true,\\\"service_url\\\":null,\\\"sdk_url\\\":null,\\\"sdk_packages\\\":null,\\\"enable_onnx_compatible_models\\\":false,\\\"enable_split_onnx_featurizer_estimator_models\\\":false,\\\"vm_type\\\":\\\"STANDARD_D2_V2\\\",\\\"telemetry_verbosity\\\":20,\\\"send_telemetry\\\":true,\\\"enable_dnn\\\":false,\\\"scenario\\\":\\\"SDK-1.13.0\\\",\\\"environment_label\\\":null,\\\"save_mlflow\\\":false,\\\"force_text_dnn\\\":false,\\\"enable_feature_sweeping\\\":true,\\\"enable_early_stopping\\\":true,\\\"early_stopping_n_iters\\\":10,\\\"metrics\\\":null,\\\"enable_metric_confidence\\\":false,\\\"enable_ensembling\\\":true,\\\"enable_stack_ensembling\\\":true,\\\"ensemble_iterations\\\":15,\\\"enable_tf\\\":false,\\\"enable_subsampling\\\":null,\\\"subsample_seed\\\":null,\\\"enable_nimbusml\\\":false,\\\"enable_streaming\\\":false,\\\"force_streaming\\\":false,\\\"track_child_runs\\\":true,\\\"allowed_private_models\\\":[],\\\"label_column_name\\\":\\\"Churn\\\",\\\"weight_column_name\\\":null,\\\"cv_split_column_names\\\":null,\\\"enable_local_managed\\\":false,\\\"_local_managed_run_id\\\":null,\\\"cost_mode\\\":1,\\\"lag_length\\\":0,\\\"metric_operation\\\":\\\"maximize\\\",\\\"preprocess\\\":true}\", \"DataPrepJsonString\": \"{\\\\\\\"training_data\\\\\\\": {\\\\\\\"datasetId\\\\\\\": \\\\\\\"fec9d795-fc19-407c-b7fa-daedf646f65f\\\\\\\"}, \\\\\\\"datasets\\\\\\\": 0}\", \"EnableSubsampling\": null, \"runTemplate\": \"AutoML\", \"azureml.runsource\": \"automl\", \"display_task_type\": \"classification\", \"dependencies_versions\": \"{\\\"azureml-widgets\\\": \\\"1.31.0\\\", \\\"azureml-train\\\": \\\"1.31.0\\\", \\\"azureml-train-restclients-hyperdrive\\\": \\\"1.31.0\\\", \\\"azureml-train-core\\\": \\\"1.31.0\\\", \\\"azureml-train-automl\\\": \\\"1.31.0\\\", \\\"azureml-train-automl-runtime\\\": \\\"1.31.0\\\", \\\"azureml-train-automl-client\\\": \\\"1.31.0\\\", \\\"azureml-tensorboard\\\": \\\"1.31.0\\\", \\\"azureml-telemetry\\\": \\\"1.31.0\\\", \\\"azureml-sdk\\\": \\\"1.31.0\\\", \\\"azureml-samples\\\": \\\"0+unknown\\\", \\\"azureml-responsibleai\\\": \\\"1.31.0\\\", \\\"azureml-pipeline\\\": \\\"1.31.0\\\", \\\"azureml-pipeline-steps\\\": \\\"1.31.0\\\", \\\"azureml-pipeline-core\\\": \\\"1.31.0\\\", \\\"azureml-opendatasets\\\": \\\"1.31.0\\\", \\\"azureml-model-management-sdk\\\": \\\"1.0.1b6.post1\\\", \\\"azureml-mlflow\\\": \\\"1.31.0\\\", \\\"azureml-interpret\\\": \\\"1.31.0\\\", \\\"azureml-explain-model\\\": \\\"1.31.0\\\", \\\"azureml-defaults\\\": \\\"1.31.0\\\", \\\"azureml-dataset-runtime\\\": \\\"1.31.0\\\", \\\"azureml-dataprep\\\": \\\"2.18.0\\\", \\\"azureml-dataprep-rslex\\\": \\\"1.16.1\\\", \\\"azureml-dataprep-native\\\": \\\"36.0.0\\\", \\\"azureml-datadrift\\\": \\\"1.31.0\\\", \\\"azureml-core\\\": \\\"1.31.0\\\", \\\"azureml-contrib-services\\\": \\\"1.31.0\\\", \\\"azureml-contrib-server\\\": \\\"1.31.0\\\", \\\"azureml-contrib-reinforcementlearning\\\": \\\"1.31.0\\\", \\\"azureml-contrib-pipeline-steps\\\": \\\"1.31.0\\\", \\\"azureml-contrib-notebook\\\": \\\"1.31.0\\\", \\\"azureml-contrib-fairness\\\": \\\"1.31.0\\\", \\\"azureml-contrib-dataset\\\": \\\"1.31.0\\\", \\\"azureml-cli-common\\\": \\\"1.31.0\\\", \\\"azureml-automl-runtime\\\": \\\"1.31.0\\\", \\\"azureml-automl-dnn-nlp\\\": \\\"1.31.0\\\", \\\"azureml-automl-core\\\": \\\"1.31.0\\\", \\\"azureml-accel-models\\\": \\\"1.31.0\\\"}\", \"_aml_system_scenario_identification\": \"Remote.Parent\", \"ClientType\": \"SDK\", \"environment_cpu_name\": \"AzureML-AutoML\", \"environment_cpu_label\": \"prod\", \"environment_gpu_name\": \"AzureML-AutoML-GPU\", \"environment_gpu_label\": \"prod\", \"root_attribution\": \"automl\", \"attribution\": \"AutoML\", \"Orchestrator\": \"AutoML\", \"CancelUri\": \"https://eastus2.api.azureml.ms/jasmine/v1.0/subscriptions/57edfb84-e1fe-4fdf-8da0-d05684406ce1/resourceGroups/udacity-project-3/providers/Microsoft.MachineLearningServices/workspaces/udacity-p3/experimentids/b724246b-8412-4491-a034-0ffd71398a1c/cancel/AutoML_fb01e616-3472-444a-9e60-8fb471a0fa75\", \"ClientSdkVersion\": \"1.32.0\", \"snapshotId\": \"00000000-0000-0000-0000-000000000000\", \"SetupRunId\": \"AutoML_fb01e616-3472-444a-9e60-8fb471a0fa75_setup\", \"SetupRunContainerId\": \"dcid.AutoML_fb01e616-3472-444a-9e60-8fb471a0fa75_setup\", \"FeaturizationRunJsonPath\": \"featurizer_container.json\", \"FeaturizationRunId\": \"AutoML_fb01e616-3472-444a-9e60-8fb471a0fa75_featurize\", \"ProblemInfoJsonString\": \"{\\\"dataset_num_categorical\\\": 0, \\\"is_sparse\\\": true, \\\"subsampling\\\": false, \\\"has_extra_col\\\": true, \\\"dataset_classes\\\": 2, \\\"dataset_features\\\": 40, \\\"dataset_samples\\\": 7043, \\\"single_frequency_class_detected\\\": false}\", \"ModelExplainRunId\": \"AutoML_fb01e616-3472-444a-9e60-8fb471a0fa75_ModelExplain\"}, \"tags\": {\"model_explain_run\": \"best_run\", \"_aml_system_azureml.automlComponent\": \"AutoML\", \"pipeline_id\": \"\", \"score\": \"\", \"predicted_cost\": \"\", \"fit_time\": \"\", \"training_percent\": \"\", \"iteration\": \"\", \"run_preprocessor\": \"\", \"run_algorithm\": \"\", \"dynamic_whitelisting_iterations\": \"<25>;<30>;<35>;\", \"automl_best_child_run_id\": \"AutoML_fb01e616-3472-444a-9e60-8fb471a0fa75_38\", \"model_explain_best_run_child_id\": \"AutoML_fb01e616-3472-444a-9e60-8fb471a0fa75_38\"}, \"end_time_utc\": \"2021-07-27T13:59:03.493469Z\", \"status\": \"Completed\", \"log_files\": {}, \"log_groups\": [], \"run_duration\": \"0:25:28\", \"run_number\": \"46\", \"run_queued_details\": {\"status\": \"Completed\", \"details\": null}}, \"child_runs\": [{\"run_id\": \"AutoML_fb01e616-3472-444a-9e60-8fb471a0fa75_0\", \"run_number\": 50, \"metric\": null, \"status\": \"Completed\", \"run_type\": \"azureml.scriptrun\", \"training_percent\": \"100\", \"start_time\": \"2021-07-27T13:43:11.723734Z\", \"end_time\": \"2021-07-27T13:43:48.737569Z\", \"created_time\": \"2021-07-27T13:42:58.791721Z\", \"created_time_dt\": \"2021-07-27T13:42:58.791721Z\", \"duration\": \"0:00:49\", \"iteration\": \"0\", \"goal\": \"accuracy_max\", \"run_name\": \"MaxAbsScaler, LightGBM\", \"run_properties\": \"copy=True\", \"primary_metric\": 0.79341334, \"best_metric\": 0.79341334}, {\"run_id\": \"AutoML_fb01e616-3472-444a-9e60-8fb471a0fa75_4\", \"run_number\": 51, \"metric\": null, \"status\": \"Completed\", \"run_type\": \"azureml.scriptrun\", \"training_percent\": \"100\", \"start_time\": \"2021-07-27T13:44:55.848524Z\", \"end_time\": \"2021-07-27T13:45:32.261033Z\", \"created_time\": \"2021-07-27T13:42:58.811614Z\", \"created_time_dt\": \"2021-07-27T13:42:58.811614Z\", \"duration\": \"0:02:33\", \"iteration\": \"4\", \"goal\": \"accuracy_max\", \"run_name\": \"MaxAbsScaler, RandomForest\", \"run_properties\": \"copy=True\", \"primary_metric\": 0.75493314, \"best_metric\": 0.80633292}, {\"run_id\": \"AutoML_fb01e616-3472-444a-9e60-8fb471a0fa75_1\", \"run_number\": 52, \"metric\": null, \"status\": \"Completed\", \"run_type\": \"azureml.scriptrun\", \"training_percent\": \"100\", \"start_time\": \"2021-07-27T13:44:02.851428Z\", \"end_time\": \"2021-07-27T13:44:38.224337Z\", \"created_time\": \"2021-07-27T13:42:58.813235Z\", \"created_time_dt\": \"2021-07-27T13:42:58.813235Z\", \"duration\": \"0:01:39\", \"iteration\": \"1\", \"goal\": \"accuracy_max\", \"run_name\": \"MaxAbsScaler, XGBoostClassifier\", \"run_properties\": \"copy=True\", \"primary_metric\": 0.80633292, \"best_metric\": 0.80633292}, {\"run_id\": \"AutoML_fb01e616-3472-444a-9e60-8fb471a0fa75_3\", \"run_number\": 53, \"metric\": null, \"status\": \"Completed\", \"run_type\": \"azureml.scriptrun\", \"training_percent\": \"100\", \"start_time\": \"2021-07-27T13:45:31.988064Z\", \"end_time\": \"2021-07-27T13:50:29.891379Z\", \"created_time\": \"2021-07-27T13:42:58.832444Z\", \"created_time_dt\": \"2021-07-27T13:42:58.832444Z\", \"duration\": \"0:07:31\", \"iteration\": \"3\", \"goal\": \"accuracy_max\", \"run_name\": \"MaxAbsScaler, RandomForest\", \"run_properties\": \"copy=True\", \"primary_metric\": 0.79085689, \"best_metric\": 0.80633292}, {\"run_id\": \"AutoML_fb01e616-3472-444a-9e60-8fb471a0fa75_2\", \"run_number\": 54, \"metric\": null, \"status\": \"Completed\", \"run_type\": \"azureml.scriptrun\", \"training_percent\": \"100\", \"start_time\": \"2021-07-27T13:45:32.221425Z\", \"end_time\": \"2021-07-27T13:50:29.871038Z\", \"created_time\": \"2021-07-27T13:42:58.813286Z\", \"created_time_dt\": \"2021-07-27T13:42:58.813286Z\", \"duration\": \"0:07:31\", \"iteration\": \"2\", \"goal\": \"accuracy_max\", \"run_name\": \"MaxAbsScaler, RandomForest\", \"run_properties\": \"copy=True\", \"primary_metric\": 0.79156611, \"best_metric\": 0.80633292}, {\"run_id\": \"AutoML_fb01e616-3472-444a-9e60-8fb471a0fa75_5\", \"run_number\": 55, \"metric\": null, \"status\": \"Completed\", \"run_type\": \"azureml.scriptrun\", \"training_percent\": \"100\", \"start_time\": \"2021-07-27T13:45:49.61585Z\", \"end_time\": \"2021-07-27T13:46:30.824922Z\", \"created_time\": \"2021-07-27T13:43:49.837057Z\", \"created_time_dt\": \"2021-07-27T13:43:49.837057Z\", \"duration\": \"0:02:40\", \"iteration\": \"5\", \"goal\": \"accuracy_max\", \"run_name\": \"MaxAbsScaler, RandomForest\", \"run_properties\": \"copy=True\", \"primary_metric\": 0.7221322, \"best_metric\": 0.80633292}, {\"run_id\": \"AutoML_fb01e616-3472-444a-9e60-8fb471a0fa75_6\", \"run_number\": 56, \"metric\": null, \"status\": \"Completed\", \"run_type\": \"azureml.scriptrun\", \"training_percent\": \"100\", \"start_time\": \"2021-07-27T13:46:41.606728Z\", \"end_time\": \"2021-07-27T13:47:19.091302Z\", \"created_time\": \"2021-07-27T13:44:39.057211Z\", \"created_time_dt\": \"2021-07-27T13:44:39.057211Z\", \"duration\": \"0:02:40\", \"iteration\": \"6\", \"goal\": \"accuracy_max\", \"run_name\": \"MaxAbsScaler, LightGBM\", \"run_properties\": \"copy=True\", \"primary_metric\": 0.80193171, \"best_metric\": 0.80633292}, {\"run_id\": \"AutoML_fb01e616-3472-444a-9e60-8fb471a0fa75_7\", \"run_number\": 57, \"metric\": null, \"status\": \"Completed\", \"run_type\": \"azureml.scriptrun\", \"training_percent\": \"100\", \"start_time\": \"2021-07-27T13:47:34.682917Z\", \"end_time\": \"2021-07-27T13:48:20.446532Z\", \"created_time\": \"2021-07-27T13:45:35.073025Z\", \"created_time_dt\": \"2021-07-27T13:45:35.073025Z\", \"duration\": \"0:02:45\", \"iteration\": \"7\", \"goal\": \"accuracy_max\", \"run_name\": \"StandardScalerWrapper, XGBoostClassifier\", \"run_properties\": \"\\n    copy=True,\\n    with_mean=False,\\n    with_std=False\\n\", \"primary_metric\": 0.78006587, \"best_metric\": 0.80633292}, {\"run_id\": \"AutoML_fb01e616-3472-444a-9e60-8fb471a0fa75_8\", \"run_number\": 58, \"metric\": null, \"status\": \"Completed\", \"run_type\": \"azureml.scriptrun\", \"training_percent\": \"100\", \"start_time\": \"2021-07-27T13:48:35.876036Z\", \"end_time\": \"2021-07-27T13:49:17.831967Z\", \"created_time\": \"2021-07-27T13:46:32.960204Z\", \"created_time_dt\": \"2021-07-27T13:46:32.960204Z\", \"duration\": \"0:02:44\", \"iteration\": \"8\", \"goal\": \"accuracy_max\", \"run_name\": \"SparseNormalizer, XGBoostClassifier\", \"run_properties\": \"copy=True, norm='l2'\", \"primary_metric\": 0.7963946, \"best_metric\": 0.80633292}, {\"run_id\": \"AutoML_fb01e616-3472-444a-9e60-8fb471a0fa75_9\", \"run_number\": 59, \"metric\": null, \"status\": \"Completed\", \"run_type\": \"azureml.scriptrun\", \"training_percent\": \"100\", \"start_time\": \"2021-07-27T13:49:33.144435Z\", \"end_time\": \"2021-07-27T13:50:11.939415Z\", \"created_time\": \"2021-07-27T13:47:21.059702Z\", \"created_time_dt\": \"2021-07-27T13:47:21.059702Z\", \"duration\": \"0:02:50\", \"iteration\": \"9\", \"goal\": \"accuracy_max\", \"run_name\": \"SparseNormalizer, XGBoostClassifier\", \"run_properties\": \"copy=True, norm='l2'\", \"primary_metric\": 0.79014658, \"best_metric\": 0.80633292}, {\"run_id\": \"AutoML_fb01e616-3472-444a-9e60-8fb471a0fa75_10\", \"run_number\": 60, \"metric\": null, \"status\": \"Completed\", \"run_type\": \"azureml.scriptrun\", \"training_percent\": \"100\", \"start_time\": \"2021-07-27T13:50:25.313415Z\", \"end_time\": \"2021-07-27T13:51:07.223725Z\", \"created_time\": \"2021-07-27T13:48:22.311213Z\", \"created_time_dt\": \"2021-07-27T13:48:22.311213Z\", \"duration\": \"0:02:44\", \"iteration\": \"10\", \"goal\": \"accuracy_max\", \"run_name\": \"SparseNormalizer, XGBoostClassifier\", \"run_properties\": \"copy=True, norm='max'\", \"primary_metric\": 0.79057284, \"best_metric\": 0.80633292}, {\"run_id\": \"AutoML_fb01e616-3472-444a-9e60-8fb471a0fa75_11\", \"run_number\": 61, \"metric\": null, \"status\": \"Completed\", \"run_type\": \"azureml.scriptrun\", \"training_percent\": \"100\", \"start_time\": \"2021-07-27T13:50:38.064355Z\", \"end_time\": \"2021-07-27T13:51:16.126144Z\", \"created_time\": \"2021-07-27T13:49:19.851515Z\", \"created_time_dt\": \"2021-07-27T13:49:19.851515Z\", \"duration\": \"0:01:56\", \"iteration\": \"11\", \"goal\": \"accuracy_max\", \"run_name\": \"MaxAbsScaler, LightGBM\", \"run_properties\": \"copy=True\", \"primary_metric\": 0.79554227, \"best_metric\": 0.80633292}, {\"run_id\": \"AutoML_fb01e616-3472-444a-9e60-8fb471a0fa75_12\", \"run_number\": 62, \"metric\": null, \"status\": \"Completed\", \"run_type\": \"azureml.scriptrun\", \"training_percent\": \"100\", \"start_time\": \"2021-07-27T13:50:43.494982Z\", \"end_time\": \"2021-07-27T13:51:27.793316Z\", \"created_time\": \"2021-07-27T13:50:13.799482Z\", \"created_time_dt\": \"2021-07-27T13:50:13.799482Z\", \"duration\": \"0:01:13\", \"iteration\": \"12\", \"goal\": \"accuracy_max\", \"run_name\": \"MaxAbsScaler, RandomForest\", \"run_properties\": \"copy=True\", \"primary_metric\": 0.7948316, \"best_metric\": 0.80633292}, {\"run_id\": \"AutoML_fb01e616-3472-444a-9e60-8fb471a0fa75_13\", \"run_number\": 63, \"metric\": null, \"status\": \"Completed\", \"run_type\": \"azureml.scriptrun\", \"training_percent\": \"100\", \"start_time\": \"2021-07-27T13:51:21.620046Z\", \"end_time\": \"2021-07-27T13:52:01.334926Z\", \"created_time\": \"2021-07-27T13:50:31.316394Z\", \"created_time_dt\": \"2021-07-27T13:50:31.316394Z\", \"duration\": \"0:01:30\", \"iteration\": \"13\", \"goal\": \"accuracy_max\", \"run_name\": \"MaxAbsScaler, LightGBM\", \"run_properties\": \"copy=True\", \"primary_metric\": 0.7999436, \"best_metric\": 0.80633292}, {\"run_id\": \"AutoML_fb01e616-3472-444a-9e60-8fb471a0fa75_14\", \"run_number\": 64, \"metric\": null, \"status\": \"Completed\", \"run_type\": \"azureml.scriptrun\", \"training_percent\": \"100\", \"start_time\": \"2021-07-27T13:51:30.477817Z\", \"end_time\": \"2021-07-27T13:52:22.883094Z\", \"created_time\": \"2021-07-27T13:50:31.338241Z\", \"created_time_dt\": \"2021-07-27T13:50:31.338241Z\", \"duration\": \"0:01:51\", \"iteration\": \"14\", \"goal\": \"accuracy_max\", \"run_name\": \"SparseNormalizer, XGBoostClassifier\", \"run_properties\": \"copy=True, norm='l1'\", \"primary_metric\": 0.78503518, \"best_metric\": 0.80633292}, {\"run_id\": \"AutoML_fb01e616-3472-444a-9e60-8fb471a0fa75_15\", \"run_number\": 65, \"metric\": null, \"status\": \"Completed\", \"run_type\": \"azureml.scriptrun\", \"training_percent\": \"100\", \"start_time\": \"2021-07-27T13:51:41.63472Z\", \"end_time\": \"2021-07-27T13:52:23.492436Z\", \"created_time\": \"2021-07-27T13:51:08.998393Z\", \"created_time_dt\": \"2021-07-27T13:51:08.998393Z\", \"duration\": \"0:01:14\", \"iteration\": \"15\", \"goal\": \"accuracy_max\", \"run_name\": \"SparseNormalizer, XGBoostClassifier\", \"run_properties\": \"copy=True, norm='max'\", \"primary_metric\": 0.79114021, \"best_metric\": 0.80633292}, {\"run_id\": \"AutoML_fb01e616-3472-444a-9e60-8fb471a0fa75_16\", \"run_number\": 66, \"metric\": null, \"status\": \"Completed\", \"run_type\": \"azureml.scriptrun\", \"training_percent\": \"100\", \"start_time\": \"2021-07-27T13:52:16.371549Z\", \"end_time\": \"2021-07-27T13:52:50.990462Z\", \"created_time\": \"2021-07-27T13:51:17.495274Z\", \"created_time_dt\": \"2021-07-27T13:51:17.495274Z\", \"duration\": \"0:01:33\", \"iteration\": \"16\", \"goal\": \"accuracy_max\", \"run_name\": \"MaxAbsScaler, LightGBM\", \"run_properties\": \"copy=True\", \"primary_metric\": 0.79284439, \"best_metric\": 0.80633292}, {\"run_id\": \"AutoML_fb01e616-3472-444a-9e60-8fb471a0fa75_17\", \"run_number\": 67, \"metric\": null, \"status\": \"Completed\", \"run_type\": \"azureml.scriptrun\", \"training_percent\": \"100\", \"start_time\": \"2021-07-27T13:52:33.877878Z\", \"end_time\": \"2021-07-27T13:53:20.457897Z\", \"created_time\": \"2021-07-27T13:51:29.053566Z\", \"created_time_dt\": \"2021-07-27T13:51:29.053566Z\", \"duration\": \"0:01:51\", \"iteration\": \"17\", \"goal\": \"accuracy_max\", \"run_name\": \"MaxAbsScaler, ExtremeRandomTrees\", \"run_properties\": \"copy=True\", \"primary_metric\": 0.79085671, \"best_metric\": 0.80633292}, {\"run_id\": \"AutoML_fb01e616-3472-444a-9e60-8fb471a0fa75_18\", \"run_number\": 68, \"metric\": null, \"status\": \"Completed\", \"run_type\": \"azureml.scriptrun\", \"training_percent\": \"100\", \"start_time\": \"2021-07-27T13:52:40.02834Z\", \"end_time\": \"2021-07-27T13:53:16.795923Z\", \"created_time\": \"2021-07-27T13:52:02.683208Z\", \"created_time_dt\": \"2021-07-27T13:52:02.683208Z\", \"duration\": \"0:01:14\", \"iteration\": \"18\", \"goal\": \"accuracy_max\", \"run_name\": \"StandardScalerWrapper, LightGBM\", \"run_properties\": \"\\n    copy=True,\\n    with_mean=False,\\n    with_std=False\\n\", \"primary_metric\": 0.79767156, \"best_metric\": 0.80633292}, {\"run_id\": \"AutoML_fb01e616-3472-444a-9e60-8fb471a0fa75_19\", \"run_number\": 69, \"metric\": null, \"status\": \"Completed\", \"run_type\": \"azureml.scriptrun\", \"training_percent\": \"100\", \"start_time\": \"2021-07-27T13:53:07.523422Z\", \"end_time\": \"2021-07-27T13:53:39.100689Z\", \"created_time\": \"2021-07-27T13:52:25.140368Z\", \"created_time_dt\": \"2021-07-27T13:52:25.140368Z\", \"duration\": \"0:01:13\", \"iteration\": \"19\", \"goal\": \"accuracy_max\", \"run_name\": \"MaxAbsScaler, LightGBM\", \"run_properties\": \"copy=True\", \"primary_metric\": 0.78957872, \"best_metric\": 0.80633292}, {\"run_id\": \"AutoML_fb01e616-3472-444a-9e60-8fb471a0fa75_20\", \"run_number\": 70, \"metric\": null, \"status\": \"Completed\", \"run_type\": \"azureml.scriptrun\", \"training_percent\": \"100\", \"start_time\": \"2021-07-27T13:53:32.1885Z\", \"end_time\": \"2021-07-27T13:54:07.926819Z\", \"created_time\": \"2021-07-27T13:52:27.655917Z\", \"created_time_dt\": \"2021-07-27T13:52:27.655917Z\", \"duration\": \"0:01:40\", \"iteration\": \"20\", \"goal\": \"accuracy_max\", \"run_name\": \"MaxAbsScaler, LightGBM\", \"run_properties\": \"copy=True\", \"primary_metric\": 0.8056231, \"best_metric\": 0.80633292}, {\"run_id\": \"AutoML_fb01e616-3472-444a-9e60-8fb471a0fa75_21\", \"run_number\": 71, \"metric\": null, \"status\": \"Completed\", \"run_type\": \"azureml.scriptrun\", \"training_percent\": \"100\", \"start_time\": \"2021-07-27T13:53:35.045767Z\", \"end_time\": \"2021-07-27T13:54:09.792212Z\", \"created_time\": \"2021-07-27T13:52:52.557891Z\", \"created_time_dt\": \"2021-07-27T13:52:52.557891Z\", \"duration\": \"0:01:17\", \"iteration\": \"21\", \"goal\": \"accuracy_max\", \"run_name\": \"SparseNormalizer, LightGBM\", \"run_properties\": \"copy=True, norm='max'\", \"primary_metric\": 0.80022832, \"best_metric\": 0.80633292}, {\"run_id\": \"AutoML_fb01e616-3472-444a-9e60-8fb471a0fa75_22\", \"run_number\": 72, \"metric\": null, \"status\": \"Completed\", \"run_type\": \"azureml.scriptrun\", \"training_percent\": \"100\", \"start_time\": \"2021-07-27T13:53:55.10413Z\", \"end_time\": \"2021-07-27T13:54:34.984342Z\", \"created_time\": \"2021-07-27T13:53:18.067161Z\", \"created_time_dt\": \"2021-07-27T13:53:18.067161Z\", \"duration\": \"0:01:16\", \"iteration\": \"22\", \"goal\": \"accuracy_max\", \"run_name\": \"MaxAbsScaler, ExtremeRandomTrees\", \"run_properties\": \"copy=True\", \"primary_metric\": 0.79170898, \"best_metric\": 0.80633292}, {\"run_id\": \"AutoML_fb01e616-3472-444a-9e60-8fb471a0fa75_23\", \"run_number\": 73, \"metric\": null, \"status\": \"Completed\", \"run_type\": \"azureml.scriptrun\", \"training_percent\": \"100\", \"start_time\": \"2021-07-27T13:54:23.547975Z\", \"end_time\": \"2021-07-27T13:55:02.289536Z\", \"created_time\": \"2021-07-27T13:53:21.854368Z\", \"created_time_dt\": \"2021-07-27T13:53:21.854368Z\", \"duration\": \"0:01:40\", \"iteration\": \"23\", \"goal\": \"accuracy_max\", \"run_name\": \"SparseNormalizer, ExtremeRandomTrees\", \"run_properties\": \"copy=True, norm='l1'\", \"primary_metric\": 0.75606928, \"best_metric\": 0.80633292}, {\"run_id\": \"AutoML_fb01e616-3472-444a-9e60-8fb471a0fa75_24\", \"run_number\": 74, \"metric\": null, \"status\": \"Completed\", \"run_type\": \"azureml.scriptrun\", \"training_percent\": \"100\", \"start_time\": \"2021-07-27T13:54:23.698471Z\", \"end_time\": \"2021-07-27T13:55:01.586893Z\", \"created_time\": \"2021-07-27T13:53:41.523141Z\", \"created_time_dt\": \"2021-07-27T13:53:41.523141Z\", \"duration\": \"0:01:20\", \"iteration\": \"24\", \"goal\": \"accuracy_max\", \"run_name\": \"MaxAbsScaler, LogisticRegression\", \"run_properties\": \"copy=True\", \"primary_metric\": 0.80221534, \"best_metric\": 0.80633292}, {\"run_id\": \"AutoML_fb01e616-3472-444a-9e60-8fb471a0fa75_25\", \"run_number\": 75, \"metric\": null, \"status\": \"Completed\", \"run_type\": \"azureml.scriptrun\", \"training_percent\": \"100\", \"start_time\": \"2021-07-27T13:54:50.152016Z\", \"end_time\": \"2021-07-27T13:55:30.964552Z\", \"created_time\": \"2021-07-27T13:54:10.197999Z\", \"created_time_dt\": \"2021-07-27T13:54:10.197999Z\", \"duration\": \"0:01:20\", \"iteration\": \"25\", \"goal\": \"accuracy_max\", \"run_name\": \"StandardScalerWrapper, XGBoostClassifier\", \"run_properties\": \"\\n    copy=True,\\n    with_mean=False,\\n    with_std=False\\n\", \"primary_metric\": 0.73463078, \"best_metric\": 0.80633292}, {\"run_id\": \"AutoML_fb01e616-3472-444a-9e60-8fb471a0fa75_26\", \"run_number\": 76, \"metric\": null, \"status\": \"Completed\", \"run_type\": \"azureml.scriptrun\", \"training_percent\": \"100\", \"start_time\": \"2021-07-27T13:55:17.605633Z\", \"end_time\": \"2021-07-27T13:55:57.109107Z\", \"created_time\": \"2021-07-27T13:54:12.875072Z\", \"created_time_dt\": \"2021-07-27T13:54:12.875072Z\", \"duration\": \"0:01:44\", \"iteration\": \"26\", \"goal\": \"accuracy_max\", \"run_name\": \"StandardScalerWrapper, ExtremeRandomTrees\", \"run_properties\": \"\\n    copy=True,\\n    with_mean=False,\\n    with_std=True\\n\", \"primary_metric\": 0.7854615, \"best_metric\": 0.80633292}, {\"run_id\": \"AutoML_fb01e616-3472-444a-9e60-8fb471a0fa75_27\", \"run_number\": 77, \"metric\": null, \"status\": \"Completed\", \"run_type\": \"azureml.scriptrun\", \"training_percent\": \"100\", \"start_time\": \"2021-07-27T13:55:16.654195Z\", \"end_time\": \"2021-07-27T13:55:54.131026Z\", \"created_time\": \"2021-07-27T13:54:36.819818Z\", \"created_time_dt\": \"2021-07-27T13:54:36.819818Z\", \"duration\": \"0:01:17\", \"iteration\": \"27\", \"goal\": \"accuracy_max\", \"run_name\": \"StandardScalerWrapper, LightGBM\", \"run_properties\": \"\\n    copy=True,\\n    with_mean=False,\\n    with_std=True\\n\", \"primary_metric\": 0.73463078, \"best_metric\": 0.80633292}, {\"run_id\": \"AutoML_fb01e616-3472-444a-9e60-8fb471a0fa75_28\", \"run_number\": 78, \"metric\": null, \"status\": \"Completed\", \"run_type\": \"azureml.scriptrun\", \"training_percent\": \"100\", \"start_time\": \"2021-07-27T13:55:48.60846Z\", \"end_time\": \"2021-07-27T13:56:23.955753Z\", \"created_time\": \"2021-07-27T13:55:03.187438Z\", \"created_time_dt\": \"2021-07-27T13:55:03.187438Z\", \"duration\": \"0:01:20\", \"iteration\": \"28\", \"goal\": \"accuracy_max\", \"run_name\": \"SparseNormalizer, LightGBM\", \"run_properties\": \"copy=True, norm='l1'\", \"primary_metric\": 0.80548114, \"best_metric\": 0.80633292}, {\"run_id\": \"AutoML_fb01e616-3472-444a-9e60-8fb471a0fa75_29\", \"run_number\": 79, \"metric\": null, \"status\": \"Completed\", \"run_type\": \"azureml.scriptrun\", \"training_percent\": \"100\", \"start_time\": \"2021-07-27T13:56:07.464904Z\", \"end_time\": \"2021-07-27T13:56:46.150556Z\", \"created_time\": \"2021-07-27T13:55:05.760362Z\", \"created_time_dt\": \"2021-07-27T13:55:05.760362Z\", \"duration\": \"0:01:40\", \"iteration\": \"29\", \"goal\": \"accuracy_max\", \"run_name\": \"SparseNormalizer, LightGBM\", \"run_properties\": \"copy=True, norm='l1'\", \"primary_metric\": 0.80306731, \"best_metric\": 0.80633292}, {\"run_id\": \"AutoML_fb01e616-3472-444a-9e60-8fb471a0fa75_30\", \"run_number\": 80, \"metric\": null, \"status\": \"Completed\", \"run_type\": \"azureml.scriptrun\", \"training_percent\": \"100\", \"start_time\": \"2021-07-27T13:56:10.473282Z\", \"end_time\": \"2021-07-27T13:56:47.239699Z\", \"created_time\": \"2021-07-27T13:55:33.481322Z\", \"created_time_dt\": \"2021-07-27T13:55:33.481322Z\", \"duration\": \"0:01:13\", \"iteration\": \"30\", \"goal\": \"accuracy_max\", \"run_name\": \"TruncatedSVDWrapper, XGBoostClassifier\", \"run_properties\": \"n_components=0.01, random_state=None\", \"primary_metric\": 0.78574573, \"best_metric\": 0.80633292}, {\"run_id\": \"AutoML_fb01e616-3472-444a-9e60-8fb471a0fa75_31\", \"run_number\": 81, \"metric\": null, \"status\": \"Completed\", \"run_type\": \"azureml.scriptrun\", \"training_percent\": \"100\", \"start_time\": \"2021-07-27T13:56:39.188453Z\", \"end_time\": \"2021-07-27T13:57:17.38243Z\", \"created_time\": \"2021-07-27T13:55:55.543505Z\", \"created_time_dt\": \"2021-07-27T13:55:55.543505Z\", \"duration\": \"0:01:21\", \"iteration\": \"31\", \"goal\": \"accuracy_max\", \"run_name\": \"MaxAbsScaler, LightGBM\", \"run_properties\": \"copy=True\", \"primary_metric\": 0.80448708, \"best_metric\": 0.80633292}, {\"run_id\": \"AutoML_fb01e616-3472-444a-9e60-8fb471a0fa75_32\", \"run_number\": 82, \"metric\": null, \"status\": \"Completed\", \"run_type\": \"azureml.scriptrun\", \"training_percent\": \"100\", \"start_time\": \"2021-07-27T13:57:00.824159Z\", \"end_time\": \"2021-07-27T13:57:39.548771Z\", \"created_time\": \"2021-07-27T13:55:59.231157Z\", \"created_time_dt\": \"2021-07-27T13:55:59.231157Z\", \"duration\": \"0:01:40\", \"iteration\": \"32\", \"goal\": \"accuracy_max\", \"run_name\": \"SparseNormalizer, LightGBM\", \"run_properties\": \"copy=True, norm='l1'\", \"primary_metric\": 0.79667756, \"best_metric\": 0.80633292}, {\"run_id\": \"AutoML_fb01e616-3472-444a-9e60-8fb471a0fa75_33\", \"run_number\": 83, \"metric\": null, \"status\": \"Completed\", \"run_type\": \"azureml.scriptrun\", \"training_percent\": \"100\", \"start_time\": \"2021-07-27T13:57:02.683581Z\", \"end_time\": \"2021-07-27T13:57:52.370823Z\", \"created_time\": \"2021-07-27T13:56:25.455046Z\", \"created_time_dt\": \"2021-07-27T13:56:25.455046Z\", \"duration\": \"0:01:26\", \"iteration\": \"33\", \"goal\": \"accuracy_max\", \"run_name\": \"SparseNormalizer, XGBoostClassifier\", \"run_properties\": \"copy=True, norm='l1'\", \"primary_metric\": 0.7850356, \"best_metric\": 0.80633292}, {\"run_id\": \"AutoML_fb01e616-3472-444a-9e60-8fb471a0fa75_34\", \"run_number\": 84, \"metric\": null, \"status\": \"Canceled\", \"run_type\": \"azureml.scriptrun\", \"training_percent\": \"100\", \"start_time\": \"2021-07-27T13:57:33.215389Z\", \"end_time\": \"2021-07-27T13:57:58.301013Z\", \"created_time\": \"2021-07-27T13:56:47.42012Z\", \"created_time_dt\": \"2021-07-27T13:56:47.42012Z\", \"duration\": \"0:01:10\", \"iteration\": \"34\", \"goal\": \"accuracy_max\", \"run_name\": \"MaxAbsScaler, LogisticRegression\", \"run_properties\": \"copy=True\", \"primary_metric\": 0.80235737, \"best_metric\": 0.80633292}, {\"run_id\": \"AutoML_fb01e616-3472-444a-9e60-8fb471a0fa75_35\", \"run_number\": 85, \"metric\": null, \"status\": \"Canceled\", \"run_type\": \"azureml.scriptrun\", \"training_percent\": \"100\", \"start_time\": \"2021-07-27T13:57:52.917017Z\", \"end_time\": \"2021-07-27T13:57:58.46469Z\", \"created_time\": \"2021-07-27T13:56:51.395123Z\", \"created_time_dt\": \"2021-07-27T13:56:51.395123Z\", \"duration\": \"0:01:07\", \"iteration\": \"35\", \"goal\": null, \"run_name\": \"Canceled\", \"run_properties\": null}, {\"run_id\": \"AutoML_fb01e616-3472-444a-9e60-8fb471a0fa75_36\", \"run_number\": 86, \"metric\": null, \"status\": \"Canceled\", \"run_type\": \"azureml.scriptrun\", \"training_percent\": \"100\", \"start_time\": \"2021-07-27T13:57:18.830759Z\", \"end_time\": \"2021-07-27T13:57:58.384983Z\", \"created_time\": \"2021-07-27T13:57:18.830759Z\", \"created_time_dt\": \"2021-07-27T13:57:18.830759Z\", \"duration\": \"0:00:39\", \"iteration\": \"36\", \"goal\": null, \"run_name\": \"Canceled\", \"run_properties\": null}, {\"run_id\": \"AutoML_fb01e616-3472-444a-9e60-8fb471a0fa75_37\", \"run_number\": 87, \"metric\": null, \"status\": \"Canceled\", \"run_type\": \"azureml.scriptrun\", \"training_percent\": \"100\", \"start_time\": \"2021-07-27T13:57:41.053231Z\", \"end_time\": \"2021-07-27T13:57:58.330286Z\", \"created_time\": \"2021-07-27T13:57:41.053231Z\", \"created_time_dt\": \"2021-07-27T13:57:41.053231Z\", \"duration\": \"0:00:17\", \"iteration\": \"37\", \"goal\": null, \"run_name\": \"Canceled\", \"run_properties\": null}, {\"run_id\": \"AutoML_fb01e616-3472-444a-9e60-8fb471a0fa75_38\", \"run_number\": 88, \"metric\": null, \"status\": \"Completed\", \"run_type\": \"azureml.scriptrun\", \"training_percent\": \"100\", \"start_time\": \"2021-07-27T13:58:07.40846Z\", \"end_time\": \"2021-07-27T13:59:02.211597Z\", \"created_time\": \"2021-07-27T13:58:00.030668Z\", \"created_time_dt\": \"2021-07-27T13:58:00.030668Z\", \"duration\": \"0:01:02\", \"iteration\": \"38\", \"goal\": \"accuracy_max\", \"run_name\": \"VotingEnsemble\", \"run_properties\": \"\\n    estimators=[('1', Pipeline(memory=None,\\n             steps=[('maxabsscaler', MaxAbsScaler(copy=True\", \"primary_metric\": 0.80917301, \"best_metric\": 0.80917301}, {\"run_id\": \"AutoML_fb01e616-3472-444a-9e60-8fb471a0fa75_39\", \"run_number\": 89, \"metric\": null, \"status\": \"Completed\", \"run_type\": \"azureml.scriptrun\", \"training_percent\": \"100\", \"start_time\": \"2021-07-27T13:58:07.876621Z\", \"end_time\": \"2021-07-27T13:58:59.623603Z\", \"created_time\": \"2021-07-27T13:58:00.035499Z\", \"created_time_dt\": \"2021-07-27T13:58:00.035499Z\", \"duration\": \"0:00:59\", \"iteration\": \"39\", \"goal\": \"accuracy_max\", \"run_name\": \"StackEnsemble\", \"run_properties\": \"\\n    base_learners=[('1', Pipeline(memory=None,\\n             steps=[('maxabsscaler', MaxAbsScaler(copy=True\", \"primary_metric\": 0.80647537, \"best_metric\": 0.80917301}], \"children_metrics\": {\"categories\": [0], \"series\": {\"balanced_accuracy\": [{\"categories\": [\"0\", \"1\", \"2\", \"3\", \"4\", \"5\", \"6\", \"7\", \"8\", \"9\", \"10\", \"11\", \"12\", \"13\", \"14\", \"15\", \"16\", \"17\", \"18\", \"19\", \"20\", \"21\", \"22\", \"23\", \"24\", \"25\", \"26\", \"27\", \"28\", \"29\", \"30\", \"31\", \"32\", \"33\", \"34\", \"38\", \"39\"], \"mode\": \"markers\", \"name\": \"balanced_accuracy\", \"stepped\": false, \"type\": \"scatter\", \"data\": [0.7056879837750146, 0.7213947760198094, 0.6623341826532592, 0.6593230448390379, 0.7658462204495167, 0.7516158598817079, 0.7046607978506159, 0.6938656984508221, 0.7061464262781296, 0.7018513682961253, 0.7025241134117076, 0.6670250411244044, 0.6804021300059365, 0.6944717355188161, 0.6971535964290384, 0.6801491398736986, 0.6523394021189449, 0.6721541927052944, 0.6834025057204219, 0.646064455662598, 0.7097719672324238, 0.6959640693611787, 0.6742290925967996, 0.7479959799574446, 0.7201691244480654, 0.5, 0.6392477440566479, 0.5, 0.7156441675759604, 0.7113836811938099, 0.6345752005899469, 0.7185910090288082, 0.6750818260205492, 0.6974740166371033, 0.7207641329106932, 0.7189570912416595, 0.7168262921477068]}, {\"categories\": [\"0\", \"1\", \"2\", \"3\", \"4\", \"5\", \"6\", \"7\", \"8\", \"9\", \"10\", \"11\", \"12\", \"13\", \"14\", \"15\", \"16\", \"17\", \"18\", \"19\", \"20\", \"21\", \"22\", \"23\", \"24\", \"25\", \"26\", \"27\", \"28\", \"29\", \"30\", \"31\", \"32\", \"33\", \"34\", \"38\", \"39\"], \"mode\": \"lines\", \"name\": \"balanced_accuracy_max\", \"stepped\": true, \"type\": \"scatter\", \"data\": [0.7056879837750146, 0.7213947760198094, 0.7213947760198094, 0.7213947760198094, 0.7658462204495167, 0.7658462204495167, 0.7658462204495167, 0.7658462204495167, 0.7658462204495167, 0.7658462204495167, 0.7658462204495167, 0.7658462204495167, 0.7658462204495167, 0.7658462204495167, 0.7658462204495167, 0.7658462204495167, 0.7658462204495167, 0.7658462204495167, 0.7658462204495167, 0.7658462204495167, 0.7658462204495167, 0.7658462204495167, 0.7658462204495167, 0.7658462204495167, 0.7658462204495167, 0.7658462204495167, 0.7658462204495167, 0.7658462204495167, 0.7658462204495167, 0.7658462204495167, 0.7658462204495167, 0.7658462204495167, 0.7658462204495167, 0.7658462204495167, 0.7658462204495167, 0.7658462204495167, 0.7658462204495167]}], \"precision_score_micro\": [{\"categories\": [\"0\", \"1\", \"2\", \"3\", \"4\", \"5\", \"6\", \"7\", \"8\", \"9\", \"10\", \"11\", \"12\", \"13\", \"14\", \"15\", \"16\", \"17\", \"18\", \"19\", \"20\", \"21\", \"22\", \"23\", \"24\", \"25\", \"26\", \"27\", \"28\", \"29\", \"30\", \"31\", \"32\", \"33\", \"34\", \"38\", \"39\"], \"mode\": \"markers\", \"name\": \"precision_score_micro\", \"stepped\": false, \"type\": \"scatter\", \"data\": [0.7934133417145185, 0.806332924194067, 0.7915661057514916, 0.7908568866655198, 0.754933140449937, 0.7221321962600654, 0.8019317131805508, 0.7800658687604144, 0.796394602361878, 0.7901465787997145, 0.7905728361045199, 0.795542269215573, 0.7948315984231563, 0.799943601204626, 0.7850351808959303, 0.7911402113732974, 0.7928443937637595, 0.7908567052022142, 0.7976715596432383, 0.789578719628789, 0.8056231002304101, 0.8002283171310797, 0.7917089778607509, 0.756069282206168, 0.8022153403271711, 0.7346307838706704, 0.7854614986885041, 0.7346307838706704, 0.8054811354376786, 0.8030673105468651, 0.7857457307128096, 0.8044870794497161, 0.7966775641430442, 0.7850356043103099, 0.802357365607671, 0.8091730063896859, 0.8064753728889466]}, {\"categories\": [\"0\", \"1\", \"2\", \"3\", \"4\", \"5\", \"6\", \"7\", \"8\", \"9\", \"10\", \"11\", \"12\", \"13\", \"14\", \"15\", \"16\", \"17\", \"18\", \"19\", \"20\", \"21\", \"22\", \"23\", \"24\", \"25\", \"26\", \"27\", \"28\", \"29\", \"30\", \"31\", \"32\", \"33\", \"34\", \"38\", \"39\"], \"mode\": \"lines\", \"name\": \"precision_score_micro_max\", \"stepped\": true, \"type\": \"scatter\", \"data\": [0.7934133417145185, 0.806332924194067, 0.806332924194067, 0.806332924194067, 0.806332924194067, 0.806332924194067, 0.806332924194067, 0.806332924194067, 0.806332924194067, 0.806332924194067, 0.806332924194067, 0.806332924194067, 0.806332924194067, 0.806332924194067, 0.806332924194067, 0.806332924194067, 0.806332924194067, 0.806332924194067, 0.806332924194067, 0.806332924194067, 0.806332924194067, 0.806332924194067, 0.806332924194067, 0.806332924194067, 0.806332924194067, 0.806332924194067, 0.806332924194067, 0.806332924194067, 0.806332924194067, 0.806332924194067, 0.806332924194067, 0.806332924194067, 0.806332924194067, 0.806332924194067, 0.806332924194067, 0.8091730063896859, 0.8091730063896859]}], \"log_loss\": [{\"categories\": [\"0\", \"1\", \"2\", \"3\", \"4\", \"5\", \"6\", \"7\", \"8\", \"9\", \"10\", \"11\", \"12\", \"13\", \"14\", \"15\", \"16\", \"17\", \"18\", \"19\", \"20\", \"21\", \"22\", \"23\", \"24\", \"25\", \"26\", \"27\", \"28\", \"29\", \"30\", \"31\", \"32\", \"33\", \"34\", \"38\", \"39\"], \"mode\": \"markers\", \"name\": \"log_loss\", \"stepped\": false, \"type\": \"scatter\", \"data\": [0.437987212396927, 0.4158517669227975, 0.4320195133423843, 0.43618107444747906, 0.4904456482396105, 0.5341373281683052, 0.41963426333994747, 0.5161853035507181, 0.42518508532711446, 0.4384149144032879, 0.4365718704953063, 0.43461666517960945, 0.43153077339164164, 0.4226932457953594, 0.4685236133942385, 0.4959986995352303, 0.44104881702492754, 0.4360828465855407, 0.4231630858721242, 0.4438514054510621, 0.4159478849860541, 0.423880749962656, 0.4292858909070871, 0.5539855304717819, 0.41746434913704, 0.5787252604007546, 0.44737100102113336, 0.4936413323537785, 0.4128055830914472, 0.4158143609732747, 0.4833107612646999, 0.41618480913351474, 0.4321245077472136, 0.4682081756257562, 0.4172295661631454, 0.41290890608101566, 0.42010873501029006]}, {\"categories\": [\"0\", \"1\", \"2\", \"3\", \"4\", \"5\", \"6\", \"7\", \"8\", \"9\", \"10\", \"11\", \"12\", \"13\", \"14\", \"15\", \"16\", \"17\", \"18\", \"19\", \"20\", \"21\", \"22\", \"23\", \"24\", \"25\", \"26\", \"27\", \"28\", \"29\", \"30\", \"31\", \"32\", \"33\", \"34\", \"38\", \"39\"], \"mode\": \"lines\", \"name\": \"log_loss_min\", \"stepped\": true, \"type\": \"scatter\", \"data\": [0.437987212396927, 0.4158517669227975, 0.4158517669227975, 0.4158517669227975, 0.4158517669227975, 0.4158517669227975, 0.4158517669227975, 0.4158517669227975, 0.4158517669227975, 0.4158517669227975, 0.4158517669227975, 0.4158517669227975, 0.4158517669227975, 0.4158517669227975, 0.4158517669227975, 0.4158517669227975, 0.4158517669227975, 0.4158517669227975, 0.4158517669227975, 0.4158517669227975, 0.4158517669227975, 0.4158517669227975, 0.4158517669227975, 0.4158517669227975, 0.4158517669227975, 0.4158517669227975, 0.4158517669227975, 0.4158517669227975, 0.4128055830914472, 0.4128055830914472, 0.4128055830914472, 0.4128055830914472, 0.4128055830914472, 0.4128055830914472, 0.4128055830914472, 0.4128055830914472, 0.4128055830914472]}], \"f1_score_weighted\": [{\"categories\": [\"0\", \"1\", \"2\", \"3\", \"4\", \"5\", \"6\", \"7\", \"8\", \"9\", \"10\", \"11\", \"12\", \"13\", \"14\", \"15\", \"16\", \"17\", \"18\", \"19\", \"20\", \"21\", \"22\", \"23\", \"24\", \"25\", \"26\", \"27\", \"28\", \"29\", \"30\", \"31\", \"32\", \"33\", \"34\", \"38\", \"39\"], \"mode\": \"markers\", \"name\": \"f1_score_weighted\", \"stepped\": false, \"type\": \"scatter\", \"data\": [0.7862390227449835, 0.799346087766676, 0.7697294403478695, 0.7679905980520049, 0.7673002540162828, 0.7377987068709219, 0.7915072270857378, 0.7739635071166836, 0.7883917358450928, 0.783010192936635, 0.7834550565753453, 0.7739440394926804, 0.778970882296052, 0.787007234794765, 0.778252270894868, 0.7762709975109935, 0.7657950933957217, 0.7733096815884744, 0.7815763642233581, 0.7610219855516762, 0.7954629900258388, 0.787489654653975, 0.774635242647517, 0.7665957106241189, 0.796218686177438, 0.6222629953683686, 0.7554797317585237, 0.6222629953683686, 0.7971106939559228, 0.794137249984213, 0.7532563007026355, 0.797310611984955, 0.7775718166798788, 0.7783470937102024, 0.7964793365576508, 0.8006018015242814, 0.7980025100531161]}, {\"categories\": [\"0\", \"1\", \"2\", \"3\", \"4\", \"5\", \"6\", \"7\", \"8\", \"9\", \"10\", \"11\", \"12\", \"13\", \"14\", \"15\", \"16\", \"17\", \"18\", \"19\", \"20\", \"21\", \"22\", \"23\", \"24\", \"25\", \"26\", \"27\", \"28\", \"29\", \"30\", \"31\", \"32\", \"33\", \"34\", \"38\", \"39\"], \"mode\": \"lines\", \"name\": \"f1_score_weighted_max\", \"stepped\": true, \"type\": \"scatter\", \"data\": [0.7862390227449835, 0.799346087766676, 0.799346087766676, 0.799346087766676, 0.799346087766676, 0.799346087766676, 0.799346087766676, 0.799346087766676, 0.799346087766676, 0.799346087766676, 0.799346087766676, 0.799346087766676, 0.799346087766676, 0.799346087766676, 0.799346087766676, 0.799346087766676, 0.799346087766676, 0.799346087766676, 0.799346087766676, 0.799346087766676, 0.799346087766676, 0.799346087766676, 0.799346087766676, 0.799346087766676, 0.799346087766676, 0.799346087766676, 0.799346087766676, 0.799346087766676, 0.799346087766676, 0.799346087766676, 0.799346087766676, 0.799346087766676, 0.799346087766676, 0.799346087766676, 0.799346087766676, 0.8006018015242814, 0.8006018015242814]}], \"AUC_micro\": [{\"categories\": [\"0\", \"1\", \"2\", \"3\", \"4\", \"5\", \"6\", \"7\", \"8\", \"9\", \"10\", \"11\", \"12\", \"13\", \"14\", \"15\", \"16\", \"17\", \"18\", \"19\", \"20\", \"21\", \"22\", \"23\", \"24\", \"25\", \"26\", \"27\", \"28\", \"29\", \"30\", \"31\", \"32\", \"33\", \"34\", \"38\", \"39\"], \"mode\": \"markers\", \"name\": \"AUC_micro\", \"stepped\": false, \"type\": \"scatter\", \"data\": [0.8820266908081331, 0.8903040006188849, 0.8817617687101338, 0.8807011114700704, 0.8395048047691215, 0.817053617634686, 0.8891464134988704, 0.8673269523148678, 0.8859874071892776, 0.8781585922823677, 0.8812246070136274, 0.8854566573901205, 0.8817797404330031, 0.888400383138381, 0.8740884500974615, 0.8806466629139581, 0.8827449647141382, 0.8797647428718661, 0.8876611469141106, 0.8808327100755102, 0.8905584344525553, 0.8882647374434859, 0.8830216189280605, 0.8218752170027388, 0.8889587212759978, 0.7346307838706704, 0.8743264335176595, 0.8662764287159472, 0.8915637736843091, 0.8907488135565337, 0.8526406428675982, 0.8901495581646349, 0.8867126591426783, 0.8733437838103325, 0.889192802326463, 0.8920987211546191, 0.8918206330390461]}, {\"categories\": [\"0\", \"1\", \"2\", \"3\", \"4\", \"5\", \"6\", \"7\", \"8\", \"9\", \"10\", \"11\", \"12\", \"13\", \"14\", \"15\", \"16\", \"17\", \"18\", \"19\", \"20\", \"21\", \"22\", \"23\", \"24\", \"25\", \"26\", \"27\", \"28\", \"29\", \"30\", \"31\", \"32\", \"33\", \"34\", \"38\", \"39\"], \"mode\": \"lines\", \"name\": \"AUC_micro_max\", \"stepped\": true, \"type\": \"scatter\", \"data\": [0.8820266908081331, 0.8903040006188849, 0.8903040006188849, 0.8903040006188849, 0.8903040006188849, 0.8903040006188849, 0.8903040006188849, 0.8903040006188849, 0.8903040006188849, 0.8903040006188849, 0.8903040006188849, 0.8903040006188849, 0.8903040006188849, 0.8903040006188849, 0.8903040006188849, 0.8903040006188849, 0.8903040006188849, 0.8903040006188849, 0.8903040006188849, 0.8903040006188849, 0.8905584344525553, 0.8905584344525553, 0.8905584344525553, 0.8905584344525553, 0.8905584344525553, 0.8905584344525553, 0.8905584344525553, 0.8905584344525553, 0.8915637736843091, 0.8915637736843091, 0.8915637736843091, 0.8915637736843091, 0.8915637736843091, 0.8915637736843091, 0.8915637736843091, 0.8920987211546191, 0.8920987211546191]}], \"matthews_correlation\": [{\"categories\": [\"0\", \"1\", \"2\", \"3\", \"4\", \"5\", \"6\", \"7\", \"8\", \"9\", \"10\", \"11\", \"12\", \"13\", \"14\", \"15\", \"16\", \"17\", \"18\", \"19\", \"20\", \"21\", \"22\", \"23\", \"24\", \"25\", \"26\", \"27\", \"28\", \"29\", \"30\", \"31\", \"32\", \"33\", \"34\", \"38\", \"39\"], \"mode\": \"markers\", \"name\": \"matthews_correlation\", \"stepped\": false, \"type\": \"scatter\", \"data\": [0.4409331362173062, 0.47587648813320743, 0.40314354833286, 0.39995005138455947, 0.4794850073035571, 0.4476684291402005, 0.4548086258444521, 0.40973763606143593, 0.4461939690938328, 0.4323360980108883, 0.43358870913080083, 0.4157583558004263, 0.4228448367267848, 0.44337447245486095, 0.4200611384542201, 0.41515234405320417, 0.401284811599168, 0.40849410986433393, 0.4309731755138217, 0.3892661716689842, 0.46562230661745097, 0.444992799743897, 0.41176205214225026, 0.45459164124547735, 0.46790292558623864, 0.0, 0.37436336261235975, 0.0, 0.469845619918007, 0.46243239055285823, 0.3731269743924653, 0.47049420525124436, 0.4230585916676765, 0.4204582921293603, 0.46863297155127553, 0.47906092210546475, 0.4728789833091362]}, {\"categories\": [\"0\", \"1\", \"2\", \"3\", \"4\", \"5\", \"6\", \"7\", \"8\", \"9\", \"10\", \"11\", \"12\", \"13\", \"14\", \"15\", \"16\", \"17\", \"18\", \"19\", \"20\", \"21\", \"22\", \"23\", \"24\", \"25\", \"26\", \"27\", \"28\", \"29\", \"30\", \"31\", \"32\", \"33\", \"34\", \"38\", \"39\"], \"mode\": \"lines\", \"name\": \"matthews_correlation_max\", \"stepped\": true, \"type\": \"scatter\", \"data\": [0.4409331362173062, 0.47587648813320743, 0.47587648813320743, 0.47587648813320743, 0.4794850073035571, 0.4794850073035571, 0.4794850073035571, 0.4794850073035571, 0.4794850073035571, 0.4794850073035571, 0.4794850073035571, 0.4794850073035571, 0.4794850073035571, 0.4794850073035571, 0.4794850073035571, 0.4794850073035571, 0.4794850073035571, 0.4794850073035571, 0.4794850073035571, 0.4794850073035571, 0.4794850073035571, 0.4794850073035571, 0.4794850073035571, 0.4794850073035571, 0.4794850073035571, 0.4794850073035571, 0.4794850073035571, 0.4794850073035571, 0.4794850073035571, 0.4794850073035571, 0.4794850073035571, 0.4794850073035571, 0.4794850073035571, 0.4794850073035571, 0.4794850073035571, 0.4794850073035571, 0.4794850073035571]}], \"average_precision_score_micro\": [{\"categories\": [\"0\", \"1\", \"2\", \"3\", \"4\", \"5\", \"6\", \"7\", \"8\", \"9\", \"10\", \"11\", \"12\", \"13\", \"14\", \"15\", \"16\", \"17\", \"18\", \"19\", \"20\", \"21\", \"22\", \"23\", \"24\", \"25\", \"26\", \"27\", \"28\", \"29\", \"30\", \"31\", \"32\", \"33\", \"34\", \"38\", \"39\"], \"mode\": \"markers\", \"name\": \"average_precision_score_micro\", \"stepped\": false, \"type\": \"scatter\", \"data\": [0.8831696463692724, 0.890709125910217, 0.8832922898919923, 0.8825166918256674, 0.8435049249669335, 0.8229200635021764, 0.8895275802552977, 0.8679319082262819, 0.8875208646624371, 0.8801083644487514, 0.8831743628898289, 0.8874129318166996, 0.8818838013866186, 0.8898592722222224, 0.8761827769662807, 0.8796896920583798, 0.8845356470462887, 0.8819765111781477, 0.8888313294183986, 0.8830314742688398, 0.8913666355709583, 0.8895333957394039, 0.8848220896120443, 0.8147243729419026, 0.8903358656122506, 0.6724146593980018, 0.8768606298817008, 0.8701676144119257, 0.8928735979922955, 0.89156452827153, 0.8318542645751746, 0.8903992321417377, 0.8883936017198798, 0.8748529721962335, 0.8905593846031256, 0.8932963535538881, 0.8932936026751092]}, {\"categories\": [\"0\", \"1\", \"2\", \"3\", \"4\", \"5\", \"6\", \"7\", \"8\", \"9\", \"10\", \"11\", \"12\", \"13\", \"14\", \"15\", \"16\", \"17\", \"18\", \"19\", \"20\", \"21\", \"22\", \"23\", \"24\", \"25\", \"26\", \"27\", \"28\", \"29\", \"30\", \"31\", \"32\", \"33\", \"34\", \"38\", \"39\"], \"mode\": \"lines\", \"name\": \"average_precision_score_micro_max\", \"stepped\": true, \"type\": \"scatter\", \"data\": [0.8831696463692724, 0.890709125910217, 0.890709125910217, 0.890709125910217, 0.890709125910217, 0.890709125910217, 0.890709125910217, 0.890709125910217, 0.890709125910217, 0.890709125910217, 0.890709125910217, 0.890709125910217, 0.890709125910217, 0.890709125910217, 0.890709125910217, 0.890709125910217, 0.890709125910217, 0.890709125910217, 0.890709125910217, 0.890709125910217, 0.8913666355709583, 0.8913666355709583, 0.8913666355709583, 0.8913666355709583, 0.8913666355709583, 0.8913666355709583, 0.8913666355709583, 0.8913666355709583, 0.8928735979922955, 0.8928735979922955, 0.8928735979922955, 0.8928735979922955, 0.8928735979922955, 0.8928735979922955, 0.8928735979922955, 0.8932963535538881, 0.8932963535538881]}], \"weighted_accuracy\": [{\"categories\": [\"0\", \"1\", \"2\", \"3\", \"4\", \"5\", \"6\", \"7\", \"8\", \"9\", \"10\", \"11\", \"12\", \"13\", \"14\", \"15\", \"16\", \"17\", \"18\", \"19\", \"20\", \"21\", \"22\", \"23\", \"24\", \"25\", \"26\", \"27\", \"28\", \"29\", \"30\", \"31\", \"32\", \"33\", \"34\", \"38\", \"39\"], \"mode\": \"markers\", \"name\": \"weighted_accuracy\", \"stepped\": false, \"type\": \"scatter\", \"data\": [0.8494580108214856, 0.8606217090454594, 0.8740880233837013, 0.8748560469984344, 0.7480194604694729, 0.7034739146430007, 0.8641294029944228, 0.8351294264884223, 0.8540465234087051, 0.8465371727336771, 0.8468126045530798, 0.8776392351027286, 0.8678209046883252, 0.8673442379386905, 0.8411465380876679, 0.8621306454372637, 0.8825801665122665, 0.8667328129991024, 0.8707017564539875, 0.8812566317966035, 0.866924185810294, 0.8669379607693765, 0.8667921547830458, 0.761237797487782, 0.8546162611865511, 0.8844384717255965, 0.8788434821668858, 0.8844384717255965, 0.862940193948145, 0.8617514575144547, 0.8821902395204217, 0.8593921458887391, 0.8744497104754924, 0.840924834820466, 0.8544644133770829, 0.8668551903735092, 0.8638783095690222]}, {\"categories\": [\"0\", \"1\", \"2\", \"3\", \"4\", \"5\", \"6\", \"7\", \"8\", \"9\", \"10\", \"11\", \"12\", \"13\", \"14\", \"15\", \"16\", \"17\", \"18\", \"19\", \"20\", \"21\", \"22\", \"23\", \"24\", \"25\", \"26\", \"27\", \"28\", \"29\", \"30\", \"31\", \"32\", \"33\", \"34\", \"38\", \"39\"], \"mode\": \"lines\", \"name\": \"weighted_accuracy_max\", \"stepped\": true, \"type\": \"scatter\", \"data\": [0.8494580108214856, 0.8606217090454594, 0.8740880233837013, 0.8748560469984344, 0.8748560469984344, 0.8748560469984344, 0.8748560469984344, 0.8748560469984344, 0.8748560469984344, 0.8748560469984344, 0.8748560469984344, 0.8776392351027286, 0.8776392351027286, 0.8776392351027286, 0.8776392351027286, 0.8776392351027286, 0.8825801665122665, 0.8825801665122665, 0.8825801665122665, 0.8825801665122665, 0.8825801665122665, 0.8825801665122665, 0.8825801665122665, 0.8825801665122665, 0.8825801665122665, 0.8844384717255965, 0.8844384717255965, 0.8844384717255965, 0.8844384717255965, 0.8844384717255965, 0.8844384717255965, 0.8844384717255965, 0.8844384717255965, 0.8844384717255965, 0.8844384717255965, 0.8844384717255965, 0.8844384717255965]}], \"precision_score_macro\": [{\"categories\": [\"0\", \"1\", \"2\", \"3\", \"4\", \"5\", \"6\", \"7\", \"8\", \"9\", \"10\", \"11\", \"12\", \"13\", \"14\", \"15\", \"16\", \"17\", \"18\", \"19\", \"20\", \"21\", \"22\", \"23\", \"24\", \"25\", \"26\", \"27\", \"28\", \"29\", \"30\", \"31\", \"32\", \"33\", \"34\", \"38\", \"39\"], \"mode\": \"markers\", \"name\": \"precision_score_macro\", \"stepped\": false, \"type\": \"scatter\", \"data\": [0.7363299616567219, 0.7557636201223872, 0.7503937116675913, 0.7512005639378314, 0.7162205484932912, 0.6991513272765465, 0.7527573894777415, 0.7165312081299792, 0.7414726322676182, 0.7315174041863473, 0.7320879904910506, 0.7587672224977391, 0.7479214149523594, 0.7527998073806875, 0.7237586075759636, 0.739489744171102, 0.7642821431664677, 0.7424302132048904, 0.7534272634961819, 0.7593898975354296, 0.7584951743537495, 0.7527861658190598, 0.7433863816622889, 0.7083455231684157, 0.7486162703239682, 0.3673153919353352, 0.751941039044762, 0.3673153919353352, 0.7560123803642939, 0.7531467142712662, 0.7589722903430642, 0.7532536447787891, 0.7559145447646124, 0.7238164458122037, 0.748715510656341, 0.7620954894160086, 0.7580692858309565]}, {\"categories\": [\"0\", \"1\", \"2\", \"3\", \"4\", \"5\", \"6\", \"7\", \"8\", \"9\", \"10\", \"11\", \"12\", \"13\", \"14\", \"15\", \"16\", \"17\", \"18\", \"19\", \"20\", \"21\", \"22\", \"23\", \"24\", \"25\", \"26\", \"27\", \"28\", \"29\", \"30\", \"31\", \"32\", \"33\", \"34\", \"38\", \"39\"], \"mode\": \"lines\", \"name\": \"precision_score_macro_max\", \"stepped\": true, \"type\": \"scatter\", \"data\": [0.7363299616567219, 0.7557636201223872, 0.7557636201223872, 0.7557636201223872, 0.7557636201223872, 0.7557636201223872, 0.7557636201223872, 0.7557636201223872, 0.7557636201223872, 0.7557636201223872, 0.7557636201223872, 0.7587672224977391, 0.7587672224977391, 0.7587672224977391, 0.7587672224977391, 0.7587672224977391, 0.7642821431664677, 0.7642821431664677, 0.7642821431664677, 0.7642821431664677, 0.7642821431664677, 0.7642821431664677, 0.7642821431664677, 0.7642821431664677, 0.7642821431664677, 0.7642821431664677, 0.7642821431664677, 0.7642821431664677, 0.7642821431664677, 0.7642821431664677, 0.7642821431664677, 0.7642821431664677, 0.7642821431664677, 0.7642821431664677, 0.7642821431664677, 0.7642821431664677, 0.7642821431664677]}], \"average_precision_score_macro\": [{\"categories\": [\"0\", \"1\", \"2\", \"3\", \"4\", \"5\", \"6\", \"7\", \"8\", \"9\", \"10\", \"11\", \"12\", \"13\", \"14\", \"15\", \"16\", \"17\", \"18\", \"19\", \"20\", \"21\", \"22\", \"23\", \"24\", \"25\", \"26\", \"27\", \"28\", \"29\", \"30\", \"31\", \"32\", \"33\", \"34\", \"38\", \"39\"], \"mode\": \"markers\", \"name\": \"average_precision_score_macro\", \"stepped\": false, \"type\": \"scatter\", \"data\": [0.7867665435577887, 0.799248532925596, 0.7836181042225073, 0.782268961323986, 0.7950540137308781, 0.7692083567134832, 0.7960946188787877, 0.7621068130305423, 0.7909247012625004, 0.777994360158618, 0.7820087555778642, 0.7973259841328341, 0.7757210192679865, 0.7964037992562883, 0.7706231390217398, 0.7744301044935412, 0.793476899711778, 0.7801563687824989, 0.794845902462181, 0.7884500512809667, 0.799282497851198, 0.7947068747609404, 0.7848708999305947, 0.77168296746976, 0.7949416742565178, 0.5, 0.7763704558816061, 0.7835471237536037, 0.8002643526630054, 0.7992699403568676, 0.7308018367520906, 0.79809534143557, 0.7961210136093992, 0.7696161777799934, 0.7953461538370629, 0.8024453068505064, 0.8023489908148184]}, {\"categories\": [\"0\", \"1\", \"2\", \"3\", \"4\", \"5\", \"6\", \"7\", \"8\", \"9\", \"10\", \"11\", \"12\", \"13\", \"14\", \"15\", \"16\", \"17\", \"18\", \"19\", \"20\", \"21\", \"22\", \"23\", \"24\", \"25\", \"26\", \"27\", \"28\", \"29\", \"30\", \"31\", \"32\", \"33\", \"34\", \"38\", \"39\"], \"mode\": \"lines\", \"name\": \"average_precision_score_macro_max\", \"stepped\": true, \"type\": \"scatter\", \"data\": [0.7867665435577887, 0.799248532925596, 0.799248532925596, 0.799248532925596, 0.799248532925596, 0.799248532925596, 0.799248532925596, 0.799248532925596, 0.799248532925596, 0.799248532925596, 0.799248532925596, 0.799248532925596, 0.799248532925596, 0.799248532925596, 0.799248532925596, 0.799248532925596, 0.799248532925596, 0.799248532925596, 0.799248532925596, 0.799248532925596, 0.799282497851198, 0.799282497851198, 0.799282497851198, 0.799282497851198, 0.799282497851198, 0.799282497851198, 0.799282497851198, 0.799282497851198, 0.8002643526630054, 0.8002643526630054, 0.8002643526630054, 0.8002643526630054, 0.8002643526630054, 0.8002643526630054, 0.8002643526630054, 0.8024453068505064, 0.8024453068505064]}], \"average_precision_score_weighted\": [{\"categories\": [\"0\", \"1\", \"2\", \"3\", \"4\", \"5\", \"6\", \"7\", \"8\", \"9\", \"10\", \"11\", \"12\", \"13\", \"14\", \"15\", \"16\", \"17\", \"18\", \"19\", \"20\", \"21\", \"22\", \"23\", \"24\", \"25\", \"26\", \"27\", \"28\", \"29\", \"30\", \"31\", \"32\", \"33\", \"34\", \"38\", \"39\"], \"mode\": \"markers\", \"name\": \"average_precision_score_weighted\", \"stepped\": false, \"type\": \"scatter\", \"data\": [0.8542570358875866, 0.8630627705917088, 0.8532359729937276, 0.8527927808239203, 0.8610219359384771, 0.844227826292621, 0.8610627453493253, 0.8363699318976137, 0.8581329666895372, 0.8491998369438091, 0.8524696008166218, 0.8626991202481213, 0.8483503010293497, 0.8621661293777816, 0.8442016897278822, 0.846722915772267, 0.8598748967473338, 0.8513509209044217, 0.860897552816423, 0.8569860752929263, 0.8636238472505465, 0.8612007734325543, 0.8544366686740208, 0.8445583797219864, 0.8612605893941305, 0.6101985349253335, 0.8485256543471694, 0.8531031003171071, 0.8647088524549907, 0.8636454205208149, 0.7984551385648179, 0.8623965575031058, 0.8618081641075682, 0.8431497245672435, 0.8615393352417745, 0.8659900498594181, 0.8661236181401456]}, {\"categories\": [\"0\", \"1\", \"2\", \"3\", \"4\", \"5\", \"6\", \"7\", \"8\", \"9\", \"10\", \"11\", \"12\", \"13\", \"14\", \"15\", \"16\", \"17\", \"18\", \"19\", \"20\", \"21\", \"22\", \"23\", \"24\", \"25\", \"26\", \"27\", \"28\", \"29\", \"30\", \"31\", \"32\", \"33\", \"34\", \"38\", \"39\"], \"mode\": \"lines\", \"name\": \"average_precision_score_weighted_max\", \"stepped\": true, \"type\": \"scatter\", \"data\": [0.8542570358875866, 0.8630627705917088, 0.8630627705917088, 0.8630627705917088, 0.8630627705917088, 0.8630627705917088, 0.8630627705917088, 0.8630627705917088, 0.8630627705917088, 0.8630627705917088, 0.8630627705917088, 0.8630627705917088, 0.8630627705917088, 0.8630627705917088, 0.8630627705917088, 0.8630627705917088, 0.8630627705917088, 0.8630627705917088, 0.8630627705917088, 0.8630627705917088, 0.8636238472505465, 0.8636238472505465, 0.8636238472505465, 0.8636238472505465, 0.8636238472505465, 0.8636238472505465, 0.8636238472505465, 0.8636238472505465, 0.8647088524549907, 0.8647088524549907, 0.8647088524549907, 0.8647088524549907, 0.8647088524549907, 0.8647088524549907, 0.8647088524549907, 0.8659900498594181, 0.8661236181401456]}], \"f1_score_macro\": [{\"categories\": [\"0\", \"1\", \"2\", \"3\", \"4\", \"5\", \"6\", \"7\", \"8\", \"9\", \"10\", \"11\", \"12\", \"13\", \"14\", \"15\", \"16\", \"17\", \"18\", \"19\", \"20\", \"21\", \"22\", \"23\", \"24\", \"25\", \"26\", \"27\", \"28\", \"29\", \"30\", \"31\", \"32\", \"33\", \"34\", \"38\", \"39\"], \"mode\": \"markers\", \"name\": \"f1_score_macro\", \"stepped\": false, \"type\": \"scatter\", \"data\": [0.7175132240967862, 0.7346304075371126, 0.682287141731765, 0.6792010273713723, 0.7236592643366627, 0.6965701083144168, 0.7210902682791192, 0.7029290024304359, 0.7193586496356627, 0.7133274565398962, 0.7139753295623713, 0.6880435994109003, 0.6995111036513525, 0.7127373195906368, 0.7076126443274044, 0.6972626668910836, 0.6728641543806791, 0.6908513307149428, 0.7028445466096516, 0.6654301947321049, 0.7264899078954784, 0.7137879582279222, 0.6929543487939122, 0.7177260990340351, 0.7315760079233272, 0.4234992861864861, 0.6569579693440681, 0.4234992861864861, 0.7303927236125238, 0.726069965586928, 0.6519358638297329, 0.7317757995211102, 0.6951481555567721, 0.7078809998598494, 0.7320299804197242, 0.7346451108621282, 0.7315204569037181]}, {\"categories\": [\"0\", \"1\", \"2\", \"3\", \"4\", \"5\", \"6\", \"7\", \"8\", \"9\", \"10\", \"11\", \"12\", \"13\", \"14\", \"15\", \"16\", \"17\", \"18\", \"19\", \"20\", \"21\", \"22\", \"23\", \"24\", \"25\", \"26\", \"27\", \"28\", \"29\", \"30\", \"31\", \"32\", \"33\", \"34\", \"38\", \"39\"], \"mode\": \"lines\", \"name\": \"f1_score_macro_max\", \"stepped\": true, \"type\": \"scatter\", \"data\": [0.7175132240967862, 0.7346304075371126, 0.7346304075371126, 0.7346304075371126, 0.7346304075371126, 0.7346304075371126, 0.7346304075371126, 0.7346304075371126, 0.7346304075371126, 0.7346304075371126, 0.7346304075371126, 0.7346304075371126, 0.7346304075371126, 0.7346304075371126, 0.7346304075371126, 0.7346304075371126, 0.7346304075371126, 0.7346304075371126, 0.7346304075371126, 0.7346304075371126, 0.7346304075371126, 0.7346304075371126, 0.7346304075371126, 0.7346304075371126, 0.7346304075371126, 0.7346304075371126, 0.7346304075371126, 0.7346304075371126, 0.7346304075371126, 0.7346304075371126, 0.7346304075371126, 0.7346304075371126, 0.7346304075371126, 0.7346304075371126, 0.7346304075371126, 0.7346451108621282, 0.7346451108621282]}], \"AUC_macro\": [{\"categories\": [\"0\", \"1\", \"2\", \"3\", \"4\", \"5\", \"6\", \"7\", \"8\", \"9\", \"10\", \"11\", \"12\", \"13\", \"14\", \"15\", \"16\", \"17\", \"18\", \"19\", \"20\", \"21\", \"22\", \"23\", \"24\", \"25\", \"26\", \"27\", \"28\", \"29\", \"30\", \"31\", \"32\", \"33\", \"34\", \"38\", \"39\"], \"mode\": \"markers\", \"name\": \"AUC_macro\", \"stepped\": false, \"type\": \"scatter\", \"data\": [0.8336521823108806, 0.8457764927526638, 0.8355220754890734, 0.8362535928141596, 0.843606620443051, 0.830080029823776, 0.8443600403646968, 0.8125665746653047, 0.8397050492484602, 0.8285721562517144, 0.8342491458018516, 0.8456975077790433, 0.8347408177917258, 0.8456598535257545, 0.8232374346023108, 0.8331479014359703, 0.8430460586229823, 0.8330834257518699, 0.8445371817300801, 0.8407737310767449, 0.8471744392124387, 0.8460309169131363, 0.8368716661938723, 0.824833356167161, 0.8450409754635361, 0.5, 0.830354323007047, 0.8377692675764098, 0.848322199864248, 0.8473604963484744, 0.7732460955564915, 0.8457920362700552, 0.8446095556529295, 0.8222541924938754, 0.8453971022125849, 0.8492267473264131, 0.8493938063703256]}, {\"categories\": [\"0\", \"1\", \"2\", \"3\", \"4\", \"5\", \"6\", \"7\", \"8\", \"9\", \"10\", \"11\", \"12\", \"13\", \"14\", \"15\", \"16\", \"17\", \"18\", \"19\", \"20\", \"21\", \"22\", \"23\", \"24\", \"25\", \"26\", \"27\", \"28\", \"29\", \"30\", \"31\", \"32\", \"33\", \"34\", \"38\", \"39\"], \"mode\": \"lines\", \"name\": \"AUC_macro_max\", \"stepped\": true, \"type\": \"scatter\", \"data\": [0.8336521823108806, 0.8457764927526638, 0.8457764927526638, 0.8457764927526638, 0.8457764927526638, 0.8457764927526638, 0.8457764927526638, 0.8457764927526638, 0.8457764927526638, 0.8457764927526638, 0.8457764927526638, 0.8457764927526638, 0.8457764927526638, 0.8457764927526638, 0.8457764927526638, 0.8457764927526638, 0.8457764927526638, 0.8457764927526638, 0.8457764927526638, 0.8457764927526638, 0.8471744392124387, 0.8471744392124387, 0.8471744392124387, 0.8471744392124387, 0.8471744392124387, 0.8471744392124387, 0.8471744392124387, 0.8471744392124387, 0.848322199864248, 0.848322199864248, 0.848322199864248, 0.848322199864248, 0.848322199864248, 0.848322199864248, 0.848322199864248, 0.8492267473264131, 0.8493938063703256]}], \"recall_score_weighted\": [{\"categories\": [\"0\", \"1\", \"2\", \"3\", \"4\", \"5\", \"6\", \"7\", \"8\", \"9\", \"10\", \"11\", \"12\", \"13\", \"14\", \"15\", \"16\", \"17\", \"18\", \"19\", \"20\", \"21\", \"22\", \"23\", \"24\", \"25\", \"26\", \"27\", \"28\", \"29\", \"30\", \"31\", \"32\", \"33\", \"34\", \"38\", \"39\"], \"mode\": \"markers\", \"name\": \"recall_score_weighted\", \"stepped\": false, \"type\": \"scatter\", \"data\": [0.7934133417145185, 0.806332924194067, 0.7915661057514916, 0.7908568866655198, 0.754933140449937, 0.7221321962600654, 0.8019317131805508, 0.7800658687604144, 0.796394602361878, 0.7901465787997145, 0.7905728361045199, 0.795542269215573, 0.7948315984231563, 0.799943601204626, 0.7850351808959303, 0.7911402113732974, 0.7928443937637595, 0.7908567052022142, 0.7976715596432383, 0.789578719628789, 0.8056231002304101, 0.8002283171310797, 0.7917089778607509, 0.756069282206168, 0.8022153403271711, 0.7346307838706704, 0.7854614986885041, 0.7346307838706704, 0.8054811354376786, 0.8030673105468651, 0.7857457307128096, 0.8044870794497161, 0.7966775641430442, 0.7850356043103099, 0.802357365607671, 0.8091730063896859, 0.8064753728889466]}, {\"categories\": [\"0\", \"1\", \"2\", \"3\", \"4\", \"5\", \"6\", \"7\", \"8\", \"9\", \"10\", \"11\", \"12\", \"13\", \"14\", \"15\", \"16\", \"17\", \"18\", \"19\", \"20\", \"21\", \"22\", \"23\", \"24\", \"25\", \"26\", \"27\", \"28\", \"29\", \"30\", \"31\", \"32\", \"33\", \"34\", \"38\", \"39\"], \"mode\": \"lines\", \"name\": \"recall_score_weighted_max\", \"stepped\": true, \"type\": \"scatter\", \"data\": [0.7934133417145185, 0.806332924194067, 0.806332924194067, 0.806332924194067, 0.806332924194067, 0.806332924194067, 0.806332924194067, 0.806332924194067, 0.806332924194067, 0.806332924194067, 0.806332924194067, 0.806332924194067, 0.806332924194067, 0.806332924194067, 0.806332924194067, 0.806332924194067, 0.806332924194067, 0.806332924194067, 0.806332924194067, 0.806332924194067, 0.806332924194067, 0.806332924194067, 0.806332924194067, 0.806332924194067, 0.806332924194067, 0.806332924194067, 0.806332924194067, 0.806332924194067, 0.806332924194067, 0.806332924194067, 0.806332924194067, 0.806332924194067, 0.806332924194067, 0.806332924194067, 0.806332924194067, 0.8091730063896859, 0.8091730063896859]}], \"recall_score_micro\": [{\"categories\": [\"0\", \"1\", \"2\", \"3\", \"4\", \"5\", \"6\", \"7\", \"8\", \"9\", \"10\", \"11\", \"12\", \"13\", \"14\", \"15\", \"16\", \"17\", \"18\", \"19\", \"20\", \"21\", \"22\", \"23\", \"24\", \"25\", \"26\", \"27\", \"28\", \"29\", \"30\", \"31\", \"32\", \"33\", \"34\", \"38\", \"39\"], \"mode\": \"markers\", \"name\": \"recall_score_micro\", \"stepped\": false, \"type\": \"scatter\", \"data\": [0.7934133417145185, 0.806332924194067, 0.7915661057514916, 0.7908568866655198, 0.754933140449937, 0.7221321962600654, 0.8019317131805508, 0.7800658687604144, 0.796394602361878, 0.7901465787997145, 0.7905728361045199, 0.795542269215573, 0.7948315984231563, 0.799943601204626, 0.7850351808959303, 0.7911402113732974, 0.7928443937637595, 0.7908567052022142, 0.7976715596432383, 0.789578719628789, 0.8056231002304101, 0.8002283171310797, 0.7917089778607509, 0.756069282206168, 0.8022153403271711, 0.7346307838706704, 0.7854614986885041, 0.7346307838706704, 0.8054811354376786, 0.8030673105468651, 0.7857457307128096, 0.8044870794497161, 0.7966775641430442, 0.7850356043103099, 0.802357365607671, 0.8091730063896859, 0.8064753728889466]}, {\"categories\": [\"0\", \"1\", \"2\", \"3\", \"4\", \"5\", \"6\", \"7\", \"8\", \"9\", \"10\", \"11\", \"12\", \"13\", \"14\", \"15\", \"16\", \"17\", \"18\", \"19\", \"20\", \"21\", \"22\", \"23\", \"24\", \"25\", \"26\", \"27\", \"28\", \"29\", \"30\", \"31\", \"32\", \"33\", \"34\", \"38\", \"39\"], \"mode\": \"lines\", \"name\": \"recall_score_micro_max\", \"stepped\": true, \"type\": \"scatter\", \"data\": [0.7934133417145185, 0.806332924194067, 0.806332924194067, 0.806332924194067, 0.806332924194067, 0.806332924194067, 0.806332924194067, 0.806332924194067, 0.806332924194067, 0.806332924194067, 0.806332924194067, 0.806332924194067, 0.806332924194067, 0.806332924194067, 0.806332924194067, 0.806332924194067, 0.806332924194067, 0.806332924194067, 0.806332924194067, 0.806332924194067, 0.806332924194067, 0.806332924194067, 0.806332924194067, 0.806332924194067, 0.806332924194067, 0.806332924194067, 0.806332924194067, 0.806332924194067, 0.806332924194067, 0.806332924194067, 0.806332924194067, 0.806332924194067, 0.806332924194067, 0.806332924194067, 0.806332924194067, 0.8091730063896859, 0.8091730063896859]}], \"f1_score_micro\": [{\"categories\": [\"0\", \"1\", \"2\", \"3\", \"4\", \"5\", \"6\", \"7\", \"8\", \"9\", \"10\", \"11\", \"12\", \"13\", \"14\", \"15\", \"16\", \"17\", \"18\", \"19\", \"20\", \"21\", \"22\", \"23\", \"24\", \"25\", \"26\", \"27\", \"28\", \"29\", \"30\", \"31\", \"32\", \"33\", \"34\", \"38\", \"39\"], \"mode\": \"markers\", \"name\": \"f1_score_micro\", \"stepped\": false, \"type\": \"scatter\", \"data\": [0.7934133417145186, 0.806332924194067, 0.7915661057514916, 0.7908568866655198, 0.754933140449937, 0.7221321962600654, 0.8019317131805508, 0.7800658687604144, 0.796394602361878, 0.7901465787997145, 0.7905728361045199, 0.7955422692155728, 0.7948315984231563, 0.7999436012046259, 0.7850351808959303, 0.7911402113732974, 0.7928443937637595, 0.7908567052022142, 0.7976715596432383, 0.789578719628789, 0.8056231002304101, 0.8002283171310797, 0.7917089778607509, 0.756069282206168, 0.8022153403271712, 0.7346307838706704, 0.7854614986885041, 0.7346307838706704, 0.8054811354376786, 0.8030673105468651, 0.7857457307128096, 0.8044870794497161, 0.7966775641430442, 0.7850356043103099, 0.802357365607671, 0.8091730063896859, 0.8064753728889467]}, {\"categories\": [\"0\", \"1\", \"2\", \"3\", \"4\", \"5\", \"6\", \"7\", \"8\", \"9\", \"10\", \"11\", \"12\", \"13\", \"14\", \"15\", \"16\", \"17\", \"18\", \"19\", \"20\", \"21\", \"22\", \"23\", \"24\", \"25\", \"26\", \"27\", \"28\", \"29\", \"30\", \"31\", \"32\", \"33\", \"34\", \"38\", \"39\"], \"mode\": \"lines\", \"name\": \"f1_score_micro_max\", \"stepped\": true, \"type\": \"scatter\", \"data\": [0.7934133417145186, 0.806332924194067, 0.806332924194067, 0.806332924194067, 0.806332924194067, 0.806332924194067, 0.806332924194067, 0.806332924194067, 0.806332924194067, 0.806332924194067, 0.806332924194067, 0.806332924194067, 0.806332924194067, 0.806332924194067, 0.806332924194067, 0.806332924194067, 0.806332924194067, 0.806332924194067, 0.806332924194067, 0.806332924194067, 0.806332924194067, 0.806332924194067, 0.806332924194067, 0.806332924194067, 0.806332924194067, 0.806332924194067, 0.806332924194067, 0.806332924194067, 0.806332924194067, 0.806332924194067, 0.806332924194067, 0.806332924194067, 0.806332924194067, 0.806332924194067, 0.806332924194067, 0.8091730063896859, 0.8091730063896859]}], \"accuracy\": [{\"categories\": [\"0\", \"1\", \"2\", \"3\", \"4\", \"5\", \"6\", \"7\", \"8\", \"9\", \"10\", \"11\", \"12\", \"13\", \"14\", \"15\", \"16\", \"17\", \"18\", \"19\", \"20\", \"21\", \"22\", \"23\", \"24\", \"25\", \"26\", \"27\", \"28\", \"29\", \"30\", \"31\", \"32\", \"33\", \"34\", \"38\", \"39\"], \"mode\": \"markers\", \"name\": \"accuracy\", \"stepped\": false, \"type\": \"scatter\", \"data\": [0.7934133417145185, 0.806332924194067, 0.7915661057514916, 0.7908568866655198, 0.754933140449937, 0.7221321962600654, 0.8019317131805508, 0.7800658687604144, 0.796394602361878, 0.7901465787997145, 0.7905728361045199, 0.795542269215573, 0.7948315984231563, 0.799943601204626, 0.7850351808959303, 0.7911402113732974, 0.7928443937637595, 0.7908567052022142, 0.7976715596432383, 0.789578719628789, 0.8056231002304101, 0.8002283171310797, 0.7917089778607509, 0.756069282206168, 0.8022153403271711, 0.7346307838706704, 0.7854614986885041, 0.7346307838706704, 0.8054811354376786, 0.8030673105468651, 0.7857457307128096, 0.8044870794497161, 0.7966775641430442, 0.7850356043103099, 0.802357365607671, 0.8091730063896859, 0.8064753728889466]}, {\"categories\": [\"0\", \"1\", \"2\", \"3\", \"4\", \"5\", \"6\", \"7\", \"8\", \"9\", \"10\", \"11\", \"12\", \"13\", \"14\", \"15\", \"16\", \"17\", \"18\", \"19\", \"20\", \"21\", \"22\", \"23\", \"24\", \"25\", \"26\", \"27\", \"28\", \"29\", \"30\", \"31\", \"32\", \"33\", \"34\", \"38\", \"39\"], \"mode\": \"lines\", \"name\": \"accuracy_max\", \"stepped\": true, \"type\": \"scatter\", \"data\": [0.7934133417145185, 0.806332924194067, 0.806332924194067, 0.806332924194067, 0.806332924194067, 0.806332924194067, 0.806332924194067, 0.806332924194067, 0.806332924194067, 0.806332924194067, 0.806332924194067, 0.806332924194067, 0.806332924194067, 0.806332924194067, 0.806332924194067, 0.806332924194067, 0.806332924194067, 0.806332924194067, 0.806332924194067, 0.806332924194067, 0.806332924194067, 0.806332924194067, 0.806332924194067, 0.806332924194067, 0.806332924194067, 0.806332924194067, 0.806332924194067, 0.806332924194067, 0.806332924194067, 0.806332924194067, 0.806332924194067, 0.806332924194067, 0.806332924194067, 0.806332924194067, 0.806332924194067, 0.8091730063896859, 0.8091730063896859]}], \"recall_score_macro\": [{\"categories\": [\"0\", \"1\", \"2\", \"3\", \"4\", \"5\", \"6\", \"7\", \"8\", \"9\", \"10\", \"11\", \"12\", \"13\", \"14\", \"15\", \"16\", \"17\", \"18\", \"19\", \"20\", \"21\", \"22\", \"23\", \"24\", \"25\", \"26\", \"27\", \"28\", \"29\", \"30\", \"31\", \"32\", \"33\", \"34\", \"38\", \"39\"], \"mode\": \"markers\", \"name\": \"recall_score_macro\", \"stepped\": false, \"type\": \"scatter\", \"data\": [0.7056879837750146, 0.7213947760198094, 0.6623341826532592, 0.6593230448390379, 0.7658462204495167, 0.7516158598817079, 0.7046607978506159, 0.6938656984508221, 0.7061464262781296, 0.7018513682961253, 0.7025241134117076, 0.6670250411244044, 0.6804021300059365, 0.6944717355188161, 0.6971535964290384, 0.6801491398736986, 0.6523394021189449, 0.6721541927052944, 0.6834025057204219, 0.646064455662598, 0.7097719672324238, 0.6959640693611787, 0.6742290925967996, 0.7479959799574446, 0.7201691244480654, 0.5, 0.6392477440566479, 0.5, 0.7156441675759604, 0.7113836811938099, 0.6345752005899469, 0.7185910090288082, 0.6750818260205492, 0.6974740166371033, 0.7207641329106932, 0.7189570912416595, 0.7168262921477068]}, {\"categories\": [\"0\", \"1\", \"2\", \"3\", \"4\", \"5\", \"6\", \"7\", \"8\", \"9\", \"10\", \"11\", \"12\", \"13\", \"14\", \"15\", \"16\", \"17\", \"18\", \"19\", \"20\", \"21\", \"22\", \"23\", \"24\", \"25\", \"26\", \"27\", \"28\", \"29\", \"30\", \"31\", \"32\", \"33\", \"34\", \"38\", \"39\"], \"mode\": \"lines\", \"name\": \"recall_score_macro_max\", \"stepped\": true, \"type\": \"scatter\", \"data\": [0.7056879837750146, 0.7213947760198094, 0.7213947760198094, 0.7213947760198094, 0.7658462204495167, 0.7658462204495167, 0.7658462204495167, 0.7658462204495167, 0.7658462204495167, 0.7658462204495167, 0.7658462204495167, 0.7658462204495167, 0.7658462204495167, 0.7658462204495167, 0.7658462204495167, 0.7658462204495167, 0.7658462204495167, 0.7658462204495167, 0.7658462204495167, 0.7658462204495167, 0.7658462204495167, 0.7658462204495167, 0.7658462204495167, 0.7658462204495167, 0.7658462204495167, 0.7658462204495167, 0.7658462204495167, 0.7658462204495167, 0.7658462204495167, 0.7658462204495167, 0.7658462204495167, 0.7658462204495167, 0.7658462204495167, 0.7658462204495167, 0.7658462204495167, 0.7658462204495167, 0.7658462204495167]}], \"AUC_weighted\": [{\"categories\": [\"0\", \"1\", \"2\", \"3\", \"4\", \"5\", \"6\", \"7\", \"8\", \"9\", \"10\", \"11\", \"12\", \"13\", \"14\", \"15\", \"16\", \"17\", \"18\", \"19\", \"20\", \"21\", \"22\", \"23\", \"24\", \"25\", \"26\", \"27\", \"28\", \"29\", \"30\", \"31\", \"32\", \"33\", \"34\", \"38\", \"39\"], \"mode\": \"markers\", \"name\": \"AUC_weighted\", \"stepped\": false, \"type\": \"scatter\", \"data\": [0.8336521823108806, 0.8457764550980652, 0.8355220754890734, 0.8362535928141596, 0.8436066204430509, 0.830080029823776, 0.8443600403646969, 0.812566574767778, 0.8397050492484602, 0.828572193906313, 0.8342491458018516, 0.8456975077790433, 0.8347408177917258, 0.8456598535257545, 0.8232374346023108, 0.8331479014359705, 0.8430460586229823, 0.8330834257518699, 0.8445371817300801, 0.8407737310767449, 0.8471744392124387, 0.8460309169131363, 0.8368716661938723, 0.824833356167161, 0.8450409754635361, 0.5, 0.830354323007047, 0.8377692675764098, 0.848322199864248, 0.8473604963484744, 0.7732460955564915, 0.8457920362700552, 0.8446095556529295, 0.8222541924938754, 0.8453971022125849, 0.849226747326413, 0.8493938063703256]}, {\"categories\": [\"0\", \"1\", \"2\", \"3\", \"4\", \"5\", \"6\", \"7\", \"8\", \"9\", \"10\", \"11\", \"12\", \"13\", \"14\", \"15\", \"16\", \"17\", \"18\", \"19\", \"20\", \"21\", \"22\", \"23\", \"24\", \"25\", \"26\", \"27\", \"28\", \"29\", \"30\", \"31\", \"32\", \"33\", \"34\", \"38\", \"39\"], \"mode\": \"lines\", \"name\": \"AUC_weighted_max\", \"stepped\": true, \"type\": \"scatter\", \"data\": [0.8336521823108806, 0.8457764550980652, 0.8457764550980652, 0.8457764550980652, 0.8457764550980652, 0.8457764550980652, 0.8457764550980652, 0.8457764550980652, 0.8457764550980652, 0.8457764550980652, 0.8457764550980652, 0.8457764550980652, 0.8457764550980652, 0.8457764550980652, 0.8457764550980652, 0.8457764550980652, 0.8457764550980652, 0.8457764550980652, 0.8457764550980652, 0.8457764550980652, 0.8471744392124387, 0.8471744392124387, 0.8471744392124387, 0.8471744392124387, 0.8471744392124387, 0.8471744392124387, 0.8471744392124387, 0.8471744392124387, 0.848322199864248, 0.848322199864248, 0.848322199864248, 0.848322199864248, 0.848322199864248, 0.848322199864248, 0.848322199864248, 0.849226747326413, 0.8493938063703256]}], \"norm_macro_recall\": [{\"categories\": [\"0\", \"1\", \"2\", \"3\", \"4\", \"5\", \"6\", \"7\", \"8\", \"9\", \"10\", \"11\", \"12\", \"13\", \"14\", \"15\", \"16\", \"17\", \"18\", \"19\", \"20\", \"21\", \"22\", \"23\", \"24\", \"25\", \"26\", \"27\", \"28\", \"29\", \"30\", \"31\", \"32\", \"33\", \"34\", \"38\", \"39\"], \"mode\": \"markers\", \"name\": \"norm_macro_recall\", \"stepped\": false, \"type\": \"scatter\", \"data\": [0.4113759675500294, 0.44278955203961873, 0.32466836530651827, 0.31864608967807584, 0.5316924408990334, 0.5032317197634159, 0.4093215957012317, 0.3877313969016442, 0.4122928525562591, 0.4037027365922506, 0.40504822682341546, 0.3340500822488086, 0.36080426001187305, 0.3889434710376323, 0.3943071928580768, 0.36029827974739725, 0.3046788042378899, 0.34430838541058906, 0.3668050114408437, 0.29212891132519575, 0.41954393446484745, 0.39192813872235743, 0.3484581851935995, 0.49599195991488937, 0.44033824889613066, 0.0, 0.2784954881132957, 0.0, 0.4312883351519206, 0.42276736238761986, 0.2691504011798938, 0.43718201805761653, 0.3501636520410983, 0.3949480332742065, 0.44152826582138643, 0.4379141824833192, 0.4336525842954137]}, {\"categories\": [\"0\", \"1\", \"2\", \"3\", \"4\", \"5\", \"6\", \"7\", \"8\", \"9\", \"10\", \"11\", \"12\", \"13\", \"14\", \"15\", \"16\", \"17\", \"18\", \"19\", \"20\", \"21\", \"22\", \"23\", \"24\", \"25\", \"26\", \"27\", \"28\", \"29\", \"30\", \"31\", \"32\", \"33\", \"34\", \"38\", \"39\"], \"mode\": \"lines\", \"name\": \"norm_macro_recall_max\", \"stepped\": true, \"type\": \"scatter\", \"data\": [0.4113759675500294, 0.44278955203961873, 0.44278955203961873, 0.44278955203961873, 0.5316924408990334, 0.5316924408990334, 0.5316924408990334, 0.5316924408990334, 0.5316924408990334, 0.5316924408990334, 0.5316924408990334, 0.5316924408990334, 0.5316924408990334, 0.5316924408990334, 0.5316924408990334, 0.5316924408990334, 0.5316924408990334, 0.5316924408990334, 0.5316924408990334, 0.5316924408990334, 0.5316924408990334, 0.5316924408990334, 0.5316924408990334, 0.5316924408990334, 0.5316924408990334, 0.5316924408990334, 0.5316924408990334, 0.5316924408990334, 0.5316924408990334, 0.5316924408990334, 0.5316924408990334, 0.5316924408990334, 0.5316924408990334, 0.5316924408990334, 0.5316924408990334, 0.5316924408990334, 0.5316924408990334]}], \"precision_score_weighted\": [{\"categories\": [\"0\", \"1\", \"2\", \"3\", \"4\", \"5\", \"6\", \"7\", \"8\", \"9\", \"10\", \"11\", \"12\", \"13\", \"14\", \"15\", \"16\", \"17\", \"18\", \"19\", \"20\", \"21\", \"22\", \"23\", \"24\", \"25\", \"26\", \"27\", \"28\", \"29\", \"30\", \"31\", \"32\", \"33\", \"34\", \"38\", \"39\"], \"mode\": \"markers\", \"name\": \"precision_score_weighted\", \"stepped\": false, \"type\": \"scatter\", \"data\": [0.7836627915151761, 0.7975167042252641, 0.7779511374914994, 0.7775434605650391, 0.8057742311428805, 0.7988380041926387, 0.7909271262678828, 0.7708777144778174, 0.7862113327275355, 0.7802960696935468, 0.7807229639912104, 0.7833214340424094, 0.7815633060789363, 0.7880146073820313, 0.7752260953806575, 0.7774720778461278, 0.7823396508563972, 0.776631537483782, 0.7851906934799632, 0.7783542775912046, 0.7951625825140779, 0.7883422904942892, 0.7776962384826881, 0.7924792026240078, 0.7939212927246057, 0.5397300513333371, 0.7730296079795157, 0.5397300513333371, 0.7958132325756679, 0.7932612562939525, 0.7752928918692717, 0.7955532254908814, 0.7840741410876273, 0.7752971089960968, 0.7941616004156987, 0.7996522528768466, 0.7972468996138651]}, {\"categories\": [\"0\", \"1\", \"2\", \"3\", \"4\", \"5\", \"6\", \"7\", \"8\", \"9\", \"10\", \"11\", \"12\", \"13\", \"14\", \"15\", \"16\", \"17\", \"18\", \"19\", \"20\", \"21\", \"22\", \"23\", \"24\", \"25\", \"26\", \"27\", \"28\", \"29\", \"30\", \"31\", \"32\", \"33\", \"34\", \"38\", \"39\"], \"mode\": \"lines\", \"name\": \"precision_score_weighted_max\", \"stepped\": true, \"type\": \"scatter\", \"data\": [0.7836627915151761, 0.7975167042252641, 0.7975167042252641, 0.7975167042252641, 0.8057742311428805, 0.8057742311428805, 0.8057742311428805, 0.8057742311428805, 0.8057742311428805, 0.8057742311428805, 0.8057742311428805, 0.8057742311428805, 0.8057742311428805, 0.8057742311428805, 0.8057742311428805, 0.8057742311428805, 0.8057742311428805, 0.8057742311428805, 0.8057742311428805, 0.8057742311428805, 0.8057742311428805, 0.8057742311428805, 0.8057742311428805, 0.8057742311428805, 0.8057742311428805, 0.8057742311428805, 0.8057742311428805, 0.8057742311428805, 0.8057742311428805, 0.8057742311428805, 0.8057742311428805, 0.8057742311428805, 0.8057742311428805, 0.8057742311428805, 0.8057742311428805, 0.8057742311428805, 0.8057742311428805]}]}, \"metricName\": null, \"primaryMetricName\": \"accuracy\", \"showLegend\": false}, \"run_metrics\": [{\"name\": \"experiment_status\", \"run_id\": \"AutoML_fb01e616-3472-444a-9e60-8fb471a0fa75\", \"categories\": [0, 1, 2, 3, 4, 5, 6, 7, 8, 9, 10, 11, 12, 13], \"series\": [{\"data\": [\"DatasetEvaluation\", \"FeaturesGeneration\", \"DatasetFeaturization\", \"DatasetFeaturizationCompleted\", \"DatasetCrossValidationSplit\", \"ModelSelection\", \"BestRunExplainModel\", \"ModelExplanationDataSetSetup\", \"PickSurrogateModel\", \"EngineeredFeatureExplanations\", \"EngineeredFeatureExplanations\", \"RawFeaturesExplanations\", \"RawFeaturesExplanations\", \"BestRunExplainModel\"]}]}, {\"name\": \"experiment_status_description\", \"run_id\": \"AutoML_fb01e616-3472-444a-9e60-8fb471a0fa75\", \"categories\": [0, 1, 2, 3, 4, 5, 6, 7, 8, 9, 10, 11, 12, 13], \"series\": [{\"data\": [\"Gathering dataset statistics.\", \"Generating features for the dataset.\", \"Beginning to fit featurizers and featurize the dataset.\", \"Completed fit featurizers and featurizing the dataset.\", \"Generating individually featurized CV splits.\", \"Beginning model selection.\", \"Best run model explanations started\", \"Model explanations data setup completed\", \"Choosing LightGBM as the surrogate model for explanations\", \"Computation of engineered features started\", \"Computation of engineered features completed\", \"Computation of raw features started\", \"Computation of raw features completed\", \"Best run model explanations completed\"]}]}, {\"name\": \"precision_score_micro\", \"run_id\": \"AutoML_fb01e616-3472-444a-9e60-8fb471a0fa75\", \"categories\": [0], \"series\": [{\"data\": [0.8091730063896859]}]}, {\"name\": \"average_precision_score_micro\", \"run_id\": \"AutoML_fb01e616-3472-444a-9e60-8fb471a0fa75\", \"categories\": [0], \"series\": [{\"data\": [0.8932963535538881]}]}, {\"name\": \"precision_score_weighted\", \"run_id\": \"AutoML_fb01e616-3472-444a-9e60-8fb471a0fa75\", \"categories\": [0], \"series\": [{\"data\": [0.7996522528768466]}]}, {\"name\": \"recall_score_macro\", \"run_id\": \"AutoML_fb01e616-3472-444a-9e60-8fb471a0fa75\", \"categories\": [0], \"series\": [{\"data\": [0.7189570912416595]}]}, {\"name\": \"norm_macro_recall\", \"run_id\": \"AutoML_fb01e616-3472-444a-9e60-8fb471a0fa75\", \"categories\": [0], \"series\": [{\"data\": [0.4379141824833192]}]}, {\"name\": \"f1_score_weighted\", \"run_id\": \"AutoML_fb01e616-3472-444a-9e60-8fb471a0fa75\", \"categories\": [0], \"series\": [{\"data\": [0.8006018015242814]}]}, {\"name\": \"f1_score_macro\", \"run_id\": \"AutoML_fb01e616-3472-444a-9e60-8fb471a0fa75\", \"categories\": [0], \"series\": [{\"data\": [0.7346451108621282]}]}, {\"name\": \"recall_score_micro\", \"run_id\": \"AutoML_fb01e616-3472-444a-9e60-8fb471a0fa75\", \"categories\": [0], \"series\": [{\"data\": [0.8091730063896859]}]}, {\"name\": \"precision_score_macro\", \"run_id\": \"AutoML_fb01e616-3472-444a-9e60-8fb471a0fa75\", \"categories\": [0], \"series\": [{\"data\": [0.7620954894160086]}]}, {\"name\": \"average_precision_score_weighted\", \"run_id\": \"AutoML_fb01e616-3472-444a-9e60-8fb471a0fa75\", \"categories\": [0], \"series\": [{\"data\": [0.8659900498594181]}]}, {\"name\": \"AUC_macro\", \"run_id\": \"AutoML_fb01e616-3472-444a-9e60-8fb471a0fa75\", \"categories\": [0], \"series\": [{\"data\": [0.8492267473264131]}]}, {\"name\": \"weighted_accuracy\", \"run_id\": \"AutoML_fb01e616-3472-444a-9e60-8fb471a0fa75\", \"categories\": [0], \"series\": [{\"data\": [0.8668551903735092]}]}, {\"name\": \"accuracy\", \"run_id\": \"AutoML_fb01e616-3472-444a-9e60-8fb471a0fa75\", \"categories\": [0], \"series\": [{\"data\": [0.8091730063896859]}]}, {\"name\": \"average_precision_score_macro\", \"run_id\": \"AutoML_fb01e616-3472-444a-9e60-8fb471a0fa75\", \"categories\": [0], \"series\": [{\"data\": [0.8024453068505064]}]}, {\"name\": \"f1_score_micro\", \"run_id\": \"AutoML_fb01e616-3472-444a-9e60-8fb471a0fa75\", \"categories\": [0], \"series\": [{\"data\": [0.8091730063896859]}]}, {\"name\": \"AUC_weighted\", \"run_id\": \"AutoML_fb01e616-3472-444a-9e60-8fb471a0fa75\", \"categories\": [0], \"series\": [{\"data\": [0.849226747326413]}]}, {\"name\": \"balanced_accuracy\", \"run_id\": \"AutoML_fb01e616-3472-444a-9e60-8fb471a0fa75\", \"categories\": [0], \"series\": [{\"data\": [0.7189570912416595]}]}, {\"name\": \"log_loss\", \"run_id\": \"AutoML_fb01e616-3472-444a-9e60-8fb471a0fa75\", \"categories\": [0], \"series\": [{\"data\": [0.41290890608101566]}]}, {\"name\": \"matthews_correlation\", \"run_id\": \"AutoML_fb01e616-3472-444a-9e60-8fb471a0fa75\", \"categories\": [0], \"series\": [{\"data\": [0.47906092210546475]}]}, {\"name\": \"recall_score_weighted\", \"run_id\": \"AutoML_fb01e616-3472-444a-9e60-8fb471a0fa75\", \"categories\": [0], \"series\": [{\"data\": [0.8091730063896859]}]}, {\"name\": \"AUC_micro\", \"run_id\": \"AutoML_fb01e616-3472-444a-9e60-8fb471a0fa75\", \"categories\": [0], \"series\": [{\"data\": [0.8920987211546191]}]}], \"run_logs\": \"\\nRun is completed.\", \"graph\": {}, \"widget_settings\": {\"childWidgetDisplay\": \"popup\", \"send_telemetry\": false, \"log_level\": \"INFO\", \"sdk_version\": \"1.31.0\"}, \"loading\": false}"
     },
     "metadata": {},
     "output_type": "display_data"
    }
   ],
   "source": [
    "from azureml.widgets import RunDetails\n",
    "RunDetails(remote_run).show()"
   ]
  },
  {
   "cell_type": "markdown",
   "metadata": {},
   "source": [
    "## Best Model\n",
    "\n",
    "TODO: In the cell below, get the best model from the automl experiments and display all the properties of the model.\n",
    "\n"
   ]
  },
  {
   "cell_type": "code",
   "execution_count": 8,
   "metadata": {
    "gather": {
     "logged": 1598431425670
    },
    "jupyter": {
     "outputs_hidden": false,
     "source_hidden": false
    },
    "nteract": {
     "transient": {
      "deleting": false
     }
    }
   },
   "outputs": [
    {
     "name": "stderr",
     "output_type": "stream",
     "text": [
      "WARNING:root:The version of the SDK does not match the version the model was trained on.\n",
      "WARNING:root:The consistency in the result may not be guaranteed.\n",
      "WARNING:root:Package:azureml-automl-core, training version:1.32.0, current version:1.31.0\n",
      "Package:azureml-automl-runtime, training version:1.32.0, current version:1.31.0\n",
      "Package:azureml-core, training version:1.32.0, current version:1.31.0\n",
      "Package:azureml-dataset-runtime, training version:1.32.0, current version:1.31.0\n",
      "Package:azureml-defaults, training version:1.32.0, current version:1.31.0\n",
      "Package:azureml-interpret, training version:1.32.0, current version:1.31.0\n",
      "Package:azureml-mlflow, training version:1.32.0, current version:1.31.0\n",
      "Package:azureml-pipeline-core, training version:1.32.0, current version:1.31.0\n",
      "Package:azureml-telemetry, training version:1.32.0, current version:1.31.0\n",
      "Package:azureml-train-automl-client, training version:1.32.0, current version:1.31.0\n",
      "Package:azureml-train-automl-runtime, training version:1.32.0, current version:1.31.0\n",
      "WARNING:root:Please ensure the version of your local conda dependencies match the version on which your model was trained in order to properly retrieve your model.\n"
     ]
    }
   ],
   "source": [
    "import azureml.train.automl\n",
    "\n",
    "import azureml.automl.core\n",
    "from azureml.automl.runtime.onnx_convert import OnnxConverter\n",
    "\n",
    "remote_run.wait_for_completion()\n",
    "\n",
    "metrics_output_name = 'metrics_output'\n",
    "best_model_output_name = 'best_model_output'\n",
    "\n",
    "best_automl, best_model = remote_run.get_output()"
   ]
  },
  {
   "cell_type": "code",
   "execution_count": 9,
   "metadata": {},
   "outputs": [
    {
     "data": {
      "text/plain": [
       "['best_model.pkl']"
      ]
     },
     "execution_count": 9,
     "metadata": {},
     "output_type": "execute_result"
    }
   ],
   "source": [
    "import joblib, pickle\n",
    "joblib.dump(best_model, 'best_model.pkl')"
   ]
  },
  {
   "cell_type": "markdown",
   "metadata": {},
   "source": [
    "## Model Deployment\n",
    "\n",
    "Remember you have to deploy only one of the two models you trained.. Perform the steps in the rest of this notebook only if you wish to deploy this model.\n",
    "\n",
    "TODO: In the cell below, register the model, create an inference config and deploy the model as a web service."
   ]
  },
  {
   "cell_type": "code",
   "execution_count": 11,
   "metadata": {
    "gather": {
     "logged": 1598431435189
    },
    "jupyter": {
     "outputs_hidden": false,
     "source_hidden": false
    },
    "nteract": {
     "transient": {
      "deleting": false
     }
    },
    "scrolled": true
   },
   "outputs": [
    {
     "name": "stdout",
     "output_type": "stream",
     "text": [
      "Registering model best_model_output\n",
      "best_model_output\tbest_model_output:2\t2\n"
     ]
    }
   ],
   "source": [
    "from azureml.core.model import Model\n",
    "from azureml.core.environment import Environment\n",
    "from azureml.core.model import InferenceConfig\n",
    "from azureml.core.webservice import LocalWebservice, Webservice, AciWebservice\n",
    "from azureml.core.conda_dependencies import CondaDependencies\n",
    "import azureml.train.automl\n",
    "\n",
    "model = Model.register(workspace = ws, model_name = 'best_model_output', model_path = 'best_model.pkl')\n",
    "print(model.name, model.id, model.version, sep='\\t')\n",
    "\n",
    "# Create the environment\n",
    "env = best_automl.get_environment()\n",
    "#conda_dep = CondaDependencies()\n"
   ]
  },
  {
   "cell_type": "code",
   "execution_count": 12,
   "metadata": {},
   "outputs": [
    {
     "name": "stderr",
     "output_type": "stream",
     "text": [
      "ERROR:azureml._model_management._util:entry_script score.py doesn't exist. entry_script should be path relative to current working directory\n",
      "\n"
     ]
    },
    {
     "ename": "WebserviceException",
     "evalue": "WebserviceException:\n\tMessage: entry_script score.py doesn't exist. entry_script should be path relative to current working directory\n\tInnerException None\n\tErrorResponse \n{\n    \"error\": {\n        \"message\": \"entry_script score.py doesn't exist. entry_script should be path relative to current working directory\"\n    }\n}",
     "output_type": "error",
     "traceback": [
      "\u001b[0;31m---------------------------------------------------------------------------\u001b[0m",
      "\u001b[0;31mWebserviceException\u001b[0m                       Traceback (most recent call last)",
      "\u001b[0;32m<ipython-input-12-6effbc72126d>\u001b[0m in \u001b[0;36m<module>\u001b[0;34m\u001b[0m\n\u001b[0;32m----> 1\u001b[0;31m \u001b[0minference_config\u001b[0m \u001b[0;34m=\u001b[0m \u001b[0mInferenceConfig\u001b[0m\u001b[0;34m(\u001b[0m\u001b[0mentry_script\u001b[0m\u001b[0;34m=\u001b[0m\u001b[0;34m'score.py'\u001b[0m\u001b[0;34m,\u001b[0m \u001b[0menvironment\u001b[0m\u001b[0;34m=\u001b[0m\u001b[0menv\u001b[0m\u001b[0;34m)\u001b[0m\u001b[0;34m\u001b[0m\u001b[0;34m\u001b[0m\u001b[0m\n\u001b[0m",
      "\u001b[0;32m/anaconda/envs/azureml_py36/lib/python3.6/site-packages/azureml/core/model.py\u001b[0m in \u001b[0;36m__init__\u001b[0;34m(self, entry_script, runtime, conda_file, extra_docker_file_steps, source_directory, enable_gpu, description, base_image, base_image_registry, cuda_version, environment)\u001b[0m\n\u001b[1;32m   2122\u001b[0m         \u001b[0mself\u001b[0m\u001b[0;34m.\u001b[0m\u001b[0menvironment\u001b[0m \u001b[0;34m=\u001b[0m \u001b[0menvironment\u001b[0m\u001b[0;34m\u001b[0m\u001b[0;34m\u001b[0m\u001b[0m\n\u001b[1;32m   2123\u001b[0m \u001b[0;34m\u001b[0m\u001b[0m\n\u001b[0;32m-> 2124\u001b[0;31m         \u001b[0mself\u001b[0m\u001b[0;34m.\u001b[0m\u001b[0mvalidate_configuration\u001b[0m\u001b[0;34m(\u001b[0m\u001b[0;34m)\u001b[0m\u001b[0;34m\u001b[0m\u001b[0;34m\u001b[0m\u001b[0m\n\u001b[0m\u001b[1;32m   2125\u001b[0m \u001b[0;34m\u001b[0m\u001b[0m\n\u001b[1;32m   2126\u001b[0m     \u001b[0;32mdef\u001b[0m \u001b[0m__repr__\u001b[0m\u001b[0;34m(\u001b[0m\u001b[0mself\u001b[0m\u001b[0;34m)\u001b[0m\u001b[0;34m:\u001b[0m\u001b[0;34m\u001b[0m\u001b[0;34m\u001b[0m\u001b[0m\n",
      "\u001b[0;32m/anaconda/envs/azureml_py36/lib/python3.6/site-packages/azureml/core/model.py\u001b[0m in \u001b[0;36mvalidate_configuration\u001b[0;34m(self)\u001b[0m\n\u001b[1;32m   2231\u001b[0m         validate_path_exists_or_throw(joinPath(self.source_directory, self.entry_script),\n\u001b[1;32m   2232\u001b[0m                                       \u001b[0;34m'entry_script'\u001b[0m\u001b[0;34m,\u001b[0m\u001b[0;34m\u001b[0m\u001b[0;34m\u001b[0m\u001b[0m\n\u001b[0;32m-> 2233\u001b[0;31m                                       \u001b[0mextra_message\u001b[0m\u001b[0;34m=\u001b[0m\u001b[0;34m'entry_script should be path relative to '\u001b[0m\u001b[0;34m\u001b[0m\u001b[0;34m\u001b[0m\u001b[0m\n\u001b[0m\u001b[1;32m   2234\u001b[0m                                                     'current working directory')\n\u001b[1;32m   2235\u001b[0m \u001b[0;34m\u001b[0m\u001b[0m\n",
      "\u001b[0;32m/anaconda/envs/azureml_py36/lib/python3.6/site-packages/azureml/_model_management/_util.py\u001b[0m in \u001b[0;36mvalidate_path_exists_or_throw\u001b[0;34m(member, name, extra_message)\u001b[0m\n\u001b[1;32m    884\u001b[0m     \u001b[0;32mif\u001b[0m \u001b[0;32mnot\u001b[0m \u001b[0mos\u001b[0m\u001b[0;34m.\u001b[0m\u001b[0mpath\u001b[0m\u001b[0;34m.\u001b[0m\u001b[0mexists\u001b[0m\u001b[0;34m(\u001b[0m\u001b[0mmember\u001b[0m\u001b[0;34m)\u001b[0m\u001b[0;34m:\u001b[0m\u001b[0;34m\u001b[0m\u001b[0;34m\u001b[0m\u001b[0m\n\u001b[1;32m    885\u001b[0m         raise WebserviceException(\"{0} {1} doesn't exist. {2}\".format(name, member, extra_message),\n\u001b[0;32m--> 886\u001b[0;31m                                   logger=module_logger)\n\u001b[0m\u001b[1;32m    887\u001b[0m \u001b[0;34m\u001b[0m\u001b[0m\n\u001b[1;32m    888\u001b[0m \u001b[0;34m\u001b[0m\u001b[0m\n",
      "\u001b[0;31mWebserviceException\u001b[0m: WebserviceException:\n\tMessage: entry_script score.py doesn't exist. entry_script should be path relative to current working directory\n\tInnerException None\n\tErrorResponse \n{\n    \"error\": {\n        \"message\": \"entry_script score.py doesn't exist. entry_script should be path relative to current working directory\"\n    }\n}"
     ]
    }
   ],
   "source": [
    "inference_config = InferenceConfig(entry_script='score.py', environment=env)"
   ]
  },
  {
   "cell_type": "code",
   "execution_count": null,
   "metadata": {},
   "outputs": [],
   "source": [
    "\n",
    "deployment_config = AciWebservice.deploy_configuration(cpu_cores=1, memory_gb=4, enable_app_insights=True)\n",
    "service = Model.deploy(ws, \"crosssell\", [model], inference_config, deployment_config)\n",
    "service.wait_for_deployment(show_output = True)\n",
    "\n",
    "print(service.state)\n",
    "print(service.scoring_uri)\n",
    "print(service.swagger_uri)"
   ]
  },
  {
   "cell_type": "markdown",
   "metadata": {
    "collapsed": true,
    "gather": {
     "logged": 1598431657736
    },
    "jupyter": {
     "outputs_hidden": false,
     "source_hidden": false
    },
    "nteract": {
     "transient": {
      "deleting": false
     }
    }
   },
   "source": [
    "TODO: In the cell below, send a request to the web service you deployed to test it."
   ]
  },
  {
   "cell_type": "code",
   "execution_count": null,
   "metadata": {
    "gather": {
     "logged": 1598432707604
    },
    "jupyter": {
     "outputs_hidden": false,
     "source_hidden": false
    },
    "nteract": {
     "transient": {
      "deleting": false
     }
    }
   },
   "outputs": [],
   "source": []
  },
  {
   "cell_type": "markdown",
   "metadata": {
    "collapsed": true,
    "gather": {
     "logged": 1598432765711
    },
    "jupyter": {
     "outputs_hidden": false,
     "source_hidden": false
    },
    "nteract": {
     "transient": {
      "deleting": false
     }
    }
   },
   "source": [
    "TODO: In the cell below, print the logs of the web service and delete the service"
   ]
  },
  {
   "cell_type": "code",
   "execution_count": null,
   "metadata": {
    "jupyter": {
     "outputs_hidden": false,
     "source_hidden": false
    },
    "nteract": {
     "transient": {
      "deleting": false
     }
    }
   },
   "outputs": [],
   "source": []
  }
 ],
 "metadata": {
  "kernel_info": {
   "name": "python3-azureml"
  },
  "kernelspec": {
   "display_name": "Python 3",
   "language": "python",
   "name": "python3"
  },
  "language_info": {
   "codemirror_mode": {
    "name": "ipython",
    "version": 3
   },
   "file_extension": ".py",
   "mimetype": "text/x-python",
   "name": "python",
   "nbconvert_exporter": "python",
   "pygments_lexer": "ipython3",
   "version": "3.6.9"
  },
  "nteract": {
   "version": "nteract-front-end@1.0.0"
  }
 },
 "nbformat": 4,
 "nbformat_minor": 2
}
