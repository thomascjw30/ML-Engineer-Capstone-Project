{
 "cells": [
  {
   "cell_type": "markdown",
   "metadata": {},
   "source": [
    "# Automated ML\n",
    "\n",
    "TODO: Import Dependencies. In the cell below, import all the dependencies that you will need to complete the project."
   ]
  },
  {
   "cell_type": "code",
   "execution_count": 1,
   "metadata": {
    "gather": {
     "logged": 1598423888013
    },
    "jupyter": {
     "outputs_hidden": false,
     "source_hidden": false
    },
    "nteract": {
     "transient": {
      "deleting": false
     }
    }
   },
   "outputs": [
    {
     "name": "stdout",
     "output_type": "stream",
     "text": [
      "SDK version: 1.31.0\n"
     ]
    }
   ],
   "source": [
    "\n",
    "import logging\n",
    "import os\n",
    "import csv\n",
    "\n",
    "from matplotlib import pyplot as plt\n",
    "import numpy as np\n",
    "import pandas as pd\n",
    "from sklearn import datasets\n",
    "import pkg_resources\n",
    "\n",
    "import azureml.core\n",
    "from azureml.core.experiment import Experiment\n",
    "from azureml.core.workspace import Workspace\n",
    "from azureml.train.automl import AutoMLConfig\n",
    "from azureml.core.dataset import Dataset\n",
    "\n",
    "from azureml.pipeline.steps import AutoMLStep\n",
    "\n",
    "# Check core SDK version number\n",
    "print(\"SDK version:\", azureml.core.VERSION)"
   ]
  },
  {
   "cell_type": "markdown",
   "metadata": {},
   "source": [
    "## Dataset\n",
    "\n",
    "### Overview\n",
    "TODO: In this markdown cell, give an overview of the dataset you are using. Also mention the task you will be performing.\n",
    "\n",
    "\n",
    "TODO: Get data. In the cell below, write code to access the data you will be using in this project. Remember that the dataset needs to be external."
   ]
  },
  {
   "cell_type": "code",
   "execution_count": 2,
   "metadata": {
    "gather": {
     "logged": 1598423890461
    },
    "jupyter": {
     "outputs_hidden": false,
     "source_hidden": false
    },
    "nteract": {
     "transient": {
      "deleting": false
     }
    }
   },
   "outputs": [],
   "source": [
    "ws = Workspace.from_config()\n",
    "\n",
    "# choose a name for experiment\n",
    "experiment_name = 'automl-telco-churn'\n",
    "\n",
    "experiment=Experiment(ws, experiment_name)"
   ]
  },
  {
   "cell_type": "markdown",
   "metadata": {},
   "source": [
    "## AutoML Configuration\n",
    "\n",
    "TODO: Explain why you chose the automl settings and cofiguration you used below."
   ]
  },
  {
   "cell_type": "code",
   "execution_count": 3,
   "metadata": {
    "gather": {
     "logged": 1598429217746
    },
    "jupyter": {
     "outputs_hidden": false,
     "source_hidden": false
    },
    "nteract": {
     "transient": {
      "deleting": false
     }
    },
    "scrolled": true
   },
   "outputs": [
    {
     "name": "stdout",
     "output_type": "stream",
     "text": [
      "Found existing cluster, use it.\n",
      "Succeeded\n",
      "AmlCompute wait for completion finished\n",
      "\n",
      "Minimum number of nodes requested have been provisioned\n"
     ]
    }
   ],
   "source": [
    "from azureml.core.compute import AmlCompute\n",
    "from azureml.core.compute import ComputeTarget\n",
    "from azureml.core.compute_target import ComputeTargetException\n",
    "\n",
    "\n",
    "cpu_cluster_name = \"cpucluster\"\n",
    "\n",
    "# Verify that cluster does not exist already\n",
    "try:\n",
    "    compute_target = ComputeTarget(workspace=ws, name=cpu_cluster_name)\n",
    "    print('Found existing cluster, use it.')\n",
    "except ComputeTargetException:\n",
    "    compute_config = AmlCompute.provisioning_configuration(vm_size='STANDARD_D2_V2',# for GPU, use \"STANDARD_NC6\"\n",
    "                                                           #vm_priority = 'lowpriority', # optional\n",
    "                                                           max_nodes=4)\n",
    "    compute_target = ComputeTarget.create(ws, amlcompute_cluster_name, compute_config)\n",
    "\n",
    "compute_target.wait_for_completion(show_output=True)\n"
   ]
  },
  {
   "cell_type": "code",
   "execution_count": 4,
   "metadata": {},
   "outputs": [],
   "source": [
    "from azureml.data.dataset_factory import TabularDatasetFactory\n",
    "from azureml.data.dataset_factory import DataType\n",
    "\n",
    "#file uploaded to github\n",
    "url = \"https://raw.githubusercontent.com/thomascjw30/ML-Engineer-Capstone-Project/main/WA_Fn-UseC_-Telco-Customer-Churn.csv\"\n",
    "\n",
    "# pass url to Tabular dataset.  Note this is different to pandas dataframe, and gets converted to a dataframe in the function.\n",
    "\n",
    "dataset = TabularDatasetFactory.from_delimited_files(url,header = True)\n",
    "\n",
    "#Drop columns that are not needed 'customerID'\n",
    "dataset = dataset.drop_columns(['customerID'])\n",
    "\n"
   ]
  },
  {
   "cell_type": "code",
   "execution_count": 5,
   "metadata": {
    "scrolled": true
   },
   "outputs": [
    {
     "data": {
      "text/html": [
       "<div>\n",
       "<style scoped>\n",
       "    .dataframe tbody tr th:only-of-type {\n",
       "        vertical-align: middle;\n",
       "    }\n",
       "\n",
       "    .dataframe tbody tr th {\n",
       "        vertical-align: top;\n",
       "    }\n",
       "\n",
       "    .dataframe thead th {\n",
       "        text-align: right;\n",
       "    }\n",
       "</style>\n",
       "<table border=\"1\" class=\"dataframe\">\n",
       "  <thead>\n",
       "    <tr style=\"text-align: right;\">\n",
       "      <th></th>\n",
       "      <th>gender</th>\n",
       "      <th>SeniorCitizen</th>\n",
       "      <th>Partner</th>\n",
       "      <th>Dependents</th>\n",
       "      <th>tenure</th>\n",
       "      <th>PhoneService</th>\n",
       "      <th>MultipleLines</th>\n",
       "      <th>InternetService</th>\n",
       "      <th>OnlineSecurity</th>\n",
       "      <th>OnlineBackup</th>\n",
       "      <th>DeviceProtection</th>\n",
       "      <th>TechSupport</th>\n",
       "      <th>StreamingTV</th>\n",
       "      <th>StreamingMovies</th>\n",
       "      <th>Contract</th>\n",
       "      <th>PaperlessBilling</th>\n",
       "      <th>PaymentMethod</th>\n",
       "      <th>MonthlyCharges</th>\n",
       "      <th>TotalCharges</th>\n",
       "      <th>Churn</th>\n",
       "    </tr>\n",
       "  </thead>\n",
       "  <tbody>\n",
       "    <tr>\n",
       "      <th>0</th>\n",
       "      <td>Female</td>\n",
       "      <td>0</td>\n",
       "      <td>True</td>\n",
       "      <td>False</td>\n",
       "      <td>1</td>\n",
       "      <td>False</td>\n",
       "      <td>No phone service</td>\n",
       "      <td>DSL</td>\n",
       "      <td>No</td>\n",
       "      <td>Yes</td>\n",
       "      <td>No</td>\n",
       "      <td>No</td>\n",
       "      <td>No</td>\n",
       "      <td>No</td>\n",
       "      <td>Month-to-month</td>\n",
       "      <td>True</td>\n",
       "      <td>Electronic check</td>\n",
       "      <td>29.85</td>\n",
       "      <td>29.85</td>\n",
       "      <td>False</td>\n",
       "    </tr>\n",
       "    <tr>\n",
       "      <th>1</th>\n",
       "      <td>Male</td>\n",
       "      <td>0</td>\n",
       "      <td>False</td>\n",
       "      <td>False</td>\n",
       "      <td>34</td>\n",
       "      <td>True</td>\n",
       "      <td>No</td>\n",
       "      <td>DSL</td>\n",
       "      <td>Yes</td>\n",
       "      <td>No</td>\n",
       "      <td>Yes</td>\n",
       "      <td>No</td>\n",
       "      <td>No</td>\n",
       "      <td>No</td>\n",
       "      <td>One year</td>\n",
       "      <td>False</td>\n",
       "      <td>Mailed check</td>\n",
       "      <td>56.95</td>\n",
       "      <td>1889.50</td>\n",
       "      <td>False</td>\n",
       "    </tr>\n",
       "    <tr>\n",
       "      <th>2</th>\n",
       "      <td>Male</td>\n",
       "      <td>0</td>\n",
       "      <td>False</td>\n",
       "      <td>False</td>\n",
       "      <td>2</td>\n",
       "      <td>True</td>\n",
       "      <td>No</td>\n",
       "      <td>DSL</td>\n",
       "      <td>Yes</td>\n",
       "      <td>Yes</td>\n",
       "      <td>No</td>\n",
       "      <td>No</td>\n",
       "      <td>No</td>\n",
       "      <td>No</td>\n",
       "      <td>Month-to-month</td>\n",
       "      <td>True</td>\n",
       "      <td>Mailed check</td>\n",
       "      <td>53.85</td>\n",
       "      <td>108.15</td>\n",
       "      <td>True</td>\n",
       "    </tr>\n",
       "    <tr>\n",
       "      <th>3</th>\n",
       "      <td>Male</td>\n",
       "      <td>0</td>\n",
       "      <td>False</td>\n",
       "      <td>False</td>\n",
       "      <td>45</td>\n",
       "      <td>False</td>\n",
       "      <td>No phone service</td>\n",
       "      <td>DSL</td>\n",
       "      <td>Yes</td>\n",
       "      <td>No</td>\n",
       "      <td>Yes</td>\n",
       "      <td>Yes</td>\n",
       "      <td>No</td>\n",
       "      <td>No</td>\n",
       "      <td>One year</td>\n",
       "      <td>False</td>\n",
       "      <td>Bank transfer (automatic)</td>\n",
       "      <td>42.30</td>\n",
       "      <td>1840.75</td>\n",
       "      <td>False</td>\n",
       "    </tr>\n",
       "    <tr>\n",
       "      <th>4</th>\n",
       "      <td>Female</td>\n",
       "      <td>0</td>\n",
       "      <td>False</td>\n",
       "      <td>False</td>\n",
       "      <td>2</td>\n",
       "      <td>True</td>\n",
       "      <td>No</td>\n",
       "      <td>Fiber optic</td>\n",
       "      <td>No</td>\n",
       "      <td>No</td>\n",
       "      <td>No</td>\n",
       "      <td>No</td>\n",
       "      <td>No</td>\n",
       "      <td>No</td>\n",
       "      <td>Month-to-month</td>\n",
       "      <td>True</td>\n",
       "      <td>Electronic check</td>\n",
       "      <td>70.70</td>\n",
       "      <td>151.65</td>\n",
       "      <td>True</td>\n",
       "    </tr>\n",
       "  </tbody>\n",
       "</table>\n",
       "</div>"
      ],
      "text/plain": [
       "   gender  SeniorCitizen  Partner  Dependents  tenure  PhoneService  \\\n",
       "0  Female              0     True       False       1         False   \n",
       "1    Male              0    False       False      34          True   \n",
       "2    Male              0    False       False       2          True   \n",
       "3    Male              0    False       False      45         False   \n",
       "4  Female              0    False       False       2          True   \n",
       "\n",
       "      MultipleLines InternetService OnlineSecurity OnlineBackup  \\\n",
       "0  No phone service             DSL             No          Yes   \n",
       "1                No             DSL            Yes           No   \n",
       "2                No             DSL            Yes          Yes   \n",
       "3  No phone service             DSL            Yes           No   \n",
       "4                No     Fiber optic             No           No   \n",
       "\n",
       "  DeviceProtection TechSupport StreamingTV StreamingMovies        Contract  \\\n",
       "0               No          No          No              No  Month-to-month   \n",
       "1              Yes          No          No              No        One year   \n",
       "2               No          No          No              No  Month-to-month   \n",
       "3              Yes         Yes          No              No        One year   \n",
       "4               No          No          No              No  Month-to-month   \n",
       "\n",
       "   PaperlessBilling              PaymentMethod  MonthlyCharges  TotalCharges  \\\n",
       "0              True           Electronic check           29.85         29.85   \n",
       "1             False               Mailed check           56.95       1889.50   \n",
       "2              True               Mailed check           53.85        108.15   \n",
       "3             False  Bank transfer (automatic)           42.30       1840.75   \n",
       "4              True           Electronic check           70.70        151.65   \n",
       "\n",
       "   Churn  \n",
       "0  False  \n",
       "1  False  \n",
       "2   True  \n",
       "3  False  \n",
       "4   True  "
      ]
     },
     "execution_count": 5,
     "metadata": {},
     "output_type": "execute_result"
    }
   ],
   "source": [
    "ds = dataset.to_pandas_dataframe()\n",
    "ds.head(5)"
   ]
  },
  {
   "cell_type": "code",
   "execution_count": 6,
   "metadata": {},
   "outputs": [],
   "source": [
    "\n",
    "# TODO: Put your automl config here\n",
    "automl_settings = {\n",
    "    \"experiment_timeout_minutes\": 30,\n",
    "    \"max_concurrent_iterations\": 10,\n",
    "    \"primary_metric\" : 'accuracy'\n",
    "}\n",
    "automl_config = AutoMLConfig(compute_target=compute_target,\n",
    "                             task = \"classification\",\n",
    "                             training_data=dataset,\n",
    "                             label_column_name=\"Churn\",   \n",
    "                             path = './telco_project',\n",
    "                             enable_early_stopping= True,\n",
    "                             featurization= 'auto',\n",
    "                             debug_log = \"automl_errors.log\",\n",
    "                             **automl_settings\n",
    "                            )\n"
   ]
  },
  {
   "cell_type": "code",
   "execution_count": 7,
   "metadata": {
    "gather": {
     "logged": 1598431107951
    },
    "jupyter": {
     "outputs_hidden": false,
     "source_hidden": false
    },
    "nteract": {
     "transient": {
      "deleting": false
     }
    }
   },
   "outputs": [
    {
     "name": "stdout",
     "output_type": "stream",
     "text": [
      "Submitting remote run.\n"
     ]
    },
    {
     "data": {
      "text/html": [
       "<table style=\"width:100%\"><tr><th>Experiment</th><th>Id</th><th>Type</th><th>Status</th><th>Details Page</th><th>Docs Page</th></tr><tr><td>automl-telco-churn</td><td>AutoML_af8c4cb8-b77e-4b53-a4c9-ad8e598a7ff3</td><td>automl</td><td>NotStarted</td><td><a href=\"https://ml.azure.com/runs/AutoML_af8c4cb8-b77e-4b53-a4c9-ad8e598a7ff3?wsid=/subscriptions/57edfb84-e1fe-4fdf-8da0-d05684406ce1/resourcegroups/udacity-project-3/workspaces/udacity-p3&amp;tid=69c15541-01ca-426a-a860-b0b1c1a0e229\" target=\"_blank\" rel=\"noopener\">Link to Azure Machine Learning studio</a></td><td><a href=\"https://docs.microsoft.com/en-us/python/api/overview/azure/ml/intro?view=azure-ml-py\" target=\"_blank\" rel=\"noopener\">Link to Documentation</a></td></tr></table>"
      ],
      "text/plain": [
       "<IPython.core.display.HTML object>"
      ]
     },
     "metadata": {},
     "output_type": "display_data"
    }
   ],
   "source": [
    "# TODO: Submit your experiment\n",
    "remote_run = experiment.submit(automl_config)"
   ]
  },
  {
   "cell_type": "markdown",
   "metadata": {},
   "source": [
    "## Run Details\n",
    "\n",
    "OPTIONAL: Write about the different models trained and their performance. Why do you think some models did better than others?\n",
    "\n",
    "TODO: In the cell below, use the `RunDetails` widget to show the different experiments."
   ]
  },
  {
   "cell_type": "code",
   "execution_count": 8,
   "metadata": {
    "gather": {
     "logged": 1598431121770
    },
    "jupyter": {
     "outputs_hidden": false,
     "source_hidden": false
    },
    "nteract": {
     "transient": {
      "deleting": false
     }
    }
   },
   "outputs": [
    {
     "data": {
      "application/vnd.jupyter.widget-view+json": {
       "model_id": "fd066f2b4baf4fa0a843b57c6d75be58",
       "version_major": 2,
       "version_minor": 0
      },
      "text/plain": [
       "_AutoMLWidget(widget_settings={'childWidgetDisplay': 'popup', 'send_telemetry': False, 'log_level': 'INFO', 's…"
      ]
     },
     "metadata": {},
     "output_type": "display_data"
    },
    {
     "data": {
      "application/aml.mini.widget.v1": "{\"status\": \"Completed\", \"workbench_run_details_uri\": \"https://ml.azure.com/runs/AutoML_af8c4cb8-b77e-4b53-a4c9-ad8e598a7ff3?wsid=/subscriptions/57edfb84-e1fe-4fdf-8da0-d05684406ce1/resourcegroups/udacity-project-3/workspaces/udacity-p3&tid=69c15541-01ca-426a-a860-b0b1c1a0e229\", \"run_id\": \"AutoML_af8c4cb8-b77e-4b53-a4c9-ad8e598a7ff3\", \"run_properties\": {\"run_id\": \"AutoML_af8c4cb8-b77e-4b53-a4c9-ad8e598a7ff3\", \"created_utc\": \"2021-07-31T16:01:14.95685Z\", \"properties\": {\"num_iterations\": \"1000\", \"training_type\": \"TrainFull\", \"acquisition_function\": \"EI\", \"primary_metric\": \"accuracy\", \"train_split\": \"0\", \"acquisition_parameter\": \"0\", \"num_cross_validation\": null, \"target\": \"cpucluster\", \"AMLSettingsJsonString\": \"{\\\"path\\\":null,\\\"name\\\":\\\"automl-telco-churn\\\",\\\"subscription_id\\\":\\\"57edfb84-e1fe-4fdf-8da0-d05684406ce1\\\",\\\"resource_group\\\":\\\"udacity-project-3\\\",\\\"workspace_name\\\":\\\"udacity-p3\\\",\\\"region\\\":\\\"eastus2\\\",\\\"compute_target\\\":\\\"cpucluster\\\",\\\"spark_service\\\":null,\\\"azure_service\\\":\\\"remote\\\",\\\"many_models\\\":false,\\\"pipeline_fetch_max_batch_size\\\":1,\\\"enable_batch_run\\\":false,\\\"enable_run_restructure\\\":false,\\\"start_auxiliary_runs_before_parent_complete\\\":false,\\\"enable_code_generation\\\":false,\\\"iterations\\\":1000,\\\"primary_metric\\\":\\\"accuracy\\\",\\\"task_type\\\":\\\"classification\\\",\\\"data_script\\\":null,\\\"test_size\\\":0.0,\\\"validation_size\\\":0.0,\\\"n_cross_validations\\\":null,\\\"y_min\\\":null,\\\"y_max\\\":null,\\\"num_classes\\\":null,\\\"featurization\\\":\\\"auto\\\",\\\"_ignore_package_version_incompatibilities\\\":false,\\\"is_timeseries\\\":false,\\\"max_cores_per_iteration\\\":1,\\\"max_concurrent_iterations\\\":10,\\\"iteration_timeout_minutes\\\":null,\\\"mem_in_mb\\\":null,\\\"enforce_time_on_windows\\\":false,\\\"experiment_timeout_minutes\\\":30,\\\"experiment_exit_score\\\":null,\\\"whitelist_models\\\":null,\\\"blacklist_algos\\\":[\\\"TensorFlowLinearClassifier\\\",\\\"TensorFlowDNN\\\"],\\\"supported_models\\\":[\\\"ExtremeRandomTrees\\\",\\\"LinearSVM\\\",\\\"RandomForest\\\",\\\"XGBoostClassifier\\\",\\\"AveragedPerceptronClassifier\\\",\\\"TensorFlowDNN\\\",\\\"MultinomialNaiveBayes\\\",\\\"GradientBoosting\\\",\\\"LightGBM\\\",\\\"SGD\\\",\\\"BernoulliNaiveBayes\\\",\\\"DecisionTree\\\",\\\"TensorFlowLinearClassifier\\\",\\\"KNN\\\",\\\"LogisticRegression\\\",\\\"SVM\\\"],\\\"private_models\\\":[],\\\"auto_blacklist\\\":true,\\\"blacklist_samples_reached\\\":false,\\\"exclude_nan_labels\\\":true,\\\"verbosity\\\":20,\\\"_debug_log\\\":\\\"azureml_automl.log\\\",\\\"show_warnings\\\":false,\\\"model_explainability\\\":true,\\\"service_url\\\":null,\\\"sdk_url\\\":null,\\\"sdk_packages\\\":null,\\\"enable_onnx_compatible_models\\\":false,\\\"enable_split_onnx_featurizer_estimator_models\\\":false,\\\"vm_type\\\":\\\"STANDARD_D2_V2\\\",\\\"telemetry_verbosity\\\":20,\\\"send_telemetry\\\":true,\\\"enable_dnn\\\":false,\\\"scenario\\\":\\\"SDK-1.13.0\\\",\\\"environment_label\\\":null,\\\"save_mlflow\\\":false,\\\"force_text_dnn\\\":false,\\\"enable_feature_sweeping\\\":true,\\\"enable_early_stopping\\\":true,\\\"early_stopping_n_iters\\\":10,\\\"metrics\\\":null,\\\"enable_metric_confidence\\\":false,\\\"enable_ensembling\\\":true,\\\"enable_stack_ensembling\\\":true,\\\"ensemble_iterations\\\":15,\\\"enable_tf\\\":false,\\\"enable_subsampling\\\":null,\\\"subsample_seed\\\":null,\\\"enable_nimbusml\\\":false,\\\"enable_streaming\\\":false,\\\"force_streaming\\\":false,\\\"track_child_runs\\\":true,\\\"allowed_private_models\\\":[],\\\"label_column_name\\\":\\\"Churn\\\",\\\"weight_column_name\\\":null,\\\"cv_split_column_names\\\":null,\\\"enable_local_managed\\\":false,\\\"_local_managed_run_id\\\":null,\\\"cost_mode\\\":1,\\\"lag_length\\\":0,\\\"metric_operation\\\":\\\"maximize\\\",\\\"preprocess\\\":true}\", \"DataPrepJsonString\": \"{\\\\\\\"training_data\\\\\\\": {\\\\\\\"datasetId\\\\\\\": \\\\\\\"59a8b663-3a47-4159-b25e-60c0ba54c69f\\\\\\\"}, \\\\\\\"datasets\\\\\\\": 0}\", \"EnableSubsampling\": null, \"runTemplate\": \"AutoML\", \"azureml.runsource\": \"automl\", \"display_task_type\": \"classification\", \"dependencies_versions\": \"{\\\"azureml-widgets\\\": \\\"1.31.0\\\", \\\"azureml-train\\\": \\\"1.31.0\\\", \\\"azureml-train-restclients-hyperdrive\\\": \\\"1.31.0\\\", \\\"azureml-train-core\\\": \\\"1.31.0\\\", \\\"azureml-train-automl\\\": \\\"1.31.0\\\", \\\"azureml-train-automl-runtime\\\": \\\"1.31.0\\\", \\\"azureml-train-automl-client\\\": \\\"1.31.0\\\", \\\"azureml-tensorboard\\\": \\\"1.31.0\\\", \\\"azureml-telemetry\\\": \\\"1.31.0\\\", \\\"azureml-sdk\\\": \\\"1.31.0\\\", \\\"azureml-samples\\\": \\\"0+unknown\\\", \\\"azureml-responsibleai\\\": \\\"1.31.0\\\", \\\"azureml-pipeline\\\": \\\"1.31.0\\\", \\\"azureml-pipeline-steps\\\": \\\"1.31.0\\\", \\\"azureml-pipeline-core\\\": \\\"1.31.0\\\", \\\"azureml-opendatasets\\\": \\\"1.31.0\\\", \\\"azureml-model-management-sdk\\\": \\\"1.0.1b6.post1\\\", \\\"azureml-mlflow\\\": \\\"1.31.0\\\", \\\"azureml-interpret\\\": \\\"1.31.0\\\", \\\"azureml-explain-model\\\": \\\"1.31.0\\\", \\\"azureml-defaults\\\": \\\"1.31.0\\\", \\\"azureml-dataset-runtime\\\": \\\"1.31.0\\\", \\\"azureml-dataprep\\\": \\\"2.18.0\\\", \\\"azureml-dataprep-rslex\\\": \\\"1.16.1\\\", \\\"azureml-dataprep-native\\\": \\\"36.0.0\\\", \\\"azureml-datadrift\\\": \\\"1.31.0\\\", \\\"azureml-core\\\": \\\"1.31.0\\\", \\\"azureml-contrib-services\\\": \\\"1.31.0\\\", \\\"azureml-contrib-server\\\": \\\"1.31.0\\\", \\\"azureml-contrib-reinforcementlearning\\\": \\\"1.31.0\\\", \\\"azureml-contrib-pipeline-steps\\\": \\\"1.31.0\\\", \\\"azureml-contrib-notebook\\\": \\\"1.31.0\\\", \\\"azureml-contrib-fairness\\\": \\\"1.31.0\\\", \\\"azureml-contrib-dataset\\\": \\\"1.31.0\\\", \\\"azureml-cli-common\\\": \\\"1.31.0\\\", \\\"azureml-automl-runtime\\\": \\\"1.31.0\\\", \\\"azureml-automl-dnn-nlp\\\": \\\"1.31.0\\\", \\\"azureml-automl-core\\\": \\\"1.31.0\\\", \\\"azureml-accel-models\\\": \\\"1.31.0\\\"}\", \"_aml_system_scenario_identification\": \"Remote.Parent\", \"ClientType\": \"SDK\", \"environment_cpu_name\": \"AzureML-AutoML\", \"environment_cpu_label\": \"prod\", \"environment_gpu_name\": \"AzureML-AutoML-GPU\", \"environment_gpu_label\": \"prod\", \"root_attribution\": \"automl\", \"attribution\": \"AutoML\", \"Orchestrator\": \"AutoML\", \"CancelUri\": \"https://eastus2.api.azureml.ms/jasmine/v1.0/subscriptions/57edfb84-e1fe-4fdf-8da0-d05684406ce1/resourceGroups/udacity-project-3/providers/Microsoft.MachineLearningServices/workspaces/udacity-p3/experimentids/b724246b-8412-4491-a034-0ffd71398a1c/cancel/AutoML_af8c4cb8-b77e-4b53-a4c9-ad8e598a7ff3\", \"ClientSdkVersion\": \"1.32.0\", \"snapshotId\": \"00000000-0000-0000-0000-000000000000\", \"SetupRunId\": \"AutoML_af8c4cb8-b77e-4b53-a4c9-ad8e598a7ff3_setup\", \"SetupRunContainerId\": \"dcid.AutoML_af8c4cb8-b77e-4b53-a4c9-ad8e598a7ff3_setup\", \"FeaturizationRunJsonPath\": \"featurizer_container.json\", \"FeaturizationRunId\": \"AutoML_af8c4cb8-b77e-4b53-a4c9-ad8e598a7ff3_featurize\", \"ProblemInfoJsonString\": \"{\\\"dataset_num_categorical\\\": 0, \\\"is_sparse\\\": true, \\\"subsampling\\\": false, \\\"has_extra_col\\\": true, \\\"dataset_classes\\\": 2, \\\"dataset_features\\\": 40, \\\"dataset_samples\\\": 7043, \\\"single_frequency_class_detected\\\": false}\", \"ModelExplainRunId\": \"AutoML_af8c4cb8-b77e-4b53-a4c9-ad8e598a7ff3_ModelExplain\"}, \"tags\": {\"model_explain_run\": \"best_run\", \"_aml_system_azureml.automlComponent\": \"AutoML\", \"pipeline_id\": \"\", \"score\": \"\", \"predicted_cost\": \"\", \"fit_time\": \"\", \"training_percent\": \"\", \"iteration\": \"\", \"run_preprocessor\": \"\", \"run_algorithm\": \"\", \"dynamic_whitelisting_iterations\": \"<25>;<30>;<35>;<40>;<45>;<50>;<55>;<60>;\", \"automl_best_child_run_id\": \"AutoML_af8c4cb8-b77e-4b53-a4c9-ad8e598a7ff3_64\", \"model_explain_best_run_child_id\": \"AutoML_af8c4cb8-b77e-4b53-a4c9-ad8e598a7ff3_64\"}, \"end_time_utc\": \"2021-07-31T16:32:53.610339Z\", \"status\": \"Completed\", \"log_files\": {}, \"log_groups\": [], \"run_duration\": \"0:31:38\", \"run_number\": \"315\", \"run_queued_details\": {\"status\": \"Completed\", \"details\": null}}, \"child_runs\": [{\"run_id\": \"AutoML_af8c4cb8-b77e-4b53-a4c9-ad8e598a7ff3_0\", \"run_number\": 319, \"metric\": null, \"status\": \"Completed\", \"run_type\": \"azureml.scriptrun\", \"training_percent\": \"100\", \"start_time\": \"2021-07-31T16:09:20.239483Z\", \"end_time\": \"2021-07-31T16:09:55.539776Z\", \"created_time\": \"2021-07-31T16:09:02.534578Z\", \"created_time_dt\": \"2021-07-31T16:09:02.534578Z\", \"duration\": \"0:00:53\", \"iteration\": \"0\", \"goal\": \"accuracy_max\", \"run_name\": \"MaxAbsScaler, LightGBM\", \"run_properties\": \"copy=True\", \"primary_metric\": 0.79341334, \"best_metric\": 0.79341334}, {\"run_id\": \"AutoML_af8c4cb8-b77e-4b53-a4c9-ad8e598a7ff3_1\", \"run_number\": 320, \"metric\": null, \"status\": \"Completed\", \"run_type\": \"azureml.scriptrun\", \"training_percent\": \"100\", \"start_time\": \"2021-07-31T16:11:17.34443Z\", \"end_time\": \"2021-07-31T16:11:56.494767Z\", \"created_time\": \"2021-07-31T16:09:02.588978Z\", \"created_time_dt\": \"2021-07-31T16:09:02.588978Z\", \"duration\": \"0:02:53\", \"iteration\": \"1\", \"goal\": \"accuracy_max\", \"run_name\": \"MaxAbsScaler, XGBoostClassifier\", \"run_properties\": \"copy=True\", \"primary_metric\": 0.80633292, \"best_metric\": 0.80633292}, {\"run_id\": \"AutoML_af8c4cb8-b77e-4b53-a4c9-ad8e598a7ff3_4\", \"run_number\": 321, \"metric\": null, \"status\": \"Completed\", \"run_type\": \"azureml.scriptrun\", \"training_percent\": \"100\", \"start_time\": \"2021-07-31T16:12:07.348005Z\", \"end_time\": \"2021-07-31T16:12:42.988448Z\", \"created_time\": \"2021-07-31T16:09:02.599126Z\", \"created_time_dt\": \"2021-07-31T16:09:02.599126Z\", \"duration\": \"0:03:40\", \"iteration\": \"4\", \"goal\": \"accuracy_max\", \"run_name\": \"MaxAbsScaler, RandomForest\", \"run_properties\": \"copy=True\", \"primary_metric\": 0.75010579, \"best_metric\": 0.80633292}, {\"run_id\": \"AutoML_af8c4cb8-b77e-4b53-a4c9-ad8e598a7ff3_3\", \"run_number\": 322, \"metric\": null, \"status\": \"Completed\", \"run_type\": \"azureml.scriptrun\", \"training_percent\": \"100\", \"start_time\": \"2021-07-31T16:11:57.160309Z\", \"end_time\": \"2021-07-31T16:12:26.506801Z\", \"created_time\": \"2021-07-31T16:09:02.609673Z\", \"created_time_dt\": \"2021-07-31T16:09:02.609673Z\", \"duration\": \"0:03:23\", \"iteration\": \"3\", \"goal\": \"accuracy_max\", \"run_name\": \"MaxAbsScaler, RandomForest\", \"run_properties\": \"copy=True\", \"primary_metric\": 0.78957854, \"best_metric\": 0.80633292}, {\"run_id\": \"AutoML_af8c4cb8-b77e-4b53-a4c9-ad8e598a7ff3_6\", \"run_number\": 323, \"metric\": null, \"status\": \"Completed\", \"run_type\": \"azureml.scriptrun\", \"training_percent\": \"100\", \"start_time\": \"2021-07-31T16:10:10.651445Z\", \"end_time\": \"2021-07-31T16:11:01.677154Z\", \"created_time\": \"2021-07-31T16:09:02.61446Z\", \"created_time_dt\": \"2021-07-31T16:09:02.61446Z\", \"duration\": \"0:01:59\", \"iteration\": \"6\", \"goal\": \"accuracy_max\", \"run_name\": \"StandardScalerWrapper, XGBoostClassifier\", \"run_properties\": \"\\n    copy=True,\\n    with_mean=False,\\n    with_std=False\\n\", \"primary_metric\": 0.78106023, \"best_metric\": 0.80633292}, {\"run_id\": \"AutoML_af8c4cb8-b77e-4b53-a4c9-ad8e598a7ff3_7\", \"run_number\": 324, \"metric\": null, \"status\": \"Completed\", \"run_type\": \"azureml.scriptrun\", \"training_percent\": \"100\", \"start_time\": \"2021-07-31T16:10:04.709161Z\", \"end_time\": \"2021-07-31T16:11:42.790485Z\", \"created_time\": \"2021-07-31T16:09:02.629167Z\", \"created_time_dt\": \"2021-07-31T16:09:02.629167Z\", \"duration\": \"0:02:40\", \"iteration\": \"7\", \"goal\": \"accuracy_max\", \"run_name\": \"TruncatedSVDWrapper, XGBoostClassifier\", \"run_properties\": \"n_components=0.8015789473684211, random_state=None\", \"primary_metric\": 0.79071547, \"best_metric\": 0.80633292}, {\"run_id\": \"AutoML_af8c4cb8-b77e-4b53-a4c9-ad8e598a7ff3_8\", \"run_number\": 325, \"metric\": null, \"status\": \"Completed\", \"run_type\": \"azureml.scriptrun\", \"training_percent\": \"100\", \"start_time\": \"2021-07-31T16:10:01.341457Z\", \"end_time\": \"2021-07-31T16:11:05.130005Z\", \"created_time\": \"2021-07-31T16:09:02.636132Z\", \"created_time_dt\": \"2021-07-31T16:09:02.636132Z\", \"duration\": \"0:02:02\", \"iteration\": \"8\", \"goal\": \"accuracy_max\", \"run_name\": \"SparseNormalizer, XGBoostClassifier\", \"run_properties\": \"copy=True, norm='l2'\", \"primary_metric\": 0.77438619, \"best_metric\": 0.80633292}, {\"run_id\": \"AutoML_af8c4cb8-b77e-4b53-a4c9-ad8e598a7ff3_2\", \"run_number\": 326, \"metric\": null, \"status\": \"Completed\", \"run_type\": \"azureml.scriptrun\", \"training_percent\": \"100\", \"start_time\": \"2021-07-31T16:12:12.543633Z\", \"end_time\": \"2021-07-31T16:12:48.859681Z\", \"created_time\": \"2021-07-31T16:09:02.599735Z\", \"created_time_dt\": \"2021-07-31T16:09:02.599735Z\", \"duration\": \"0:03:46\", \"iteration\": \"2\", \"goal\": \"accuracy_max\", \"run_name\": \"MaxAbsScaler, RandomForest\", \"run_properties\": \"copy=True\", \"primary_metric\": 0.79213469, \"best_metric\": 0.80633292}, {\"run_id\": \"AutoML_af8c4cb8-b77e-4b53-a4c9-ad8e598a7ff3_9\", \"run_number\": 327, \"metric\": null, \"status\": \"Completed\", \"run_type\": \"azureml.scriptrun\", \"training_percent\": \"100\", \"start_time\": \"2021-07-31T16:11:21.847388Z\", \"end_time\": \"2021-07-31T16:11:56.902839Z\", \"created_time\": \"2021-07-31T16:09:02.60169Z\", \"created_time_dt\": \"2021-07-31T16:09:02.60169Z\", \"duration\": \"0:02:54\", \"iteration\": \"9\", \"goal\": \"accuracy_max\", \"run_name\": \"StandardScalerWrapper, XGBoostClassifier\", \"run_properties\": \"\\n    copy=True,\\n    with_mean=False,\\n    with_std=False\\n\", \"primary_metric\": 0.7944071, \"best_metric\": 0.80633292}, {\"run_id\": \"AutoML_af8c4cb8-b77e-4b53-a4c9-ad8e598a7ff3_5\", \"run_number\": 328, \"metric\": null, \"status\": \"Completed\", \"run_type\": \"azureml.scriptrun\", \"training_percent\": \"100\", \"start_time\": \"2021-07-31T16:12:44.683519Z\", \"end_time\": \"2021-07-31T16:13:18.38836Z\", \"created_time\": \"2021-07-31T16:09:02.606324Z\", \"created_time_dt\": \"2021-07-31T16:09:02.606324Z\", \"duration\": \"0:04:15\", \"iteration\": \"5\", \"goal\": \"accuracy_max\", \"run_name\": \"MaxAbsScaler, RandomForest\", \"run_properties\": \"copy=True\", \"primary_metric\": 0.72028871, \"best_metric\": 0.80633292}, {\"run_id\": \"AutoML_af8c4cb8-b77e-4b53-a4c9-ad8e598a7ff3_10\", \"run_number\": 329, \"metric\": null, \"status\": \"Completed\", \"run_type\": \"azureml.scriptrun\", \"training_percent\": \"100\", \"start_time\": \"2021-07-31T16:13:28.488329Z\", \"end_time\": \"2021-07-31T16:14:07.36651Z\", \"created_time\": \"2021-07-31T16:09:56.636839Z\", \"created_time_dt\": \"2021-07-31T16:09:56.636839Z\", \"duration\": \"0:04:10\", \"iteration\": \"10\", \"goal\": \"accuracy_max\", \"run_name\": \"StandardScalerWrapper, XGBoostClassifier\", \"run_properties\": \"\\n    copy=True,\\n    with_mean=False,\\n    with_std=False\\n\", \"primary_metric\": 0.79582614, \"best_metric\": 0.80633292}, {\"run_id\": \"AutoML_af8c4cb8-b77e-4b53-a4c9-ad8e598a7ff3_11\", \"run_number\": 330, \"metric\": null, \"status\": \"Completed\", \"run_type\": \"azureml.scriptrun\", \"training_percent\": \"100\", \"start_time\": \"2021-07-31T16:14:23.076585Z\", \"end_time\": \"2021-07-31T16:14:54.779345Z\", \"created_time\": \"2021-07-31T16:11:04.96337Z\", \"created_time_dt\": \"2021-07-31T16:11:04.96337Z\", \"duration\": \"0:03:49\", \"iteration\": \"11\", \"goal\": \"accuracy_max\", \"run_name\": \"MaxAbsScaler, LightGBM\", \"run_properties\": \"copy=True\", \"primary_metric\": 0.80278272, \"best_metric\": 0.80633292}, {\"run_id\": \"AutoML_af8c4cb8-b77e-4b53-a4c9-ad8e598a7ff3_12\", \"run_number\": 331, \"metric\": null, \"status\": \"Completed\", \"run_type\": \"azureml.scriptrun\", \"training_percent\": \"100\", \"start_time\": \"2021-07-31T16:14:30.588767Z\", \"end_time\": \"2021-07-31T16:15:02.722457Z\", \"created_time\": \"2021-07-31T16:11:08.239773Z\", \"created_time_dt\": \"2021-07-31T16:11:08.239773Z\", \"duration\": \"0:03:54\", \"iteration\": \"12\", \"goal\": \"accuracy_max\", \"run_name\": \"MaxAbsScaler, LightGBM\", \"run_properties\": \"copy=True\", \"primary_metric\": 0.79554227, \"best_metric\": 0.80633292}, {\"run_id\": \"AutoML_af8c4cb8-b77e-4b53-a4c9-ad8e598a7ff3_13\", \"run_number\": 332, \"metric\": null, \"status\": \"Completed\", \"run_type\": \"azureml.scriptrun\", \"training_percent\": \"100\", \"start_time\": \"2021-07-31T16:14:29.934465Z\", \"end_time\": \"2021-07-31T16:15:03.429288Z\", \"created_time\": \"2021-07-31T16:11:45.246322Z\", \"created_time_dt\": \"2021-07-31T16:11:45.246322Z\", \"duration\": \"0:03:18\", \"iteration\": \"13\", \"goal\": \"accuracy_max\", \"run_name\": \"MaxAbsScaler, RandomForest\", \"run_properties\": \"copy=True\", \"primary_metric\": 0.79213427, \"best_metric\": 0.80633292}, {\"run_id\": \"AutoML_af8c4cb8-b77e-4b53-a4c9-ad8e598a7ff3_14\", \"run_number\": 333, \"metric\": null, \"status\": \"Completed\", \"run_type\": \"azureml.scriptrun\", \"training_percent\": \"100\", \"start_time\": \"2021-07-31T16:15:16.151864Z\", \"end_time\": \"2021-07-31T16:15:47.792323Z\", \"created_time\": \"2021-07-31T16:11:58.57451Z\", \"created_time_dt\": \"2021-07-31T16:11:58.57451Z\", \"duration\": \"0:03:49\", \"iteration\": \"14\", \"goal\": \"accuracy_max\", \"run_name\": \"StandardScalerWrapper, LightGBM\", \"run_properties\": \"\\n    copy=True,\\n    with_mean=False,\\n    with_std=False\\n\", \"primary_metric\": 0.7857447, \"best_metric\": 0.80633292}, {\"run_id\": \"AutoML_af8c4cb8-b77e-4b53-a4c9-ad8e598a7ff3_15\", \"run_number\": 334, \"metric\": null, \"status\": \"Completed\", \"run_type\": \"azureml.scriptrun\", \"training_percent\": \"100\", \"start_time\": \"2021-07-31T16:15:18.980066Z\", \"end_time\": \"2021-07-31T16:15:50.63046Z\", \"created_time\": \"2021-07-31T16:12:01.871374Z\", \"created_time_dt\": \"2021-07-31T16:12:01.871374Z\", \"duration\": \"0:03:48\", \"iteration\": \"15\", \"goal\": \"accuracy_max\", \"run_name\": \"MaxAbsScaler, LightGBM\", \"run_properties\": \"copy=True\", \"primary_metric\": 0.80590673, \"best_metric\": 0.80633292}, {\"run_id\": \"AutoML_af8c4cb8-b77e-4b53-a4c9-ad8e598a7ff3_16\", \"run_number\": 335, \"metric\": null, \"status\": \"Completed\", \"run_type\": \"azureml.scriptrun\", \"training_percent\": \"100\", \"start_time\": \"2021-07-31T16:15:17.179557Z\", \"end_time\": \"2021-07-31T16:15:51.137979Z\", \"created_time\": \"2021-07-31T16:12:28.598333Z\", \"created_time_dt\": \"2021-07-31T16:12:28.598333Z\", \"duration\": \"0:03:22\", \"iteration\": \"16\", \"goal\": \"accuracy_max\", \"run_name\": \"MaxAbsScaler, GradientBoosting\", \"run_properties\": \"copy=True\", \"primary_metric\": 0.8015057, \"best_metric\": 0.80633292}, {\"run_id\": \"AutoML_af8c4cb8-b77e-4b53-a4c9-ad8e598a7ff3_17\", \"run_number\": 336, \"metric\": null, \"status\": \"Completed\", \"run_type\": \"azureml.scriptrun\", \"training_percent\": \"100\", \"start_time\": \"2021-07-31T16:16:07.201605Z\", \"end_time\": \"2021-07-31T16:16:39.34642Z\", \"created_time\": \"2021-07-31T16:12:44.821684Z\", \"created_time_dt\": \"2021-07-31T16:12:44.821684Z\", \"duration\": \"0:03:54\", \"iteration\": \"17\", \"goal\": \"accuracy_max\", \"run_name\": \"StandardScalerWrapper, GradientBoosting\", \"run_properties\": \"\\n    copy=True,\\n    with_mean=False,\\n    with_std=False\\n\", \"primary_metric\": 0.79823942, \"best_metric\": 0.80633292}, {\"run_id\": \"AutoML_af8c4cb8-b77e-4b53-a4c9-ad8e598a7ff3_18\", \"run_number\": 337, \"metric\": null, \"status\": \"Completed\", \"run_type\": \"azureml.scriptrun\", \"training_percent\": \"100\", \"start_time\": \"2021-07-31T16:16:03.548155Z\", \"end_time\": \"2021-07-31T16:16:40.276441Z\", \"created_time\": \"2021-07-31T16:12:50.445443Z\", \"created_time_dt\": \"2021-07-31T16:12:50.445443Z\", \"duration\": \"0:03:49\", \"iteration\": \"18\", \"goal\": \"accuracy_max\", \"run_name\": \"StandardScalerWrapper, RandomForest\", \"run_properties\": \"\\n    copy=True,\\n    with_mean=False,\\n    with_std=True\\n\", \"primary_metric\": 0.79312857, \"best_metric\": 0.80633292}, {\"run_id\": \"AutoML_af8c4cb8-b77e-4b53-a4c9-ad8e598a7ff3_19\", \"run_number\": 338, \"metric\": null, \"status\": \"Completed\", \"run_type\": \"azureml.scriptrun\", \"training_percent\": \"100\", \"start_time\": \"2021-07-31T16:16:04.985485Z\", \"end_time\": \"2021-07-31T16:16:38.557325Z\", \"created_time\": \"2021-07-31T16:13:19.722188Z\", \"created_time_dt\": \"2021-07-31T16:13:19.722188Z\", \"duration\": \"0:03:18\", \"iteration\": \"19\", \"goal\": \"accuracy_max\", \"run_name\": \"SparseNormalizer, GradientBoosting\", \"run_properties\": \"copy=True, norm='l1'\", \"primary_metric\": 0.80207386, \"best_metric\": 0.80633292}, {\"run_id\": \"AutoML_af8c4cb8-b77e-4b53-a4c9-ad8e598a7ff3_20\", \"run_number\": 339, \"metric\": null, \"status\": \"Completed\", \"run_type\": \"azureml.scriptrun\", \"training_percent\": \"100\", \"start_time\": \"2021-07-31T16:16:55.826434Z\", \"end_time\": \"2021-07-31T16:17:40.908374Z\", \"created_time\": \"2021-07-31T16:14:08.523613Z\", \"created_time_dt\": \"2021-07-31T16:14:08.523613Z\", \"duration\": \"0:03:32\", \"iteration\": \"20\", \"goal\": \"accuracy_max\", \"run_name\": \"MaxAbsScaler, RandomForest\", \"run_properties\": \"copy=True\", \"primary_metric\": 0.78915283, \"best_metric\": 0.80633292}, {\"run_id\": \"AutoML_af8c4cb8-b77e-4b53-a4c9-ad8e598a7ff3_21\", \"run_number\": 340, \"metric\": null, \"status\": \"Completed\", \"run_type\": \"azureml.scriptrun\", \"training_percent\": \"100\", \"start_time\": \"2021-07-31T16:17:54.621775Z\", \"end_time\": \"2021-07-31T16:18:29.60997Z\", \"created_time\": \"2021-07-31T16:14:56.47897Z\", \"created_time_dt\": \"2021-07-31T16:14:56.47897Z\", \"duration\": \"0:03:33\", \"iteration\": \"21\", \"goal\": \"accuracy_max\", \"run_name\": \"StandardScalerWrapper, LightGBM\", \"run_properties\": \"\\n    copy=True,\\n    with_mean=False,\\n    with_std=True\\n\", \"primary_metric\": 0.80477113, \"best_metric\": 0.80633292}, {\"run_id\": \"AutoML_af8c4cb8-b77e-4b53-a4c9-ad8e598a7ff3_22\", \"run_number\": 341, \"metric\": null, \"status\": \"Completed\", \"run_type\": \"azureml.scriptrun\", \"training_percent\": \"100\", \"start_time\": \"2021-07-31T16:18:26.700543Z\", \"end_time\": \"2021-07-31T16:19:04.459736Z\", \"created_time\": \"2021-07-31T16:15:04.36747Z\", \"created_time_dt\": \"2021-07-31T16:15:04.36747Z\", \"duration\": \"0:04:00\", \"iteration\": \"22\", \"goal\": \"accuracy_max\", \"run_name\": \"SparseNormalizer, XGBoostClassifier\", \"run_properties\": \"copy=True, norm='max'\", \"primary_metric\": 0.79298636, \"best_metric\": 0.80633292}, {\"run_id\": \"AutoML_af8c4cb8-b77e-4b53-a4c9-ad8e598a7ff3_23\", \"run_number\": 342, \"metric\": null, \"status\": \"Completed\", \"run_type\": \"azureml.scriptrun\", \"training_percent\": \"100\", \"start_time\": \"2021-07-31T16:18:25.882458Z\", \"end_time\": \"2021-07-31T16:19:03.375954Z\", \"created_time\": \"2021-07-31T16:15:06.582247Z\", \"created_time_dt\": \"2021-07-31T16:15:06.582247Z\", \"duration\": \"0:03:56\", \"iteration\": \"23\", \"goal\": \"accuracy_max\", \"run_name\": \"MaxAbsScaler, LightGBM\", \"run_properties\": \"copy=True\", \"primary_metric\": 0.80320946, \"best_metric\": 0.80633292}, {\"run_id\": \"AutoML_af8c4cb8-b77e-4b53-a4c9-ad8e598a7ff3_24\", \"run_number\": 343, \"metric\": null, \"status\": \"Completed\", \"run_type\": \"azureml.scriptrun\", \"training_percent\": \"100\", \"start_time\": \"2021-07-31T16:18:42.087436Z\", \"end_time\": \"2021-07-31T16:19:16.571823Z\", \"created_time\": \"2021-07-31T16:15:49.112124Z\", \"created_time_dt\": \"2021-07-31T16:15:49.112124Z\", \"duration\": \"0:03:27\", \"iteration\": \"24\", \"goal\": \"accuracy_max\", \"run_name\": \"MaxAbsScaler, LightGBM\", \"run_properties\": \"copy=True\", \"primary_metric\": 0.79327011, \"best_metric\": 0.80633292}, {\"run_id\": \"AutoML_af8c4cb8-b77e-4b53-a4c9-ad8e598a7ff3_25\", \"run_number\": 344, \"metric\": null, \"status\": \"Completed\", \"run_type\": \"azureml.scriptrun\", \"training_percent\": \"100\", \"start_time\": \"2021-07-31T16:19:20.573473Z\", \"end_time\": \"2021-07-31T16:19:53.246041Z\", \"created_time\": \"2021-07-31T16:15:52.661492Z\", \"created_time_dt\": \"2021-07-31T16:15:52.661492Z\", \"duration\": \"0:04:00\", \"iteration\": \"25\", \"goal\": \"accuracy_max\", \"run_name\": \"SparseNormalizer, XGBoostClassifier\", \"run_properties\": \"copy=True, norm='max'\", \"primary_metric\": 0.73463078, \"best_metric\": 0.80633292}, {\"run_id\": \"AutoML_af8c4cb8-b77e-4b53-a4c9-ad8e598a7ff3_26\", \"run_number\": 345, \"metric\": null, \"status\": \"Completed\", \"run_type\": \"azureml.scriptrun\", \"training_percent\": \"100\", \"start_time\": \"2021-07-31T16:19:17.936358Z\", \"end_time\": \"2021-07-31T16:19:55.779242Z\", \"created_time\": \"2021-07-31T16:15:54.938936Z\", \"created_time_dt\": \"2021-07-31T16:15:54.938936Z\", \"duration\": \"0:04:00\", \"iteration\": \"26\", \"goal\": \"accuracy_max\", \"run_name\": \"StandardScalerWrapper, LightGBM\", \"run_properties\": \"\\n    copy=True,\\n    with_mean=False,\\n    with_std=False\\n\", \"primary_metric\": 0.73974303, \"best_metric\": 0.80633292}, {\"run_id\": \"AutoML_af8c4cb8-b77e-4b53-a4c9-ad8e598a7ff3_27\", \"run_number\": 346, \"metric\": null, \"status\": \"Completed\", \"run_type\": \"azureml.scriptrun\", \"training_percent\": \"100\", \"start_time\": \"2021-07-31T16:19:33.890283Z\", \"end_time\": \"2021-07-31T16:20:08.412882Z\", \"created_time\": \"2021-07-31T16:16:39.932982Z\", \"created_time_dt\": \"2021-07-31T16:16:39.932982Z\", \"duration\": \"0:03:28\", \"iteration\": \"27\", \"goal\": \"accuracy_max\", \"run_name\": \"StandardScalerWrapper, LightGBM\", \"run_properties\": \"\\n    copy=True,\\n    with_mean=False,\\n    with_std=True\\n\", \"primary_metric\": 0.78475149, \"best_metric\": 0.80633292}, {\"run_id\": \"AutoML_af8c4cb8-b77e-4b53-a4c9-ad8e598a7ff3_29\", \"run_number\": 347, \"metric\": null, \"status\": \"Completed\", \"run_type\": \"azureml.scriptrun\", \"training_percent\": \"100\", \"start_time\": \"2021-07-31T16:20:11.346683Z\", \"end_time\": \"2021-07-31T16:20:49.728587Z\", \"created_time\": \"2021-07-31T16:16:42.276423Z\", \"created_time_dt\": \"2021-07-31T16:16:42.276423Z\", \"duration\": \"0:04:07\", \"iteration\": \"29\", \"goal\": \"accuracy_max\", \"run_name\": \"SparseNormalizer, XGBoostClassifier\", \"run_properties\": \"copy=True, norm='max'\", \"primary_metric\": 0.79838247, \"best_metric\": 0.80633292}, {\"run_id\": \"AutoML_af8c4cb8-b77e-4b53-a4c9-ad8e598a7ff3_28\", \"run_number\": 348, \"metric\": null, \"status\": \"Completed\", \"run_type\": \"azureml.scriptrun\", \"training_percent\": \"100\", \"start_time\": \"2021-07-31T16:20:09.840906Z\", \"end_time\": \"2021-07-31T16:21:05.933991Z\", \"created_time\": \"2021-07-31T16:16:42.307488Z\", \"created_time_dt\": \"2021-07-31T16:16:42.307488Z\", \"duration\": \"0:04:23\", \"iteration\": \"28\", \"goal\": \"accuracy_max\", \"run_name\": \"SparseNormalizer, XGBoostClassifier\", \"run_properties\": \"copy=True, norm='l1'\", \"primary_metric\": 0.78120201, \"best_metric\": 0.80633292}, {\"run_id\": \"AutoML_af8c4cb8-b77e-4b53-a4c9-ad8e598a7ff3_30\", \"run_number\": 349, \"metric\": null, \"status\": \"Completed\", \"run_type\": \"azureml.scriptrun\", \"training_percent\": \"100\", \"start_time\": \"2021-07-31T16:20:20.300049Z\", \"end_time\": \"2021-07-31T16:20:52.765567Z\", \"created_time\": \"2021-07-31T16:17:43.154325Z\", \"created_time_dt\": \"2021-07-31T16:17:43.154325Z\", \"duration\": \"0:03:09\", \"iteration\": \"30\", \"goal\": \"accuracy_max\", \"run_name\": \"SparseNormalizer, XGBoostClassifier\", \"run_properties\": \"copy=True, norm='max'\", \"primary_metric\": 0.73463078, \"best_metric\": 0.80633292}, {\"run_id\": \"AutoML_af8c4cb8-b77e-4b53-a4c9-ad8e598a7ff3_31\", \"run_number\": 350, \"metric\": null, \"status\": \"Completed\", \"run_type\": \"azureml.scriptrun\", \"training_percent\": \"100\", \"start_time\": \"2021-07-31T16:21:19.750821Z\", \"end_time\": \"2021-07-31T16:21:58.772051Z\", \"created_time\": \"2021-07-31T16:18:30.998127Z\", \"created_time_dt\": \"2021-07-31T16:18:30.998127Z\", \"duration\": \"0:03:27\", \"iteration\": \"31\", \"goal\": \"accuracy_max\", \"run_name\": \"SparseNormalizer, LightGBM\", \"run_properties\": \"copy=True, norm='l1'\", \"primary_metric\": 0.79909199, \"best_metric\": 0.80633292}, {\"run_id\": \"AutoML_af8c4cb8-b77e-4b53-a4c9-ad8e598a7ff3_32\", \"run_number\": 351, \"metric\": null, \"status\": \"Completed\", \"run_type\": \"azureml.scriptrun\", \"training_percent\": \"100\", \"start_time\": \"2021-07-31T16:22:12.46833Z\", \"end_time\": \"2021-07-31T16:22:48.551016Z\", \"created_time\": \"2021-07-31T16:19:04.747264Z\", \"created_time_dt\": \"2021-07-31T16:19:04.747264Z\", \"duration\": \"0:03:43\", \"iteration\": \"32\", \"goal\": \"accuracy_max\", \"run_name\": \"MaxAbsScaler, LightGBM\", \"run_properties\": \"copy=True\", \"primary_metric\": 0.80221546, \"best_metric\": 0.80633292}, {\"run_id\": \"AutoML_af8c4cb8-b77e-4b53-a4c9-ad8e598a7ff3_33\", \"run_number\": 352, \"metric\": null, \"status\": \"Completed\", \"run_type\": \"azureml.scriptrun\", \"training_percent\": \"100\", \"start_time\": \"2021-07-31T16:22:35.282857Z\", \"end_time\": \"2021-07-31T16:23:07.960447Z\", \"created_time\": \"2021-07-31T16:19:07.027104Z\", \"created_time_dt\": \"2021-07-31T16:19:07.027104Z\", \"duration\": \"0:04:00\", \"iteration\": \"33\", \"goal\": \"accuracy_max\", \"run_name\": \"MaxAbsScaler, RandomForest\", \"run_properties\": \"copy=True\", \"primary_metric\": 0.76700462, \"best_metric\": 0.80633292}, {\"run_id\": \"AutoML_af8c4cb8-b77e-4b53-a4c9-ad8e598a7ff3_34\", \"run_number\": 353, \"metric\": null, \"status\": \"Completed\", \"run_type\": \"azureml.scriptrun\", \"training_percent\": \"100\", \"start_time\": \"2021-07-31T16:22:31.615399Z\", \"end_time\": \"2021-07-31T16:23:13.957631Z\", \"created_time\": \"2021-07-31T16:19:17.763872Z\", \"created_time_dt\": \"2021-07-31T16:19:17.763872Z\", \"duration\": \"0:03:56\", \"iteration\": \"34\", \"goal\": \"accuracy_max\", \"run_name\": \"TruncatedSVDWrapper, XGBoostClassifier\", \"run_properties\": \"n_components=0.9005263157894737, random_state=None\", \"primary_metric\": 0.79057314, \"best_metric\": 0.80633292}, {\"run_id\": \"AutoML_af8c4cb8-b77e-4b53-a4c9-ad8e598a7ff3_35\", \"run_number\": 354, \"metric\": null, \"status\": \"Completed\", \"run_type\": \"azureml.scriptrun\", \"training_percent\": \"100\", \"start_time\": \"2021-07-31T16:23:09.766507Z\", \"end_time\": \"2021-07-31T16:23:41.007049Z\", \"created_time\": \"2021-07-31T16:19:55.93126Z\", \"created_time_dt\": \"2021-07-31T16:19:55.93126Z\", \"duration\": \"0:03:45\", \"iteration\": \"35\", \"goal\": \"accuracy_max\", \"run_name\": \"SparseNormalizer, XGBoostClassifier\", \"run_properties\": \"copy=True, norm='l1'\", \"primary_metric\": 0.80633305, \"best_metric\": 0.80633305}, {\"run_id\": \"AutoML_af8c4cb8-b77e-4b53-a4c9-ad8e598a7ff3_36\", \"run_number\": 355, \"metric\": null, \"status\": \"Completed\", \"run_type\": \"azureml.scriptrun\", \"training_percent\": \"100\", \"start_time\": \"2021-07-31T16:23:21.416774Z\", \"end_time\": \"2021-07-31T16:23:59.208858Z\", \"created_time\": \"2021-07-31T16:19:58.871145Z\", \"created_time_dt\": \"2021-07-31T16:19:58.871145Z\", \"duration\": \"0:04:00\", \"iteration\": \"36\", \"goal\": \"accuracy_max\", \"run_name\": \"TruncatedSVDWrapper, LogisticRegression\", \"run_properties\": \"n_components=0.95, random_state=None\", \"primary_metric\": 0.80335112, \"best_metric\": 0.80633305}, {\"run_id\": \"AutoML_af8c4cb8-b77e-4b53-a4c9-ad8e598a7ff3_37\", \"run_number\": 356, \"metric\": null, \"status\": \"Completed\", \"run_type\": \"azureml.scriptrun\", \"training_percent\": \"100\", \"start_time\": \"2021-07-31T16:23:22.609643Z\", \"end_time\": \"2021-07-31T16:23:59.271498Z\", \"created_time\": \"2021-07-31T16:20:09.763399Z\", \"created_time_dt\": \"2021-07-31T16:20:09.763399Z\", \"duration\": \"0:03:49\", \"iteration\": \"37\", \"goal\": \"accuracy_max\", \"run_name\": \"SparseNormalizer, XGBoostClassifier\", \"run_properties\": \"copy=True, norm='max'\", \"primary_metric\": 0.78830092, \"best_metric\": 0.80633305}, {\"run_id\": \"AutoML_af8c4cb8-b77e-4b53-a4c9-ad8e598a7ff3_38\", \"run_number\": 357, \"metric\": null, \"status\": \"Completed\", \"run_type\": \"azureml.scriptrun\", \"training_percent\": \"100\", \"start_time\": \"2021-07-31T16:23:59.35782Z\", \"end_time\": \"2021-07-31T16:24:35.502388Z\", \"created_time\": \"2021-07-31T16:20:50.994736Z\", \"created_time_dt\": \"2021-07-31T16:20:50.994736Z\", \"duration\": \"0:03:44\", \"iteration\": \"38\", \"goal\": \"accuracy_max\", \"run_name\": \"TruncatedSVDWrapper, XGBoostClassifier\", \"run_properties\": \"n_components=0.6036842105263158, random_state=None\", \"primary_metric\": 0.79611043, \"best_metric\": 0.80633305}, {\"run_id\": \"AutoML_af8c4cb8-b77e-4b53-a4c9-ad8e598a7ff3_39\", \"run_number\": 358, \"metric\": null, \"status\": \"Completed\", \"run_type\": \"azureml.scriptrun\", \"training_percent\": \"100\", \"start_time\": \"2021-07-31T16:24:16.471546Z\", \"end_time\": \"2021-07-31T16:24:48.595345Z\", \"created_time\": \"2021-07-31T16:20:54.114637Z\", \"created_time_dt\": \"2021-07-31T16:20:54.114637Z\", \"duration\": \"0:03:54\", \"iteration\": \"39\", \"goal\": \"accuracy_max\", \"run_name\": \"MaxAbsScaler, LightGBM\", \"run_properties\": \"copy=True\", \"primary_metric\": 0.79483245, \"best_metric\": 0.80633305}, {\"run_id\": \"AutoML_af8c4cb8-b77e-4b53-a4c9-ad8e598a7ff3_40\", \"run_number\": 359, \"metric\": null, \"status\": \"Completed\", \"run_type\": \"azureml.scriptrun\", \"training_percent\": \"100\", \"start_time\": \"2021-07-31T16:24:16.3733Z\", \"end_time\": \"2021-07-31T16:24:52.44459Z\", \"created_time\": \"2021-07-31T16:21:07.951685Z\", \"created_time_dt\": \"2021-07-31T16:21:07.951685Z\", \"duration\": \"0:03:44\", \"iteration\": \"40\", \"goal\": \"accuracy_max\", \"run_name\": \"SparseNormalizer, XGBoostClassifier\", \"run_properties\": \"copy=True, norm='l2'\", \"primary_metric\": 0.80377719, \"best_metric\": 0.80633305}, {\"run_id\": \"AutoML_af8c4cb8-b77e-4b53-a4c9-ad8e598a7ff3_41\", \"run_number\": 360, \"metric\": null, \"status\": \"Completed\", \"run_type\": \"azureml.scriptrun\", \"training_percent\": \"100\", \"start_time\": \"2021-07-31T16:24:49.257481Z\", \"end_time\": \"2021-07-31T16:25:28.402101Z\", \"created_time\": \"2021-07-31T16:22:00.132995Z\", \"created_time_dt\": \"2021-07-31T16:22:00.132995Z\", \"duration\": \"0:03:28\", \"iteration\": \"41\", \"goal\": \"accuracy_max\", \"run_name\": \"SparseNormalizer, LightGBM\", \"run_properties\": \"copy=True, norm='l1'\", \"primary_metric\": 0.79057278, \"best_metric\": 0.80633305}, {\"run_id\": \"AutoML_af8c4cb8-b77e-4b53-a4c9-ad8e598a7ff3_42\", \"run_number\": 361, \"metric\": null, \"status\": \"Completed\", \"run_type\": \"azureml.scriptrun\", \"training_percent\": \"100\", \"start_time\": \"2021-07-31T16:25:47.597237Z\", \"end_time\": \"2021-07-31T16:26:22.557819Z\", \"created_time\": \"2021-07-31T16:22:49.924233Z\", \"created_time_dt\": \"2021-07-31T16:22:49.924233Z\", \"duration\": \"0:03:32\", \"iteration\": \"42\", \"goal\": \"accuracy_max\", \"run_name\": \"SparseNormalizer, LightGBM\", \"run_properties\": \"copy=True, norm='max'\", \"primary_metric\": 0.79880758, \"best_metric\": 0.80633305}, {\"run_id\": \"AutoML_af8c4cb8-b77e-4b53-a4c9-ad8e598a7ff3_43\", \"run_number\": 362, \"metric\": null, \"status\": \"Completed\", \"run_type\": \"azureml.scriptrun\", \"training_percent\": \"100\", \"start_time\": \"2021-07-31T16:25:49.985206Z\", \"end_time\": \"2021-07-31T16:26:22.873855Z\", \"created_time\": \"2021-07-31T16:23:09.255474Z\", \"created_time_dt\": \"2021-07-31T16:23:09.255474Z\", \"duration\": \"0:03:13\", \"iteration\": \"43\", \"goal\": \"accuracy_max\", \"run_name\": \"MaxAbsScaler, RandomForest\", \"run_properties\": \"copy=True\", \"primary_metric\": 0.77637527, \"best_metric\": 0.80633305}, {\"run_id\": \"AutoML_af8c4cb8-b77e-4b53-a4c9-ad8e598a7ff3_44\", \"run_number\": 363, \"metric\": null, \"status\": \"Completed\", \"run_type\": \"azureml.scriptrun\", \"training_percent\": \"100\", \"start_time\": \"2021-07-31T16:26:37.991214Z\", \"end_time\": \"2021-07-31T16:27:15.789246Z\", \"created_time\": \"2021-07-31T16:23:15.285673Z\", \"created_time_dt\": \"2021-07-31T16:23:15.285673Z\", \"duration\": \"0:04:00\", \"iteration\": \"44\", \"goal\": \"accuracy_max\", \"run_name\": \"StandardScalerWrapper, LightGBM\", \"run_properties\": \"\\n    copy=True,\\n    with_mean=False,\\n    with_std=True\\n\", \"primary_metric\": 0.7895783, \"best_metric\": 0.80633305}, {\"run_id\": \"AutoML_af8c4cb8-b77e-4b53-a4c9-ad8e598a7ff3_45\", \"run_number\": 364, \"metric\": null, \"status\": \"Completed\", \"run_type\": \"azureml.scriptrun\", \"training_percent\": \"100\", \"start_time\": \"2021-07-31T16:26:37.762354Z\", \"end_time\": \"2021-07-31T16:27:12.194766Z\", \"created_time\": \"2021-07-31T16:23:43.335975Z\", \"created_time_dt\": \"2021-07-31T16:23:43.335975Z\", \"duration\": \"0:03:28\", \"iteration\": \"45\", \"goal\": \"accuracy_max\", \"run_name\": \"TruncatedSVDWrapper, XGBoostClassifier\", \"run_properties\": \"n_components=0.2573684210526316, random_state=None\", \"primary_metric\": 0.78844403, \"best_metric\": 0.80633305}, {\"run_id\": \"AutoML_af8c4cb8-b77e-4b53-a4c9-ad8e598a7ff3_46\", \"run_number\": 365, \"metric\": null, \"status\": \"Completed\", \"run_type\": \"azureml.scriptrun\", \"training_percent\": \"100\", \"start_time\": \"2021-07-31T16:27:09.730507Z\", \"end_time\": \"2021-07-31T16:27:45.906321Z\", \"created_time\": \"2021-07-31T16:24:01.056808Z\", \"created_time_dt\": \"2021-07-31T16:24:01.056808Z\", \"duration\": \"0:03:44\", \"iteration\": \"46\", \"goal\": \"accuracy_max\", \"run_name\": \"MaxAbsScaler, LightGBM\", \"run_properties\": \"copy=True\", \"primary_metric\": 0.80519751, \"best_metric\": 0.80633305}, {\"run_id\": \"AutoML_af8c4cb8-b77e-4b53-a4c9-ad8e598a7ff3_47\", \"run_number\": 366, \"metric\": null, \"status\": \"Completed\", \"run_type\": \"azureml.scriptrun\", \"training_percent\": \"100\", \"start_time\": \"2021-07-31T16:27:31.001674Z\", \"end_time\": \"2021-07-31T16:28:03.814817Z\", \"created_time\": \"2021-07-31T16:24:01.088613Z\", \"created_time_dt\": \"2021-07-31T16:24:01.088613Z\", \"duration\": \"0:04:02\", \"iteration\": \"47\", \"goal\": \"accuracy_max\", \"run_name\": \"StandardScalerWrapper, RandomForest\", \"run_properties\": \"\\n    copy=True,\\n    with_mean=False,\\n    with_std=True\\n\", \"primary_metric\": 0.78617023, \"best_metric\": 0.80633305}, {\"run_id\": \"AutoML_af8c4cb8-b77e-4b53-a4c9-ad8e598a7ff3_48\", \"run_number\": 367, \"metric\": null, \"status\": \"Completed\", \"run_type\": \"azureml.scriptrun\", \"training_percent\": \"100\", \"start_time\": \"2021-07-31T16:27:30.361397Z\", \"end_time\": \"2021-07-31T16:28:04.863417Z\", \"created_time\": \"2021-07-31T16:24:36.867755Z\", \"created_time_dt\": \"2021-07-31T16:24:36.867755Z\", \"duration\": \"0:03:27\", \"iteration\": \"48\", \"goal\": \"accuracy_max\", \"run_name\": \"SparseNormalizer, XGBoostClassifier\", \"run_properties\": \"copy=True, norm='l1'\", \"primary_metric\": 0.79838193, \"best_metric\": 0.80633305}, {\"run_id\": \"AutoML_af8c4cb8-b77e-4b53-a4c9-ad8e598a7ff3_49\", \"run_number\": 368, \"metric\": null, \"status\": \"Completed\", \"run_type\": \"azureml.scriptrun\", \"training_percent\": \"100\", \"start_time\": \"2021-07-31T16:27:57.731082Z\", \"end_time\": \"2021-07-31T16:28:39.30992Z\", \"created_time\": \"2021-07-31T16:24:49.994732Z\", \"created_time_dt\": \"2021-07-31T16:24:49.994732Z\", \"duration\": \"0:03:49\", \"iteration\": \"49\", \"goal\": \"accuracy_max\", \"run_name\": \"SparseNormalizer, XGBoostClassifier\", \"run_properties\": \"copy=True, norm='l2'\", \"primary_metric\": 0.7963946, \"best_metric\": 0.80633305}, {\"run_id\": \"AutoML_af8c4cb8-b77e-4b53-a4c9-ad8e598a7ff3_50\", \"run_number\": 369, \"metric\": null, \"status\": \"Completed\", \"run_type\": \"azureml.scriptrun\", \"training_percent\": \"100\", \"start_time\": \"2021-07-31T16:28:17.254564Z\", \"end_time\": \"2021-07-31T16:28:55.103552Z\", \"created_time\": \"2021-07-31T16:24:54.393913Z\", \"created_time_dt\": \"2021-07-31T16:24:54.393913Z\", \"duration\": \"0:04:00\", \"iteration\": \"50\", \"goal\": \"accuracy_max\", \"run_name\": \"SparseNormalizer, XGBoostClassifier\", \"run_properties\": \"copy=True, norm='l2'\", \"primary_metric\": 0.79043063, \"best_metric\": 0.80633305}, {\"run_id\": \"AutoML_af8c4cb8-b77e-4b53-a4c9-ad8e598a7ff3_51\", \"run_number\": 370, \"metric\": null, \"status\": \"Completed\", \"run_type\": \"azureml.scriptrun\", \"training_percent\": \"100\", \"start_time\": \"2021-07-31T16:28:18.215387Z\", \"end_time\": \"2021-07-31T16:28:57.260393Z\", \"created_time\": \"2021-07-31T16:25:29.801826Z\", \"created_time_dt\": \"2021-07-31T16:25:29.801826Z\", \"duration\": \"0:03:27\", \"iteration\": \"51\", \"goal\": \"accuracy_max\", \"run_name\": \"SparseNormalizer, XGBoostClassifier\", \"run_properties\": \"copy=True, norm='max'\", \"primary_metric\": 0.80278435, \"best_metric\": 0.80633305}, {\"run_id\": \"AutoML_af8c4cb8-b77e-4b53-a4c9-ad8e598a7ff3_52\", \"run_number\": 371, \"metric\": null, \"status\": \"Completed\", \"run_type\": \"azureml.scriptrun\", \"training_percent\": \"100\", \"start_time\": \"2021-07-31T16:29:08.046614Z\", \"end_time\": \"2021-07-31T16:29:51.671354Z\", \"created_time\": \"2021-07-31T16:26:24.07878Z\", \"created_time_dt\": \"2021-07-31T16:26:24.07878Z\", \"duration\": \"0:03:27\", \"iteration\": \"52\", \"goal\": \"accuracy_max\", \"run_name\": \"SparseNormalizer, XGBoostClassifier\", \"run_properties\": \"copy=True, norm='l1'\", \"primary_metric\": 0.7902886, \"best_metric\": 0.80633305}, {\"run_id\": \"AutoML_af8c4cb8-b77e-4b53-a4c9-ad8e598a7ff3_53\", \"run_number\": 372, \"metric\": null, \"status\": \"Completed\", \"run_type\": \"azureml.scriptrun\", \"training_percent\": \"100\", \"start_time\": \"2021-07-31T16:29:38.993938Z\", \"end_time\": \"2021-07-31T16:30:15.63036Z\", \"created_time\": \"2021-07-31T16:26:26.323326Z\", \"created_time_dt\": \"2021-07-31T16:26:26.323326Z\", \"duration\": \"0:03:49\", \"iteration\": \"53\", \"goal\": \"accuracy_max\", \"run_name\": \"SparseNormalizer, XGBoostClassifier\", \"run_properties\": \"copy=True, norm='max'\", \"primary_metric\": 0.79114063, \"best_metric\": 0.80633305}, {\"run_id\": \"AutoML_af8c4cb8-b77e-4b53-a4c9-ad8e598a7ff3_54\", \"run_number\": 373, \"metric\": null, \"status\": \"Completed\", \"run_type\": \"azureml.scriptrun\", \"training_percent\": \"100\", \"start_time\": \"2021-07-31T16:30:02.124355Z\", \"end_time\": \"2021-07-31T16:30:41.194143Z\", \"created_time\": \"2021-07-31T16:27:13.535631Z\", \"created_time_dt\": \"2021-07-31T16:27:13.535631Z\", \"duration\": \"0:03:27\", \"iteration\": \"54\", \"goal\": \"accuracy_max\", \"run_name\": \"SparseNormalizer, XGBoostClassifier\", \"run_properties\": \"copy=True, norm='l2'\", \"primary_metric\": 0.79014658, \"best_metric\": 0.80633305}, {\"run_id\": \"AutoML_af8c4cb8-b77e-4b53-a4c9-ad8e598a7ff3_55\", \"run_number\": 374, \"metric\": null, \"status\": \"Canceled\", \"run_type\": \"azureml.scriptrun\", \"training_percent\": \"100\", \"start_time\": \"2021-07-31T16:30:30.502404Z\", \"end_time\": \"2021-07-31T16:30:47.356261Z\", \"created_time\": \"2021-07-31T16:27:17.720351Z\", \"created_time_dt\": \"2021-07-31T16:27:17.720351Z\", \"duration\": \"0:03:29\", \"iteration\": \"55\", \"goal\": null, \"run_name\": \"SparseNormalizer, XGBoostClassifier\", \"run_properties\": null}, {\"run_id\": \"AutoML_af8c4cb8-b77e-4b53-a4c9-ad8e598a7ff3_56\", \"run_number\": 375, \"metric\": null, \"status\": \"Canceled\", \"run_type\": \"azureml.scriptrun\", \"training_percent\": \"100\", \"start_time\": \"2021-07-31T16:27:47.17955Z\", \"end_time\": \"2021-07-31T16:30:47.395205Z\", \"created_time\": \"2021-07-31T16:27:47.17955Z\", \"created_time_dt\": \"2021-07-31T16:27:47.17955Z\", \"duration\": \"0:03:00\", \"iteration\": \"56\", \"goal\": null, \"run_name\": \"Canceled\", \"run_properties\": null}, {\"run_id\": \"AutoML_af8c4cb8-b77e-4b53-a4c9-ad8e598a7ff3_57\", \"run_number\": 376, \"metric\": null, \"status\": \"Canceled\", \"run_type\": \"azureml.scriptrun\", \"training_percent\": \"100\", \"start_time\": \"2021-07-31T16:28:05.251236Z\", \"end_time\": \"2021-07-31T16:30:47.390377Z\", \"created_time\": \"2021-07-31T16:28:05.251236Z\", \"created_time_dt\": \"2021-07-31T16:28:05.251236Z\", \"duration\": \"0:02:42\", \"iteration\": \"57\", \"goal\": null, \"run_name\": \"Canceled\", \"run_properties\": null}, {\"run_id\": \"AutoML_af8c4cb8-b77e-4b53-a4c9-ad8e598a7ff3_58\", \"run_number\": 377, \"metric\": null, \"status\": \"Canceled\", \"run_type\": \"azureml.scriptrun\", \"training_percent\": \"100\", \"start_time\": \"2021-07-31T16:28:07.757007Z\", \"end_time\": \"2021-07-31T16:30:47.415661Z\", \"created_time\": \"2021-07-31T16:28:07.757007Z\", \"created_time_dt\": \"2021-07-31T16:28:07.757007Z\", \"duration\": \"0:02:39\", \"iteration\": \"58\", \"goal\": null, \"run_name\": \"Canceled\", \"run_properties\": null}, {\"run_id\": \"AutoML_af8c4cb8-b77e-4b53-a4c9-ad8e598a7ff3_59\", \"run_number\": 378, \"metric\": null, \"status\": \"Canceled\", \"run_type\": \"azureml.scriptrun\", \"training_percent\": \"100\", \"start_time\": \"2021-07-31T16:28:40.702605Z\", \"end_time\": \"2021-07-31T16:30:47.340069Z\", \"created_time\": \"2021-07-31T16:28:40.702605Z\", \"created_time_dt\": \"2021-07-31T16:28:40.702605Z\", \"duration\": \"0:02:06\", \"iteration\": \"59\", \"goal\": null, \"run_name\": \"Canceled\", \"run_properties\": null}, {\"run_id\": \"AutoML_af8c4cb8-b77e-4b53-a4c9-ad8e598a7ff3_60\", \"run_number\": 379, \"metric\": null, \"status\": \"Canceled\", \"run_type\": \"azureml.scriptrun\", \"training_percent\": \"100\", \"start_time\": \"2021-07-31T16:28:57.422102Z\", \"end_time\": \"2021-07-31T16:30:47.346935Z\", \"created_time\": \"2021-07-31T16:28:57.422102Z\", \"created_time_dt\": \"2021-07-31T16:28:57.422102Z\", \"duration\": \"0:01:49\", \"iteration\": \"60\", \"goal\": null, \"run_name\": \"Canceled\", \"run_properties\": null}, {\"run_id\": \"AutoML_af8c4cb8-b77e-4b53-a4c9-ad8e598a7ff3_61\", \"run_number\": 380, \"metric\": null, \"status\": \"Canceled\", \"run_type\": \"azureml.scriptrun\", \"training_percent\": \"100\", \"start_time\": \"2021-07-31T16:28:59.681685Z\", \"end_time\": \"2021-07-31T16:30:47.339088Z\", \"created_time\": \"2021-07-31T16:28:59.681685Z\", \"created_time_dt\": \"2021-07-31T16:28:59.681685Z\", \"duration\": \"0:01:47\", \"iteration\": \"61\", \"goal\": null, \"run_name\": \"Canceled\", \"run_properties\": null}, {\"run_id\": \"AutoML_af8c4cb8-b77e-4b53-a4c9-ad8e598a7ff3_62\", \"run_number\": 381, \"metric\": null, \"status\": \"Canceled\", \"run_type\": \"azureml.scriptrun\", \"training_percent\": \"100\", \"start_time\": \"2021-07-31T16:29:53.061503Z\", \"end_time\": \"2021-07-31T16:30:47.393727Z\", \"created_time\": \"2021-07-31T16:29:53.061503Z\", \"created_time_dt\": \"2021-07-31T16:29:53.061503Z\", \"duration\": \"0:00:54\", \"iteration\": \"62\", \"goal\": null, \"run_name\": \"Canceled\", \"run_properties\": null}, {\"run_id\": \"AutoML_af8c4cb8-b77e-4b53-a4c9-ad8e598a7ff3_63\", \"run_number\": 382, \"metric\": null, \"status\": \"Canceled\", \"run_type\": \"azureml.scriptrun\", \"training_percent\": \"100\", \"start_time\": \"2021-07-31T16:30:17.725395Z\", \"end_time\": \"2021-07-31T16:30:47.443813Z\", \"created_time\": \"2021-07-31T16:30:17.725395Z\", \"created_time_dt\": \"2021-07-31T16:30:17.725395Z\", \"duration\": \"0:00:29\", \"iteration\": \"63\", \"goal\": null, \"run_name\": \"Canceled\", \"run_properties\": null}, {\"run_id\": \"AutoML_af8c4cb8-b77e-4b53-a4c9-ad8e598a7ff3_64\", \"run_number\": 383, \"metric\": null, \"status\": \"Completed\", \"run_type\": \"azureml.scriptrun\", \"training_percent\": \"100\", \"start_time\": \"2021-07-31T16:31:50.869035Z\", \"end_time\": \"2021-07-31T16:32:51.764284Z\", \"created_time\": \"2021-07-31T16:30:48.449888Z\", \"created_time_dt\": \"2021-07-31T16:30:48.449888Z\", \"duration\": \"0:02:03\", \"iteration\": \"64\", \"goal\": \"accuracy_max\", \"run_name\": \"VotingEnsemble\", \"run_properties\": \"\\n    estimators=[('35', Pipeline(memory=None,\\n             steps=[('sparsenormalizer', Normalizer(copy=True, norm='l1'\", \"primary_metric\": 0.80974105, \"best_metric\": 0.80974105}, {\"run_id\": \"AutoML_af8c4cb8-b77e-4b53-a4c9-ad8e598a7ff3_65\", \"run_number\": 384, \"metric\": null, \"status\": \"Completed\", \"run_type\": \"azureml.scriptrun\", \"training_percent\": \"100\", \"start_time\": \"2021-07-31T16:31:25.876564Z\", \"end_time\": \"2021-07-31T16:32:22.237174Z\", \"created_time\": \"2021-07-31T16:30:48.461179Z\", \"created_time_dt\": \"2021-07-31T16:30:48.461179Z\", \"duration\": \"0:01:33\", \"iteration\": \"65\", \"goal\": \"accuracy_max\", \"run_name\": \"StackEnsemble\", \"run_properties\": \"\\n    base_learners=[('35', Pipeline(memory=None,\\n             steps=[('sparsenormalizer', Normalizer(copy=True, norm='l1'\", \"primary_metric\": 0.80661752, \"best_metric\": 0.80974105}], \"children_metrics\": {\"categories\": [0], \"series\": {\"precision_score_weighted\": [{\"categories\": [\"0\", \"1\", \"2\", \"3\", \"4\", \"5\", \"6\", \"7\", \"8\", \"9\", \"10\", \"11\", \"12\", \"13\", \"14\", \"15\", \"16\", \"17\", \"18\", \"19\", \"20\", \"21\", \"22\", \"23\", \"24\", \"25\", \"26\", \"27\", \"28\", \"29\", \"30\", \"31\", \"32\", \"33\", \"34\", \"35\", \"36\", \"37\", \"38\", \"39\", \"40\", \"41\", \"42\", \"43\", \"44\", \"45\", \"46\", \"47\", \"48\", \"49\", \"50\", \"51\", \"52\", \"53\", \"54\", \"64\", \"65\"], \"mode\": \"markers\", \"name\": \"precision_score_weighted\", \"stepped\": false, \"type\": \"scatter\", \"data\": [0.7836627915151761, 0.7975167042252641, 0.7788525706530999, 0.7768264720371297, 0.8047862933028666, 0.7943493079806941, 0.77149498737138, 0.7793550116616549, 0.7638988828078217, 0.7847993152734752, 0.786384799833316, 0.7935242818336583, 0.7833214340424094, 0.7782008543479931, 0.7768128694938238, 0.7966964675698892, 0.7900160622838571, 0.7856645433020225, 0.779910342683498, 0.7906254713304938, 0.775728307018492, 0.7948539177057045, 0.7832204807971714, 0.7930441622735187, 0.7809359292180881, 0.5397300513333371, 0.6822709406561703, 0.7721071149013642, 0.7709432809373004, 0.7890074932585792, 0.5397300513333371, 0.789477903579935, 0.7917753201003056, 0.7621806990596527, 0.7790405410202726, 0.7964420672178116, 0.7952320673048318, 0.7781451665086974, 0.785069696874788, 0.7817818165380542, 0.7932479467410807, 0.7812908760679598, 0.7863250268765922, 0.7729630696124382, 0.7775520558489749, 0.7779636061857729, 0.7955993129982651, 0.7758115064330465, 0.7882569205736824, 0.7862113327275355, 0.7800507566264105, 0.7930832114115764, 0.7809622197879792, 0.780981507743732, 0.7802960696935468, 0.8004857909035268, 0.7972987847698851]}, {\"categories\": [\"0\", \"1\", \"2\", \"3\", \"4\", \"5\", \"6\", \"7\", \"8\", \"9\", \"10\", \"11\", \"12\", \"13\", \"14\", \"15\", \"16\", \"17\", \"18\", \"19\", \"20\", \"21\", \"22\", \"23\", \"24\", \"25\", \"26\", \"27\", \"28\", \"29\", \"30\", \"31\", \"32\", \"33\", \"34\", \"35\", \"36\", \"37\", \"38\", \"39\", \"40\", \"41\", \"42\", \"43\", \"44\", \"45\", \"46\", \"47\", \"48\", \"49\", \"50\", \"51\", \"52\", \"53\", \"54\", \"64\", \"65\"], \"mode\": \"lines\", \"name\": \"precision_score_weighted_max\", \"stepped\": true, \"type\": \"scatter\", \"data\": [0.7836627915151761, 0.7975167042252641, 0.7975167042252641, 0.7975167042252641, 0.8047862933028666, 0.8047862933028666, 0.8047862933028666, 0.8047862933028666, 0.8047862933028666, 0.8047862933028666, 0.8047862933028666, 0.8047862933028666, 0.8047862933028666, 0.8047862933028666, 0.8047862933028666, 0.8047862933028666, 0.8047862933028666, 0.8047862933028666, 0.8047862933028666, 0.8047862933028666, 0.8047862933028666, 0.8047862933028666, 0.8047862933028666, 0.8047862933028666, 0.8047862933028666, 0.8047862933028666, 0.8047862933028666, 0.8047862933028666, 0.8047862933028666, 0.8047862933028666, 0.8047862933028666, 0.8047862933028666, 0.8047862933028666, 0.8047862933028666, 0.8047862933028666, 0.8047862933028666, 0.8047862933028666, 0.8047862933028666, 0.8047862933028666, 0.8047862933028666, 0.8047862933028666, 0.8047862933028666, 0.8047862933028666, 0.8047862933028666, 0.8047862933028666, 0.8047862933028666, 0.8047862933028666, 0.8047862933028666, 0.8047862933028666, 0.8047862933028666, 0.8047862933028666, 0.8047862933028666, 0.8047862933028666, 0.8047862933028666, 0.8047862933028666, 0.8047862933028666, 0.8047862933028666]}], \"recall_score_macro\": [{\"categories\": [\"0\", \"1\", \"2\", \"3\", \"4\", \"5\", \"6\", \"7\", \"8\", \"9\", \"10\", \"11\", \"12\", \"13\", \"14\", \"15\", \"16\", \"17\", \"18\", \"19\", \"20\", \"21\", \"22\", \"23\", \"24\", \"25\", \"26\", \"27\", \"28\", \"29\", \"30\", \"31\", \"32\", \"33\", \"34\", \"35\", \"36\", \"37\", \"38\", \"39\", \"40\", \"41\", \"42\", \"43\", \"44\", \"45\", \"46\", \"47\", \"48\", \"49\", \"50\", \"51\", \"52\", \"53\", \"54\", \"64\", \"65\"], \"mode\": \"markers\", \"name\": \"recall_score_macro\", \"stepped\": false, \"type\": \"scatter\", \"data\": [0.7056879837750146, 0.7213947760198094, 0.6680391141755416, 0.6523548107732592, 0.7640395627515009, 0.7466128666011148, 0.6939429474952615, 0.6961712390010625, 0.6839255675317641, 0.7071428116688995, 0.709189790163237, 0.7151550686370179, 0.6670250411244044, 0.679762753443943, 0.6309863610884886, 0.7189518732935808, 0.7008746630969079, 0.6893847126826492, 0.6703732174328948, 0.7012595408151808, 0.653403286059405, 0.7137067535558339, 0.7050503556313631, 0.7113668392997372, 0.6600537498445945, 0.5, 0.5121019991603184, 0.6371714587420424, 0.6918817921584971, 0.7120546908893011, 0.5, 0.7097336690868442, 0.7090762432720701, 0.5817325969614694, 0.6956789674526705, 0.7150447657098934, 0.7220962267488774, 0.6990487960206888, 0.7016803675262314, 0.6716723736504774, 0.7080997504212684, 0.6440959200711951, 0.689142802487707, 0.6853328067490501, 0.6485399953052335, 0.6979193076554496, 0.7157294904109586, 0.635618263209179, 0.7080366016147752, 0.7061464262781296, 0.7003585418027507, 0.7138152749291641, 0.7043156077406701, 0.7015870765181581, 0.7018513682961253, 0.7210740092280852, 0.71822255423805]}, {\"categories\": [\"0\", \"1\", \"2\", \"3\", \"4\", \"5\", \"6\", \"7\", \"8\", \"9\", \"10\", \"11\", \"12\", \"13\", \"14\", \"15\", \"16\", \"17\", \"18\", \"19\", \"20\", \"21\", \"22\", \"23\", \"24\", \"25\", \"26\", \"27\", \"28\", \"29\", \"30\", \"31\", \"32\", \"33\", \"34\", \"35\", \"36\", \"37\", \"38\", \"39\", \"40\", \"41\", \"42\", \"43\", \"44\", \"45\", \"46\", \"47\", \"48\", \"49\", \"50\", \"51\", \"52\", \"53\", \"54\", \"64\", \"65\"], \"mode\": \"lines\", \"name\": \"recall_score_macro_max\", \"stepped\": true, \"type\": \"scatter\", \"data\": [0.7056879837750146, 0.7213947760198094, 0.7213947760198094, 0.7213947760198094, 0.7640395627515009, 0.7640395627515009, 0.7640395627515009, 0.7640395627515009, 0.7640395627515009, 0.7640395627515009, 0.7640395627515009, 0.7640395627515009, 0.7640395627515009, 0.7640395627515009, 0.7640395627515009, 0.7640395627515009, 0.7640395627515009, 0.7640395627515009, 0.7640395627515009, 0.7640395627515009, 0.7640395627515009, 0.7640395627515009, 0.7640395627515009, 0.7640395627515009, 0.7640395627515009, 0.7640395627515009, 0.7640395627515009, 0.7640395627515009, 0.7640395627515009, 0.7640395627515009, 0.7640395627515009, 0.7640395627515009, 0.7640395627515009, 0.7640395627515009, 0.7640395627515009, 0.7640395627515009, 0.7640395627515009, 0.7640395627515009, 0.7640395627515009, 0.7640395627515009, 0.7640395627515009, 0.7640395627515009, 0.7640395627515009, 0.7640395627515009, 0.7640395627515009, 0.7640395627515009, 0.7640395627515009, 0.7640395627515009, 0.7640395627515009, 0.7640395627515009, 0.7640395627515009, 0.7640395627515009, 0.7640395627515009, 0.7640395627515009, 0.7640395627515009, 0.7640395627515009, 0.7640395627515009]}], \"recall_score_micro\": [{\"categories\": [\"0\", \"1\", \"2\", \"3\", \"4\", \"5\", \"6\", \"7\", \"8\", \"9\", \"10\", \"11\", \"12\", \"13\", \"14\", \"15\", \"16\", \"17\", \"18\", \"19\", \"20\", \"21\", \"22\", \"23\", \"24\", \"25\", \"26\", \"27\", \"28\", \"29\", \"30\", \"31\", \"32\", \"33\", \"34\", \"35\", \"36\", \"37\", \"38\", \"39\", \"40\", \"41\", \"42\", \"43\", \"44\", \"45\", \"46\", \"47\", \"48\", \"49\", \"50\", \"51\", \"52\", \"53\", \"54\", \"64\", \"65\"], \"mode\": \"markers\", \"name\": \"recall_score_micro\", \"stepped\": false, \"type\": \"scatter\", \"data\": [0.7934133417145185, 0.806332924194067, 0.7921346907756394, 0.7895785381654834, 0.7501057931071525, 0.720288710538687, 0.7810602271872195, 0.7907154662627051, 0.7743861882713249, 0.7944070952636384, 0.7958261383132671, 0.8027827155959484, 0.795542269215573, 0.7921342673612598, 0.7857447024207446, 0.8059067273770303, 0.8015056978268197, 0.7982394188141639, 0.7931285653002963, 0.802073859436588, 0.7891528252505947, 0.804771130010716, 0.7929863585564908, 0.803209456802902, 0.7932701066786482, 0.7346307838706704, 0.739743028603214, 0.7847514932615417, 0.7812020105166454, 0.7983824723867287, 0.7346307838706704, 0.7990919939115431, 0.802215461302708, 0.7670046239269772, 0.7905731385433626, 0.8063330451696041, 0.8033511191567909, 0.7883009155186693, 0.7961104308253409, 0.7948324452519158, 0.8037771949982906, 0.7905727756167514, 0.7988075804239321, 0.7763752680515462, 0.7895782962144092, 0.7884440295790028, 0.8051975082910584, 0.7861702338723277, 0.7983819279968122, 0.796394602361878, 0.7904306293607144, 0.8027843487656986, 0.7902886040802145, 0.791140634787677, 0.7901465787997145, 0.809741047023917, 0.8066175191449837]}, {\"categories\": [\"0\", \"1\", \"2\", \"3\", \"4\", \"5\", \"6\", \"7\", \"8\", \"9\", \"10\", \"11\", \"12\", \"13\", \"14\", \"15\", \"16\", \"17\", \"18\", \"19\", \"20\", \"21\", \"22\", \"23\", \"24\", \"25\", \"26\", \"27\", \"28\", \"29\", \"30\", \"31\", \"32\", \"33\", \"34\", \"35\", \"36\", \"37\", \"38\", \"39\", \"40\", \"41\", \"42\", \"43\", \"44\", \"45\", \"46\", \"47\", \"48\", \"49\", \"50\", \"51\", \"52\", \"53\", \"54\", \"64\", \"65\"], \"mode\": \"lines\", \"name\": \"recall_score_micro_max\", \"stepped\": true, \"type\": \"scatter\", \"data\": [0.7934133417145185, 0.806332924194067, 0.806332924194067, 0.806332924194067, 0.806332924194067, 0.806332924194067, 0.806332924194067, 0.806332924194067, 0.806332924194067, 0.806332924194067, 0.806332924194067, 0.806332924194067, 0.806332924194067, 0.806332924194067, 0.806332924194067, 0.806332924194067, 0.806332924194067, 0.806332924194067, 0.806332924194067, 0.806332924194067, 0.806332924194067, 0.806332924194067, 0.806332924194067, 0.806332924194067, 0.806332924194067, 0.806332924194067, 0.806332924194067, 0.806332924194067, 0.806332924194067, 0.806332924194067, 0.806332924194067, 0.806332924194067, 0.806332924194067, 0.806332924194067, 0.806332924194067, 0.8063330451696041, 0.8063330451696041, 0.8063330451696041, 0.8063330451696041, 0.8063330451696041, 0.8063330451696041, 0.8063330451696041, 0.8063330451696041, 0.8063330451696041, 0.8063330451696041, 0.8063330451696041, 0.8063330451696041, 0.8063330451696041, 0.8063330451696041, 0.8063330451696041, 0.8063330451696041, 0.8063330451696041, 0.8063330451696041, 0.8063330451696041, 0.8063330451696041, 0.809741047023917, 0.809741047023917]}], \"AUC_macro\": [{\"categories\": [\"0\", \"1\", \"2\", \"3\", \"4\", \"5\", \"6\", \"7\", \"8\", \"9\", \"10\", \"11\", \"12\", \"13\", \"14\", \"15\", \"16\", \"17\", \"18\", \"19\", \"20\", \"21\", \"22\", \"23\", \"24\", \"25\", \"26\", \"27\", \"28\", \"29\", \"30\", \"31\", \"32\", \"33\", \"34\", \"35\", \"36\", \"37\", \"38\", \"39\", \"40\", \"41\", \"42\", \"43\", \"44\", \"45\", \"46\", \"47\", \"48\", \"49\", \"50\", \"51\", \"52\", \"53\", \"54\", \"64\", \"65\"], \"mode\": \"markers\", \"name\": \"AUC_macro\", \"stepped\": false, \"type\": \"scatter\", \"data\": [0.8336521823108806, 0.8457764927526638, 0.836550685995317, 0.8353738241249496, 0.8430969227169882, 0.8238857914467715, 0.8123276225337985, 0.8330107086105167, 0.808685310530632, 0.8353509013549374, 0.8348191195434408, 0.8455792319589054, 0.8456975077790433, 0.8332823705938422, 0.8398425742525646, 0.8476612413900487, 0.8440973010173355, 0.8412665400563487, 0.8417444410512528, 0.8472769795631256, 0.8322922871132518, 0.8475892716331046, 0.8295567585978407, 0.843533678898709, 0.8414265148209866, 0.5, 0.8371942093826447, 0.8372851648153019, 0.8154987175879373, 0.838995043133638, 0.5, 0.843218111699783, 0.845593291137063, 0.8317648900627033, 0.8273248846125908, 0.8496375181764896, 0.8457914721529457, 0.8294553464895368, 0.8333499836602151, 0.8405506503162389, 0.8464856296970186, 0.8440924413483994, 0.8435943072669844, 0.8266246298021708, 0.84066023891265, 0.8289944317928878, 0.8482765149496457, 0.8288283742573541, 0.8414240526547564, 0.8397050492484602, 0.8338777939818428, 0.8453512785156635, 0.8338205046956558, 0.8304800669533122, 0.8285721562517144, 0.8495147983214292, 0.8495753884617449]}, {\"categories\": [\"0\", \"1\", \"2\", \"3\", \"4\", \"5\", \"6\", \"7\", \"8\", \"9\", \"10\", \"11\", \"12\", \"13\", \"14\", \"15\", \"16\", \"17\", \"18\", \"19\", \"20\", \"21\", \"22\", \"23\", \"24\", \"25\", \"26\", \"27\", \"28\", \"29\", \"30\", \"31\", \"32\", \"33\", \"34\", \"35\", \"36\", \"37\", \"38\", \"39\", \"40\", \"41\", \"42\", \"43\", \"44\", \"45\", \"46\", \"47\", \"48\", \"49\", \"50\", \"51\", \"52\", \"53\", \"54\", \"64\", \"65\"], \"mode\": \"lines\", \"name\": \"AUC_macro_max\", \"stepped\": true, \"type\": \"scatter\", \"data\": [0.8336521823108806, 0.8457764927526638, 0.8457764927526638, 0.8457764927526638, 0.8457764927526638, 0.8457764927526638, 0.8457764927526638, 0.8457764927526638, 0.8457764927526638, 0.8457764927526638, 0.8457764927526638, 0.8457764927526638, 0.8457764927526638, 0.8457764927526638, 0.8457764927526638, 0.8476612413900487, 0.8476612413900487, 0.8476612413900487, 0.8476612413900487, 0.8476612413900487, 0.8476612413900487, 0.8476612413900487, 0.8476612413900487, 0.8476612413900487, 0.8476612413900487, 0.8476612413900487, 0.8476612413900487, 0.8476612413900487, 0.8476612413900487, 0.8476612413900487, 0.8476612413900487, 0.8476612413900487, 0.8476612413900487, 0.8476612413900487, 0.8476612413900487, 0.8496375181764896, 0.8496375181764896, 0.8496375181764896, 0.8496375181764896, 0.8496375181764896, 0.8496375181764896, 0.8496375181764896, 0.8496375181764896, 0.8496375181764896, 0.8496375181764896, 0.8496375181764896, 0.8496375181764896, 0.8496375181764896, 0.8496375181764896, 0.8496375181764896, 0.8496375181764896, 0.8496375181764896, 0.8496375181764896, 0.8496375181764896, 0.8496375181764896, 0.8496375181764896, 0.8496375181764896]}], \"AUC_weighted\": [{\"categories\": [\"0\", \"1\", \"2\", \"3\", \"4\", \"5\", \"6\", \"7\", \"8\", \"9\", \"10\", \"11\", \"12\", \"13\", \"14\", \"15\", \"16\", \"17\", \"18\", \"19\", \"20\", \"21\", \"22\", \"23\", \"24\", \"25\", \"26\", \"27\", \"28\", \"29\", \"30\", \"31\", \"32\", \"33\", \"34\", \"35\", \"36\", \"37\", \"38\", \"39\", \"40\", \"41\", \"42\", \"43\", \"44\", \"45\", \"46\", \"47\", \"48\", \"49\", \"50\", \"51\", \"52\", \"53\", \"54\", \"64\", \"65\"], \"mode\": \"markers\", \"name\": \"AUC_weighted\", \"stepped\": false, \"type\": \"scatter\", \"data\": [0.8336521823108806, 0.8457764550980652, 0.836550685995317, 0.8353738241249498, 0.8430969227169883, 0.8238857914467718, 0.8123276225337986, 0.8330107086105167, 0.8086853105306319, 0.8353509013549374, 0.8348191571980395, 0.8455792319589054, 0.8456975077790433, 0.8332823705938422, 0.8398425742525646, 0.8476612413900487, 0.8440973010173355, 0.8412665400563486, 0.8417444410512527, 0.8472769795631258, 0.8322922871132518, 0.8475892716331046, 0.8295567585978407, 0.843533678898709, 0.8414265148209866, 0.5, 0.8371942093826447, 0.8372851648153019, 0.8154987175879373, 0.838995043133638, 0.5, 0.843218111699783, 0.845593291137063, 0.8317648900627033, 0.8273248094058671, 0.8496375181764894, 0.8457914721529455, 0.8294553464895368, 0.8333499836602151, 0.8405506503162389, 0.8464856296970186, 0.8440924413483994, 0.8435943072669843, 0.8266246298021708, 0.84066023891265, 0.8289944317928878, 0.8482765149496457, 0.8288283742573541, 0.8414240526547564, 0.8397050492484602, 0.8338777939818428, 0.8453512785156635, 0.8338205046956558, 0.8304800669533122, 0.828572193906313, 0.8495147983214292, 0.8495753884617449]}, {\"categories\": [\"0\", \"1\", \"2\", \"3\", \"4\", \"5\", \"6\", \"7\", \"8\", \"9\", \"10\", \"11\", \"12\", \"13\", \"14\", \"15\", \"16\", \"17\", \"18\", \"19\", \"20\", \"21\", \"22\", \"23\", \"24\", \"25\", \"26\", \"27\", \"28\", \"29\", \"30\", \"31\", \"32\", \"33\", \"34\", \"35\", \"36\", \"37\", \"38\", \"39\", \"40\", \"41\", \"42\", \"43\", \"44\", \"45\", \"46\", \"47\", \"48\", \"49\", \"50\", \"51\", \"52\", \"53\", \"54\", \"64\", \"65\"], \"mode\": \"lines\", \"name\": \"AUC_weighted_max\", \"stepped\": true, \"type\": \"scatter\", \"data\": [0.8336521823108806, 0.8457764550980652, 0.8457764550980652, 0.8457764550980652, 0.8457764550980652, 0.8457764550980652, 0.8457764550980652, 0.8457764550980652, 0.8457764550980652, 0.8457764550980652, 0.8457764550980652, 0.8457764550980652, 0.8457764550980652, 0.8457764550980652, 0.8457764550980652, 0.8476612413900487, 0.8476612413900487, 0.8476612413900487, 0.8476612413900487, 0.8476612413900487, 0.8476612413900487, 0.8476612413900487, 0.8476612413900487, 0.8476612413900487, 0.8476612413900487, 0.8476612413900487, 0.8476612413900487, 0.8476612413900487, 0.8476612413900487, 0.8476612413900487, 0.8476612413900487, 0.8476612413900487, 0.8476612413900487, 0.8476612413900487, 0.8476612413900487, 0.8496375181764894, 0.8496375181764894, 0.8496375181764894, 0.8496375181764894, 0.8496375181764894, 0.8496375181764894, 0.8496375181764894, 0.8496375181764894, 0.8496375181764894, 0.8496375181764894, 0.8496375181764894, 0.8496375181764894, 0.8496375181764894, 0.8496375181764894, 0.8496375181764894, 0.8496375181764894, 0.8496375181764894, 0.8496375181764894, 0.8496375181764894, 0.8496375181764894, 0.8496375181764894, 0.8496375181764894]}], \"weighted_accuracy\": [{\"categories\": [\"0\", \"1\", \"2\", \"3\", \"4\", \"5\", \"6\", \"7\", \"8\", \"9\", \"10\", \"11\", \"12\", \"13\", \"14\", \"15\", \"16\", \"17\", \"18\", \"19\", \"20\", \"21\", \"22\", \"23\", \"24\", \"25\", \"26\", \"27\", \"28\", \"29\", \"30\", \"31\", \"32\", \"33\", \"34\", \"35\", \"36\", \"37\", \"38\", \"39\", \"40\", \"41\", \"42\", \"43\", \"44\", \"45\", \"46\", \"47\", \"48\", \"49\", \"50\", \"51\", \"52\", \"53\", \"54\", \"64\", \"65\"], \"mode\": \"markers\", \"name\": \"weighted_accuracy\", \"stepped\": false, \"type\": \"scatter\", \"data\": [0.8494580108214856, 0.8606217090454594, 0.8715596929233156, 0.8772914153435393, 0.741310912095467, 0.7035011356810129, 0.83667622442122, 0.8511165665192642, 0.83208447224025, 0.8501864983494439, 0.8511669087854922, 0.8588329149466299, 0.8776392351027286, 0.863873515452457, 0.8845993546678628, 0.8615049276567275, 0.8658193978692958, 0.867732595777119, 0.8716806976708442, 0.866554790778998, 0.8758548371777698, 0.8629844747965422, 0.8491651054565486, 0.8618959530725417, 0.8783259630760588, 0.8844384717255965, 0.885167951259064, 0.8789886189862234, 0.8382415586192241, 0.8535549057534344, 0.8844384717255965, 0.8562522682122607, 0.8617585714909671, 0.8853702710956437, 0.8511724877796473, 0.8647196524246618, 0.8552314156124492, 0.8452968990712636, 0.8564788529050604, 0.8735180207213582, 0.8650024228395236, 0.8841743175161957, 0.8688950021862403, 0.8351062807283771, 0.87964724827851, 0.8462906549995154, 0.8624020295904155, 0.8823125505866459, 0.8561524139875739, 0.8540465234087051, 0.847955137250318, 0.8596900628175961, 0.84517726786558, 0.8483599928543671, 0.8465371727336771, 0.8664400987929911, 0.8631870350086069]}, {\"categories\": [\"0\", \"1\", \"2\", \"3\", \"4\", \"5\", \"6\", \"7\", \"8\", \"9\", \"10\", \"11\", \"12\", \"13\", \"14\", \"15\", \"16\", \"17\", \"18\", \"19\", \"20\", \"21\", \"22\", \"23\", \"24\", \"25\", \"26\", \"27\", \"28\", \"29\", \"30\", \"31\", \"32\", \"33\", \"34\", \"35\", \"36\", \"37\", \"38\", \"39\", \"40\", \"41\", \"42\", \"43\", \"44\", \"45\", \"46\", \"47\", \"48\", \"49\", \"50\", \"51\", \"52\", \"53\", \"54\", \"64\", \"65\"], \"mode\": \"lines\", \"name\": \"weighted_accuracy_max\", \"stepped\": true, \"type\": \"scatter\", \"data\": [0.8494580108214856, 0.8606217090454594, 0.8715596929233156, 0.8772914153435393, 0.8772914153435393, 0.8772914153435393, 0.8772914153435393, 0.8772914153435393, 0.8772914153435393, 0.8772914153435393, 0.8772914153435393, 0.8772914153435393, 0.8776392351027286, 0.8776392351027286, 0.8845993546678628, 0.8845993546678628, 0.8845993546678628, 0.8845993546678628, 0.8845993546678628, 0.8845993546678628, 0.8845993546678628, 0.8845993546678628, 0.8845993546678628, 0.8845993546678628, 0.8845993546678628, 0.8845993546678628, 0.885167951259064, 0.885167951259064, 0.885167951259064, 0.885167951259064, 0.885167951259064, 0.885167951259064, 0.885167951259064, 0.8853702710956437, 0.8853702710956437, 0.8853702710956437, 0.8853702710956437, 0.8853702710956437, 0.8853702710956437, 0.8853702710956437, 0.8853702710956437, 0.8853702710956437, 0.8853702710956437, 0.8853702710956437, 0.8853702710956437, 0.8853702710956437, 0.8853702710956437, 0.8853702710956437, 0.8853702710956437, 0.8853702710956437, 0.8853702710956437, 0.8853702710956437, 0.8853702710956437, 0.8853702710956437, 0.8853702710956437, 0.8853702710956437, 0.8853702710956437]}], \"f1_score_macro\": [{\"categories\": [\"0\", \"1\", \"2\", \"3\", \"4\", \"5\", \"6\", \"7\", \"8\", \"9\", \"10\", \"11\", \"12\", \"13\", \"14\", \"15\", \"16\", \"17\", \"18\", \"19\", \"20\", \"21\", \"22\", \"23\", \"24\", \"25\", \"26\", \"27\", \"28\", \"29\", \"30\", \"31\", \"32\", \"33\", \"34\", \"35\", \"36\", \"37\", \"38\", \"39\", \"40\", \"41\", \"42\", \"43\", \"44\", \"45\", \"46\", \"47\", \"48\", \"49\", \"50\", \"51\", \"52\", \"53\", \"54\", \"64\", \"65\"], \"mode\": \"markers\", \"name\": \"f1_score_macro\", \"stepped\": false, \"type\": \"scatter\", \"data\": [0.7175132240967862, 0.7346304075371126, 0.6871098866883099, 0.671833822578969, 0.7197156397639489, 0.6937163311402138, 0.7034583091166239, 0.7096951410553096, 0.6934299735161605, 0.718978603630103, 0.7210877312272524, 0.7286156441936699, 0.6880435994109003, 0.6979065077183941, 0.6476406150962538, 0.7327808161017856, 0.7182535344891884, 0.7081791403836082, 0.6896859791974773, 0.7186558278001686, 0.672915483070501, 0.728768858422867, 0.7168810870320993, 0.7264477561742059, 0.6807497843470302, 0.4234992861864861, 0.44978784773378794, 0.654788644537008, 0.7021773600310697, 0.7242991602617437, 0.4234992861864861, 0.723061587462659, 0.7243309207705826, 0.5783487914084436, 0.7093063958917402, 0.7304390261841943, 0.7334132792026934, 0.7105036256980165, 0.7161212838605873, 0.6919542155552266, 0.7242596470790619, 0.6633490476847386, 0.708143287890997, 0.6911002240661895, 0.6681377300401934, 0.7098131491348235, 0.7303516852608011, 0.6524853095951917, 0.7215897120285718, 0.7193586496356627, 0.7124589100143551, 0.7277183078414508, 0.7150500012709774, 0.7136205003166299, 0.7133274565398962, 0.7363196596590962, 0.7326152088036978]}, {\"categories\": [\"0\", \"1\", \"2\", \"3\", \"4\", \"5\", \"6\", \"7\", \"8\", \"9\", \"10\", \"11\", \"12\", \"13\", \"14\", \"15\", \"16\", \"17\", \"18\", \"19\", \"20\", \"21\", \"22\", \"23\", \"24\", \"25\", \"26\", \"27\", \"28\", \"29\", \"30\", \"31\", \"32\", \"33\", \"34\", \"35\", \"36\", \"37\", \"38\", \"39\", \"40\", \"41\", \"42\", \"43\", \"44\", \"45\", \"46\", \"47\", \"48\", \"49\", \"50\", \"51\", \"52\", \"53\", \"54\", \"64\", \"65\"], \"mode\": \"lines\", \"name\": \"f1_score_macro_max\", \"stepped\": true, \"type\": \"scatter\", \"data\": [0.7175132240967862, 0.7346304075371126, 0.7346304075371126, 0.7346304075371126, 0.7346304075371126, 0.7346304075371126, 0.7346304075371126, 0.7346304075371126, 0.7346304075371126, 0.7346304075371126, 0.7346304075371126, 0.7346304075371126, 0.7346304075371126, 0.7346304075371126, 0.7346304075371126, 0.7346304075371126, 0.7346304075371126, 0.7346304075371126, 0.7346304075371126, 0.7346304075371126, 0.7346304075371126, 0.7346304075371126, 0.7346304075371126, 0.7346304075371126, 0.7346304075371126, 0.7346304075371126, 0.7346304075371126, 0.7346304075371126, 0.7346304075371126, 0.7346304075371126, 0.7346304075371126, 0.7346304075371126, 0.7346304075371126, 0.7346304075371126, 0.7346304075371126, 0.7346304075371126, 0.7346304075371126, 0.7346304075371126, 0.7346304075371126, 0.7346304075371126, 0.7346304075371126, 0.7346304075371126, 0.7346304075371126, 0.7346304075371126, 0.7346304075371126, 0.7346304075371126, 0.7346304075371126, 0.7346304075371126, 0.7346304075371126, 0.7346304075371126, 0.7346304075371126, 0.7346304075371126, 0.7346304075371126, 0.7346304075371126, 0.7346304075371126, 0.7363196596590962, 0.7363196596590962]}], \"average_precision_score_macro\": [{\"categories\": [\"0\", \"1\", \"2\", \"3\", \"4\", \"5\", \"6\", \"7\", \"8\", \"9\", \"10\", \"11\", \"12\", \"13\", \"14\", \"15\", \"16\", \"17\", \"18\", \"19\", \"20\", \"21\", \"22\", \"23\", \"24\", \"25\", \"26\", \"27\", \"28\", \"29\", \"30\", \"31\", \"32\", \"33\", \"34\", \"35\", \"36\", \"37\", \"38\", \"39\", \"40\", \"41\", \"42\", \"43\", \"44\", \"45\", \"46\", \"47\", \"48\", \"49\", \"50\", \"51\", \"52\", \"53\", \"54\", \"64\", \"65\"], \"mode\": \"markers\", \"name\": \"average_precision_score_macro\", \"stepped\": false, \"type\": \"scatter\", \"data\": [0.7867665435577887, 0.799248532925596, 0.7830731434975844, 0.7838089990154495, 0.7912604010848429, 0.7550975930995781, 0.7607367160453032, 0.7818066797468285, 0.7581871595076249, 0.7869357161200806, 0.7841906332750455, 0.7978571669737073, 0.7973259841328341, 0.7729749163595487, 0.7863951595089252, 0.801012325004999, 0.7943789519698486, 0.7897910280787155, 0.7909164860178501, 0.79977370829542, 0.7800572468565852, 0.7988669634679466, 0.7779778805700809, 0.794435372776021, 0.791723108946179, 0.5, 0.7861852582024212, 0.7852792517569099, 0.7618273085551633, 0.790289298042507, 0.5, 0.7951819006414728, 0.7970565750125327, 0.7771918895980616, 0.7768348722519584, 0.8024820779380887, 0.7958708955531728, 0.7784102736582595, 0.7793802810309524, 0.7897549818350876, 0.798366505128234, 0.7941184646441339, 0.7931573888536704, 0.7613241515623138, 0.7872533652342124, 0.7793084053749865, 0.8012615870267096, 0.7772130614613166, 0.7918772510656252, 0.7909247012625004, 0.7832435277503244, 0.7965090239701172, 0.7819887956993838, 0.7802612767622118, 0.777994360158618, 0.8028808232553266, 0.8030475976564172]}, {\"categories\": [\"0\", \"1\", \"2\", \"3\", \"4\", \"5\", \"6\", \"7\", \"8\", \"9\", \"10\", \"11\", \"12\", \"13\", \"14\", \"15\", \"16\", \"17\", \"18\", \"19\", \"20\", \"21\", \"22\", \"23\", \"24\", \"25\", \"26\", \"27\", \"28\", \"29\", \"30\", \"31\", \"32\", \"33\", \"34\", \"35\", \"36\", \"37\", \"38\", \"39\", \"40\", \"41\", \"42\", \"43\", \"44\", \"45\", \"46\", \"47\", \"48\", \"49\", \"50\", \"51\", \"52\", \"53\", \"54\", \"64\", \"65\"], \"mode\": \"lines\", \"name\": \"average_precision_score_macro_max\", \"stepped\": true, \"type\": \"scatter\", \"data\": [0.7867665435577887, 0.799248532925596, 0.799248532925596, 0.799248532925596, 0.799248532925596, 0.799248532925596, 0.799248532925596, 0.799248532925596, 0.799248532925596, 0.799248532925596, 0.799248532925596, 0.799248532925596, 0.799248532925596, 0.799248532925596, 0.799248532925596, 0.801012325004999, 0.801012325004999, 0.801012325004999, 0.801012325004999, 0.801012325004999, 0.801012325004999, 0.801012325004999, 0.801012325004999, 0.801012325004999, 0.801012325004999, 0.801012325004999, 0.801012325004999, 0.801012325004999, 0.801012325004999, 0.801012325004999, 0.801012325004999, 0.801012325004999, 0.801012325004999, 0.801012325004999, 0.801012325004999, 0.8024820779380887, 0.8024820779380887, 0.8024820779380887, 0.8024820779380887, 0.8024820779380887, 0.8024820779380887, 0.8024820779380887, 0.8024820779380887, 0.8024820779380887, 0.8024820779380887, 0.8024820779380887, 0.8024820779380887, 0.8024820779380887, 0.8024820779380887, 0.8024820779380887, 0.8024820779380887, 0.8024820779380887, 0.8024820779380887, 0.8024820779380887, 0.8024820779380887, 0.8028808232553266, 0.8030475976564172]}], \"AUC_micro\": [{\"categories\": [\"0\", \"1\", \"2\", \"3\", \"4\", \"5\", \"6\", \"7\", \"8\", \"9\", \"10\", \"11\", \"12\", \"13\", \"14\", \"15\", \"16\", \"17\", \"18\", \"19\", \"20\", \"21\", \"22\", \"23\", \"24\", \"25\", \"26\", \"27\", \"28\", \"29\", \"30\", \"31\", \"32\", \"33\", \"34\", \"35\", \"36\", \"37\", \"38\", \"39\", \"40\", \"41\", \"42\", \"43\", \"44\", \"45\", \"46\", \"47\", \"48\", \"49\", \"50\", \"51\", \"52\", \"53\", \"54\", \"64\", \"65\"], \"mode\": \"markers\", \"name\": \"AUC_micro\", \"stepped\": false, \"type\": \"scatter\", \"data\": [0.8820266908081331, 0.8903040006188849, 0.8816814482769252, 0.8792975209789656, 0.8371499108554877, 0.812196003588383, 0.8667757290854894, 0.8813959951725397, 0.864192541467928, 0.8830791426980422, 0.8823001036568167, 0.8898836018351904, 0.8854566573901205, 0.8813277068848951, 0.8781255865261709, 0.8912761278176168, 0.8880158446571179, 0.8859464998423779, 0.8856582024985574, 0.8908219027440124, 0.8781759585155182, 0.8909216688563723, 0.8784933627437171, 0.8886746798879885, 0.8824408873661828, 0.7346307838706704, 0.8661642347301134, 0.8781341500747258, 0.8689765661786112, 0.8855009310007892, 0.7346307838706704, 0.8881237784870776, 0.8893003341414137, 0.8678314663054197, 0.8782971758471504, 0.8923676672936214, 0.8894036573600511, 0.8787497527416847, 0.8813443312055428, 0.8837677718745202, 0.8902452755127414, 0.882785570124625, 0.887260474095334, 0.8735394621200113, 0.8809711541319359, 0.8796036832805552, 0.8915390962056492, 0.8750986372021147, 0.8870316935904586, 0.8859874071892776, 0.881825239903485, 0.8893383554935665, 0.8811297756858442, 0.8794011265383164, 0.8781585922823677, 0.8923582075082127, 0.8923323809679763]}, {\"categories\": [\"0\", \"1\", \"2\", \"3\", \"4\", \"5\", \"6\", \"7\", \"8\", \"9\", \"10\", \"11\", \"12\", \"13\", \"14\", \"15\", \"16\", \"17\", \"18\", \"19\", \"20\", \"21\", \"22\", \"23\", \"24\", \"25\", \"26\", \"27\", \"28\", \"29\", \"30\", \"31\", \"32\", \"33\", \"34\", \"35\", \"36\", \"37\", \"38\", \"39\", \"40\", \"41\", \"42\", \"43\", \"44\", \"45\", \"46\", \"47\", \"48\", \"49\", \"50\", \"51\", \"52\", \"53\", \"54\", \"64\", \"65\"], \"mode\": \"lines\", \"name\": \"AUC_micro_max\", \"stepped\": true, \"type\": \"scatter\", \"data\": [0.8820266908081331, 0.8903040006188849, 0.8903040006188849, 0.8903040006188849, 0.8903040006188849, 0.8903040006188849, 0.8903040006188849, 0.8903040006188849, 0.8903040006188849, 0.8903040006188849, 0.8903040006188849, 0.8903040006188849, 0.8903040006188849, 0.8903040006188849, 0.8903040006188849, 0.8912761278176168, 0.8912761278176168, 0.8912761278176168, 0.8912761278176168, 0.8912761278176168, 0.8912761278176168, 0.8912761278176168, 0.8912761278176168, 0.8912761278176168, 0.8912761278176168, 0.8912761278176168, 0.8912761278176168, 0.8912761278176168, 0.8912761278176168, 0.8912761278176168, 0.8912761278176168, 0.8912761278176168, 0.8912761278176168, 0.8912761278176168, 0.8912761278176168, 0.8923676672936214, 0.8923676672936214, 0.8923676672936214, 0.8923676672936214, 0.8923676672936214, 0.8923676672936214, 0.8923676672936214, 0.8923676672936214, 0.8923676672936214, 0.8923676672936214, 0.8923676672936214, 0.8923676672936214, 0.8923676672936214, 0.8923676672936214, 0.8923676672936214, 0.8923676672936214, 0.8923676672936214, 0.8923676672936214, 0.8923676672936214, 0.8923676672936214, 0.8923676672936214, 0.8923676672936214]}], \"norm_macro_recall\": [{\"categories\": [\"0\", \"1\", \"2\", \"3\", \"4\", \"5\", \"6\", \"7\", \"8\", \"9\", \"10\", \"11\", \"12\", \"13\", \"14\", \"15\", \"16\", \"17\", \"18\", \"19\", \"20\", \"21\", \"22\", \"23\", \"24\", \"25\", \"26\", \"27\", \"28\", \"29\", \"30\", \"31\", \"32\", \"33\", \"34\", \"35\", \"36\", \"37\", \"38\", \"39\", \"40\", \"41\", \"42\", \"43\", \"44\", \"45\", \"46\", \"47\", \"48\", \"49\", \"50\", \"51\", \"52\", \"53\", \"54\", \"64\", \"65\"], \"mode\": \"markers\", \"name\": \"norm_macro_recall\", \"stepped\": false, \"type\": \"scatter\", \"data\": [0.4113759675500294, 0.44278955203961873, 0.3360782283510832, 0.3047096215465182, 0.5280791255030016, 0.4932257332022297, 0.387885894990523, 0.39234247800212474, 0.36785113506352835, 0.414285623337799, 0.4183795803264743, 0.4303101372740359, 0.3340500822488086, 0.35952550688788576, 0.26197272217697715, 0.4379037465871615, 0.4017493261938159, 0.3787694253652984, 0.34074643486578954, 0.4025190816303616, 0.3068065721188101, 0.4274135071116678, 0.4101007112627264, 0.42273367859947436, 0.3201074996891892, 0.0, 0.024203998320636726, 0.27434291748408474, 0.38376358431699426, 0.4241093817786021, 0.0, 0.41946733817368864, 0.41815248654414033, 0.16346519392293893, 0.39135793490534104, 0.43008953141978673, 0.44419245349775477, 0.3980975920413778, 0.4033607350524629, 0.34334474730095477, 0.4161995008425367, 0.2881918401423902, 0.378285604975414, 0.3706656134981001, 0.2970799906104671, 0.3958386153108993, 0.43145898082191697, 0.27123652641835805, 0.41607320322955044, 0.4122928525562591, 0.4007170836055014, 0.4276305498583281, 0.40863121548134046, 0.4031741530363162, 0.4037027365922506, 0.44214801845617036, 0.43644510847610024]}, {\"categories\": [\"0\", \"1\", \"2\", \"3\", \"4\", \"5\", \"6\", \"7\", \"8\", \"9\", \"10\", \"11\", \"12\", \"13\", \"14\", \"15\", \"16\", \"17\", \"18\", \"19\", \"20\", \"21\", \"22\", \"23\", \"24\", \"25\", \"26\", \"27\", \"28\", \"29\", \"30\", \"31\", \"32\", \"33\", \"34\", \"35\", \"36\", \"37\", \"38\", \"39\", \"40\", \"41\", \"42\", \"43\", \"44\", \"45\", \"46\", \"47\", \"48\", \"49\", \"50\", \"51\", \"52\", \"53\", \"54\", \"64\", \"65\"], \"mode\": \"lines\", \"name\": \"norm_macro_recall_max\", \"stepped\": true, \"type\": \"scatter\", \"data\": [0.4113759675500294, 0.44278955203961873, 0.44278955203961873, 0.44278955203961873, 0.5280791255030016, 0.5280791255030016, 0.5280791255030016, 0.5280791255030016, 0.5280791255030016, 0.5280791255030016, 0.5280791255030016, 0.5280791255030016, 0.5280791255030016, 0.5280791255030016, 0.5280791255030016, 0.5280791255030016, 0.5280791255030016, 0.5280791255030016, 0.5280791255030016, 0.5280791255030016, 0.5280791255030016, 0.5280791255030016, 0.5280791255030016, 0.5280791255030016, 0.5280791255030016, 0.5280791255030016, 0.5280791255030016, 0.5280791255030016, 0.5280791255030016, 0.5280791255030016, 0.5280791255030016, 0.5280791255030016, 0.5280791255030016, 0.5280791255030016, 0.5280791255030016, 0.5280791255030016, 0.5280791255030016, 0.5280791255030016, 0.5280791255030016, 0.5280791255030016, 0.5280791255030016, 0.5280791255030016, 0.5280791255030016, 0.5280791255030016, 0.5280791255030016, 0.5280791255030016, 0.5280791255030016, 0.5280791255030016, 0.5280791255030016, 0.5280791255030016, 0.5280791255030016, 0.5280791255030016, 0.5280791255030016, 0.5280791255030016, 0.5280791255030016, 0.5280791255030016, 0.5280791255030016]}], \"average_precision_score_weighted\": [{\"categories\": [\"0\", \"1\", \"2\", \"3\", \"4\", \"5\", \"6\", \"7\", \"8\", \"9\", \"10\", \"11\", \"12\", \"13\", \"14\", \"15\", \"16\", \"17\", \"18\", \"19\", \"20\", \"21\", \"22\", \"23\", \"24\", \"25\", \"26\", \"27\", \"28\", \"29\", \"30\", \"31\", \"32\", \"33\", \"34\", \"35\", \"36\", \"37\", \"38\", \"39\", \"40\", \"41\", \"42\", \"43\", \"44\", \"45\", \"46\", \"47\", \"48\", \"49\", \"50\", \"51\", \"52\", \"53\", \"54\", \"64\", \"65\"], \"mode\": \"markers\", \"name\": \"average_precision_score_weighted\", \"stepped\": false, \"type\": \"scatter\", \"data\": [0.8542570358875866, 0.8630627705917088, 0.8530326414311658, 0.8534124166221083, 0.8589439195888642, 0.8352390824064745, 0.8358348531421925, 0.8517930692258743, 0.8340290479368679, 0.8548483935693117, 0.8533887581960743, 0.8625203952780872, 0.8626991202481213, 0.8462052908371006, 0.8554021749736064, 0.8645794971556481, 0.8601351881878587, 0.8575685262924981, 0.8584759180338638, 0.8640399905490432, 0.8505978424587285, 0.8635602889932187, 0.8494225500095828, 0.8601858902212859, 0.8584409740449553, 0.6101985349253335, 0.854911934905583, 0.8547012444385337, 0.837779137498118, 0.8576884896506222, 0.6101985349253335, 0.8611075021750599, 0.8624379395438514, 0.8488637758338942, 0.8475914711133249, 0.8662861586178264, 0.8618701574420197, 0.8494246382690478, 0.8502201728910211, 0.8578051751338677, 0.8629060689848119, 0.8604108267537317, 0.8597250606439935, 0.8378780866428888, 0.8563583260404594, 0.8479616405632391, 0.8651738672156807, 0.8476891408577002, 0.8587859136213879, 0.8581329666895372, 0.8530427367468448, 0.8619848404831433, 0.8524093475156512, 0.8508611824658279, 0.8491998369438091, 0.8663133893356177, 0.8664491132039486]}, {\"categories\": [\"0\", \"1\", \"2\", \"3\", \"4\", \"5\", \"6\", \"7\", \"8\", \"9\", \"10\", \"11\", \"12\", \"13\", \"14\", \"15\", \"16\", \"17\", \"18\", \"19\", \"20\", \"21\", \"22\", \"23\", \"24\", \"25\", \"26\", \"27\", \"28\", \"29\", \"30\", \"31\", \"32\", \"33\", \"34\", \"35\", \"36\", \"37\", \"38\", \"39\", \"40\", \"41\", \"42\", \"43\", \"44\", \"45\", \"46\", \"47\", \"48\", \"49\", \"50\", \"51\", \"52\", \"53\", \"54\", \"64\", \"65\"], \"mode\": \"lines\", \"name\": \"average_precision_score_weighted_max\", \"stepped\": true, \"type\": \"scatter\", \"data\": [0.8542570358875866, 0.8630627705917088, 0.8630627705917088, 0.8630627705917088, 0.8630627705917088, 0.8630627705917088, 0.8630627705917088, 0.8630627705917088, 0.8630627705917088, 0.8630627705917088, 0.8630627705917088, 0.8630627705917088, 0.8630627705917088, 0.8630627705917088, 0.8630627705917088, 0.8645794971556481, 0.8645794971556481, 0.8645794971556481, 0.8645794971556481, 0.8645794971556481, 0.8645794971556481, 0.8645794971556481, 0.8645794971556481, 0.8645794971556481, 0.8645794971556481, 0.8645794971556481, 0.8645794971556481, 0.8645794971556481, 0.8645794971556481, 0.8645794971556481, 0.8645794971556481, 0.8645794971556481, 0.8645794971556481, 0.8645794971556481, 0.8645794971556481, 0.8662861586178264, 0.8662861586178264, 0.8662861586178264, 0.8662861586178264, 0.8662861586178264, 0.8662861586178264, 0.8662861586178264, 0.8662861586178264, 0.8662861586178264, 0.8662861586178264, 0.8662861586178264, 0.8662861586178264, 0.8662861586178264, 0.8662861586178264, 0.8662861586178264, 0.8662861586178264, 0.8662861586178264, 0.8662861586178264, 0.8662861586178264, 0.8662861586178264, 0.8663133893356177, 0.8664491132039486]}], \"balanced_accuracy\": [{\"categories\": [\"0\", \"1\", \"2\", \"3\", \"4\", \"5\", \"6\", \"7\", \"8\", \"9\", \"10\", \"11\", \"12\", \"13\", \"14\", \"15\", \"16\", \"17\", \"18\", \"19\", \"20\", \"21\", \"22\", \"23\", \"24\", \"25\", \"26\", \"27\", \"28\", \"29\", \"30\", \"31\", \"32\", \"33\", \"34\", \"35\", \"36\", \"37\", \"38\", \"39\", \"40\", \"41\", \"42\", \"43\", \"44\", \"45\", \"46\", \"47\", \"48\", \"49\", \"50\", \"51\", \"52\", \"53\", \"54\", \"64\", \"65\"], \"mode\": \"markers\", \"name\": \"balanced_accuracy\", \"stepped\": false, \"type\": \"scatter\", \"data\": [0.7056879837750146, 0.7213947760198094, 0.6680391141755416, 0.6523548107732592, 0.7640395627515009, 0.7466128666011148, 0.6939429474952615, 0.6961712390010625, 0.6839255675317641, 0.7071428116688995, 0.709189790163237, 0.7151550686370179, 0.6670250411244044, 0.679762753443943, 0.6309863610884886, 0.7189518732935808, 0.7008746630969079, 0.6893847126826492, 0.6703732174328948, 0.7012595408151808, 0.653403286059405, 0.7137067535558339, 0.7050503556313631, 0.7113668392997372, 0.6600537498445945, 0.5, 0.5121019991603184, 0.6371714587420424, 0.6918817921584971, 0.7120546908893011, 0.5, 0.7097336690868442, 0.7090762432720701, 0.5817325969614694, 0.6956789674526705, 0.7150447657098934, 0.7220962267488774, 0.6990487960206888, 0.7016803675262314, 0.6716723736504774, 0.7080997504212684, 0.6440959200711951, 0.689142802487707, 0.6853328067490501, 0.6485399953052335, 0.6979193076554496, 0.7157294904109586, 0.635618263209179, 0.7080366016147752, 0.7061464262781296, 0.7003585418027507, 0.7138152749291641, 0.7043156077406701, 0.7015870765181581, 0.7018513682961253, 0.7210740092280852, 0.71822255423805]}, {\"categories\": [\"0\", \"1\", \"2\", \"3\", \"4\", \"5\", \"6\", \"7\", \"8\", \"9\", \"10\", \"11\", \"12\", \"13\", \"14\", \"15\", \"16\", \"17\", \"18\", \"19\", \"20\", \"21\", \"22\", \"23\", \"24\", \"25\", \"26\", \"27\", \"28\", \"29\", \"30\", \"31\", \"32\", \"33\", \"34\", \"35\", \"36\", \"37\", \"38\", \"39\", \"40\", \"41\", \"42\", \"43\", \"44\", \"45\", \"46\", \"47\", \"48\", \"49\", \"50\", \"51\", \"52\", \"53\", \"54\", \"64\", \"65\"], \"mode\": \"lines\", \"name\": \"balanced_accuracy_max\", \"stepped\": true, \"type\": \"scatter\", \"data\": [0.7056879837750146, 0.7213947760198094, 0.7213947760198094, 0.7213947760198094, 0.7640395627515009, 0.7640395627515009, 0.7640395627515009, 0.7640395627515009, 0.7640395627515009, 0.7640395627515009, 0.7640395627515009, 0.7640395627515009, 0.7640395627515009, 0.7640395627515009, 0.7640395627515009, 0.7640395627515009, 0.7640395627515009, 0.7640395627515009, 0.7640395627515009, 0.7640395627515009, 0.7640395627515009, 0.7640395627515009, 0.7640395627515009, 0.7640395627515009, 0.7640395627515009, 0.7640395627515009, 0.7640395627515009, 0.7640395627515009, 0.7640395627515009, 0.7640395627515009, 0.7640395627515009, 0.7640395627515009, 0.7640395627515009, 0.7640395627515009, 0.7640395627515009, 0.7640395627515009, 0.7640395627515009, 0.7640395627515009, 0.7640395627515009, 0.7640395627515009, 0.7640395627515009, 0.7640395627515009, 0.7640395627515009, 0.7640395627515009, 0.7640395627515009, 0.7640395627515009, 0.7640395627515009, 0.7640395627515009, 0.7640395627515009, 0.7640395627515009, 0.7640395627515009, 0.7640395627515009, 0.7640395627515009, 0.7640395627515009, 0.7640395627515009, 0.7640395627515009, 0.7640395627515009]}], \"average_precision_score_micro\": [{\"categories\": [\"0\", \"1\", \"2\", \"3\", \"4\", \"5\", \"6\", \"7\", \"8\", \"9\", \"10\", \"11\", \"12\", \"13\", \"14\", \"15\", \"16\", \"17\", \"18\", \"19\", \"20\", \"21\", \"22\", \"23\", \"24\", \"25\", \"26\", \"27\", \"28\", \"29\", \"30\", \"31\", \"32\", \"33\", \"34\", \"35\", \"36\", \"37\", \"38\", \"39\", \"40\", \"41\", \"42\", \"43\", \"44\", \"45\", \"46\", \"47\", \"48\", \"49\", \"50\", \"51\", \"52\", \"53\", \"54\", \"64\", \"65\"], \"mode\": \"markers\", \"name\": \"average_precision_score_micro\", \"stepped\": false, \"type\": \"scatter\", \"data\": [0.8831696463692724, 0.890709125910217, 0.8830946700292204, 0.8813731466602873, 0.841209524081964, 0.8125662976219735, 0.8676374819935532, 0.8828010064233748, 0.8654921747312669, 0.8843980914036047, 0.8836962846135807, 0.8906884299791563, 0.8874129318166996, 0.880612560673178, 0.8802655475998725, 0.8920132127614977, 0.8884717997618085, 0.8871436885507308, 0.8872186307192718, 0.8918621185203208, 0.8797262529238904, 0.891804704163699, 0.8804066662644888, 0.889274345572519, 0.8838714164247415, 0.6724146593980018, 0.8709268506817979, 0.8807101665896161, 0.8707875124317903, 0.8871799192271624, 0.6724146593980018, 0.889710222580124, 0.8905829092854539, 0.8712963571746585, 0.879106064140721, 0.893862357921473, 0.8907335028109004, 0.8804243133490951, 0.8819723406028154, 0.8857942578809578, 0.8908264315271767, 0.884684926772732, 0.8882239262687287, 0.8717077856653929, 0.8831952690813235, 0.8784095456136178, 0.8927389158285021, 0.8759752964801679, 0.888215859753533, 0.8875208646624371, 0.8837013147244689, 0.8905007411960182, 0.8831308279072192, 0.8815380200356483, 0.8801083644487514, 0.8936133242583812, 0.8936582189135417]}, {\"categories\": [\"0\", \"1\", \"2\", \"3\", \"4\", \"5\", \"6\", \"7\", \"8\", \"9\", \"10\", \"11\", \"12\", \"13\", \"14\", \"15\", \"16\", \"17\", \"18\", \"19\", \"20\", \"21\", \"22\", \"23\", \"24\", \"25\", \"26\", \"27\", \"28\", \"29\", \"30\", \"31\", \"32\", \"33\", \"34\", \"35\", \"36\", \"37\", \"38\", \"39\", \"40\", \"41\", \"42\", \"43\", \"44\", \"45\", \"46\", \"47\", \"48\", \"49\", \"50\", \"51\", \"52\", \"53\", \"54\", \"64\", \"65\"], \"mode\": \"lines\", \"name\": \"average_precision_score_micro_max\", \"stepped\": true, \"type\": \"scatter\", \"data\": [0.8831696463692724, 0.890709125910217, 0.890709125910217, 0.890709125910217, 0.890709125910217, 0.890709125910217, 0.890709125910217, 0.890709125910217, 0.890709125910217, 0.890709125910217, 0.890709125910217, 0.890709125910217, 0.890709125910217, 0.890709125910217, 0.890709125910217, 0.8920132127614977, 0.8920132127614977, 0.8920132127614977, 0.8920132127614977, 0.8920132127614977, 0.8920132127614977, 0.8920132127614977, 0.8920132127614977, 0.8920132127614977, 0.8920132127614977, 0.8920132127614977, 0.8920132127614977, 0.8920132127614977, 0.8920132127614977, 0.8920132127614977, 0.8920132127614977, 0.8920132127614977, 0.8920132127614977, 0.8920132127614977, 0.8920132127614977, 0.893862357921473, 0.893862357921473, 0.893862357921473, 0.893862357921473, 0.893862357921473, 0.893862357921473, 0.893862357921473, 0.893862357921473, 0.893862357921473, 0.893862357921473, 0.893862357921473, 0.893862357921473, 0.893862357921473, 0.893862357921473, 0.893862357921473, 0.893862357921473, 0.893862357921473, 0.893862357921473, 0.893862357921473, 0.893862357921473, 0.893862357921473, 0.893862357921473]}], \"log_loss\": [{\"categories\": [\"0\", \"1\", \"2\", \"3\", \"4\", \"5\", \"6\", \"7\", \"8\", \"9\", \"10\", \"11\", \"12\", \"13\", \"14\", \"15\", \"16\", \"17\", \"18\", \"19\", \"20\", \"21\", \"22\", \"23\", \"24\", \"25\", \"26\", \"27\", \"28\", \"29\", \"30\", \"31\", \"32\", \"33\", \"34\", \"35\", \"36\", \"37\", \"38\", \"39\", \"40\", \"41\", \"42\", \"43\", \"44\", \"45\", \"46\", \"47\", \"48\", \"49\", \"50\", \"51\", \"52\", \"53\", \"54\", \"64\", \"65\"], \"mode\": \"markers\", \"name\": \"log_loss\", \"stepped\": false, \"type\": \"scatter\", \"data\": [0.437987212396927, 0.4158517669227975, 0.43243350201053193, 0.438997543656028, 0.4930349667923528, 0.5390615719302961, 0.5181298830220462, 0.43797925034140067, 0.5347663594766044, 0.43526971672521536, 0.4333478282825795, 0.41646027825713966, 0.43461666517960945, 0.43237973736691826, 0.449584497097701, 0.41390572010078985, 0.4234820510442428, 0.42666582730841585, 0.42557732853246627, 0.41599075001123537, 0.4415918434151498, 0.41503096932602407, 0.4384062268063473, 0.41908199123160655, 0.44271574199701763, 0.5787540244771033, 0.4855514431064523, 0.4452303606790112, 0.5081279166774211, 0.4247430061366972, 0.5787433499041307, 0.41949656127603213, 0.41942698085934643, 0.4585989273149764, 0.44712253778553723, 0.41149745010073935, 0.417191599781454, 0.44420298256307705, 0.4347037734737844, 0.4335605974733911, 0.42457959633850395, 0.44142382643788186, 0.42717088043841955, 0.4462378035211385, 0.4440764624901911, 0.44261438563805616, 0.41288495504233524, 0.44695739857887057, 0.42493213274847835, 0.42518508532711446, 0.4348227479426299, 0.416671557414948, 0.4384337473537654, 0.44366069552859533, 0.4384149144032879, 0.41225347180508304, 0.41974794731898085]}, {\"categories\": [\"0\", \"1\", \"2\", \"3\", \"4\", \"5\", \"6\", \"7\", \"8\", \"9\", \"10\", \"11\", \"12\", \"13\", \"14\", \"15\", \"16\", \"17\", \"18\", \"19\", \"20\", \"21\", \"22\", \"23\", \"24\", \"25\", \"26\", \"27\", \"28\", \"29\", \"30\", \"31\", \"32\", \"33\", \"34\", \"35\", \"36\", \"37\", \"38\", \"39\", \"40\", \"41\", \"42\", \"43\", \"44\", \"45\", \"46\", \"47\", \"48\", \"49\", \"50\", \"51\", \"52\", \"53\", \"54\", \"64\", \"65\"], \"mode\": \"lines\", \"name\": \"log_loss_min\", \"stepped\": true, \"type\": \"scatter\", \"data\": [0.437987212396927, 0.4158517669227975, 0.4158517669227975, 0.4158517669227975, 0.4158517669227975, 0.4158517669227975, 0.4158517669227975, 0.4158517669227975, 0.4158517669227975, 0.4158517669227975, 0.4158517669227975, 0.4158517669227975, 0.4158517669227975, 0.4158517669227975, 0.4158517669227975, 0.41390572010078985, 0.41390572010078985, 0.41390572010078985, 0.41390572010078985, 0.41390572010078985, 0.41390572010078985, 0.41390572010078985, 0.41390572010078985, 0.41390572010078985, 0.41390572010078985, 0.41390572010078985, 0.41390572010078985, 0.41390572010078985, 0.41390572010078985, 0.41390572010078985, 0.41390572010078985, 0.41390572010078985, 0.41390572010078985, 0.41390572010078985, 0.41390572010078985, 0.41149745010073935, 0.41149745010073935, 0.41149745010073935, 0.41149745010073935, 0.41149745010073935, 0.41149745010073935, 0.41149745010073935, 0.41149745010073935, 0.41149745010073935, 0.41149745010073935, 0.41149745010073935, 0.41149745010073935, 0.41149745010073935, 0.41149745010073935, 0.41149745010073935, 0.41149745010073935, 0.41149745010073935, 0.41149745010073935, 0.41149745010073935, 0.41149745010073935, 0.41149745010073935, 0.41149745010073935]}], \"f1_score_micro\": [{\"categories\": [\"0\", \"1\", \"2\", \"3\", \"4\", \"5\", \"6\", \"7\", \"8\", \"9\", \"10\", \"11\", \"12\", \"13\", \"14\", \"15\", \"16\", \"17\", \"18\", \"19\", \"20\", \"21\", \"22\", \"23\", \"24\", \"25\", \"26\", \"27\", \"28\", \"29\", \"30\", \"31\", \"32\", \"33\", \"34\", \"35\", \"36\", \"37\", \"38\", \"39\", \"40\", \"41\", \"42\", \"43\", \"44\", \"45\", \"46\", \"47\", \"48\", \"49\", \"50\", \"51\", \"52\", \"53\", \"54\", \"64\", \"65\"], \"mode\": \"markers\", \"name\": \"f1_score_micro\", \"stepped\": false, \"type\": \"scatter\", \"data\": [0.7934133417145186, 0.806332924194067, 0.7921346907756394, 0.7895785381654834, 0.7501057931071525, 0.7202887105386871, 0.7810602271872195, 0.7907154662627051, 0.7743861882713249, 0.7944070952636384, 0.7958261383132671, 0.8027827155959485, 0.7955422692155728, 0.7921342673612598, 0.7857447024207448, 0.8059067273770303, 0.8015056978268197, 0.7982394188141639, 0.7931285653002963, 0.802073859436588, 0.7891528252505947, 0.804771130010716, 0.7929863585564908, 0.803209456802902, 0.7932701066786482, 0.7346307838706704, 0.7397430286032142, 0.7847514932615417, 0.7812020105166454, 0.7983824723867287, 0.7346307838706704, 0.7990919939115432, 0.802215461302708, 0.7670046239269772, 0.7905731385433626, 0.806333045169604, 0.8033511191567909, 0.7883009155186693, 0.7961104308253412, 0.7948324452519158, 0.8037771949982906, 0.7905727756167514, 0.7988075804239321, 0.7763752680515464, 0.7895782962144094, 0.7884440295790026, 0.8051975082910584, 0.7861702338723277, 0.7983819279968122, 0.796394602361878, 0.7904306293607144, 0.8027843487656986, 0.7902886040802145, 0.791140634787677, 0.7901465787997145, 0.809741047023917, 0.8066175191449837]}, {\"categories\": [\"0\", \"1\", \"2\", \"3\", \"4\", \"5\", \"6\", \"7\", \"8\", \"9\", \"10\", \"11\", \"12\", \"13\", \"14\", \"15\", \"16\", \"17\", \"18\", \"19\", \"20\", \"21\", \"22\", \"23\", \"24\", \"25\", \"26\", \"27\", \"28\", \"29\", \"30\", \"31\", \"32\", \"33\", \"34\", \"35\", \"36\", \"37\", \"38\", \"39\", \"40\", \"41\", \"42\", \"43\", \"44\", \"45\", \"46\", \"47\", \"48\", \"49\", \"50\", \"51\", \"52\", \"53\", \"54\", \"64\", \"65\"], \"mode\": \"lines\", \"name\": \"f1_score_micro_max\", \"stepped\": true, \"type\": \"scatter\", \"data\": [0.7934133417145186, 0.806332924194067, 0.806332924194067, 0.806332924194067, 0.806332924194067, 0.806332924194067, 0.806332924194067, 0.806332924194067, 0.806332924194067, 0.806332924194067, 0.806332924194067, 0.806332924194067, 0.806332924194067, 0.806332924194067, 0.806332924194067, 0.806332924194067, 0.806332924194067, 0.806332924194067, 0.806332924194067, 0.806332924194067, 0.806332924194067, 0.806332924194067, 0.806332924194067, 0.806332924194067, 0.806332924194067, 0.806332924194067, 0.806332924194067, 0.806332924194067, 0.806332924194067, 0.806332924194067, 0.806332924194067, 0.806332924194067, 0.806332924194067, 0.806332924194067, 0.806332924194067, 0.806333045169604, 0.806333045169604, 0.806333045169604, 0.806333045169604, 0.806333045169604, 0.806333045169604, 0.806333045169604, 0.806333045169604, 0.806333045169604, 0.806333045169604, 0.806333045169604, 0.806333045169604, 0.806333045169604, 0.806333045169604, 0.806333045169604, 0.806333045169604, 0.806333045169604, 0.806333045169604, 0.806333045169604, 0.806333045169604, 0.809741047023917, 0.809741047023917]}], \"matthews_correlation\": [{\"categories\": [\"0\", \"1\", \"2\", \"3\", \"4\", \"5\", \"6\", \"7\", \"8\", \"9\", \"10\", \"11\", \"12\", \"13\", \"14\", \"15\", \"16\", \"17\", \"18\", \"19\", \"20\", \"21\", \"22\", \"23\", \"24\", \"25\", \"26\", \"27\", \"28\", \"29\", \"30\", \"31\", \"32\", \"33\", \"34\", \"35\", \"36\", \"37\", \"38\", \"39\", \"40\", \"41\", \"42\", \"43\", \"44\", \"45\", \"46\", \"47\", \"48\", \"49\", \"50\", \"51\", \"52\", \"53\", \"54\", \"64\", \"65\"], \"mode\": \"markers\", \"name\": \"matthews_correlation\", \"stepped\": false, \"type\": \"scatter\", \"data\": [0.4409331362173062, 0.47587648813320743, 0.4086585785123245, 0.392660956164595, 0.47483841971787144, 0.43867265557704066, 0.4111025760526501, 0.4280464770494922, 0.39130322077403196, 0.4439092177257879, 0.4479700311081234, 0.46488026436251007, 0.4157583558004263, 0.41662063417607165, 0.37155793682443283, 0.47315220288527887, 0.4510832063850585, 0.4361486505734726, 0.4123527464053646, 0.45246477453350975, 0.3920161579120718, 0.4670313160981105, 0.43973416853472663, 0.462340125623808, 0.4060697808018543, 0.0, 0.0914289223303213, 0.37121176269714895, 0.4092935809550616, 0.4546349479488366, 0.0, 0.4541672528339573, 0.45875816442058653, 0.28816772559519, 0.4272981093639319, 0.4708668305368367, 0.4713818784717498, 0.42680294801547886, 0.4419795433133233, 0.4168126718927791, 0.4609491665206618, 0.3914257705221063, 0.4371737302519962, 0.40310336808750397, 0.39045458139766714, 0.42609786520604914, 0.46944326475431786, 0.37431674960034717, 0.4512595476494596, 0.4461939690938328, 0.4313367577634231, 0.4635810160293224, 0.4348297405570774, 0.43366982515107844, 0.4323360980108883, 0.48172630822717366, 0.4739588823579282]}, {\"categories\": [\"0\", \"1\", \"2\", \"3\", \"4\", \"5\", \"6\", \"7\", \"8\", \"9\", \"10\", \"11\", \"12\", \"13\", \"14\", \"15\", \"16\", \"17\", \"18\", \"19\", \"20\", \"21\", \"22\", \"23\", \"24\", \"25\", \"26\", \"27\", \"28\", \"29\", \"30\", \"31\", \"32\", \"33\", \"34\", \"35\", \"36\", \"37\", \"38\", \"39\", \"40\", \"41\", \"42\", \"43\", \"44\", \"45\", \"46\", \"47\", \"48\", \"49\", \"50\", \"51\", \"52\", \"53\", \"54\", \"64\", \"65\"], \"mode\": \"lines\", \"name\": \"matthews_correlation_max\", \"stepped\": true, \"type\": \"scatter\", \"data\": [0.4409331362173062, 0.47587648813320743, 0.47587648813320743, 0.47587648813320743, 0.47587648813320743, 0.47587648813320743, 0.47587648813320743, 0.47587648813320743, 0.47587648813320743, 0.47587648813320743, 0.47587648813320743, 0.47587648813320743, 0.47587648813320743, 0.47587648813320743, 0.47587648813320743, 0.47587648813320743, 0.47587648813320743, 0.47587648813320743, 0.47587648813320743, 0.47587648813320743, 0.47587648813320743, 0.47587648813320743, 0.47587648813320743, 0.47587648813320743, 0.47587648813320743, 0.47587648813320743, 0.47587648813320743, 0.47587648813320743, 0.47587648813320743, 0.47587648813320743, 0.47587648813320743, 0.47587648813320743, 0.47587648813320743, 0.47587648813320743, 0.47587648813320743, 0.47587648813320743, 0.47587648813320743, 0.47587648813320743, 0.47587648813320743, 0.47587648813320743, 0.47587648813320743, 0.47587648813320743, 0.47587648813320743, 0.47587648813320743, 0.47587648813320743, 0.47587648813320743, 0.47587648813320743, 0.47587648813320743, 0.47587648813320743, 0.47587648813320743, 0.47587648813320743, 0.47587648813320743, 0.47587648813320743, 0.47587648813320743, 0.47587648813320743, 0.48172630822717366, 0.48172630822717366]}], \"precision_score_micro\": [{\"categories\": [\"0\", \"1\", \"2\", \"3\", \"4\", \"5\", \"6\", \"7\", \"8\", \"9\", \"10\", \"11\", \"12\", \"13\", \"14\", \"15\", \"16\", \"17\", \"18\", \"19\", \"20\", \"21\", \"22\", \"23\", \"24\", \"25\", \"26\", \"27\", \"28\", \"29\", \"30\", \"31\", \"32\", \"33\", \"34\", \"35\", \"36\", \"37\", \"38\", \"39\", \"40\", \"41\", \"42\", \"43\", \"44\", \"45\", \"46\", \"47\", \"48\", \"49\", \"50\", \"51\", \"52\", \"53\", \"54\", \"64\", \"65\"], \"mode\": \"markers\", \"name\": \"precision_score_micro\", \"stepped\": false, \"type\": \"scatter\", \"data\": [0.7934133417145185, 0.806332924194067, 0.7921346907756394, 0.7895785381654834, 0.7501057931071525, 0.720288710538687, 0.7810602271872195, 0.7907154662627051, 0.7743861882713249, 0.7944070952636384, 0.7958261383132671, 0.8027827155959484, 0.795542269215573, 0.7921342673612598, 0.7857447024207446, 0.8059067273770303, 0.8015056978268197, 0.7982394188141639, 0.7931285653002963, 0.802073859436588, 0.7891528252505947, 0.804771130010716, 0.7929863585564908, 0.803209456802902, 0.7932701066786482, 0.7346307838706704, 0.739743028603214, 0.7847514932615417, 0.7812020105166454, 0.7983824723867287, 0.7346307838706704, 0.7990919939115431, 0.802215461302708, 0.7670046239269772, 0.7905731385433626, 0.8063330451696041, 0.8033511191567909, 0.7883009155186693, 0.7961104308253409, 0.7948324452519158, 0.8037771949982906, 0.7905727756167514, 0.7988075804239321, 0.7763752680515462, 0.7895782962144092, 0.7884440295790028, 0.8051975082910584, 0.7861702338723277, 0.7983819279968122, 0.796394602361878, 0.7904306293607144, 0.8027843487656986, 0.7902886040802145, 0.791140634787677, 0.7901465787997145, 0.809741047023917, 0.8066175191449837]}, {\"categories\": [\"0\", \"1\", \"2\", \"3\", \"4\", \"5\", \"6\", \"7\", \"8\", \"9\", \"10\", \"11\", \"12\", \"13\", \"14\", \"15\", \"16\", \"17\", \"18\", \"19\", \"20\", \"21\", \"22\", \"23\", \"24\", \"25\", \"26\", \"27\", \"28\", \"29\", \"30\", \"31\", \"32\", \"33\", \"34\", \"35\", \"36\", \"37\", \"38\", \"39\", \"40\", \"41\", \"42\", \"43\", \"44\", \"45\", \"46\", \"47\", \"48\", \"49\", \"50\", \"51\", \"52\", \"53\", \"54\", \"64\", \"65\"], \"mode\": \"lines\", \"name\": \"precision_score_micro_max\", \"stepped\": true, \"type\": \"scatter\", \"data\": [0.7934133417145185, 0.806332924194067, 0.806332924194067, 0.806332924194067, 0.806332924194067, 0.806332924194067, 0.806332924194067, 0.806332924194067, 0.806332924194067, 0.806332924194067, 0.806332924194067, 0.806332924194067, 0.806332924194067, 0.806332924194067, 0.806332924194067, 0.806332924194067, 0.806332924194067, 0.806332924194067, 0.806332924194067, 0.806332924194067, 0.806332924194067, 0.806332924194067, 0.806332924194067, 0.806332924194067, 0.806332924194067, 0.806332924194067, 0.806332924194067, 0.806332924194067, 0.806332924194067, 0.806332924194067, 0.806332924194067, 0.806332924194067, 0.806332924194067, 0.806332924194067, 0.806332924194067, 0.8063330451696041, 0.8063330451696041, 0.8063330451696041, 0.8063330451696041, 0.8063330451696041, 0.8063330451696041, 0.8063330451696041, 0.8063330451696041, 0.8063330451696041, 0.8063330451696041, 0.8063330451696041, 0.8063330451696041, 0.8063330451696041, 0.8063330451696041, 0.8063330451696041, 0.8063330451696041, 0.8063330451696041, 0.8063330451696041, 0.8063330451696041, 0.8063330451696041, 0.809741047023917, 0.809741047023917]}], \"accuracy\": [{\"categories\": [\"0\", \"1\", \"2\", \"3\", \"4\", \"5\", \"6\", \"7\", \"8\", \"9\", \"10\", \"11\", \"12\", \"13\", \"14\", \"15\", \"16\", \"17\", \"18\", \"19\", \"20\", \"21\", \"22\", \"23\", \"24\", \"25\", \"26\", \"27\", \"28\", \"29\", \"30\", \"31\", \"32\", \"33\", \"34\", \"35\", \"36\", \"37\", \"38\", \"39\", \"40\", \"41\", \"42\", \"43\", \"44\", \"45\", \"46\", \"47\", \"48\", \"49\", \"50\", \"51\", \"52\", \"53\", \"54\", \"64\", \"65\"], \"mode\": \"markers\", \"name\": \"accuracy\", \"stepped\": false, \"type\": \"scatter\", \"data\": [0.7934133417145185, 0.806332924194067, 0.7921346907756394, 0.7895785381654834, 0.7501057931071525, 0.720288710538687, 0.7810602271872195, 0.7907154662627051, 0.7743861882713249, 0.7944070952636384, 0.7958261383132671, 0.8027827155959484, 0.795542269215573, 0.7921342673612598, 0.7857447024207446, 0.8059067273770303, 0.8015056978268197, 0.7982394188141639, 0.7931285653002963, 0.802073859436588, 0.7891528252505947, 0.804771130010716, 0.7929863585564908, 0.803209456802902, 0.7932701066786482, 0.7346307838706704, 0.739743028603214, 0.7847514932615417, 0.7812020105166454, 0.7983824723867287, 0.7346307838706704, 0.7990919939115431, 0.802215461302708, 0.7670046239269772, 0.7905731385433626, 0.8063330451696041, 0.8033511191567909, 0.7883009155186693, 0.7961104308253409, 0.7948324452519158, 0.8037771949982906, 0.7905727756167514, 0.7988075804239321, 0.7763752680515462, 0.7895782962144092, 0.7884440295790028, 0.8051975082910584, 0.7861702338723277, 0.7983819279968122, 0.796394602361878, 0.7904306293607144, 0.8027843487656986, 0.7902886040802145, 0.791140634787677, 0.7901465787997145, 0.809741047023917, 0.8066175191449837]}, {\"categories\": [\"0\", \"1\", \"2\", \"3\", \"4\", \"5\", \"6\", \"7\", \"8\", \"9\", \"10\", \"11\", \"12\", \"13\", \"14\", \"15\", \"16\", \"17\", \"18\", \"19\", \"20\", \"21\", \"22\", \"23\", \"24\", \"25\", \"26\", \"27\", \"28\", \"29\", \"30\", \"31\", \"32\", \"33\", \"34\", \"35\", \"36\", \"37\", \"38\", \"39\", \"40\", \"41\", \"42\", \"43\", \"44\", \"45\", \"46\", \"47\", \"48\", \"49\", \"50\", \"51\", \"52\", \"53\", \"54\", \"64\", \"65\"], \"mode\": \"lines\", \"name\": \"accuracy_max\", \"stepped\": true, \"type\": \"scatter\", \"data\": [0.7934133417145185, 0.806332924194067, 0.806332924194067, 0.806332924194067, 0.806332924194067, 0.806332924194067, 0.806332924194067, 0.806332924194067, 0.806332924194067, 0.806332924194067, 0.806332924194067, 0.806332924194067, 0.806332924194067, 0.806332924194067, 0.806332924194067, 0.806332924194067, 0.806332924194067, 0.806332924194067, 0.806332924194067, 0.806332924194067, 0.806332924194067, 0.806332924194067, 0.806332924194067, 0.806332924194067, 0.806332924194067, 0.806332924194067, 0.806332924194067, 0.806332924194067, 0.806332924194067, 0.806332924194067, 0.806332924194067, 0.806332924194067, 0.806332924194067, 0.806332924194067, 0.806332924194067, 0.8063330451696041, 0.8063330451696041, 0.8063330451696041, 0.8063330451696041, 0.8063330451696041, 0.8063330451696041, 0.8063330451696041, 0.8063330451696041, 0.8063330451696041, 0.8063330451696041, 0.8063330451696041, 0.8063330451696041, 0.8063330451696041, 0.8063330451696041, 0.8063330451696041, 0.8063330451696041, 0.8063330451696041, 0.8063330451696041, 0.8063330451696041, 0.8063330451696041, 0.809741047023917, 0.809741047023917]}], \"recall_score_weighted\": [{\"categories\": [\"0\", \"1\", \"2\", \"3\", \"4\", \"5\", \"6\", \"7\", \"8\", \"9\", \"10\", \"11\", \"12\", \"13\", \"14\", \"15\", \"16\", \"17\", \"18\", \"19\", \"20\", \"21\", \"22\", \"23\", \"24\", \"25\", \"26\", \"27\", \"28\", \"29\", \"30\", \"31\", \"32\", \"33\", \"34\", \"35\", \"36\", \"37\", \"38\", \"39\", \"40\", \"41\", \"42\", \"43\", \"44\", \"45\", \"46\", \"47\", \"48\", \"49\", \"50\", \"51\", \"52\", \"53\", \"54\", \"64\", \"65\"], \"mode\": \"markers\", \"name\": \"recall_score_weighted\", \"stepped\": false, \"type\": \"scatter\", \"data\": [0.7934133417145185, 0.806332924194067, 0.7921346907756394, 0.7895785381654834, 0.7501057931071525, 0.720288710538687, 0.7810602271872195, 0.7907154662627051, 0.7743861882713249, 0.7944070952636384, 0.7958261383132671, 0.8027827155959484, 0.795542269215573, 0.7921342673612598, 0.7857447024207446, 0.8059067273770303, 0.8015056978268197, 0.7982394188141639, 0.7931285653002963, 0.802073859436588, 0.7891528252505947, 0.804771130010716, 0.7929863585564908, 0.803209456802902, 0.7932701066786482, 0.7346307838706704, 0.739743028603214, 0.7847514932615417, 0.7812020105166454, 0.7983824723867287, 0.7346307838706704, 0.7990919939115431, 0.802215461302708, 0.7670046239269772, 0.7905731385433626, 0.8063330451696041, 0.8033511191567909, 0.7883009155186693, 0.7961104308253409, 0.7948324452519158, 0.8037771949982906, 0.7905727756167514, 0.7988075804239321, 0.7763752680515462, 0.7895782962144092, 0.7884440295790028, 0.8051975082910584, 0.7861702338723277, 0.7983819279968122, 0.796394602361878, 0.7904306293607144, 0.8027843487656986, 0.7902886040802145, 0.791140634787677, 0.7901465787997145, 0.809741047023917, 0.8066175191449837]}, {\"categories\": [\"0\", \"1\", \"2\", \"3\", \"4\", \"5\", \"6\", \"7\", \"8\", \"9\", \"10\", \"11\", \"12\", \"13\", \"14\", \"15\", \"16\", \"17\", \"18\", \"19\", \"20\", \"21\", \"22\", \"23\", \"24\", \"25\", \"26\", \"27\", \"28\", \"29\", \"30\", \"31\", \"32\", \"33\", \"34\", \"35\", \"36\", \"37\", \"38\", \"39\", \"40\", \"41\", \"42\", \"43\", \"44\", \"45\", \"46\", \"47\", \"48\", \"49\", \"50\", \"51\", \"52\", \"53\", \"54\", \"64\", \"65\"], \"mode\": \"lines\", \"name\": \"recall_score_weighted_max\", \"stepped\": true, \"type\": \"scatter\", \"data\": [0.7934133417145185, 0.806332924194067, 0.806332924194067, 0.806332924194067, 0.806332924194067, 0.806332924194067, 0.806332924194067, 0.806332924194067, 0.806332924194067, 0.806332924194067, 0.806332924194067, 0.806332924194067, 0.806332924194067, 0.806332924194067, 0.806332924194067, 0.806332924194067, 0.806332924194067, 0.806332924194067, 0.806332924194067, 0.806332924194067, 0.806332924194067, 0.806332924194067, 0.806332924194067, 0.806332924194067, 0.806332924194067, 0.806332924194067, 0.806332924194067, 0.806332924194067, 0.806332924194067, 0.806332924194067, 0.806332924194067, 0.806332924194067, 0.806332924194067, 0.806332924194067, 0.806332924194067, 0.8063330451696041, 0.8063330451696041, 0.8063330451696041, 0.8063330451696041, 0.8063330451696041, 0.8063330451696041, 0.8063330451696041, 0.8063330451696041, 0.8063330451696041, 0.8063330451696041, 0.8063330451696041, 0.8063330451696041, 0.8063330451696041, 0.8063330451696041, 0.8063330451696041, 0.8063330451696041, 0.8063330451696041, 0.8063330451696041, 0.8063330451696041, 0.8063330451696041, 0.809741047023917, 0.809741047023917]}], \"f1_score_weighted\": [{\"categories\": [\"0\", \"1\", \"2\", \"3\", \"4\", \"5\", \"6\", \"7\", \"8\", \"9\", \"10\", \"11\", \"12\", \"13\", \"14\", \"15\", \"16\", \"17\", \"18\", \"19\", \"20\", \"21\", \"22\", \"23\", \"24\", \"25\", \"26\", \"27\", \"28\", \"29\", \"30\", \"31\", \"32\", \"33\", \"34\", \"35\", \"36\", \"37\", \"38\", \"39\", \"40\", \"41\", \"42\", \"43\", \"44\", \"45\", \"46\", \"47\", \"48\", \"49\", \"50\", \"51\", \"52\", \"53\", \"54\", \"64\", \"65\"], \"mode\": \"markers\", \"name\": \"f1_score_weighted\", \"stepped\": false, \"type\": \"scatter\", \"data\": [0.7862390227449835, 0.799346087766676, 0.771991282869767, 0.7639900527784643, 0.7630358703643418, 0.7360692300629547, 0.7746552503231782, 0.7816708117376877, 0.767424881903464, 0.7872833059555416, 0.7888515777806161, 0.7951622261281984, 0.7739440394926804, 0.7771016934762898, 0.7510917200855124, 0.7983414196454595, 0.790090347225639, 0.7842733799405739, 0.7736026509220156, 0.7904474606493053, 0.7643947277896009, 0.7961139181843025, 0.7857788279725267, 0.7944496789586268, 0.7696997130679133, 0.6222629953683686, 0.6370180542905716, 0.7542139706910024, 0.7741580519221354, 0.7913442317781225, 0.6222629953683686, 0.7911365529141431, 0.7930614069507406, 0.7105705043201369, 0.7814386992623898, 0.7974923434978409, 0.7975200449425359, 0.780969598323849, 0.7867989729144815, 0.775476881330226, 0.7936567257550391, 0.7603839086627252, 0.7844373989286461, 0.7663436098037931, 0.7623337727870233, 0.7806864432506407, 0.7969888152562102, 0.7535974951031713, 0.7901681004662575, 0.7883917358450928, 0.7827466756432419, 0.7947546819525644, 0.7837888929060269, 0.7835572927712581, 0.783010192936635, 0.8015684431086392, 0.79854530129025]}, {\"categories\": [\"0\", \"1\", \"2\", \"3\", \"4\", \"5\", \"6\", \"7\", \"8\", \"9\", \"10\", \"11\", \"12\", \"13\", \"14\", \"15\", \"16\", \"17\", \"18\", \"19\", \"20\", \"21\", \"22\", \"23\", \"24\", \"25\", \"26\", \"27\", \"28\", \"29\", \"30\", \"31\", \"32\", \"33\", \"34\", \"35\", \"36\", \"37\", \"38\", \"39\", \"40\", \"41\", \"42\", \"43\", \"44\", \"45\", \"46\", \"47\", \"48\", \"49\", \"50\", \"51\", \"52\", \"53\", \"54\", \"64\", \"65\"], \"mode\": \"lines\", \"name\": \"f1_score_weighted_max\", \"stepped\": true, \"type\": \"scatter\", \"data\": [0.7862390227449835, 0.799346087766676, 0.799346087766676, 0.799346087766676, 0.799346087766676, 0.799346087766676, 0.799346087766676, 0.799346087766676, 0.799346087766676, 0.799346087766676, 0.799346087766676, 0.799346087766676, 0.799346087766676, 0.799346087766676, 0.799346087766676, 0.799346087766676, 0.799346087766676, 0.799346087766676, 0.799346087766676, 0.799346087766676, 0.799346087766676, 0.799346087766676, 0.799346087766676, 0.799346087766676, 0.799346087766676, 0.799346087766676, 0.799346087766676, 0.799346087766676, 0.799346087766676, 0.799346087766676, 0.799346087766676, 0.799346087766676, 0.799346087766676, 0.799346087766676, 0.799346087766676, 0.799346087766676, 0.799346087766676, 0.799346087766676, 0.799346087766676, 0.799346087766676, 0.799346087766676, 0.799346087766676, 0.799346087766676, 0.799346087766676, 0.799346087766676, 0.799346087766676, 0.799346087766676, 0.799346087766676, 0.799346087766676, 0.799346087766676, 0.799346087766676, 0.799346087766676, 0.799346087766676, 0.799346087766676, 0.799346087766676, 0.8015684431086392, 0.8015684431086392]}], \"precision_score_macro\": [{\"categories\": [\"0\", \"1\", \"2\", \"3\", \"4\", \"5\", \"6\", \"7\", \"8\", \"9\", \"10\", \"11\", \"12\", \"13\", \"14\", \"15\", \"16\", \"17\", \"18\", \"19\", \"20\", \"21\", \"22\", \"23\", \"24\", \"25\", \"26\", \"27\", \"28\", \"29\", \"30\", \"31\", \"32\", \"33\", \"34\", \"35\", \"36\", \"37\", \"38\", \"39\", \"40\", \"41\", \"42\", \"43\", \"44\", \"45\", \"46\", \"47\", \"48\", \"49\", \"50\", \"51\", \"52\", \"53\", \"54\", \"64\", \"65\"], \"mode\": \"markers\", \"name\": \"precision_score_macro\", \"stepped\": false, \"type\": \"scatter\", \"data\": [0.7363299616567219, 0.7557636201223872, 0.7490163143389958, 0.7531904866110991, 0.7135096880532389, 0.6950895033360078, 0.71788078505591, 0.733523333353412, 0.7081301879580942, 0.7378623733589248, 0.7398552483199801, 0.751220860537949, 0.7587672224977391, 0.7413914394102327, 0.7635338513254829, 0.7556884860366445, 0.7532829736331421, 0.7511406232459158, 0.7499345873996986, 0.7544193108284981, 0.7505656450065348, 0.7552351653632742, 0.7357833876993306, 0.7528620807340273, 0.7575693127639186, 0.3673153919353352, 0.6365690929696278, 0.7511578961587803, 0.7182732815383132, 0.7437075411490826, 0.3673153919353352, 0.7460065396097294, 0.7517073867980019, 0.7561982241332963, 0.733274923676014, 0.7578460161946642, 0.7501338468863795, 0.7288021671268027, 0.7422097172522423, 0.7530729233288028, 0.7554317495683062, 0.7659825149543268, 0.7526662999590122, 0.7227920496485524, 0.7565977320486802, 0.729362308108696, 0.7554557119006929, 0.7591706923120829, 0.7447829172047805, 0.7414726322676182, 0.7321588449643288, 0.751356872844605, 0.7313613344944375, 0.7332676942333425, 0.7315174041863473, 0.7624924673889942, 0.7574795685138581]}, {\"categories\": [\"0\", \"1\", \"2\", \"3\", \"4\", \"5\", \"6\", \"7\", \"8\", \"9\", \"10\", \"11\", \"12\", \"13\", \"14\", \"15\", \"16\", \"17\", \"18\", \"19\", \"20\", \"21\", \"22\", \"23\", \"24\", \"25\", \"26\", \"27\", \"28\", \"29\", \"30\", \"31\", \"32\", \"33\", \"34\", \"35\", \"36\", \"37\", \"38\", \"39\", \"40\", \"41\", \"42\", \"43\", \"44\", \"45\", \"46\", \"47\", \"48\", \"49\", \"50\", \"51\", \"52\", \"53\", \"54\", \"64\", \"65\"], \"mode\": \"lines\", \"name\": \"precision_score_macro_max\", \"stepped\": true, \"type\": \"scatter\", \"data\": [0.7363299616567219, 0.7557636201223872, 0.7557636201223872, 0.7557636201223872, 0.7557636201223872, 0.7557636201223872, 0.7557636201223872, 0.7557636201223872, 0.7557636201223872, 0.7557636201223872, 0.7557636201223872, 0.7557636201223872, 0.7587672224977391, 0.7587672224977391, 0.7635338513254829, 0.7635338513254829, 0.7635338513254829, 0.7635338513254829, 0.7635338513254829, 0.7635338513254829, 0.7635338513254829, 0.7635338513254829, 0.7635338513254829, 0.7635338513254829, 0.7635338513254829, 0.7635338513254829, 0.7635338513254829, 0.7635338513254829, 0.7635338513254829, 0.7635338513254829, 0.7635338513254829, 0.7635338513254829, 0.7635338513254829, 0.7635338513254829, 0.7635338513254829, 0.7635338513254829, 0.7635338513254829, 0.7635338513254829, 0.7635338513254829, 0.7635338513254829, 0.7635338513254829, 0.7659825149543268, 0.7659825149543268, 0.7659825149543268, 0.7659825149543268, 0.7659825149543268, 0.7659825149543268, 0.7659825149543268, 0.7659825149543268, 0.7659825149543268, 0.7659825149543268, 0.7659825149543268, 0.7659825149543268, 0.7659825149543268, 0.7659825149543268, 0.7659825149543268, 0.7659825149543268]}]}, \"metricName\": null, \"primaryMetricName\": \"accuracy\", \"showLegend\": false}, \"run_metrics\": [{\"name\": \"experiment_status\", \"run_id\": \"AutoML_af8c4cb8-b77e-4b53-a4c9-ad8e598a7ff3\", \"categories\": [0, 1, 2, 3, 4, 5, 6, 7, 8, 9, 10, 11, 12, 13], \"series\": [{\"data\": [\"DatasetEvaluation\", \"FeaturesGeneration\", \"DatasetFeaturization\", \"DatasetFeaturizationCompleted\", \"DatasetCrossValidationSplit\", \"ModelSelection\", \"BestRunExplainModel\", \"ModelExplanationDataSetSetup\", \"PickSurrogateModel\", \"EngineeredFeatureExplanations\", \"EngineeredFeatureExplanations\", \"RawFeaturesExplanations\", \"RawFeaturesExplanations\", \"BestRunExplainModel\"]}]}, {\"name\": \"experiment_status_description\", \"run_id\": \"AutoML_af8c4cb8-b77e-4b53-a4c9-ad8e598a7ff3\", \"categories\": [0, 1, 2, 3, 4, 5, 6, 7, 8, 9, 10, 11, 12, 13], \"series\": [{\"data\": [\"Gathering dataset statistics.\", \"Generating features for the dataset.\", \"Beginning to fit featurizers and featurize the dataset.\", \"Completed fit featurizers and featurizing the dataset.\", \"Generating individually featurized CV splits.\", \"Beginning model selection.\", \"Best run model explanations started\", \"Model explanations data setup completed\", \"Choosing LightGBM as the surrogate model for explanations\", \"Computation of engineered features started\", \"Computation of engineered features completed\", \"Computation of raw features started\", \"Computation of raw features completed\", \"Best run model explanations completed\"]}]}, {\"name\": \"precision_score_micro\", \"run_id\": \"AutoML_af8c4cb8-b77e-4b53-a4c9-ad8e598a7ff3\", \"categories\": [0], \"series\": [{\"data\": [0.809741047023917]}]}, {\"name\": \"f1_score_weighted\", \"run_id\": \"AutoML_af8c4cb8-b77e-4b53-a4c9-ad8e598a7ff3\", \"categories\": [0], \"series\": [{\"data\": [0.8015684431086392]}]}, {\"name\": \"f1_score_macro\", \"run_id\": \"AutoML_af8c4cb8-b77e-4b53-a4c9-ad8e598a7ff3\", \"categories\": [0], \"series\": [{\"data\": [0.7363196596590962]}]}, {\"name\": \"recall_score_micro\", \"run_id\": \"AutoML_af8c4cb8-b77e-4b53-a4c9-ad8e598a7ff3\", \"categories\": [0], \"series\": [{\"data\": [0.809741047023917]}]}, {\"name\": \"recall_score_macro\", \"run_id\": \"AutoML_af8c4cb8-b77e-4b53-a4c9-ad8e598a7ff3\", \"categories\": [0], \"series\": [{\"data\": [0.7210740092280852]}]}, {\"name\": \"AUC_macro\", \"run_id\": \"AutoML_af8c4cb8-b77e-4b53-a4c9-ad8e598a7ff3\", \"categories\": [0], \"series\": [{\"data\": [0.8495147983214292]}]}, {\"name\": \"precision_score_macro\", \"run_id\": \"AutoML_af8c4cb8-b77e-4b53-a4c9-ad8e598a7ff3\", \"categories\": [0], \"series\": [{\"data\": [0.7624924673889942]}]}, {\"name\": \"accuracy\", \"run_id\": \"AutoML_af8c4cb8-b77e-4b53-a4c9-ad8e598a7ff3\", \"categories\": [0], \"series\": [{\"data\": [0.809741047023917]}]}, {\"name\": \"matthews_correlation\", \"run_id\": \"AutoML_af8c4cb8-b77e-4b53-a4c9-ad8e598a7ff3\", \"categories\": [0], \"series\": [{\"data\": [0.48172630822717366]}]}, {\"name\": \"average_precision_score_macro\", \"run_id\": \"AutoML_af8c4cb8-b77e-4b53-a4c9-ad8e598a7ff3\", \"categories\": [0], \"series\": [{\"data\": [0.8028808232553266]}]}, {\"name\": \"log_loss\", \"run_id\": \"AutoML_af8c4cb8-b77e-4b53-a4c9-ad8e598a7ff3\", \"categories\": [0], \"series\": [{\"data\": [0.41225347180508304]}]}, {\"name\": \"AUC_micro\", \"run_id\": \"AutoML_af8c4cb8-b77e-4b53-a4c9-ad8e598a7ff3\", \"categories\": [0], \"series\": [{\"data\": [0.8923582075082127]}]}, {\"name\": \"f1_score_micro\", \"run_id\": \"AutoML_af8c4cb8-b77e-4b53-a4c9-ad8e598a7ff3\", \"categories\": [0], \"series\": [{\"data\": [0.809741047023917]}]}, {\"name\": \"recall_score_weighted\", \"run_id\": \"AutoML_af8c4cb8-b77e-4b53-a4c9-ad8e598a7ff3\", \"categories\": [0], \"series\": [{\"data\": [0.809741047023917]}]}, {\"name\": \"norm_macro_recall\", \"run_id\": \"AutoML_af8c4cb8-b77e-4b53-a4c9-ad8e598a7ff3\", \"categories\": [0], \"series\": [{\"data\": [0.44214801845617036]}]}, {\"name\": \"precision_score_weighted\", \"run_id\": \"AutoML_af8c4cb8-b77e-4b53-a4c9-ad8e598a7ff3\", \"categories\": [0], \"series\": [{\"data\": [0.8004857909035268]}]}, {\"name\": \"average_precision_score_micro\", \"run_id\": \"AutoML_af8c4cb8-b77e-4b53-a4c9-ad8e598a7ff3\", \"categories\": [0], \"series\": [{\"data\": [0.8936133242583812]}]}, {\"name\": \"AUC_weighted\", \"run_id\": \"AutoML_af8c4cb8-b77e-4b53-a4c9-ad8e598a7ff3\", \"categories\": [0], \"series\": [{\"data\": [0.8495147983214292]}]}, {\"name\": \"average_precision_score_weighted\", \"run_id\": \"AutoML_af8c4cb8-b77e-4b53-a4c9-ad8e598a7ff3\", \"categories\": [0], \"series\": [{\"data\": [0.8663133893356177]}]}, {\"name\": \"weighted_accuracy\", \"run_id\": \"AutoML_af8c4cb8-b77e-4b53-a4c9-ad8e598a7ff3\", \"categories\": [0], \"series\": [{\"data\": [0.8664400987929911]}]}, {\"name\": \"balanced_accuracy\", \"run_id\": \"AutoML_af8c4cb8-b77e-4b53-a4c9-ad8e598a7ff3\", \"categories\": [0], \"series\": [{\"data\": [0.7210740092280852]}]}], \"run_logs\": \"\\nRun is completed.\", \"graph\": {}, \"widget_settings\": {\"childWidgetDisplay\": \"popup\", \"send_telemetry\": false, \"log_level\": \"INFO\", \"sdk_version\": \"1.31.0\"}, \"loading\": false}"
     },
     "metadata": {},
     "output_type": "display_data"
    }
   ],
   "source": [
    "from azureml.widgets import RunDetails\n",
    "RunDetails(remote_run).show()"
   ]
  },
  {
   "cell_type": "markdown",
   "metadata": {},
   "source": [
    "## Best Model\n",
    "\n",
    "TODO: In the cell below, get the best model from the automl experiments and display all the properties of the model.\n",
    "\n"
   ]
  },
  {
   "cell_type": "code",
   "execution_count": 9,
   "metadata": {
    "gather": {
     "logged": 1598431425670
    },
    "jupyter": {
     "outputs_hidden": false,
     "source_hidden": false
    },
    "nteract": {
     "transient": {
      "deleting": false
     }
    }
   },
   "outputs": [
    {
     "name": "stderr",
     "output_type": "stream",
     "text": [
      "WARNING:root:The version of the SDK does not match the version the model was trained on.\n",
      "WARNING:root:The consistency in the result may not be guaranteed.\n",
      "WARNING:root:Package:azureml-automl-core, training version:1.32.0, current version:1.31.0\n",
      "Package:azureml-automl-runtime, training version:1.32.0, current version:1.31.0\n",
      "Package:azureml-core, training version:1.32.0, current version:1.31.0\n",
      "Package:azureml-dataset-runtime, training version:1.32.0, current version:1.31.0\n",
      "Package:azureml-defaults, training version:1.32.0, current version:1.31.0\n",
      "Package:azureml-interpret, training version:1.32.0, current version:1.31.0\n",
      "Package:azureml-mlflow, training version:1.32.0, current version:1.31.0\n",
      "Package:azureml-pipeline-core, training version:1.32.0, current version:1.31.0\n",
      "Package:azureml-telemetry, training version:1.32.0, current version:1.31.0\n",
      "Package:azureml-train-automl-client, training version:1.32.0, current version:1.31.0\n",
      "Package:azureml-train-automl-runtime, training version:1.32.0, current version:1.31.0\n",
      "WARNING:root:Please ensure the version of your local conda dependencies match the version on which your model was trained in order to properly retrieve your model.\n"
     ]
    }
   ],
   "source": [
    "import azureml.train.automl\n",
    "\n",
    "import azureml.automl.core\n",
    "\n",
    "remote_run.wait_for_completion()\n",
    "\n",
    "metrics_output_name = 'metrics_output'\n",
    "best_model_output_name = 'best_model_output'\n",
    "\n",
    "best_automl, best_model = remote_run.get_output()"
   ]
  },
  {
   "cell_type": "code",
   "execution_count": 10,
   "metadata": {},
   "outputs": [
    {
     "data": {
      "text/plain": [
       "['best_run_automl.pkl']"
      ]
     },
     "execution_count": 10,
     "metadata": {},
     "output_type": "execute_result"
    }
   ],
   "source": [
    "import joblib, pickle\n",
    "joblib.dump(best_model, 'best_run_automl.pkl')"
   ]
  },
  {
   "cell_type": "code",
   "execution_count": 11,
   "metadata": {},
   "outputs": [
    {
     "name": "stdout",
     "output_type": "stream",
     "text": [
      "Pipeline(memory=None,\n",
      "         steps=[('datatransformer',\n",
      "                 DataTransformer(enable_dnn=False, enable_feature_sweeping=True, feature_sweeping_config={}, feature_sweeping_timeout=86400, featurization_config=None, force_text_dnn=False, is_cross_validation=True, is_onnx_compatible=False, observer=None, task='classification', working_dir='/mnt/batch/tasks/shared/LS_root/mount...\n",
      "    gpu_training_param_dict={'processing_unit_type': 'cpu'}\n",
      "), random_state=None, reg_alpha=0.15789473684210525, reg_lambda=0.7894736842105263, subsample=1))], verbose=False))], flatten_transform=None, weights=[0.21428571428571427, 0.14285714285714285, 0.07142857142857142, 0.14285714285714285, 0.2857142857142857, 0.07142857142857142, 0.07142857142857142]))],\n",
      "         verbose=False)\n",
      "Y_transformer(['LabelEncoder', LabelEncoder()])\n"
     ]
    }
   ],
   "source": [
    "print(best_model)"
   ]
  },
  {
   "cell_type": "code",
   "execution_count": 12,
   "metadata": {
    "scrolled": false
   },
   "outputs": [
    {
     "name": "stdout",
     "output_type": "stream",
     "text": [
      "datatransformer\n",
      "{'task': 'classification', 'is_onnx_compatible': False, 'enable_feature_sweeping': True, 'enable_dnn': False, 'force_text_dnn': False, 'feature_sweeping_timeout': 86400, 'featurization_config': None, 'is_cross_validation': True, 'feature_sweeping_config': {}, 'observer': None, 'working_dir': '/mnt/batch/tasks/shared/LS_root/mounts/clusters/tcjw301/code/Users/tcjw30'}\n",
      "\n",
      "prefittedsoftvotingclassifier\n",
      "{'estimators': ['35', '1', '15', '46', '21', '40', '23'], 'weights': [0.21428571428571427, 0.14285714285714285, 0.07142857142857142, 0.14285714285714285, 0.2857142857142857, 0.07142857142857142, 0.07142857142857142]}\n",
      "\n",
      "35 - sparsenormalizer\n",
      "{'norm': 'l1', 'copy': True}\n",
      "\n",
      "35 - xgboostclassifier\n",
      "{'base_score': 0.5, 'booster': 'gbtree', 'colsample_bylevel': 1, 'colsample_bynode': 1, 'colsample_bytree': 0.7, 'gamma': 0, 'learning_rate': 0.1, 'max_delta_step': 0, 'max_depth': 2, 'min_child_weight': 1, 'missing': nan, 'n_estimators': 100, 'n_jobs': 1, 'nthread': None, 'objective': 'reg:logistic', 'random_state': 0, 'reg_alpha': 0.10416666666666667, 'reg_lambda': 1.875, 'scale_pos_weight': 1, 'seed': None, 'silent': None, 'subsample': 1, 'verbosity': 0, 'eta': 0.5, 'grow_policy': 'lossguide', 'max_bin': 63, 'max_leaves': 3, 'tree_method': 'hist', 'verbose': -10}\n",
      "\n",
      "1 - maxabsscaler\n",
      "{'copy': True}\n",
      "\n",
      "1 - xgboostclassifier\n",
      "{'base_score': 0.5, 'booster': 'gbtree', 'colsample_bylevel': 1, 'colsample_bynode': 1, 'colsample_bytree': 1, 'gamma': 0, 'learning_rate': 0.1, 'max_delta_step': 0, 'max_depth': 3, 'min_child_weight': 1, 'missing': nan, 'n_estimators': 100, 'n_jobs': 1, 'nthread': None, 'objective': 'binary:logistic', 'random_state': 0, 'reg_alpha': 0, 'reg_lambda': 1, 'scale_pos_weight': 1, 'seed': None, 'silent': None, 'subsample': 1, 'verbosity': 0, 'tree_method': 'auto', 'verbose': -10}\n",
      "\n",
      "15 - maxabsscaler\n",
      "{'copy': True}\n",
      "\n",
      "15 - lightgbmclassifier\n",
      "{'boosting_type': 'gbdt', 'colsample_bytree': 0.8911111111111111, 'learning_rate': 0.09473736842105263, 'max_bin': 70, 'max_depth': 6, 'min_child_weight': 1, 'min_data_in_leaf': 0.07931241379310346, 'min_split_gain': 0.7368421052631579, 'n_estimators': 50, 'num_leaves': 170, 'reg_alpha': 0.5789473684210527, 'reg_lambda': 0.6842105263157894, 'subsample': 0.5942105263157895, 'random_state': None, 'n_jobs': 1, 'problem_info': ProblemInfo(\n",
      "    dataset_samples=7043,\n",
      "    dataset_features=40,\n",
      "    dataset_classes=None,\n",
      "    dataset_num_categorical=0,\n",
      "    dataset_categoricals=None,\n",
      "    pipeline_categoricals=None,\n",
      "    dataset_y_std=None,\n",
      "    dataset_uid=None,\n",
      "    subsampling=False,\n",
      "    task='classification',\n",
      "    metric=None,\n",
      "    num_threads=1,\n",
      "    pipeline_profile='none',\n",
      "    is_sparse=True,\n",
      "    runtime_constraints={'mem_in_mb': None, 'wall_time_in_s': None, 'total_wall_time_in_s': 31449600, 'cpu_time_in_s': None, 'num_processes': None, 'grace_period_in_s': None},\n",
      "    constraint_mode=1,\n",
      "    cost_mode=1,\n",
      "    training_percent=100,\n",
      "    num_recommendations=1,\n",
      "    model_names_whitelisted=None,\n",
      "    model_names_blacklisted=None,\n",
      "    kernel='linear',\n",
      "    subsampling_treatment='linear',\n",
      "    subsampling_schedule='hyperband_clip',\n",
      "    cost_mode_param=None,\n",
      "    iteration_timeout_mode=0,\n",
      "    iteration_timeout_param=None,\n",
      "    feature_column_names=None,\n",
      "    label_column_name=None,\n",
      "    weight_column_name=None,\n",
      "    cv_split_column_names=None,\n",
      "    enable_streaming=None,\n",
      "    timeseries_param_dict=None,\n",
      "    gpu_training_param_dict={'processing_unit_type': 'cpu'}\n",
      ")}\n",
      "\n",
      "46 - maxabsscaler\n",
      "{'copy': True}\n",
      "\n",
      "46 - lightgbmclassifier\n",
      "{'boosting_type': 'gbdt', 'colsample_bytree': 0.4955555555555555, 'learning_rate': 0.08947473684210526, 'max_bin': 320, 'max_depth': 2, 'min_child_weight': 4, 'min_data_in_leaf': 0.041385172413793116, 'min_split_gain': 0.7368421052631579, 'n_estimators': 100, 'num_leaves': 14, 'reg_alpha': 0.3157894736842105, 'reg_lambda': 0.05263157894736842, 'subsample': 0.5447368421052632, 'random_state': None, 'n_jobs': 1, 'problem_info': ProblemInfo(\n",
      "    dataset_samples=7043,\n",
      "    dataset_features=40,\n",
      "    dataset_classes=None,\n",
      "    dataset_num_categorical=0,\n",
      "    dataset_categoricals=None,\n",
      "    pipeline_categoricals=None,\n",
      "    dataset_y_std=None,\n",
      "    dataset_uid=None,\n",
      "    subsampling=False,\n",
      "    task='classification',\n",
      "    metric=None,\n",
      "    num_threads=1,\n",
      "    pipeline_profile='none',\n",
      "    is_sparse=True,\n",
      "    runtime_constraints={'mem_in_mb': None, 'wall_time_in_s': None, 'total_wall_time_in_s': 31449600, 'cpu_time_in_s': None, 'num_processes': None, 'grace_period_in_s': None},\n",
      "    constraint_mode=1,\n",
      "    cost_mode=1,\n",
      "    training_percent=100,\n",
      "    num_recommendations=1,\n",
      "    model_names_whitelisted=None,\n",
      "    model_names_blacklisted=None,\n",
      "    kernel='linear',\n",
      "    subsampling_treatment='linear',\n",
      "    subsampling_schedule='hyperband_clip',\n",
      "    cost_mode_param=None,\n",
      "    iteration_timeout_mode=0,\n",
      "    iteration_timeout_param=None,\n",
      "    feature_column_names=None,\n",
      "    label_column_name=None,\n",
      "    weight_column_name=None,\n",
      "    cv_split_column_names=None,\n",
      "    enable_streaming=None,\n",
      "    timeseries_param_dict=None,\n",
      "    gpu_training_param_dict={'processing_unit_type': 'cpu'}\n",
      ")}\n",
      "\n",
      "21 - standardscalerwrapper\n",
      "{'module_name': 'sklearn.preprocessing._data', 'class_name': 'StandardScaler', 'copy': True, 'with_mean': False, 'with_std': True}\n",
      "\n",
      "21 - lightgbmclassifier\n",
      "{'boosting_type': 'gbdt', 'colsample_bytree': 0.8911111111111111, 'learning_rate': 0.07368684210526316, 'max_bin': 360, 'max_depth': 7, 'min_child_weight': 8, 'min_data_in_leaf': 0.06896862068965517, 'min_split_gain': 0.7368421052631579, 'n_estimators': 50, 'num_leaves': 8, 'reg_alpha': 0.894736842105263, 'reg_lambda': 0.05263157894736842, 'subsample': 0.29736842105263156, 'random_state': None, 'n_jobs': 1, 'problem_info': ProblemInfo(\n",
      "    dataset_samples=7043,\n",
      "    dataset_features=40,\n",
      "    dataset_classes=None,\n",
      "    dataset_num_categorical=0,\n",
      "    dataset_categoricals=None,\n",
      "    pipeline_categoricals=None,\n",
      "    dataset_y_std=None,\n",
      "    dataset_uid=None,\n",
      "    subsampling=False,\n",
      "    task='classification',\n",
      "    metric=None,\n",
      "    num_threads=1,\n",
      "    pipeline_profile='none',\n",
      "    is_sparse=True,\n",
      "    runtime_constraints={'mem_in_mb': None, 'wall_time_in_s': None, 'total_wall_time_in_s': 31449600, 'cpu_time_in_s': None, 'num_processes': None, 'grace_period_in_s': None},\n",
      "    constraint_mode=1,\n",
      "    cost_mode=1,\n",
      "    training_percent=100,\n",
      "    num_recommendations=1,\n",
      "    model_names_whitelisted=None,\n",
      "    model_names_blacklisted=None,\n",
      "    kernel='linear',\n",
      "    subsampling_treatment='linear',\n",
      "    subsampling_schedule='hyperband_clip',\n",
      "    cost_mode_param=None,\n",
      "    iteration_timeout_mode=0,\n",
      "    iteration_timeout_param=None,\n",
      "    feature_column_names=None,\n",
      "    label_column_name=None,\n",
      "    weight_column_name=None,\n",
      "    cv_split_column_names=None,\n",
      "    enable_streaming=None,\n",
      "    timeseries_param_dict=None,\n",
      "    gpu_training_param_dict={'processing_unit_type': 'cpu'}\n",
      ")}\n",
      "\n",
      "40 - sparsenormalizer\n",
      "{'norm': 'l2', 'copy': True}\n",
      "\n",
      "40 - xgboostclassifier\n",
      "{'base_score': 0.5, 'booster': 'gbtree', 'colsample_bylevel': 1, 'colsample_bynode': 1, 'colsample_bytree': 1, 'gamma': 0, 'learning_rate': 0.1, 'max_delta_step': 0, 'max_depth': 3, 'min_child_weight': 1, 'missing': nan, 'n_estimators': 25, 'n_jobs': 1, 'nthread': None, 'objective': 'reg:logistic', 'random_state': 0, 'reg_alpha': 1.7708333333333335, 'reg_lambda': 1.875, 'scale_pos_weight': 1, 'seed': None, 'silent': None, 'subsample': 0.7, 'verbosity': 0, 'eta': 0.2, 'max_leaves': 7, 'tree_method': 'auto', 'verbose': -10}\n",
      "\n",
      "23 - maxabsscaler\n",
      "{'copy': True}\n",
      "\n",
      "23 - lightgbmclassifier\n",
      "{'boosting_type': 'goss', 'colsample_bytree': 0.7922222222222222, 'learning_rate': 0.06316157894736842, 'max_bin': 250, 'max_depth': 7, 'min_child_weight': 1, 'min_data_in_leaf': 0.08965620689655174, 'min_split_gain': 0.8421052631578947, 'n_estimators': 400, 'num_leaves': 149, 'reg_alpha': 0.15789473684210525, 'reg_lambda': 0.7894736842105263, 'subsample': 1, 'random_state': None, 'n_jobs': 1, 'problem_info': ProblemInfo(\n",
      "    dataset_samples=7043,\n",
      "    dataset_features=40,\n",
      "    dataset_classes=None,\n",
      "    dataset_num_categorical=0,\n",
      "    dataset_categoricals=None,\n",
      "    pipeline_categoricals=None,\n",
      "    dataset_y_std=None,\n",
      "    dataset_uid=None,\n",
      "    subsampling=False,\n",
      "    task='classification',\n",
      "    metric=None,\n",
      "    num_threads=1,\n",
      "    pipeline_profile='none',\n",
      "    is_sparse=True,\n",
      "    runtime_constraints={'mem_in_mb': None, 'wall_time_in_s': None, 'total_wall_time_in_s': 31449600, 'cpu_time_in_s': None, 'num_processes': None, 'grace_period_in_s': None},\n",
      "    constraint_mode=1,\n",
      "    cost_mode=1,\n",
      "    training_percent=100,\n",
      "    num_recommendations=1,\n",
      "    model_names_whitelisted=None,\n",
      "    model_names_blacklisted=None,\n",
      "    kernel='linear',\n",
      "    subsampling_treatment='linear',\n",
      "    subsampling_schedule='hyperband_clip',\n",
      "    cost_mode_param=None,\n",
      "    iteration_timeout_mode=0,\n",
      "    iteration_timeout_param=None,\n",
      "    feature_column_names=None,\n",
      "    label_column_name=None,\n",
      "    weight_column_name=None,\n",
      "    cv_split_column_names=None,\n",
      "    enable_streaming=None,\n",
      "    timeseries_param_dict=None,\n",
      "    gpu_training_param_dict={'processing_unit_type': 'cpu'}\n",
      ")}\n",
      "\n"
     ]
    }
   ],
   "source": [
    "def print_model(fitted_model, prefix=\"\"):\n",
    "    for step in fitted_model.steps:\n",
    "        print(prefix + step[0])\n",
    "        if hasattr(step[1], 'estimators') and hasattr(step[1], 'weights'):\n",
    "            print({'estimators': list(\n",
    "                e[0] for e in step[1].estimators), 'weights': step[1].weights})\n",
    "            print()\n",
    "            for estimator in step[1].estimators:\n",
    "                print_model(estimator[1], estimator[0] + ' - ')\n",
    "        else:\n",
    "            print(step[1].get_params())\n",
    "            print()\n",
    "\n",
    "print_model(best_model)"
   ]
  },
  {
   "cell_type": "markdown",
   "metadata": {},
   "source": [
    "### Best Model: Parameters:\n",
    "#### Algorithmn: VotingClassifier\n",
    "#### Estimators: ['12', '1', '15', '29', '32', '36', '14', '6', '33']\n",
    "#### Weights: [0.08333333333333333, 0.08333333333333333, 0.16666666666666666, 0.08333333333333333, 0.08333333333333333, 0.08333333333333333, 0.16666666666666666, 0.16666666666666666, 0.08333333333333333]}"
   ]
  },
  {
   "cell_type": "markdown",
   "metadata": {},
   "source": [
    "## Model Deployment\n",
    "\n",
    "Remember you have to deploy only one of the two models you trained.. Perform the steps in the rest of this notebook only if you wish to deploy this model.\n",
    "\n",
    "TODO: In the cell below, register the model, create an inference config and deploy the model as a web service."
   ]
  },
  {
   "cell_type": "code",
   "execution_count": 23,
   "metadata": {
    "gather": {
     "logged": 1598431435189
    },
    "jupyter": {
     "outputs_hidden": false,
     "source_hidden": false
    },
    "nteract": {
     "transient": {
      "deleting": false
     }
    },
    "scrolled": true
   },
   "outputs": [
    {
     "name": "stdout",
     "output_type": "stream",
     "text": [
      "Registering model best_run_automl\n",
      "best_run_automl\tbest_run_automl:9\t9\n"
     ]
    }
   ],
   "source": [
    "from azureml.core.model import Model\n",
    "from azureml.core.environment import Environment\n",
    "from azureml.core.model import InferenceConfig\n",
    "from azureml.core.webservice import LocalWebservice, Webservice, AciWebservice\n",
    "from azureml.core.conda_dependencies import CondaDependencies\n",
    "import azureml.train.automl\n",
    "\n",
    "model = Model.register(workspace = ws, model_name = 'best_run_automl', model_path = 'best_run_automl.pkl')\n",
    "print(model.name, model.id, model.version, sep='\\t')\n",
    "\n",
    "# Create the environment\n",
    "env = best_automl.get_environment()\n",
    "#conda_dep = CondaDependencies()\n"
   ]
  },
  {
   "cell_type": "code",
   "execution_count": 24,
   "metadata": {},
   "outputs": [],
   "source": [
    "inference_config = InferenceConfig(entry_script='score.py', environment=env)"
   ]
  },
  {
   "cell_type": "code",
   "execution_count": 26,
   "metadata": {
    "scrolled": false
   },
   "outputs": [
    {
     "name": "stdout",
     "output_type": "stream",
     "text": [
      "Tips: You can try get_logs(): https://aka.ms/debugimage#dockerlog or local deployment: https://aka.ms/debugimage#debug-locally to debug if deployment takes longer than 10 minutes.\n",
      "Running\n",
      "2021-07-31 16:40:55+00:00 Creating Container Registry if not exists.\n",
      "2021-07-31 16:40:55+00:00 Registering the environment.\n",
      "2021-07-31 16:40:56+00:00 Use the existing image.\n",
      "2021-07-31 16:40:56+00:00 Generating deployment configuration.\n",
      "2021-07-31 16:40:57+00:00 Submitting deployment to compute.\n",
      "2021-07-31 16:41:00+00:00 Checking the status of deployment telco-churn-automl..\n",
      "2021-07-31 16:42:49+00:00 Checking the status of inference endpoint telco-churn-automl.\n",
      "Succeeded\n",
      "ACI service creation operation finished, operation \"Succeeded\"\n",
      "Healthy\n",
      "http://26b748f7-230d-4276-8193-b1763c671b84.eastus2.azurecontainer.io/score\n",
      "http://26b748f7-230d-4276-8193-b1763c671b84.eastus2.azurecontainer.io/swagger.json\n"
     ]
    }
   ],
   "source": [
    "\n",
    "deployment_config = AciWebservice.deploy_configuration(cpu_cores=1, memory_gb=4, enable_app_insights=True)\n",
    "service = Model.deploy(ws, \"telco-churn-automl\", [model], inference_config, deployment_config)\n",
    "service.wait_for_deployment(show_output = True)\n",
    "\n",
    "print(service.state)\n",
    "print(service.scoring_uri)\n",
    "print(service.swagger_uri)"
   ]
  },
  {
   "cell_type": "markdown",
   "metadata": {
    "collapsed": true,
    "gather": {
     "logged": 1598431657736
    },
    "jupyter": {
     "outputs_hidden": false,
     "source_hidden": false
    },
    "nteract": {
     "transient": {
      "deleting": false
     }
    }
   },
   "source": [
    "TODO: In the cell below, send a request to the web service you deployed to test it."
   ]
  },
  {
   "cell_type": "code",
   "execution_count": 27,
   "metadata": {
    "gather": {
     "logged": 1598432707604
    },
    "jupyter": {
     "outputs_hidden": false,
     "source_hidden": false
    },
    "nteract": {
     "transient": {
      "deleting": false
     }
    },
    "scrolled": true
   },
   "outputs": [
    {
     "name": "stdout",
     "output_type": "stream",
     "text": [
      "Scoring URI: http://26b748f7-230d-4276-8193-b1763c671b84.eastus2.azurecontainer.io/score\n"
     ]
    }
   ],
   "source": [
    "print(\"Scoring URI: \" + service.scoring_uri)"
   ]
  },
  {
   "cell_type": "code",
   "execution_count": 28,
   "metadata": {},
   "outputs": [
    {
     "name": "stdout",
     "output_type": "stream",
     "text": [
      "[False, False]\n"
     ]
    }
   ],
   "source": [
    "import json\n",
    "data = {\"data\":\n",
    "        [\n",
    "          {\n",
    "            \"gender\" :\"Female\",\n",
    "            \"SeniorCitizen\" :0,\n",
    "            \"Partner\" :0,\n",
    "            \"Dependents\" :0,\n",
    "            \"tenure\" :1,\n",
    "            \"PhoneService\" :0,\n",
    "            \"MultipleLines\" :\"No phone service\",\n",
    "            \"InternetService\" :\"DSL\",\n",
    "            \"OnlineSecurity\" :0,\n",
    "            \"OnlineBackup\" :0,\n",
    "            \"DeviceProtection\" :0,\n",
    "            \"TechSupport\" :0,\n",
    "            \"StreamingTV\" :0,\n",
    "            \"StreamingMovies\" :0,\n",
    "            \"Contract\" :\"Month-to-month\",\n",
    "            \"PaperlessBilling\" :1,\n",
    "            \"PaymentMethod\" :\"Electronic check\",\n",
    "            \"MonthlyCharges\" :1500.85,\n",
    "            \"TotalCharges\" :1500.85,\n",
    "          },\n",
    "            \n",
    "        {\n",
    "            \"gender\" :\"Male\",\n",
    "            \"SeniorCitizen\" :1,\n",
    "            \"Partner\" :1,\n",
    "            \"Dependents\" :0,\n",
    "            \"tenure\" :0,\n",
    "            \"PhoneService\" :0,\n",
    "            \"MultipleLines\" :\"No phone service\",\n",
    "            \"InternetService\" :\"DSL\",\n",
    "            \"OnlineSecurity\" :0,\n",
    "            \"OnlineBackup\" :0,\n",
    "            \"DeviceProtection\" :0,\n",
    "            \"TechSupport\" :0,\n",
    "            \"StreamingTV\" :0,\n",
    "            \"StreamingMovies\" :0,\n",
    "            \"Contract\" :\"Month-to-month\",\n",
    "            \"PaperlessBilling\" :0,\n",
    "            \"PaymentMethod\" :\"Electronic check\",\n",
    "            \"MonthlyCharges\" :20.50,\n",
    "            \"TotalCharges\" :20.50,\n",
    "            \n",
    "        }\n",
    "      ]}\n",
    "test_sample = json.dumps(data)\n",
    "output= service.run(test_sample)\n",
    "print(output)"
   ]
  },
  {
   "cell_type": "code",
   "execution_count": 29,
   "metadata": {},
   "outputs": [
    {
     "name": "stdout",
     "output_type": "stream",
     "text": [
      "[False, False]\n"
     ]
    }
   ],
   "source": [
    "%run endpoint.py"
   ]
  },
  {
   "cell_type": "markdown",
   "metadata": {
    "collapsed": true,
    "gather": {
     "logged": 1598432765711
    },
    "jupyter": {
     "outputs_hidden": false,
     "source_hidden": false
    },
    "nteract": {
     "transient": {
      "deleting": false
     }
    }
   },
   "source": [
    "TODO: In the cell below, print the logs of the web service and delete the service"
   ]
  },
  {
   "cell_type": "code",
   "execution_count": 30,
   "metadata": {
    "jupyter": {
     "outputs_hidden": false,
     "source_hidden": false
    },
    "nteract": {
     "transient": {
      "deleting": false
     }
    }
   },
   "outputs": [
    {
     "name": "stdout",
     "output_type": "stream",
     "text": [
      "2021-07-31T16:42:39,477720300+00:00 - rsyslog/run \n",
      "2021-07-31T16:42:39,479467900+00:00 - iot-server/run \n",
      "2021-07-31T16:42:39,483973900+00:00 - gunicorn/run \n",
      "Dynamic Python package installation is disabled.\n",
      "Starting HTTP server\n",
      "2021-07-31T16:42:39,504782400+00:00 - nginx/run \n",
      "rsyslogd: /azureml-envs/azureml_fc92eee9a5613508afa12283dd0b27d8/lib/libuuid.so.1: no version information available (required by rsyslogd)\n",
      "EdgeHubConnectionString and IOTEDGE_IOTHUBHOSTNAME are not set. Exiting...\n",
      "2021-07-31T16:42:39,917575100+00:00 - iot-server/finish 1 0\n",
      "2021-07-31T16:42:39,920046700+00:00 - Exit code 1 is normal. Not restarting iot-server.\n",
      "Starting gunicorn 20.1.0\n",
      "Listening at: http://127.0.0.1:31311 (63)\n",
      "Using worker: sync\n",
      "worker timeout is set to 300\n",
      "Booting worker with pid: 90\n",
      "SPARK_HOME not set. Skipping PySpark Initialization.\n",
      "Generating new fontManager, this may take some time...\n",
      "Initializing logger\n",
      "2021-07-31 16:42:42,916 | root | INFO | Starting up app insights client\n",
      "logging socket was found. logging is available.\n",
      "logging socket was found. logging is available.\n",
      "2021-07-31 16:42:42,917 | root | INFO | Starting up request id generator\n",
      "2021-07-31 16:42:42,917 | root | INFO | Starting up app insight hooks\n",
      "2021-07-31 16:42:42,917 | root | INFO | Invoking user's init function\n",
      "2021-07-31 16:42:47,003 | azureml.core | WARNING | Failure while loading azureml_run_type_providers. Failed to load entrypoint automl = azureml.train.automl.run:AutoMLRun._from_run_dto with exception cannot import name 'RunType'.\n",
      "Failure while loading azureml_run_type_providers. Failed to load entrypoint automl = azureml.train.automl.run:AutoMLRun._from_run_dto with exception cannot import name 'RunType'.\n",
      "2021-07-31 16:42:47,545 | root | INFO | Users's init has completed successfully\n",
      "/azureml-envs/azureml_fc92eee9a5613508afa12283dd0b27d8/lib/python3.6/site-packages/sklearn/externals/joblib/__init__.py:15: FutureWarning: sklearn.externals.joblib is deprecated in 0.21 and will be removed in 0.23. Please import this functionality directly from joblib, which can be installed with: pip install joblib. If this warning is raised when loading pickled models, you may need to re-serialize those models with scikit-learn 0.21+.\n",
      "  warnings.warn(msg, category=FutureWarning)\n",
      "2021-07-31 16:42:47,549 | root | INFO | Skipping middleware: dbg_model_info as it's not enabled.\n",
      "2021-07-31 16:42:47,552 | root | INFO | Skipping middleware: dbg_resource_usage as it's not enabled.\n",
      "2021-07-31 16:42:47,555 | root | INFO | Scoring timeout is found from os.environ: 60000 ms\n",
      "2021-07-31 16:42:49,110 | root | INFO | Swagger file not present\n",
      "2021-07-31 16:42:49,111 | root | INFO | 404\n",
      "127.0.0.1 - - [31/Jul/2021:16:42:49 +0000] \"GET /swagger.json HTTP/1.0\" 404 19 \"-\" \"Go-http-client/1.1\"\n",
      "2021-07-31 16:42:51,460 | root | INFO | Swagger file not present\n",
      "2021-07-31 16:42:51,460 | root | INFO | 404\n",
      "127.0.0.1 - - [31/Jul/2021:16:42:51 +0000] \"GET /swagger.json HTTP/1.0\" 404 19 \"-\" \"Go-http-client/1.1\"\n",
      "2021-07-31 16:42:51,508 | root | INFO | Scoring Timer is set to 60.0 seconds\n",
      "2021-07-31 16:42:51,629 | root | INFO | 200\n",
      "127.0.0.1 - - [31/Jul/2021:16:42:51 +0000] \"POST /score HTTP/1.0\" 200 14 \"-\" \"python-requests/2.25.1\"\n",
      "2021-07-31 16:43:24,719 | root | INFO | Scoring Timer is set to 60.0 seconds\n",
      "2021-07-31 16:43:24,825 | root | INFO | 200\n",
      "127.0.0.1 - - [31/Jul/2021:16:43:24 +0000] \"POST /score HTTP/1.0\" 200 14 \"-\" \"python-requests/2.25.1\"\n",
      "\n"
     ]
    }
   ],
   "source": [
    "print(service.get_logs())"
   ]
  },
  {
   "cell_type": "code",
   "execution_count": 31,
   "metadata": {},
   "outputs": [],
   "source": [
    "service.delete()"
   ]
  },
  {
   "cell_type": "code",
   "execution_count": null,
   "metadata": {},
   "outputs": [],
   "source": []
  }
 ],
 "metadata": {
  "kernel_info": {
   "name": "python3-azureml"
  },
  "kernelspec": {
   "display_name": "Python 3",
   "language": "python",
   "name": "python3"
  },
  "language_info": {
   "codemirror_mode": {
    "name": "ipython",
    "version": 3
   },
   "file_extension": ".py",
   "mimetype": "text/x-python",
   "name": "python",
   "nbconvert_exporter": "python",
   "pygments_lexer": "ipython3",
   "version": "3.6.9"
  },
  "nteract": {
   "version": "nteract-front-end@1.0.0"
  }
 },
 "nbformat": 4,
 "nbformat_minor": 2
}
