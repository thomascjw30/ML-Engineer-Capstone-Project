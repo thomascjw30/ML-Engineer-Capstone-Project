{
  "cells": [
    {
      "cell_type": "markdown",
      "source": [
        "# Automated ML\n",
        "\n",
        "TODO: Import Dependencies. In the cell below, import all the dependencies that you will need to complete the project."
      ],
      "metadata": {}
    },
    {
      "cell_type": "code",
      "source": [
        "\n",
        "import logging\n",
        "import os\n",
        "import csv\n",
        "\n",
        "from matplotlib import pyplot as plt\n",
        "import numpy as np\n",
        "import pandas as pd\n",
        "from sklearn import datasets\n",
        "import pkg_resources\n",
        "\n",
        "import azureml.core\n",
        "from azureml.core.experiment import Experiment\n",
        "from azureml.core.workspace import Workspace\n",
        "from azureml.train.automl import AutoMLConfig\n",
        "from azureml.core.dataset import Dataset\n",
        "\n",
        "from azureml.pipeline.steps import AutoMLStep\n",
        "\n",
        "# Check core SDK version number\n",
        "print(\"SDK version:\", azureml.core.VERSION)"
      ],
      "outputs": [
        {
          "output_type": "stream",
          "name": "stdout",
          "text": [
            "SDK version: 1.31.0\n"
          ]
        }
      ],
      "execution_count": 1,
      "metadata": {
        "gather": {
          "logged": 1598423888013
        },
        "jupyter": {
          "outputs_hidden": false,
          "source_hidden": false
        },
        "nteract": {
          "transient": {
            "deleting": false
          }
        }
      }
    },
    {
      "cell_type": "markdown",
      "source": [
        "## Dataset\n",
        "\n",
        "### Overview\n",
        "TODO: In this markdown cell, give an overview of the dataset you are using. Also mention the task you will be performing.\n",
        "\n",
        "\n",
        "TODO: Get data. In the cell below, write code to access the data you will be using in this project. Remember that the dataset needs to be external."
      ],
      "metadata": {}
    },
    {
      "cell_type": "code",
      "source": [
        "ws = Workspace.from_config()\n",
        "\n",
        "# choose a name for experiment\n",
        "experiment_name = 'automl-telco-churn'\n",
        "\n",
        "experiment=Experiment(ws, experiment_name)"
      ],
      "outputs": [],
      "execution_count": 2,
      "metadata": {
        "gather": {
          "logged": 1598423890461
        },
        "jupyter": {
          "outputs_hidden": false,
          "source_hidden": false
        },
        "nteract": {
          "transient": {
            "deleting": false
          }
        }
      }
    },
    {
      "cell_type": "markdown",
      "source": [
        "## AutoML Configuration\n",
        "\n",
        "TODO: Explain why you chose the automl settings and cofiguration you used below."
      ],
      "metadata": {}
    },
    {
      "cell_type": "code",
      "source": [
        "from azureml.core.compute import AmlCompute\n",
        "from azureml.core.compute import ComputeTarget\n",
        "from azureml.core.compute_target import ComputeTargetException\n",
        "\n",
        "\n",
        "cpu_cluster_name = \"cpucluster\"\n",
        "\n",
        "# Verify that cluster does not exist already\n",
        "try:\n",
        "    compute_target = ComputeTarget(workspace=ws, name=cpu_cluster_name)\n",
        "    print('Found existing cluster, use it.')\n",
        "except ComputeTargetException:\n",
        "    compute_config = AmlCompute.provisioning_configuration(vm_size='STANDARD_D2_V2',# for GPU, use \"STANDARD_NC6\"\n",
        "                                                           #vm_priority = 'lowpriority', # optional\n",
        "                                                           max_nodes=4)\n",
        "    compute_target = ComputeTarget.create(ws, amlcompute_cluster_name, compute_config)\n",
        "\n",
        "compute_target.wait_for_completion(show_output=True)\n"
      ],
      "outputs": [
        {
          "output_type": "stream",
          "name": "stdout",
          "text": [
            "Found existing cluster, use it.\n",
            "Succeeded\n",
            "AmlCompute wait for completion finished\n",
            "\n",
            "Minimum number of nodes requested have been provisioned\n"
          ]
        }
      ],
      "execution_count": 3,
      "metadata": {
        "gather": {
          "logged": 1598429217746
        },
        "jupyter": {
          "outputs_hidden": false,
          "source_hidden": false
        },
        "nteract": {
          "transient": {
            "deleting": false
          }
        },
        "scrolled": true
      }
    },
    {
      "cell_type": "code",
      "source": [
        "from azureml.data.dataset_factory import TabularDatasetFactory\n",
        "from azureml.data.dataset_factory import DataType\n",
        "\n",
        "#file uploaded to github\n",
        "url = \"https://raw.githubusercontent.com/thomascjw30/ML-Engineer-Capstone-Project/main/WA_Fn-UseC_-Telco-Customer-Churn.csv\"\n",
        "\n",
        "# pass url to Tabular dataset.  Note this is different to pandas dataframe, and gets converted to a dataframe in the function.\n",
        "\n",
        "dataset = TabularDatasetFactory.from_delimited_files(url,header = True)\n",
        "\n",
        "#Drop columns that are not needed 'customerID'\n",
        "dataset = dataset.drop_columns(['customerID'])\n",
        "\n"
      ],
      "outputs": [],
      "execution_count": 4,
      "metadata": {}
    },
    {
      "cell_type": "code",
      "source": [
        "ds = dataset.to_pandas_dataframe()\n",
        "ds.head(5)"
      ],
      "outputs": [
        {
          "output_type": "execute_result",
          "execution_count": 5,
          "data": {
            "text/html": "<div>\n<style scoped>\n    .dataframe tbody tr th:only-of-type {\n        vertical-align: middle;\n    }\n\n    .dataframe tbody tr th {\n        vertical-align: top;\n    }\n\n    .dataframe thead th {\n        text-align: right;\n    }\n</style>\n<table border=\"1\" class=\"dataframe\">\n  <thead>\n    <tr style=\"text-align: right;\">\n      <th></th>\n      <th>gender</th>\n      <th>SeniorCitizen</th>\n      <th>Partner</th>\n      <th>Dependents</th>\n      <th>tenure</th>\n      <th>PhoneService</th>\n      <th>MultipleLines</th>\n      <th>InternetService</th>\n      <th>OnlineSecurity</th>\n      <th>OnlineBackup</th>\n      <th>DeviceProtection</th>\n      <th>TechSupport</th>\n      <th>StreamingTV</th>\n      <th>StreamingMovies</th>\n      <th>Contract</th>\n      <th>PaperlessBilling</th>\n      <th>PaymentMethod</th>\n      <th>MonthlyCharges</th>\n      <th>TotalCharges</th>\n      <th>Churn</th>\n    </tr>\n  </thead>\n  <tbody>\n    <tr>\n      <th>0</th>\n      <td>Female</td>\n      <td>0</td>\n      <td>True</td>\n      <td>False</td>\n      <td>1</td>\n      <td>False</td>\n      <td>No phone service</td>\n      <td>DSL</td>\n      <td>No</td>\n      <td>Yes</td>\n      <td>No</td>\n      <td>No</td>\n      <td>No</td>\n      <td>No</td>\n      <td>Month-to-month</td>\n      <td>True</td>\n      <td>Electronic check</td>\n      <td>29.85</td>\n      <td>29.85</td>\n      <td>False</td>\n    </tr>\n    <tr>\n      <th>1</th>\n      <td>Male</td>\n      <td>0</td>\n      <td>False</td>\n      <td>False</td>\n      <td>34</td>\n      <td>True</td>\n      <td>No</td>\n      <td>DSL</td>\n      <td>Yes</td>\n      <td>No</td>\n      <td>Yes</td>\n      <td>No</td>\n      <td>No</td>\n      <td>No</td>\n      <td>One year</td>\n      <td>False</td>\n      <td>Mailed check</td>\n      <td>56.95</td>\n      <td>1889.50</td>\n      <td>False</td>\n    </tr>\n    <tr>\n      <th>2</th>\n      <td>Male</td>\n      <td>0</td>\n      <td>False</td>\n      <td>False</td>\n      <td>2</td>\n      <td>True</td>\n      <td>No</td>\n      <td>DSL</td>\n      <td>Yes</td>\n      <td>Yes</td>\n      <td>No</td>\n      <td>No</td>\n      <td>No</td>\n      <td>No</td>\n      <td>Month-to-month</td>\n      <td>True</td>\n      <td>Mailed check</td>\n      <td>53.85</td>\n      <td>108.15</td>\n      <td>True</td>\n    </tr>\n    <tr>\n      <th>3</th>\n      <td>Male</td>\n      <td>0</td>\n      <td>False</td>\n      <td>False</td>\n      <td>45</td>\n      <td>False</td>\n      <td>No phone service</td>\n      <td>DSL</td>\n      <td>Yes</td>\n      <td>No</td>\n      <td>Yes</td>\n      <td>Yes</td>\n      <td>No</td>\n      <td>No</td>\n      <td>One year</td>\n      <td>False</td>\n      <td>Bank transfer (automatic)</td>\n      <td>42.30</td>\n      <td>1840.75</td>\n      <td>False</td>\n    </tr>\n    <tr>\n      <th>4</th>\n      <td>Female</td>\n      <td>0</td>\n      <td>False</td>\n      <td>False</td>\n      <td>2</td>\n      <td>True</td>\n      <td>No</td>\n      <td>Fiber optic</td>\n      <td>No</td>\n      <td>No</td>\n      <td>No</td>\n      <td>No</td>\n      <td>No</td>\n      <td>No</td>\n      <td>Month-to-month</td>\n      <td>True</td>\n      <td>Electronic check</td>\n      <td>70.70</td>\n      <td>151.65</td>\n      <td>True</td>\n    </tr>\n  </tbody>\n</table>\n</div>",
            "text/plain": "   gender  SeniorCitizen  Partner  Dependents  tenure  PhoneService  \\\n0  Female              0     True       False       1         False   \n1    Male              0    False       False      34          True   \n2    Male              0    False       False       2          True   \n3    Male              0    False       False      45         False   \n4  Female              0    False       False       2          True   \n\n      MultipleLines InternetService OnlineSecurity OnlineBackup  \\\n0  No phone service             DSL             No          Yes   \n1                No             DSL            Yes           No   \n2                No             DSL            Yes          Yes   \n3  No phone service             DSL            Yes           No   \n4                No     Fiber optic             No           No   \n\n  DeviceProtection TechSupport StreamingTV StreamingMovies        Contract  \\\n0               No          No          No              No  Month-to-month   \n1              Yes          No          No              No        One year   \n2               No          No          No              No  Month-to-month   \n3              Yes         Yes          No              No        One year   \n4               No          No          No              No  Month-to-month   \n\n   PaperlessBilling              PaymentMethod  MonthlyCharges  TotalCharges  \\\n0              True           Electronic check           29.85         29.85   \n1             False               Mailed check           56.95       1889.50   \n2              True               Mailed check           53.85        108.15   \n3             False  Bank transfer (automatic)           42.30       1840.75   \n4              True           Electronic check           70.70        151.65   \n\n   Churn  \n0  False  \n1  False  \n2   True  \n3  False  \n4   True  "
          },
          "metadata": {}
        }
      ],
      "execution_count": 5,
      "metadata": {
        "scrolled": true
      }
    },
    {
      "cell_type": "code",
      "source": [
        "\n",
        "# TODO: Put your automl config here\n",
        "automl_settings = {\n",
        "    \"experiment_timeout_minutes\": 30,\n",
        "    \"max_concurrent_iterations\": 10,\n",
        "    \"primary_metric\" : 'accuracy'\n",
        "}\n",
        "automl_config = AutoMLConfig(compute_target=compute_target,\n",
        "                             task = \"classification\",\n",
        "                             training_data=dataset,\n",
        "                             label_column_name=\"Churn\",   \n",
        "                             path = './telco_project',\n",
        "                             enable_early_stopping= True,\n",
        "                             featurization= 'auto',\n",
        "                             debug_log = \"automl_errors.log\",\n",
        "                             **automl_settings\n",
        "                            )\n",
        "\n",
        "#automl_config = AutoMLConfig()"
      ],
      "outputs": [],
      "execution_count": 6,
      "metadata": {}
    },
    {
      "cell_type": "code",
      "source": [
        "# TODO: Submit your experiment\n",
        "remote_run = experiment.submit(automl_config)"
      ],
      "outputs": [
        {
          "output_type": "stream",
          "name": "stdout",
          "text": [
            "Submitting remote run.\n"
          ]
        },
        {
          "output_type": "display_data",
          "data": {
            "text/html": "<table style=\"width:100%\"><tr><th>Experiment</th><th>Id</th><th>Type</th><th>Status</th><th>Details Page</th><th>Docs Page</th></tr><tr><td>automl-telco-churn</td><td>AutoML_5f84fc51-a209-4bae-a867-b016ddf108ef</td><td>automl</td><td>NotStarted</td><td><a href=\"https://ml.azure.com/runs/AutoML_5f84fc51-a209-4bae-a867-b016ddf108ef?wsid=/subscriptions/57edfb84-e1fe-4fdf-8da0-d05684406ce1/resourcegroups/udacity-project-3/workspaces/udacity-p3&amp;tid=69c15541-01ca-426a-a860-b0b1c1a0e229\" target=\"_blank\" rel=\"noopener\">Link to Azure Machine Learning studio</a></td><td><a href=\"https://docs.microsoft.com/en-us/python/api/overview/azure/ml/intro?view=azure-ml-py\" target=\"_blank\" rel=\"noopener\">Link to Documentation</a></td></tr></table>",
            "text/plain": "<IPython.core.display.HTML object>"
          },
          "metadata": {}
        }
      ],
      "execution_count": 7,
      "metadata": {
        "gather": {
          "logged": 1598431107951
        },
        "jupyter": {
          "outputs_hidden": false,
          "source_hidden": false
        },
        "nteract": {
          "transient": {
            "deleting": false
          }
        }
      }
    },
    {
      "cell_type": "markdown",
      "source": [
        "## Run Details\n",
        "\n",
        "OPTIONAL: Write about the different models trained and their performance. Why do you think some models did better than others?\n",
        "\n",
        "TODO: In the cell below, use the `RunDetails` widget to show the different experiments."
      ],
      "metadata": {}
    },
    {
      "cell_type": "code",
      "source": [
        "from azureml.widgets import RunDetails\n",
        "RunDetails(remote_run).show()"
      ],
      "outputs": [
        {
          "output_type": "display_data",
          "data": {
            "application/vnd.jupyter.widget-view+json": {
              "model_id": "f15f7477405040049e7d6f299b75ca6e",
              "version_major": 2,
              "version_minor": 0
            },
            "text/plain": "_AutoMLWidget(widget_settings={'childWidgetDisplay': 'popup', 'send_telemetry': False, 'log_level': 'INFO', 's…"
          },
          "metadata": {}
        },
        {
          "output_type": "display_data",
          "data": {
            "application/aml.mini.widget.v1": "{\"status\": \"Completed\", \"workbench_run_details_uri\": \"https://ml.azure.com/runs/AutoML_5f84fc51-a209-4bae-a867-b016ddf108ef?wsid=/subscriptions/57edfb84-e1fe-4fdf-8da0-d05684406ce1/resourcegroups/udacity-project-3/workspaces/udacity-p3&tid=69c15541-01ca-426a-a860-b0b1c1a0e229\", \"run_id\": \"AutoML_5f84fc51-a209-4bae-a867-b016ddf108ef\", \"run_properties\": {\"run_id\": \"AutoML_5f84fc51-a209-4bae-a867-b016ddf108ef\", \"created_utc\": \"2021-07-28T00:04:07.186772Z\", \"properties\": {\"num_iterations\": \"1000\", \"training_type\": \"TrainFull\", \"acquisition_function\": \"EI\", \"primary_metric\": \"accuracy\", \"train_split\": \"0\", \"acquisition_parameter\": \"0\", \"num_cross_validation\": null, \"target\": \"cpucluster\", \"AMLSettingsJsonString\": \"{\\\"path\\\":null,\\\"name\\\":\\\"automl-telco-churn\\\",\\\"subscription_id\\\":\\\"57edfb84-e1fe-4fdf-8da0-d05684406ce1\\\",\\\"resource_group\\\":\\\"udacity-project-3\\\",\\\"workspace_name\\\":\\\"udacity-p3\\\",\\\"region\\\":\\\"eastus2\\\",\\\"compute_target\\\":\\\"cpucluster\\\",\\\"spark_service\\\":null,\\\"azure_service\\\":\\\"remote\\\",\\\"many_models\\\":false,\\\"pipeline_fetch_max_batch_size\\\":1,\\\"enable_batch_run\\\":false,\\\"enable_run_restructure\\\":false,\\\"start_auxiliary_runs_before_parent_complete\\\":false,\\\"enable_code_generation\\\":false,\\\"iterations\\\":1000,\\\"primary_metric\\\":\\\"accuracy\\\",\\\"task_type\\\":\\\"classification\\\",\\\"data_script\\\":null,\\\"test_size\\\":0.0,\\\"validation_size\\\":0.0,\\\"n_cross_validations\\\":null,\\\"y_min\\\":null,\\\"y_max\\\":null,\\\"num_classes\\\":null,\\\"featurization\\\":\\\"auto\\\",\\\"_ignore_package_version_incompatibilities\\\":false,\\\"is_timeseries\\\":false,\\\"max_cores_per_iteration\\\":1,\\\"max_concurrent_iterations\\\":10,\\\"iteration_timeout_minutes\\\":null,\\\"mem_in_mb\\\":null,\\\"enforce_time_on_windows\\\":false,\\\"experiment_timeout_minutes\\\":30,\\\"experiment_exit_score\\\":null,\\\"whitelist_models\\\":null,\\\"blacklist_algos\\\":[\\\"TensorFlowLinearClassifier\\\",\\\"TensorFlowDNN\\\"],\\\"supported_models\\\":[\\\"LogisticRegression\\\",\\\"MultinomialNaiveBayes\\\",\\\"SVM\\\",\\\"TensorFlowDNN\\\",\\\"AveragedPerceptronClassifier\\\",\\\"LightGBM\\\",\\\"KNN\\\",\\\"TensorFlowLinearClassifier\\\",\\\"DecisionTree\\\",\\\"ExtremeRandomTrees\\\",\\\"SGD\\\",\\\"RandomForest\\\",\\\"LinearSVM\\\",\\\"GradientBoosting\\\",\\\"XGBoostClassifier\\\",\\\"BernoulliNaiveBayes\\\"],\\\"private_models\\\":[],\\\"auto_blacklist\\\":true,\\\"blacklist_samples_reached\\\":false,\\\"exclude_nan_labels\\\":true,\\\"verbosity\\\":20,\\\"_debug_log\\\":\\\"azureml_automl.log\\\",\\\"show_warnings\\\":false,\\\"model_explainability\\\":true,\\\"service_url\\\":null,\\\"sdk_url\\\":null,\\\"sdk_packages\\\":null,\\\"enable_onnx_compatible_models\\\":false,\\\"enable_split_onnx_featurizer_estimator_models\\\":false,\\\"vm_type\\\":\\\"STANDARD_D2_V2\\\",\\\"telemetry_verbosity\\\":20,\\\"send_telemetry\\\":true,\\\"enable_dnn\\\":false,\\\"scenario\\\":\\\"SDK-1.13.0\\\",\\\"environment_label\\\":null,\\\"save_mlflow\\\":false,\\\"force_text_dnn\\\":false,\\\"enable_feature_sweeping\\\":true,\\\"enable_early_stopping\\\":true,\\\"early_stopping_n_iters\\\":10,\\\"metrics\\\":null,\\\"enable_metric_confidence\\\":false,\\\"enable_ensembling\\\":true,\\\"enable_stack_ensembling\\\":true,\\\"ensemble_iterations\\\":15,\\\"enable_tf\\\":false,\\\"enable_subsampling\\\":null,\\\"subsample_seed\\\":null,\\\"enable_nimbusml\\\":false,\\\"enable_streaming\\\":false,\\\"force_streaming\\\":false,\\\"track_child_runs\\\":true,\\\"allowed_private_models\\\":[],\\\"label_column_name\\\":\\\"Churn\\\",\\\"weight_column_name\\\":null,\\\"cv_split_column_names\\\":null,\\\"enable_local_managed\\\":false,\\\"_local_managed_run_id\\\":null,\\\"cost_mode\\\":1,\\\"lag_length\\\":0,\\\"metric_operation\\\":\\\"maximize\\\",\\\"preprocess\\\":true}\", \"DataPrepJsonString\": \"{\\\\\\\"training_data\\\\\\\": {\\\\\\\"datasetId\\\\\\\": \\\\\\\"59a8b663-3a47-4159-b25e-60c0ba54c69f\\\\\\\"}, \\\\\\\"datasets\\\\\\\": 0}\", \"EnableSubsampling\": null, \"runTemplate\": \"AutoML\", \"azureml.runsource\": \"automl\", \"display_task_type\": \"classification\", \"dependencies_versions\": \"{\\\"azureml-widgets\\\": \\\"1.31.0\\\", \\\"azureml-train\\\": \\\"1.31.0\\\", \\\"azureml-train-restclients-hyperdrive\\\": \\\"1.31.0\\\", \\\"azureml-train-core\\\": \\\"1.31.0\\\", \\\"azureml-train-automl\\\": \\\"1.31.0\\\", \\\"azureml-train-automl-runtime\\\": \\\"1.31.0\\\", \\\"azureml-train-automl-client\\\": \\\"1.31.0\\\", \\\"azureml-tensorboard\\\": \\\"1.31.0\\\", \\\"azureml-telemetry\\\": \\\"1.31.0\\\", \\\"azureml-sdk\\\": \\\"1.31.0\\\", \\\"azureml-samples\\\": \\\"0+unknown\\\", \\\"azureml-responsibleai\\\": \\\"1.31.0\\\", \\\"azureml-pipeline\\\": \\\"1.31.0\\\", \\\"azureml-pipeline-steps\\\": \\\"1.31.0\\\", \\\"azureml-pipeline-core\\\": \\\"1.31.0\\\", \\\"azureml-opendatasets\\\": \\\"1.31.0\\\", \\\"azureml-model-management-sdk\\\": \\\"1.0.1b6.post1\\\", \\\"azureml-mlflow\\\": \\\"1.31.0\\\", \\\"azureml-interpret\\\": \\\"1.31.0\\\", \\\"azureml-explain-model\\\": \\\"1.31.0\\\", \\\"azureml-defaults\\\": \\\"1.31.0\\\", \\\"azureml-dataset-runtime\\\": \\\"1.31.0\\\", \\\"azureml-dataprep\\\": \\\"2.18.0\\\", \\\"azureml-dataprep-rslex\\\": \\\"1.16.1\\\", \\\"azureml-dataprep-native\\\": \\\"36.0.0\\\", \\\"azureml-datadrift\\\": \\\"1.31.0\\\", \\\"azureml-core\\\": \\\"1.31.0\\\", \\\"azureml-contrib-services\\\": \\\"1.31.0\\\", \\\"azureml-contrib-server\\\": \\\"1.31.0\\\", \\\"azureml-contrib-reinforcementlearning\\\": \\\"1.31.0\\\", \\\"azureml-contrib-pipeline-steps\\\": \\\"1.31.0\\\", \\\"azureml-contrib-notebook\\\": \\\"1.31.0\\\", \\\"azureml-contrib-fairness\\\": \\\"1.31.0\\\", \\\"azureml-contrib-dataset\\\": \\\"1.31.0\\\", \\\"azureml-cli-common\\\": \\\"1.31.0\\\", \\\"azureml-automl-runtime\\\": \\\"1.31.0\\\", \\\"azureml-automl-dnn-nlp\\\": \\\"1.31.0\\\", \\\"azureml-automl-core\\\": \\\"1.31.0\\\", \\\"azureml-accel-models\\\": \\\"1.31.0\\\"}\", \"_aml_system_scenario_identification\": \"Remote.Parent\", \"ClientType\": \"SDK\", \"environment_cpu_name\": \"AzureML-AutoML\", \"environment_cpu_label\": \"prod\", \"environment_gpu_name\": \"AzureML-AutoML-GPU\", \"environment_gpu_label\": \"prod\", \"root_attribution\": \"automl\", \"attribution\": \"AutoML\", \"Orchestrator\": \"AutoML\", \"CancelUri\": \"https://eastus2.api.azureml.ms/jasmine/v1.0/subscriptions/57edfb84-e1fe-4fdf-8da0-d05684406ce1/resourceGroups/udacity-project-3/providers/Microsoft.MachineLearningServices/workspaces/udacity-p3/experimentids/b724246b-8412-4491-a034-0ffd71398a1c/cancel/AutoML_5f84fc51-a209-4bae-a867-b016ddf108ef\", \"ClientSdkVersion\": \"1.32.0\", \"snapshotId\": \"00000000-0000-0000-0000-000000000000\", \"SetupRunId\": \"AutoML_5f84fc51-a209-4bae-a867-b016ddf108ef_setup\", \"SetupRunContainerId\": \"dcid.AutoML_5f84fc51-a209-4bae-a867-b016ddf108ef_setup\", \"FeaturizationRunJsonPath\": \"featurizer_container.json\", \"FeaturizationRunId\": \"AutoML_5f84fc51-a209-4bae-a867-b016ddf108ef_featurize\", \"ProblemInfoJsonString\": \"{\\\"dataset_num_categorical\\\": 0, \\\"is_sparse\\\": true, \\\"subsampling\\\": false, \\\"has_extra_col\\\": true, \\\"dataset_classes\\\": 2, \\\"dataset_features\\\": 40, \\\"dataset_samples\\\": 7043, \\\"single_frequency_class_detected\\\": false}\", \"ModelExplainRunId\": \"AutoML_5f84fc51-a209-4bae-a867-b016ddf108ef_ModelExplain\"}, \"tags\": {\"model_explain_run\": \"best_run\", \"_aml_system_azureml.automlComponent\": \"AutoML\", \"pipeline_id\": \"\", \"score\": \"\", \"predicted_cost\": \"\", \"fit_time\": \"\", \"training_percent\": \"\", \"iteration\": \"\", \"run_preprocessor\": \"\", \"run_algorithm\": \"\", \"dynamic_whitelisting_iterations\": \"<25>;<30>;<35>;<40>;<45>;\", \"automl_best_child_run_id\": \"AutoML_5f84fc51-a209-4bae-a867-b016ddf108ef_48\", \"model_explain_best_run_child_id\": \"AutoML_5f84fc51-a209-4bae-a867-b016ddf108ef_48\"}, \"end_time_utc\": \"2021-07-28T00:31:12.188269Z\", \"status\": \"Completed\", \"log_files\": {}, \"log_groups\": [], \"run_duration\": \"0:27:05\", \"run_number\": \"201\", \"run_queued_details\": {\"status\": \"Completed\", \"details\": null}}, \"child_runs\": [{\"run_id\": \"AutoML_5f84fc51-a209-4bae-a867-b016ddf108ef_0\", \"run_number\": 205, \"metric\": null, \"status\": \"Completed\", \"run_type\": \"azureml.scriptrun\", \"training_percent\": \"100\", \"start_time\": \"2021-07-28T00:16:03.63628Z\", \"end_time\": \"2021-07-28T00:16:38.788868Z\", \"created_time\": \"2021-07-28T00:13:01.516368Z\", \"created_time_dt\": \"2021-07-28T00:13:01.516368Z\", \"duration\": \"0:03:37\", \"iteration\": \"0\", \"goal\": \"accuracy_max\", \"run_name\": \"MaxAbsScaler, LightGBM\", \"run_properties\": \"copy=True\", \"primary_metric\": 0.79341334, \"best_metric\": 0.79341334}, {\"run_id\": \"AutoML_5f84fc51-a209-4bae-a867-b016ddf108ef_2\", \"run_number\": 206, \"metric\": null, \"status\": \"Completed\", \"run_type\": \"azureml.scriptrun\", \"training_percent\": \"100\", \"start_time\": \"2021-07-28T00:14:10.24936Z\", \"end_time\": \"2021-07-28T00:14:46.586073Z\", \"created_time\": \"2021-07-28T00:13:01.533172Z\", \"created_time_dt\": \"2021-07-28T00:13:01.533172Z\", \"duration\": \"0:01:45\", \"iteration\": \"2\", \"goal\": \"accuracy_max\", \"run_name\": \"MaxAbsScaler, RandomForest\", \"run_properties\": \"copy=True\", \"primary_metric\": 0.79568435, \"best_metric\": 0.80633292}, {\"run_id\": \"AutoML_5f84fc51-a209-4bae-a867-b016ddf108ef_3\", \"run_number\": 207, \"metric\": null, \"status\": \"Completed\", \"run_type\": \"azureml.scriptrun\", \"training_percent\": \"100\", \"start_time\": \"2021-07-28T00:14:19.364567Z\", \"end_time\": \"2021-07-28T00:14:53.662135Z\", \"created_time\": \"2021-07-28T00:13:01.546391Z\", \"created_time_dt\": \"2021-07-28T00:13:01.546391Z\", \"duration\": \"0:01:52\", \"iteration\": \"3\", \"goal\": \"accuracy_max\", \"run_name\": \"MaxAbsScaler, RandomForest\", \"run_properties\": \"copy=True\", \"primary_metric\": 0.78929491, \"best_metric\": 0.80633292}, {\"run_id\": \"AutoML_5f84fc51-a209-4bae-a867-b016ddf108ef_6\", \"run_number\": 208, \"metric\": null, \"status\": \"Completed\", \"run_type\": \"azureml.scriptrun\", \"training_percent\": \"100\", \"start_time\": \"2021-07-28T00:13:17.640169Z\", \"end_time\": \"2021-07-28T00:13:52.923386Z\", \"created_time\": \"2021-07-28T00:13:01.552336Z\", \"created_time_dt\": \"2021-07-28T00:13:01.552336Z\", \"duration\": \"0:00:51\", \"iteration\": \"6\", \"goal\": \"accuracy_max\", \"run_name\": \"MaxAbsScaler, LightGBM\", \"run_properties\": \"copy=True\", \"primary_metric\": 0.80391928, \"best_metric\": 0.80633292}, {\"run_id\": \"AutoML_5f84fc51-a209-4bae-a867-b016ddf108ef_7\", \"run_number\": 209, \"metric\": null, \"status\": \"Completed\", \"run_type\": \"azureml.scriptrun\", \"training_percent\": \"100\", \"start_time\": \"2021-07-28T00:13:58.210156Z\", \"end_time\": \"2021-07-28T00:15:37.870937Z\", \"created_time\": \"2021-07-28T00:13:01.55893Z\", \"created_time_dt\": \"2021-07-28T00:13:01.55893Z\", \"duration\": \"0:02:36\", \"iteration\": \"7\", \"goal\": \"accuracy_max\", \"run_name\": \"TruncatedSVDWrapper, XGBoostClassifier\", \"run_properties\": \"n_components=0.95, random_state=None\", \"primary_metric\": 0.79682007, \"best_metric\": 0.80633292}, {\"run_id\": \"AutoML_5f84fc51-a209-4bae-a867-b016ddf108ef_9\", \"run_number\": 210, \"metric\": null, \"status\": \"Completed\", \"run_type\": \"azureml.scriptrun\", \"training_percent\": \"100\", \"start_time\": \"2021-07-28T00:13:24.588124Z\", \"end_time\": \"2021-07-28T00:14:06.804361Z\", \"created_time\": \"2021-07-28T00:13:01.578732Z\", \"created_time_dt\": \"2021-07-28T00:13:01.578732Z\", \"duration\": \"0:01:05\", \"iteration\": \"9\", \"goal\": \"accuracy_max\", \"run_name\": \"MaxAbsScaler, LightGBM\", \"run_properties\": \"copy=True\", \"primary_metric\": 0.79824008, \"best_metric\": 0.80633292}, {\"run_id\": \"AutoML_5f84fc51-a209-4bae-a867-b016ddf108ef_4\", \"run_number\": 211, \"metric\": null, \"status\": \"Completed\", \"run_type\": \"azureml.scriptrun\", \"training_percent\": \"100\", \"start_time\": \"2021-07-28T00:15:52.083372Z\", \"end_time\": \"2021-07-28T00:16:31.176148Z\", \"created_time\": \"2021-07-28T00:13:01.549899Z\", \"created_time_dt\": \"2021-07-28T00:13:01.549899Z\", \"duration\": \"0:03:29\", \"iteration\": \"4\", \"goal\": \"accuracy_max\", \"run_name\": \"MaxAbsScaler, RandomForest\", \"run_properties\": \"copy=True\", \"primary_metric\": 0.75308699, \"best_metric\": 0.80633292}, {\"run_id\": \"AutoML_5f84fc51-a209-4bae-a867-b016ddf108ef_8\", \"run_number\": 212, \"metric\": null, \"status\": \"Completed\", \"run_type\": \"azureml.scriptrun\", \"training_percent\": \"100\", \"start_time\": \"2021-07-28T00:15:01.368269Z\", \"end_time\": \"2021-07-28T00:16:30.692041Z\", \"created_time\": \"2021-07-28T00:13:01.553859Z\", \"created_time_dt\": \"2021-07-28T00:13:01.553859Z\", \"duration\": \"0:03:29\", \"iteration\": \"8\", \"goal\": \"accuracy_max\", \"run_name\": \"SparseNormalizer, XGBoostClassifier\", \"run_properties\": \"copy=True, norm='l1'\", \"primary_metric\": 0.77608946, \"best_metric\": 0.80633292}, {\"run_id\": \"AutoML_5f84fc51-a209-4bae-a867-b016ddf108ef_1\", \"run_number\": 213, \"metric\": null, \"status\": \"Completed\", \"run_type\": \"azureml.scriptrun\", \"training_percent\": \"100\", \"start_time\": \"2021-07-28T00:15:13.979362Z\", \"end_time\": \"2021-07-28T00:15:48.010046Z\", \"created_time\": \"2021-07-28T00:13:01.552066Z\", \"created_time_dt\": \"2021-07-28T00:13:01.552066Z\", \"duration\": \"0:02:46\", \"iteration\": \"1\", \"goal\": \"accuracy_max\", \"run_name\": \"MaxAbsScaler, XGBoostClassifier\", \"run_properties\": \"copy=True\", \"primary_metric\": 0.80633292, \"best_metric\": 0.80633292}, {\"run_id\": \"AutoML_5f84fc51-a209-4bae-a867-b016ddf108ef_5\", \"run_number\": 214, \"metric\": null, \"status\": \"Completed\", \"run_type\": \"azureml.scriptrun\", \"training_percent\": \"100\", \"start_time\": \"2021-07-28T00:16:43.57418Z\", \"end_time\": \"2021-07-28T00:17:17.327034Z\", \"created_time\": \"2021-07-28T00:13:01.563016Z\", \"created_time_dt\": \"2021-07-28T00:13:01.563016Z\", \"duration\": \"0:04:15\", \"iteration\": \"5\", \"goal\": \"accuracy_max\", \"run_name\": \"MaxAbsScaler, RandomForest\", \"run_properties\": \"copy=True\", \"primary_metric\": 0.71673989, \"best_metric\": 0.80633292}, {\"run_id\": \"AutoML_5f84fc51-a209-4bae-a867-b016ddf108ef_10\", \"run_number\": 215, \"metric\": null, \"status\": \"Completed\", \"run_type\": \"azureml.scriptrun\", \"training_percent\": \"100\", \"start_time\": \"2021-07-28T00:17:35.204963Z\", \"end_time\": \"2021-07-28T00:18:08.891957Z\", \"created_time\": \"2021-07-28T00:13:56.30446Z\", \"created_time_dt\": \"2021-07-28T00:13:56.30446Z\", \"duration\": \"0:04:12\", \"iteration\": \"10\", \"goal\": \"accuracy_max\", \"run_name\": \"MaxAbsScaler, LightGBM\", \"run_properties\": \"copy=True\", \"primary_metric\": 0.79653566, \"best_metric\": 0.80633292}, {\"run_id\": \"AutoML_5f84fc51-a209-4bae-a867-b016ddf108ef_11\", \"run_number\": 216, \"metric\": null, \"status\": \"Completed\", \"run_type\": \"azureml.scriptrun\", \"training_percent\": \"100\", \"start_time\": \"2021-07-28T00:18:10.002588Z\", \"end_time\": \"2021-07-28T00:18:45.817352Z\", \"created_time\": \"2021-07-28T00:14:09.071426Z\", \"created_time_dt\": \"2021-07-28T00:14:09.071426Z\", \"duration\": \"0:04:36\", \"iteration\": \"11\", \"goal\": \"accuracy_max\", \"run_name\": \"MaxAbsScaler, LogisticRegression\", \"run_properties\": \"copy=True\", \"primary_metric\": 0.80278362, \"best_metric\": 0.80633292}, {\"run_id\": \"AutoML_5f84fc51-a209-4bae-a867-b016ddf108ef_12\", \"run_number\": 217, \"metric\": null, \"status\": \"Completed\", \"run_type\": \"azureml.scriptrun\", \"training_percent\": \"100\", \"start_time\": \"2021-07-28T00:18:22.168005Z\", \"end_time\": \"2021-07-28T00:19:01.15164Z\", \"created_time\": \"2021-07-28T00:14:48.780333Z\", \"created_time_dt\": \"2021-07-28T00:14:48.780333Z\", \"duration\": \"0:04:12\", \"iteration\": \"12\", \"goal\": \"accuracy_max\", \"run_name\": \"MaxAbsScaler, LogisticRegression\", \"run_properties\": \"copy=True\", \"primary_metric\": 0.80235749, \"best_metric\": 0.80633292}, {\"run_id\": \"AutoML_5f84fc51-a209-4bae-a867-b016ddf108ef_13\", \"run_number\": 218, \"metric\": null, \"status\": \"Completed\", \"run_type\": \"azureml.scriptrun\", \"training_percent\": \"100\", \"start_time\": \"2021-07-28T00:18:23.837612Z\", \"end_time\": \"2021-07-28T00:19:02.248046Z\", \"created_time\": \"2021-07-28T00:14:55.729306Z\", \"created_time_dt\": \"2021-07-28T00:14:55.729306Z\", \"duration\": \"0:04:06\", \"iteration\": \"13\", \"goal\": \"accuracy_max\", \"run_name\": \"MaxAbsScaler, LogisticRegression\", \"run_properties\": \"copy=True\", \"primary_metric\": 0.74541993, \"best_metric\": 0.80633292}, {\"run_id\": \"AutoML_5f84fc51-a209-4bae-a867-b016ddf108ef_14\", \"run_number\": 219, \"metric\": null, \"status\": \"Completed\", \"run_type\": \"azureml.scriptrun\", \"training_percent\": \"100\", \"start_time\": \"2021-07-28T00:18:57.680699Z\", \"end_time\": \"2021-07-28T00:19:34.905883Z\", \"created_time\": \"2021-07-28T00:15:39.664951Z\", \"created_time_dt\": \"2021-07-28T00:15:39.664951Z\", \"duration\": \"0:03:55\", \"iteration\": \"14\", \"goal\": \"accuracy_max\", \"run_name\": \"MaxAbsScaler, LogisticRegression\", \"run_properties\": \"copy=True\", \"primary_metric\": 0.74485195, \"best_metric\": 0.80633292}, {\"run_id\": \"AutoML_5f84fc51-a209-4bae-a867-b016ddf108ef_15\", \"run_number\": 220, \"metric\": null, \"status\": \"Completed\", \"run_type\": \"azureml.scriptrun\", \"training_percent\": \"100\", \"start_time\": \"2021-07-28T00:19:12.476879Z\", \"end_time\": \"2021-07-28T00:19:50.272987Z\", \"created_time\": \"2021-07-28T00:15:49.883581Z\", \"created_time_dt\": \"2021-07-28T00:15:49.883581Z\", \"duration\": \"0:04:00\", \"iteration\": \"15\", \"goal\": \"accuracy_max\", \"run_name\": \"MaxAbsScaler, LogisticRegression\", \"run_properties\": \"copy=True\", \"primary_metric\": 0.8027835, \"best_metric\": 0.80633292}, {\"run_id\": \"AutoML_5f84fc51-a209-4bae-a867-b016ddf108ef_16\", \"run_number\": 221, \"metric\": null, \"status\": \"Completed\", \"run_type\": \"azureml.scriptrun\", \"training_percent\": \"100\", \"start_time\": \"2021-07-28T00:19:16.878996Z\", \"end_time\": \"2021-07-28T00:19:55.380491Z\", \"created_time\": \"2021-07-28T00:16:32.356781Z\", \"created_time_dt\": \"2021-07-28T00:16:32.356781Z\", \"duration\": \"0:03:23\", \"iteration\": \"16\", \"goal\": \"accuracy_max\", \"run_name\": \"MaxAbsScaler, LogisticRegression\", \"run_properties\": \"copy=True\", \"primary_metric\": 0.80278356, \"best_metric\": 0.80633292}, {\"run_id\": \"AutoML_5f84fc51-a209-4bae-a867-b016ddf108ef_17\", \"run_number\": 222, \"metric\": null, \"status\": \"Completed\", \"run_type\": \"azureml.scriptrun\", \"training_percent\": \"100\", \"start_time\": \"2021-07-28T00:19:52.9325Z\", \"end_time\": \"2021-07-28T00:20:30.195506Z\", \"created_time\": \"2021-07-28T00:16:35.093605Z\", \"created_time_dt\": \"2021-07-28T00:16:35.093605Z\", \"duration\": \"0:03:55\", \"iteration\": \"17\", \"goal\": \"accuracy_max\", \"run_name\": \"SparseNormalizer, XGBoostClassifier\", \"run_properties\": \"copy=True, norm='max'\", \"primary_metric\": 0.79057284, \"best_metric\": 0.80633292}, {\"run_id\": \"AutoML_5f84fc51-a209-4bae-a867-b016ddf108ef_18\", \"run_number\": 223, \"metric\": null, \"status\": \"Completed\", \"run_type\": \"azureml.scriptrun\", \"training_percent\": \"100\", \"start_time\": \"2021-07-28T00:20:09.143388Z\", \"end_time\": \"2021-07-28T00:20:41.832619Z\", \"created_time\": \"2021-07-28T00:16:40.793151Z\", \"created_time_dt\": \"2021-07-28T00:16:40.793151Z\", \"duration\": \"0:04:01\", \"iteration\": \"18\", \"goal\": \"accuracy_max\", \"run_name\": \"MaxAbsScaler, LogisticRegression\", \"run_properties\": \"copy=True\", \"primary_metric\": 0.80235737, \"best_metric\": 0.80633292}, {\"run_id\": \"AutoML_5f84fc51-a209-4bae-a867-b016ddf108ef_19\", \"run_number\": 224, \"metric\": null, \"status\": \"Completed\", \"run_type\": \"azureml.scriptrun\", \"training_percent\": \"100\", \"start_time\": \"2021-07-28T00:20:07.846817Z\", \"end_time\": \"2021-07-28T00:21:02.869395Z\", \"created_time\": \"2021-07-28T00:17:18.70006Z\", \"created_time_dt\": \"2021-07-28T00:17:18.70006Z\", \"duration\": \"0:03:44\", \"iteration\": \"19\", \"goal\": \"accuracy_max\", \"run_name\": \"SparseNormalizer, XGBoostClassifier\", \"run_properties\": \"copy=True, norm='l1'\", \"primary_metric\": 0.7902886, \"best_metric\": 0.80633292}, {\"run_id\": \"AutoML_5f84fc51-a209-4bae-a867-b016ddf108ef_20\", \"run_number\": 225, \"metric\": null, \"status\": \"Completed\", \"run_type\": \"azureml.scriptrun\", \"training_percent\": \"100\", \"start_time\": \"2021-07-28T00:21:18.699511Z\", \"end_time\": \"2021-07-28T00:22:11.635874Z\", \"created_time\": \"2021-07-28T00:18:10.256252Z\", \"created_time_dt\": \"2021-07-28T00:18:10.256252Z\", \"duration\": \"0:04:01\", \"iteration\": \"20\", \"goal\": \"accuracy_max\", \"run_name\": \"SparseNormalizer, XGBoostClassifier\", \"run_properties\": \"copy=True, norm='l2'\", \"primary_metric\": 0.79426549, \"best_metric\": 0.80633292}, {\"run_id\": \"AutoML_5f84fc51-a209-4bae-a867-b016ddf108ef_21\", \"run_number\": 226, \"metric\": null, \"status\": \"Completed\", \"run_type\": \"azureml.scriptrun\", \"training_percent\": \"100\", \"start_time\": \"2021-07-28T00:22:10.097474Z\", \"end_time\": \"2021-07-28T00:22:59.450411Z\", \"created_time\": \"2021-07-28T00:18:47.307492Z\", \"created_time_dt\": \"2021-07-28T00:18:47.307492Z\", \"duration\": \"0:04:12\", \"iteration\": \"21\", \"goal\": \"accuracy_max\", \"run_name\": \"SparseNormalizer, XGBoostClassifier\", \"run_properties\": \"copy=True, norm='max'\", \"primary_metric\": 0.79114063, \"best_metric\": 0.80633292}, {\"run_id\": \"AutoML_5f84fc51-a209-4bae-a867-b016ddf108ef_22\", \"run_number\": 227, \"metric\": null, \"status\": \"Completed\", \"run_type\": \"azureml.scriptrun\", \"training_percent\": \"100\", \"start_time\": \"2021-07-28T00:22:26.201928Z\", \"end_time\": \"2021-07-28T00:23:04.028995Z\", \"created_time\": \"2021-07-28T00:19:03.209424Z\", \"created_time_dt\": \"2021-07-28T00:19:03.209424Z\", \"duration\": \"0:04:00\", \"iteration\": \"22\", \"goal\": \"accuracy_max\", \"run_name\": \"SparseNormalizer, XGBoostClassifier\", \"run_properties\": \"copy=True, norm='l2'\", \"primary_metric\": 0.79014658, \"best_metric\": 0.80633292}, {\"run_id\": \"AutoML_5f84fc51-a209-4bae-a867-b016ddf108ef_23\", \"run_number\": 228, \"metric\": null, \"status\": \"Completed\", \"run_type\": \"azureml.scriptrun\", \"training_percent\": \"100\", \"start_time\": \"2021-07-28T00:22:33.561826Z\", \"end_time\": \"2021-07-28T00:23:12.585464Z\", \"created_time\": \"2021-07-28T00:19:05.595944Z\", \"created_time_dt\": \"2021-07-28T00:19:05.595944Z\", \"duration\": \"0:04:06\", \"iteration\": \"23\", \"goal\": \"accuracy_max\", \"run_name\": \"StandardScalerWrapper, XGBoostClassifier\", \"run_properties\": \"\\n    copy=True,\\n    with_mean=False,\\n    with_std=False\\n\", \"primary_metric\": 0.79809788, \"best_metric\": 0.80633292}, {\"run_id\": \"AutoML_5f84fc51-a209-4bae-a867-b016ddf108ef_24\", \"run_number\": 229, \"metric\": null, \"status\": \"Completed\", \"run_type\": \"azureml.scriptrun\", \"training_percent\": \"100\", \"start_time\": \"2021-07-28T00:23:10.160173Z\", \"end_time\": \"2021-07-28T00:23:49.285479Z\", \"created_time\": \"2021-07-28T00:19:36.121786Z\", \"created_time_dt\": \"2021-07-28T00:19:36.121786Z\", \"duration\": \"0:04:13\", \"iteration\": \"24\", \"goal\": \"accuracy_max\", \"run_name\": \"StandardScalerWrapper, LightGBM\", \"run_properties\": \"\\n    copy=True,\\n    with_mean=False,\\n    with_std=True\\n\", \"primary_metric\": 0.80477113, \"best_metric\": 0.80633292}, {\"run_id\": \"AutoML_5f84fc51-a209-4bae-a867-b016ddf108ef_25\", \"run_number\": 230, \"metric\": null, \"status\": \"Completed\", \"run_type\": \"azureml.scriptrun\", \"training_percent\": \"100\", \"start_time\": \"2021-07-28T00:23:20.386837Z\", \"end_time\": \"2021-07-28T00:24:04.640174Z\", \"created_time\": \"2021-07-28T00:19:52.407361Z\", \"created_time_dt\": \"2021-07-28T00:19:52.407361Z\", \"duration\": \"0:04:12\", \"iteration\": \"25\", \"goal\": \"accuracy_max\", \"run_name\": \"SparseNormalizer, XGBoostClassifier\", \"run_properties\": \"copy=True, norm='max'\", \"primary_metric\": 0.78730704, \"best_metric\": 0.80633292}, {\"run_id\": \"AutoML_5f84fc51-a209-4bae-a867-b016ddf108ef_26\", \"run_number\": 231, \"metric\": null, \"status\": \"Completed\", \"run_type\": \"azureml.scriptrun\", \"training_percent\": \"100\", \"start_time\": \"2021-07-28T00:23:25.710838Z\", \"end_time\": \"2021-07-28T00:24:04.10715Z\", \"created_time\": \"2021-07-28T00:19:56.868505Z\", \"created_time_dt\": \"2021-07-28T00:19:56.868505Z\", \"duration\": \"0:04:07\", \"iteration\": \"26\", \"goal\": \"accuracy_max\", \"run_name\": \"StandardScalerWrapper, ExtremeRandomTrees\", \"run_properties\": \"\\n    copy=True,\\n    with_mean=False,\\n    with_std=True\\n\", \"primary_metric\": 0.7934128, \"best_metric\": 0.80633292}, {\"run_id\": \"AutoML_5f84fc51-a209-4bae-a867-b016ddf108ef_27\", \"run_number\": 232, \"metric\": null, \"status\": \"Completed\", \"run_type\": \"azureml.scriptrun\", \"training_percent\": \"100\", \"start_time\": \"2021-07-28T00:24:01.092466Z\", \"end_time\": \"2021-07-28T00:24:39.732872Z\", \"created_time\": \"2021-07-28T00:20:31.525995Z\", \"created_time_dt\": \"2021-07-28T00:20:31.525995Z\", \"duration\": \"0:04:08\", \"iteration\": \"27\", \"goal\": \"accuracy_max\", \"run_name\": \"StandardScalerWrapper, XGBoostClassifier\", \"run_properties\": \"\\n    copy=True,\\n    with_mean=False,\\n    with_std=False\\n\", \"primary_metric\": 0.80562346, \"best_metric\": 0.80633292}, {\"run_id\": \"AutoML_5f84fc51-a209-4bae-a867-b016ddf108ef_28\", \"run_number\": 233, \"metric\": null, \"status\": \"Completed\", \"run_type\": \"azureml.scriptrun\", \"training_percent\": \"100\", \"start_time\": \"2021-07-28T00:24:22.042714Z\", \"end_time\": \"2021-07-28T00:24:55.836994Z\", \"created_time\": \"2021-07-28T00:20:43.030209Z\", \"created_time_dt\": \"2021-07-28T00:20:43.030209Z\", \"duration\": \"0:04:12\", \"iteration\": \"28\", \"goal\": \"accuracy_max\", \"run_name\": \"SparseNormalizer, RandomForest\", \"run_properties\": \"copy=True, norm='max'\", \"primary_metric\": 0.7958262, \"best_metric\": 0.80633292}, {\"run_id\": \"AutoML_5f84fc51-a209-4bae-a867-b016ddf108ef_29\", \"run_number\": 234, \"metric\": null, \"status\": \"Completed\", \"run_type\": \"azureml.scriptrun\", \"training_percent\": \"100\", \"start_time\": \"2021-07-28T00:24:27.378816Z\", \"end_time\": \"2021-07-28T00:25:16.835125Z\", \"created_time\": \"2021-07-28T00:21:04.215614Z\", \"created_time_dt\": \"2021-07-28T00:21:04.215614Z\", \"duration\": \"0:04:12\", \"iteration\": \"29\", \"goal\": \"accuracy_max\", \"run_name\": \"MaxAbsScaler, ExtremeRandomTrees\", \"run_properties\": \"copy=True\", \"primary_metric\": 0.79199285, \"best_metric\": 0.80633292}, {\"run_id\": \"AutoML_5f84fc51-a209-4bae-a867-b016ddf108ef_30\", \"run_number\": 235, \"metric\": null, \"status\": \"Completed\", \"run_type\": \"azureml.scriptrun\", \"training_percent\": \"100\", \"start_time\": \"2021-07-28T00:25:37.071718Z\", \"end_time\": \"2021-07-28T00:26:14.923945Z\", \"created_time\": \"2021-07-28T00:22:14.053541Z\", \"created_time_dt\": \"2021-07-28T00:22:14.053541Z\", \"duration\": \"0:04:00\", \"iteration\": \"30\", \"goal\": \"accuracy_max\", \"run_name\": \"TruncatedSVDWrapper, XGBoostClassifier\", \"run_properties\": \"n_components=0.05947368421052632, random_state=None\", \"primary_metric\": 0.73463078, \"best_metric\": 0.80633292}, {\"run_id\": \"AutoML_5f84fc51-a209-4bae-a867-b016ddf108ef_31\", \"run_number\": 236, \"metric\": null, \"status\": \"Completed\", \"run_type\": \"azureml.scriptrun\", \"training_percent\": \"100\", \"start_time\": \"2021-07-28T00:26:13.753879Z\", \"end_time\": \"2021-07-28T00:26:50.436162Z\", \"created_time\": \"2021-07-28T00:23:00.706102Z\", \"created_time_dt\": \"2021-07-28T00:23:00.706102Z\", \"duration\": \"0:03:49\", \"iteration\": \"31\", \"goal\": \"accuracy_max\", \"run_name\": \"MaxAbsScaler, LightGBM\", \"run_properties\": \"copy=True\", \"primary_metric\": 0.76600996, \"best_metric\": 0.80633292}, {\"run_id\": \"AutoML_5f84fc51-a209-4bae-a867-b016ddf108ef_32\", \"run_number\": 237, \"metric\": null, \"status\": \"Completed\", \"run_type\": \"azureml.scriptrun\", \"training_percent\": \"100\", \"start_time\": \"2021-07-28T00:26:23.358481Z\", \"end_time\": \"2021-07-28T00:27:06.214651Z\", \"created_time\": \"2021-07-28T00:23:05.622145Z\", \"created_time_dt\": \"2021-07-28T00:23:05.622145Z\", \"duration\": \"0:04:00\", \"iteration\": \"32\", \"goal\": \"accuracy_max\", \"run_name\": \"TruncatedSVDWrapper, XGBoostClassifier\", \"run_properties\": \"n_components=0.9005263157894737, random_state=None\", \"primary_metric\": 0.79823966, \"best_metric\": 0.80633292}, {\"run_id\": \"AutoML_5f84fc51-a209-4bae-a867-b016ddf108ef_33\", \"run_number\": 238, \"metric\": null, \"status\": \"Completed\", \"run_type\": \"azureml.scriptrun\", \"training_percent\": \"100\", \"start_time\": \"2021-07-28T00:26:42.703829Z\", \"end_time\": \"2021-07-28T00:27:21.10824Z\", \"created_time\": \"2021-07-28T00:23:13.988315Z\", \"created_time_dt\": \"2021-07-28T00:23:13.988315Z\", \"duration\": \"0:04:07\", \"iteration\": \"33\", \"goal\": \"accuracy_max\", \"run_name\": \"StandardScalerWrapper, ExtremeRandomTrees\", \"run_properties\": \"\\n    copy=True,\\n    with_mean=False,\\n    with_std=False\\n\", \"primary_metric\": 0.80150624, \"best_metric\": 0.80633292}, {\"run_id\": \"AutoML_5f84fc51-a209-4bae-a867-b016ddf108ef_34\", \"run_number\": 239, \"metric\": null, \"status\": \"Completed\", \"run_type\": \"azureml.scriptrun\", \"training_percent\": \"100\", \"start_time\": \"2021-07-28T00:27:03.159573Z\", \"end_time\": \"2021-07-28T00:27:39.818866Z\", \"created_time\": \"2021-07-28T00:23:50.53957Z\", \"created_time_dt\": \"2021-07-28T00:23:50.53957Z\", \"duration\": \"0:03:49\", \"iteration\": \"34\", \"goal\": \"accuracy_max\", \"run_name\": \"MaxAbsScaler, LightGBM\", \"run_properties\": \"copy=True\", \"primary_metric\": 0.79398054, \"best_metric\": 0.80633292}, {\"run_id\": \"AutoML_5f84fc51-a209-4bae-a867-b016ddf108ef_35\", \"run_number\": 240, \"metric\": null, \"status\": \"Completed\", \"run_type\": \"azureml.scriptrun\", \"training_percent\": \"100\", \"start_time\": \"2021-07-28T00:27:24.103363Z\", \"end_time\": \"2021-07-28T00:28:01.433286Z\", \"created_time\": \"2021-07-28T00:24:06.506571Z\", \"created_time_dt\": \"2021-07-28T00:24:06.506571Z\", \"duration\": \"0:03:54\", \"iteration\": \"35\", \"goal\": \"accuracy_max\", \"run_name\": \"SparseNormalizer, XGBoostClassifier\", \"run_properties\": \"copy=True, norm='l1'\", \"primary_metric\": 0.79298642, \"best_metric\": 0.80633292}, {\"run_id\": \"AutoML_5f84fc51-a209-4bae-a867-b016ddf108ef_36\", \"run_number\": 241, \"metric\": null, \"status\": \"Completed\", \"run_type\": \"azureml.scriptrun\", \"training_percent\": \"100\", \"start_time\": \"2021-07-28T00:27:36.62041Z\", \"end_time\": \"2021-07-28T00:28:14.996845Z\", \"created_time\": \"2021-07-28T00:24:08.786175Z\", \"created_time_dt\": \"2021-07-28T00:24:08.786175Z\", \"duration\": \"0:04:06\", \"iteration\": \"36\", \"goal\": \"accuracy_max\", \"run_name\": \"StandardScalerWrapper, LightGBM\", \"run_properties\": \"\\n    copy=True,\\n    with_mean=False,\\n    with_std=True\\n\", \"primary_metric\": 0.7895783, \"best_metric\": 0.80633292}, {\"run_id\": \"AutoML_5f84fc51-a209-4bae-a867-b016ddf108ef_37\", \"run_number\": 242, \"metric\": null, \"status\": \"Completed\", \"run_type\": \"azureml.scriptrun\", \"training_percent\": \"100\", \"start_time\": \"2021-07-28T00:27:54.448229Z\", \"end_time\": \"2021-07-28T00:28:31.115336Z\", \"created_time\": \"2021-07-28T00:24:41.151983Z\", \"created_time_dt\": \"2021-07-28T00:24:41.151983Z\", \"duration\": \"0:03:49\", \"iteration\": \"37\", \"goal\": \"accuracy_max\", \"run_name\": \"StandardScalerWrapper, ExtremeRandomTrees\", \"run_properties\": \"\\n    copy=True,\\n    with_mean=False,\\n    with_std=True\\n\", \"primary_metric\": 0.78503573, \"best_metric\": 0.80633292}, {\"run_id\": \"AutoML_5f84fc51-a209-4bae-a867-b016ddf108ef_38\", \"run_number\": 243, \"metric\": null, \"status\": \"Canceled\", \"run_type\": \"azureml.scriptrun\", \"training_percent\": \"100\", \"start_time\": \"2021-07-28T00:28:15.114617Z\", \"end_time\": \"2021-07-28T00:29:09.116162Z\", \"created_time\": \"2021-07-28T00:24:57.255312Z\", \"created_time_dt\": \"2021-07-28T00:24:57.255312Z\", \"duration\": \"0:04:11\", \"iteration\": \"38\", \"goal\": \"accuracy_max\", \"run_name\": \"StandardScalerWrapper, ExtremeRandomTrees\", \"run_properties\": \"\\n    copy=True,\\n    with_mean=False,\\n    with_std=False\\n\", \"primary_metric\": 0.79241874, \"best_metric\": 0.80633292}, {\"run_id\": \"AutoML_5f84fc51-a209-4bae-a867-b016ddf108ef_39\", \"run_number\": 244, \"metric\": null, \"status\": \"Completed\", \"run_type\": \"azureml.scriptrun\", \"training_percent\": \"100\", \"start_time\": \"2021-07-28T00:28:31.415406Z\", \"end_time\": \"2021-07-28T00:29:08.071785Z\", \"created_time\": \"2021-07-28T00:25:17.999418Z\", \"created_time_dt\": \"2021-07-28T00:25:17.999418Z\", \"duration\": \"0:03:50\", \"iteration\": \"39\", \"goal\": \"accuracy_max\", \"run_name\": \"MaxAbsScaler, LightGBM\", \"run_properties\": \"copy=True\", \"primary_metric\": 0.79284439, \"best_metric\": 0.80633292}, {\"run_id\": \"AutoML_5f84fc51-a209-4bae-a867-b016ddf108ef_40\", \"run_number\": 245, \"metric\": null, \"status\": \"Canceled\", \"run_type\": \"azureml.scriptrun\", \"training_percent\": \"100\", \"start_time\": \"2021-07-28T00:26:16.999627Z\", \"end_time\": \"2021-07-28T00:29:14.236268Z\", \"created_time\": \"2021-07-28T00:26:16.999627Z\", \"created_time_dt\": \"2021-07-28T00:26:16.999627Z\", \"duration\": \"0:02:57\", \"iteration\": \"40\", \"goal\": null, \"run_name\": \"Canceled\", \"run_properties\": null}, {\"run_id\": \"AutoML_5f84fc51-a209-4bae-a867-b016ddf108ef_41\", \"run_number\": 246, \"metric\": null, \"status\": \"Canceled\", \"run_type\": \"azureml.scriptrun\", \"training_percent\": \"100\", \"start_time\": \"2021-07-28T00:26:51.780459Z\", \"end_time\": \"2021-07-28T00:29:14.143686Z\", \"created_time\": \"2021-07-28T00:26:51.780459Z\", \"created_time_dt\": \"2021-07-28T00:26:51.780459Z\", \"duration\": \"0:02:22\", \"iteration\": \"41\", \"goal\": null, \"run_name\": \"Canceled\", \"run_properties\": null}, {\"run_id\": \"AutoML_5f84fc51-a209-4bae-a867-b016ddf108ef_42\", \"run_number\": 247, \"metric\": null, \"status\": \"Canceled\", \"run_type\": \"azureml.scriptrun\", \"training_percent\": \"100\", \"start_time\": \"2021-07-28T00:27:07.487554Z\", \"end_time\": \"2021-07-28T00:29:14.124391Z\", \"created_time\": \"2021-07-28T00:27:07.487554Z\", \"created_time_dt\": \"2021-07-28T00:27:07.487554Z\", \"duration\": \"0:02:06\", \"iteration\": \"42\", \"goal\": null, \"run_name\": \"Canceled\", \"run_properties\": null}, {\"run_id\": \"AutoML_5f84fc51-a209-4bae-a867-b016ddf108ef_43\", \"run_number\": 248, \"metric\": null, \"status\": \"Canceled\", \"run_type\": \"azureml.scriptrun\", \"training_percent\": \"100\", \"start_time\": \"2021-07-28T00:27:22.345274Z\", \"end_time\": \"2021-07-28T00:29:14.123175Z\", \"created_time\": \"2021-07-28T00:27:22.345274Z\", \"created_time_dt\": \"2021-07-28T00:27:22.345274Z\", \"duration\": \"0:01:51\", \"iteration\": \"43\", \"goal\": null, \"run_name\": \"Canceled\", \"run_properties\": null}, {\"run_id\": \"AutoML_5f84fc51-a209-4bae-a867-b016ddf108ef_44\", \"run_number\": 249, \"metric\": null, \"status\": \"Canceled\", \"run_type\": \"azureml.scriptrun\", \"training_percent\": \"100\", \"start_time\": \"2021-07-28T00:27:41.121752Z\", \"end_time\": \"2021-07-28T00:29:14.127385Z\", \"created_time\": \"2021-07-28T00:27:41.121752Z\", \"created_time_dt\": \"2021-07-28T00:27:41.121752Z\", \"duration\": \"0:01:33\", \"iteration\": \"44\", \"goal\": null, \"run_name\": \"Canceled\", \"run_properties\": null}, {\"run_id\": \"AutoML_5f84fc51-a209-4bae-a867-b016ddf108ef_45\", \"run_number\": 250, \"metric\": null, \"status\": \"Canceled\", \"run_type\": \"azureml.scriptrun\", \"training_percent\": \"100\", \"start_time\": \"2021-07-28T00:28:03.549462Z\", \"end_time\": \"2021-07-28T00:29:14.047052Z\", \"created_time\": \"2021-07-28T00:28:03.549462Z\", \"created_time_dt\": \"2021-07-28T00:28:03.549462Z\", \"duration\": \"0:01:10\", \"iteration\": \"45\", \"goal\": null, \"run_name\": \"Canceled\", \"run_properties\": null}, {\"run_id\": \"AutoML_5f84fc51-a209-4bae-a867-b016ddf108ef_46\", \"run_number\": 251, \"metric\": null, \"status\": \"Canceled\", \"run_type\": \"azureml.scriptrun\", \"training_percent\": \"100\", \"start_time\": \"2021-07-28T00:28:16.273539Z\", \"end_time\": \"2021-07-28T00:29:14.044982Z\", \"created_time\": \"2021-07-28T00:28:16.273539Z\", \"created_time_dt\": \"2021-07-28T00:28:16.273539Z\", \"duration\": \"0:00:57\", \"iteration\": \"46\", \"goal\": null, \"run_name\": \"Canceled\", \"run_properties\": null}, {\"run_id\": \"AutoML_5f84fc51-a209-4bae-a867-b016ddf108ef_47\", \"run_number\": 252, \"metric\": null, \"status\": \"Canceled\", \"run_type\": \"azureml.scriptrun\", \"training_percent\": \"100\", \"start_time\": \"2021-07-28T00:28:32.577742Z\", \"end_time\": \"2021-07-28T00:29:14.150958Z\", \"created_time\": \"2021-07-28T00:28:32.577742Z\", \"created_time_dt\": \"2021-07-28T00:28:32.577742Z\", \"duration\": \"0:00:41\", \"iteration\": \"47\", \"goal\": null, \"run_name\": \"Canceled\", \"run_properties\": null}, {\"run_id\": \"AutoML_5f84fc51-a209-4bae-a867-b016ddf108ef_48\", \"run_number\": 253, \"metric\": null, \"status\": \"Completed\", \"run_type\": \"azureml.scriptrun\", \"training_percent\": \"100\", \"start_time\": \"2021-07-28T00:30:16.767161Z\", \"end_time\": \"2021-07-28T00:31:10.026405Z\", \"created_time\": \"2021-07-28T00:29:14.984318Z\", \"created_time_dt\": \"2021-07-28T00:29:14.984318Z\", \"duration\": \"0:01:55\", \"iteration\": \"48\", \"goal\": \"accuracy_max\", \"run_name\": \"VotingEnsemble\", \"run_properties\": \"\\n    estimators=[('1', Pipeline(memory=None,\\n             steps=[('maxabsscaler', MaxAbsScaler(copy=True\", \"primary_metric\": 0.80931485, \"best_metric\": 0.80931485}, {\"run_id\": \"AutoML_5f84fc51-a209-4bae-a867-b016ddf108ef_49\", \"run_number\": 254, \"metric\": null, \"status\": \"Completed\", \"run_type\": \"azureml.scriptrun\", \"training_percent\": \"100\", \"start_time\": \"2021-07-28T00:30:17.491666Z\", \"end_time\": \"2021-07-28T00:31:10.807168Z\", \"created_time\": \"2021-07-28T00:29:15.0037Z\", \"created_time_dt\": \"2021-07-28T00:29:15.0037Z\", \"duration\": \"0:01:55\", \"iteration\": \"49\", \"goal\": \"accuracy_max\", \"run_name\": \"StackEnsemble\", \"run_properties\": \"\\n    base_learners=[('1', Pipeline(memory=None,\\n             steps=[('maxabsscaler', MaxAbsScaler(copy=True\", \"primary_metric\": 0.80761109, \"best_metric\": 0.80931485}], \"children_metrics\": {\"categories\": [0], \"series\": {\"log_loss\": [{\"categories\": [\"0\", \"1\", \"2\", \"3\", \"4\", \"5\", \"6\", \"7\", \"8\", \"9\", \"10\", \"11\", \"12\", \"13\", \"14\", \"15\", \"16\", \"17\", \"18\", \"19\", \"20\", \"21\", \"22\", \"23\", \"24\", \"25\", \"26\", \"27\", \"28\", \"29\", \"30\", \"31\", \"32\", \"33\", \"34\", \"35\", \"36\", \"37\", \"38\", \"39\", \"48\", \"49\"], \"mode\": \"markers\", \"name\": \"log_loss\", \"stepped\": false, \"type\": \"scatter\", \"data\": [0.437987212396927, 0.4158517669227975, 0.4303756836735255, 0.4374602172425648, 0.4906862521668273, 0.5469331632792503, 0.4142420495059513, 0.4291043345097046, 0.6494859068498227, 0.42970198882888616, 0.43041621583235146, 0.4171675688723219, 0.4171932166154952, 0.49100526522315935, 0.490987266025724, 0.41717861980814036, 0.41719441014358694, 0.4365718704953063, 0.4172297068052957, 0.4384337473537654, 0.42410040416376876, 0.44366069552859533, 0.4384149144032879, 0.480347092013725, 0.41503096932602407, 0.4586177957770559, 0.43213739551507796, 0.41345823623548483, 0.4223119842518235, 0.43168517968160786, 0.5943166926359712, 0.46213147617221134, 0.42184960982913094, 0.4204431201902717, 0.4380365403848839, 0.4351466192408276, 0.4440764624901911, 0.44625550614128784, 0.4364738753519843, 0.44104881702492754, 0.41286600292995246, 0.4209941428942141]}, {\"categories\": [\"0\", \"1\", \"2\", \"3\", \"4\", \"5\", \"6\", \"7\", \"8\", \"9\", \"10\", \"11\", \"12\", \"13\", \"14\", \"15\", \"16\", \"17\", \"18\", \"19\", \"20\", \"21\", \"22\", \"23\", \"24\", \"25\", \"26\", \"27\", \"28\", \"29\", \"30\", \"31\", \"32\", \"33\", \"34\", \"35\", \"36\", \"37\", \"38\", \"39\", \"48\", \"49\"], \"mode\": \"lines\", \"name\": \"log_loss_min\", \"stepped\": true, \"type\": \"scatter\", \"data\": [0.437987212396927, 0.4158517669227975, 0.4158517669227975, 0.4158517669227975, 0.4158517669227975, 0.4158517669227975, 0.4142420495059513, 0.4142420495059513, 0.4142420495059513, 0.4142420495059513, 0.4142420495059513, 0.4142420495059513, 0.4142420495059513, 0.4142420495059513, 0.4142420495059513, 0.4142420495059513, 0.4142420495059513, 0.4142420495059513, 0.4142420495059513, 0.4142420495059513, 0.4142420495059513, 0.4142420495059513, 0.4142420495059513, 0.4142420495059513, 0.4142420495059513, 0.4142420495059513, 0.4142420495059513, 0.41345823623548483, 0.41345823623548483, 0.41345823623548483, 0.41345823623548483, 0.41345823623548483, 0.41345823623548483, 0.41345823623548483, 0.41345823623548483, 0.41345823623548483, 0.41345823623548483, 0.41345823623548483, 0.41345823623548483, 0.41345823623548483, 0.41286600292995246, 0.41286600292995246]}], \"weighted_accuracy\": [{\"categories\": [\"0\", \"1\", \"2\", \"3\", \"4\", \"5\", \"6\", \"7\", \"8\", \"9\", \"10\", \"11\", \"12\", \"13\", \"14\", \"15\", \"16\", \"17\", \"18\", \"19\", \"20\", \"21\", \"22\", \"23\", \"24\", \"25\", \"26\", \"27\", \"28\", \"29\", \"30\", \"31\", \"32\", \"33\", \"34\", \"35\", \"36\", \"37\", \"38\", \"39\", \"48\", \"49\"], \"mode\": \"markers\", \"name\": \"weighted_accuracy\", \"stepped\": false, \"type\": \"scatter\", \"data\": [0.8494580108214856, 0.8606217090454594, 0.8729531601027087, 0.8755627650839543, 0.7453032517720276, 0.6996820222625585, 0.8617328311058602, 0.8596944823766256, 0.8330047842212623, 0.8774711631867337, 0.8734759815631826, 0.8547549553598767, 0.8543529751035255, 0.7348192446757221, 0.7341354509337296, 0.854750390739827, 0.8547457761698182, 0.8468126045530798, 0.8544644133770829, 0.84517726786558, 0.8511259077732246, 0.8483599928543671, 0.8465371727336771, 0.8594208952463638, 0.8629844747965422, 0.8431038941445618, 0.8714765561729717, 0.8632415475049751, 0.8603338655217052, 0.8646584259767894, 0.8844384717255965, 0.8874277583645321, 0.8592901417457824, 0.86810185131444, 0.8810278890916211, 0.8509133431046655, 0.87964724827851, 0.8790658532492884, 0.8626055112758815, 0.8825801665122665, 0.8650707413230325, 0.8678809320629993]}, {\"categories\": [\"0\", \"1\", \"2\", \"3\", \"4\", \"5\", \"6\", \"7\", \"8\", \"9\", \"10\", \"11\", \"12\", \"13\", \"14\", \"15\", \"16\", \"17\", \"18\", \"19\", \"20\", \"21\", \"22\", \"23\", \"24\", \"25\", \"26\", \"27\", \"28\", \"29\", \"30\", \"31\", \"32\", \"33\", \"34\", \"35\", \"36\", \"37\", \"38\", \"39\", \"48\", \"49\"], \"mode\": \"lines\", \"name\": \"weighted_accuracy_max\", \"stepped\": true, \"type\": \"scatter\", \"data\": [0.8494580108214856, 0.8606217090454594, 0.8729531601027087, 0.8755627650839543, 0.8755627650839543, 0.8755627650839543, 0.8755627650839543, 0.8755627650839543, 0.8755627650839543, 0.8774711631867337, 0.8774711631867337, 0.8774711631867337, 0.8774711631867337, 0.8774711631867337, 0.8774711631867337, 0.8774711631867337, 0.8774711631867337, 0.8774711631867337, 0.8774711631867337, 0.8774711631867337, 0.8774711631867337, 0.8774711631867337, 0.8774711631867337, 0.8774711631867337, 0.8774711631867337, 0.8774711631867337, 0.8774711631867337, 0.8774711631867337, 0.8774711631867337, 0.8774711631867337, 0.8844384717255965, 0.8874277583645321, 0.8874277583645321, 0.8874277583645321, 0.8874277583645321, 0.8874277583645321, 0.8874277583645321, 0.8874277583645321, 0.8874277583645321, 0.8874277583645321, 0.8874277583645321, 0.8874277583645321]}], \"balanced_accuracy\": [{\"categories\": [\"0\", \"1\", \"2\", \"3\", \"4\", \"5\", \"6\", \"7\", \"8\", \"9\", \"10\", \"11\", \"12\", \"13\", \"14\", \"15\", \"16\", \"17\", \"18\", \"19\", \"20\", \"21\", \"22\", \"23\", \"24\", \"25\", \"26\", \"27\", \"28\", \"29\", \"30\", \"31\", \"32\", \"33\", \"34\", \"35\", \"36\", \"37\", \"38\", \"39\", \"48\", \"49\"], \"mode\": \"markers\", \"name\": \"balanced_accuracy\", \"stepped\": false, \"type\": \"scatter\", \"data\": [0.7056879837750146, 0.7213947760198094, 0.6748370365812918, 0.6540674280297613, 0.7654640352131215, 0.7436110724614068, 0.7134943097182731, 0.6983646441236887, 0.6869234384036327, 0.674292537249347, 0.6761412071703846, 0.7213987127845148, 0.7209335917449119, 0.7621198205428966, 0.761734379020114, 0.7214146873224155, 0.7214326626389914, 0.7025241134117076, 0.7207641329106932, 0.7043156077406701, 0.7052557324977083, 0.7015870765181581, 0.7018513682961253, 0.7021607458687259, 0.7137067535558339, 0.6999228640147622, 0.6712312519358559, 0.715498112485102, 0.6950089381975277, 0.6784236718593384, 0.5, 0.5759928210493063, 0.7027419889940648, 0.6973329711663948, 0.657669060647063, 0.7022735340950739, 0.6485399953052335, 0.6378424832444413, 0.6826396821262669, 0.6523394021189449, 0.7221053663898216, 0.7134172836322629]}, {\"categories\": [\"0\", \"1\", \"2\", \"3\", \"4\", \"5\", \"6\", \"7\", \"8\", \"9\", \"10\", \"11\", \"12\", \"13\", \"14\", \"15\", \"16\", \"17\", \"18\", \"19\", \"20\", \"21\", \"22\", \"23\", \"24\", \"25\", \"26\", \"27\", \"28\", \"29\", \"30\", \"31\", \"32\", \"33\", \"34\", \"35\", \"36\", \"37\", \"38\", \"39\", \"48\", \"49\"], \"mode\": \"lines\", \"name\": \"balanced_accuracy_max\", \"stepped\": true, \"type\": \"scatter\", \"data\": [0.7056879837750146, 0.7213947760198094, 0.7213947760198094, 0.7213947760198094, 0.7654640352131215, 0.7654640352131215, 0.7654640352131215, 0.7654640352131215, 0.7654640352131215, 0.7654640352131215, 0.7654640352131215, 0.7654640352131215, 0.7654640352131215, 0.7654640352131215, 0.7654640352131215, 0.7654640352131215, 0.7654640352131215, 0.7654640352131215, 0.7654640352131215, 0.7654640352131215, 0.7654640352131215, 0.7654640352131215, 0.7654640352131215, 0.7654640352131215, 0.7654640352131215, 0.7654640352131215, 0.7654640352131215, 0.7654640352131215, 0.7654640352131215, 0.7654640352131215, 0.7654640352131215, 0.7654640352131215, 0.7654640352131215, 0.7654640352131215, 0.7654640352131215, 0.7654640352131215, 0.7654640352131215, 0.7654640352131215, 0.7654640352131215, 0.7654640352131215, 0.7654640352131215, 0.7654640352131215]}], \"accuracy\": [{\"categories\": [\"0\", \"1\", \"2\", \"3\", \"4\", \"5\", \"6\", \"7\", \"8\", \"9\", \"10\", \"11\", \"12\", \"13\", \"14\", \"15\", \"16\", \"17\", \"18\", \"19\", \"20\", \"21\", \"22\", \"23\", \"24\", \"25\", \"26\", \"27\", \"28\", \"29\", \"30\", \"31\", \"32\", \"33\", \"34\", \"35\", \"36\", \"37\", \"38\", \"39\", \"48\", \"49\"], \"mode\": \"markers\", \"name\": \"accuracy\", \"stepped\": false, \"type\": \"scatter\", \"data\": [0.7934133417145185, 0.806332924194067, 0.7956843549838414, 0.7892949110188633, 0.7530869932667436, 0.7167398931592447, 0.803919280766559, 0.7968200733256925, 0.7760894633452592, 0.7982400841796178, 0.7965356598380815, 0.8027836229124764, 0.8023574865832082, 0.7454199266549514, 0.7448519465084887, 0.8027835019369393, 0.8027835624247078, 0.7905728361045199, 0.802357365607671, 0.7902886040802145, 0.7942654933975181, 0.791140634787677, 0.7901465787997145, 0.7980978774358123, 0.804771130010716, 0.7873070409940124, 0.7934127973246019, 0.8056234631570213, 0.7958261988010357, 0.7919928469584451, 0.7346307838706704, 0.7660099630613294, 0.7982396607652381, 0.8015062422167363, 0.7939805355199905, 0.7929864190442594, 0.7895782962144092, 0.785035725285847, 0.7924187413366393, 0.7928443937637595, 0.8093148502068802, 0.807611091230798]}, {\"categories\": [\"0\", \"1\", \"2\", \"3\", \"4\", \"5\", \"6\", \"7\", \"8\", \"9\", \"10\", \"11\", \"12\", \"13\", \"14\", \"15\", \"16\", \"17\", \"18\", \"19\", \"20\", \"21\", \"22\", \"23\", \"24\", \"25\", \"26\", \"27\", \"28\", \"29\", \"30\", \"31\", \"32\", \"33\", \"34\", \"35\", \"36\", \"37\", \"38\", \"39\", \"48\", \"49\"], \"mode\": \"lines\", \"name\": \"accuracy_max\", \"stepped\": true, \"type\": \"scatter\", \"data\": [0.7934133417145185, 0.806332924194067, 0.806332924194067, 0.806332924194067, 0.806332924194067, 0.806332924194067, 0.806332924194067, 0.806332924194067, 0.806332924194067, 0.806332924194067, 0.806332924194067, 0.806332924194067, 0.806332924194067, 0.806332924194067, 0.806332924194067, 0.806332924194067, 0.806332924194067, 0.806332924194067, 0.806332924194067, 0.806332924194067, 0.806332924194067, 0.806332924194067, 0.806332924194067, 0.806332924194067, 0.806332924194067, 0.806332924194067, 0.806332924194067, 0.806332924194067, 0.806332924194067, 0.806332924194067, 0.806332924194067, 0.806332924194067, 0.806332924194067, 0.806332924194067, 0.806332924194067, 0.806332924194067, 0.806332924194067, 0.806332924194067, 0.806332924194067, 0.806332924194067, 0.8093148502068802, 0.8093148502068802]}], \"recall_score_micro\": [{\"categories\": [\"0\", \"1\", \"2\", \"3\", \"4\", \"5\", \"6\", \"7\", \"8\", \"9\", \"10\", \"11\", \"12\", \"13\", \"14\", \"15\", \"16\", \"17\", \"18\", \"19\", \"20\", \"21\", \"22\", \"23\", \"24\", \"25\", \"26\", \"27\", \"28\", \"29\", \"30\", \"31\", \"32\", \"33\", \"34\", \"35\", \"36\", \"37\", \"38\", \"39\", \"48\", \"49\"], \"mode\": \"markers\", \"name\": \"recall_score_micro\", \"stepped\": false, \"type\": \"scatter\", \"data\": [0.7934133417145185, 0.806332924194067, 0.7956843549838414, 0.7892949110188633, 0.7530869932667436, 0.7167398931592447, 0.803919280766559, 0.7968200733256925, 0.7760894633452592, 0.7982400841796178, 0.7965356598380815, 0.8027836229124764, 0.8023574865832082, 0.7454199266549514, 0.7448519465084887, 0.8027835019369393, 0.8027835624247078, 0.7905728361045199, 0.802357365607671, 0.7902886040802145, 0.7942654933975181, 0.791140634787677, 0.7901465787997145, 0.7980978774358123, 0.804771130010716, 0.7873070409940124, 0.7934127973246019, 0.8056234631570213, 0.7958261988010357, 0.7919928469584451, 0.7346307838706704, 0.7660099630613294, 0.7982396607652381, 0.8015062422167363, 0.7939805355199905, 0.7929864190442594, 0.7895782962144092, 0.785035725285847, 0.7924187413366393, 0.7928443937637595, 0.8093148502068802, 0.807611091230798]}, {\"categories\": [\"0\", \"1\", \"2\", \"3\", \"4\", \"5\", \"6\", \"7\", \"8\", \"9\", \"10\", \"11\", \"12\", \"13\", \"14\", \"15\", \"16\", \"17\", \"18\", \"19\", \"20\", \"21\", \"22\", \"23\", \"24\", \"25\", \"26\", \"27\", \"28\", \"29\", \"30\", \"31\", \"32\", \"33\", \"34\", \"35\", \"36\", \"37\", \"38\", \"39\", \"48\", \"49\"], \"mode\": \"lines\", \"name\": \"recall_score_micro_max\", \"stepped\": true, \"type\": \"scatter\", \"data\": [0.7934133417145185, 0.806332924194067, 0.806332924194067, 0.806332924194067, 0.806332924194067, 0.806332924194067, 0.806332924194067, 0.806332924194067, 0.806332924194067, 0.806332924194067, 0.806332924194067, 0.806332924194067, 0.806332924194067, 0.806332924194067, 0.806332924194067, 0.806332924194067, 0.806332924194067, 0.806332924194067, 0.806332924194067, 0.806332924194067, 0.806332924194067, 0.806332924194067, 0.806332924194067, 0.806332924194067, 0.806332924194067, 0.806332924194067, 0.806332924194067, 0.806332924194067, 0.806332924194067, 0.806332924194067, 0.806332924194067, 0.806332924194067, 0.806332924194067, 0.806332924194067, 0.806332924194067, 0.806332924194067, 0.806332924194067, 0.806332924194067, 0.806332924194067, 0.806332924194067, 0.8093148502068802, 0.8093148502068802]}], \"average_precision_score_micro\": [{\"categories\": [\"0\", \"1\", \"2\", \"3\", \"4\", \"5\", \"6\", \"7\", \"8\", \"9\", \"10\", \"11\", \"12\", \"13\", \"14\", \"15\", \"16\", \"17\", \"18\", \"19\", \"20\", \"21\", \"22\", \"23\", \"24\", \"25\", \"26\", \"27\", \"28\", \"29\", \"30\", \"31\", \"32\", \"33\", \"34\", \"35\", \"36\", \"37\", \"38\", \"39\", \"48\", \"49\"], \"mode\": \"markers\", \"name\": \"average_precision_score_micro\", \"stepped\": false, \"type\": \"scatter\", \"data\": [0.8831696463692724, 0.890709125910217, 0.8841902109247899, 0.8807180364354505, 0.8439061720854282, 0.8105338461681755, 0.8916607358906653, 0.8837435723869286, 0.8614264991118056, 0.8876864082416102, 0.8877424368105383, 0.8906934706864821, 0.8907098934385006, 0.8438530368811161, 0.8438783031712379, 0.8907101315639036, 0.8906466919333456, 0.8831743628898289, 0.8905597378414453, 0.8831308279072192, 0.8874760689881805, 0.8815380200356483, 0.8801083644487514, 0.886740191941711, 0.891804704163699, 0.8765832461594073, 0.8839686917766199, 0.8928864079474487, 0.8874054033851179, 0.8836551014900454, 0.6724146593980018, 0.8742456450480556, 0.8875715429843481, 0.8887413274225557, 0.8856984327747456, 0.8810378177659436, 0.8831952690813235, 0.8775839668927435, 0.8811545203410587, 0.8845356470462887, 0.8926044488759047, 0.8927039192238894]}, {\"categories\": [\"0\", \"1\", \"2\", \"3\", \"4\", \"5\", \"6\", \"7\", \"8\", \"9\", \"10\", \"11\", \"12\", \"13\", \"14\", \"15\", \"16\", \"17\", \"18\", \"19\", \"20\", \"21\", \"22\", \"23\", \"24\", \"25\", \"26\", \"27\", \"28\", \"29\", \"30\", \"31\", \"32\", \"33\", \"34\", \"35\", \"36\", \"37\", \"38\", \"39\", \"48\", \"49\"], \"mode\": \"lines\", \"name\": \"average_precision_score_micro_max\", \"stepped\": true, \"type\": \"scatter\", \"data\": [0.8831696463692724, 0.890709125910217, 0.890709125910217, 0.890709125910217, 0.890709125910217, 0.890709125910217, 0.8916607358906653, 0.8916607358906653, 0.8916607358906653, 0.8916607358906653, 0.8916607358906653, 0.8916607358906653, 0.8916607358906653, 0.8916607358906653, 0.8916607358906653, 0.8916607358906653, 0.8916607358906653, 0.8916607358906653, 0.8916607358906653, 0.8916607358906653, 0.8916607358906653, 0.8916607358906653, 0.8916607358906653, 0.8916607358906653, 0.891804704163699, 0.891804704163699, 0.891804704163699, 0.8928864079474487, 0.8928864079474487, 0.8928864079474487, 0.8928864079474487, 0.8928864079474487, 0.8928864079474487, 0.8928864079474487, 0.8928864079474487, 0.8928864079474487, 0.8928864079474487, 0.8928864079474487, 0.8928864079474487, 0.8928864079474487, 0.8928864079474487, 0.8928864079474487]}], \"precision_score_micro\": [{\"categories\": [\"0\", \"1\", \"2\", \"3\", \"4\", \"5\", \"6\", \"7\", \"8\", \"9\", \"10\", \"11\", \"12\", \"13\", \"14\", \"15\", \"16\", \"17\", \"18\", \"19\", \"20\", \"21\", \"22\", \"23\", \"24\", \"25\", \"26\", \"27\", \"28\", \"29\", \"30\", \"31\", \"32\", \"33\", \"34\", \"35\", \"36\", \"37\", \"38\", \"39\", \"48\", \"49\"], \"mode\": \"markers\", \"name\": \"precision_score_micro\", \"stepped\": false, \"type\": \"scatter\", \"data\": [0.7934133417145185, 0.806332924194067, 0.7956843549838414, 0.7892949110188633, 0.7530869932667436, 0.7167398931592447, 0.803919280766559, 0.7968200733256925, 0.7760894633452592, 0.7982400841796178, 0.7965356598380815, 0.8027836229124764, 0.8023574865832082, 0.7454199266549514, 0.7448519465084887, 0.8027835019369393, 0.8027835624247078, 0.7905728361045199, 0.802357365607671, 0.7902886040802145, 0.7942654933975181, 0.791140634787677, 0.7901465787997145, 0.7980978774358123, 0.804771130010716, 0.7873070409940124, 0.7934127973246019, 0.8056234631570213, 0.7958261988010357, 0.7919928469584451, 0.7346307838706704, 0.7660099630613294, 0.7982396607652381, 0.8015062422167363, 0.7939805355199905, 0.7929864190442594, 0.7895782962144092, 0.785035725285847, 0.7924187413366393, 0.7928443937637595, 0.8093148502068802, 0.807611091230798]}, {\"categories\": [\"0\", \"1\", \"2\", \"3\", \"4\", \"5\", \"6\", \"7\", \"8\", \"9\", \"10\", \"11\", \"12\", \"13\", \"14\", \"15\", \"16\", \"17\", \"18\", \"19\", \"20\", \"21\", \"22\", \"23\", \"24\", \"25\", \"26\", \"27\", \"28\", \"29\", \"30\", \"31\", \"32\", \"33\", \"34\", \"35\", \"36\", \"37\", \"38\", \"39\", \"48\", \"49\"], \"mode\": \"lines\", \"name\": \"precision_score_micro_max\", \"stepped\": true, \"type\": \"scatter\", \"data\": [0.7934133417145185, 0.806332924194067, 0.806332924194067, 0.806332924194067, 0.806332924194067, 0.806332924194067, 0.806332924194067, 0.806332924194067, 0.806332924194067, 0.806332924194067, 0.806332924194067, 0.806332924194067, 0.806332924194067, 0.806332924194067, 0.806332924194067, 0.806332924194067, 0.806332924194067, 0.806332924194067, 0.806332924194067, 0.806332924194067, 0.806332924194067, 0.806332924194067, 0.806332924194067, 0.806332924194067, 0.806332924194067, 0.806332924194067, 0.806332924194067, 0.806332924194067, 0.806332924194067, 0.806332924194067, 0.806332924194067, 0.806332924194067, 0.806332924194067, 0.806332924194067, 0.806332924194067, 0.806332924194067, 0.806332924194067, 0.806332924194067, 0.806332924194067, 0.806332924194067, 0.8093148502068802, 0.8093148502068802]}], \"average_precision_score_weighted\": [{\"categories\": [\"0\", \"1\", \"2\", \"3\", \"4\", \"5\", \"6\", \"7\", \"8\", \"9\", \"10\", \"11\", \"12\", \"13\", \"14\", \"15\", \"16\", \"17\", \"18\", \"19\", \"20\", \"21\", \"22\", \"23\", \"24\", \"25\", \"26\", \"27\", \"28\", \"29\", \"30\", \"31\", \"32\", \"33\", \"34\", \"35\", \"36\", \"37\", \"38\", \"39\", \"48\", \"49\"], \"mode\": \"markers\", \"name\": \"average_precision_score_weighted\", \"stepped\": false, \"type\": \"scatter\", \"data\": [0.8542570358875866, 0.8630627705917088, 0.8524532782503337, 0.8513960503443796, 0.860074123800981, 0.8355404914891378, 0.8639857894513674, 0.8531136215187538, 0.8287866076570148, 0.8614757163252521, 0.8613001290887915, 0.861832964102061, 0.8618882981387775, 0.8614457287409593, 0.8614020163208916, 0.861879691333543, 0.8617798653236314, 0.8524696008166218, 0.8615396932258824, 0.8524093475156512, 0.8585583944583487, 0.8508611824658279, 0.8491998369438091, 0.8576677803331414, 0.8635602889932187, 0.8441812937541759, 0.8535246784912077, 0.8649643830203978, 0.8579709281309302, 0.8532296743839717, 0.6101985349253335, 0.8533511486324411, 0.8571966418637881, 0.8598230881320812, 0.8603986370460098, 0.8498628135769012, 0.8563583260404594, 0.8500605331694492, 0.8501265650260269, 0.8598748967473338, 0.865183869148305, 0.8656054742103428]}, {\"categories\": [\"0\", \"1\", \"2\", \"3\", \"4\", \"5\", \"6\", \"7\", \"8\", \"9\", \"10\", \"11\", \"12\", \"13\", \"14\", \"15\", \"16\", \"17\", \"18\", \"19\", \"20\", \"21\", \"22\", \"23\", \"24\", \"25\", \"26\", \"27\", \"28\", \"29\", \"30\", \"31\", \"32\", \"33\", \"34\", \"35\", \"36\", \"37\", \"38\", \"39\", \"48\", \"49\"], \"mode\": \"lines\", \"name\": \"average_precision_score_weighted_max\", \"stepped\": true, \"type\": \"scatter\", \"data\": [0.8542570358875866, 0.8630627705917088, 0.8630627705917088, 0.8630627705917088, 0.8630627705917088, 0.8630627705917088, 0.8639857894513674, 0.8639857894513674, 0.8639857894513674, 0.8639857894513674, 0.8639857894513674, 0.8639857894513674, 0.8639857894513674, 0.8639857894513674, 0.8639857894513674, 0.8639857894513674, 0.8639857894513674, 0.8639857894513674, 0.8639857894513674, 0.8639857894513674, 0.8639857894513674, 0.8639857894513674, 0.8639857894513674, 0.8639857894513674, 0.8639857894513674, 0.8639857894513674, 0.8639857894513674, 0.8649643830203978, 0.8649643830203978, 0.8649643830203978, 0.8649643830203978, 0.8649643830203978, 0.8649643830203978, 0.8649643830203978, 0.8649643830203978, 0.8649643830203978, 0.8649643830203978, 0.8649643830203978, 0.8649643830203978, 0.8649643830203978, 0.865183869148305, 0.8656054742103428]}], \"matthews_correlation\": [{\"categories\": [\"0\", \"1\", \"2\", \"3\", \"4\", \"5\", \"6\", \"7\", \"8\", \"9\", \"10\", \"11\", \"12\", \"13\", \"14\", \"15\", \"16\", \"17\", \"18\", \"19\", \"20\", \"21\", \"22\", \"23\", \"24\", \"25\", \"26\", \"27\", \"28\", \"29\", \"30\", \"31\", \"32\", \"33\", \"34\", \"35\", \"36\", \"37\", \"38\", \"39\", \"48\", \"49\"], \"mode\": \"markers\", \"name\": \"matthews_correlation\", \"stepped\": false, \"type\": \"scatter\", \"data\": [0.4409331362173062, 0.47587648813320743, 0.42085531558380906, 0.3926430641430478, 0.47824366927566714, 0.4334044372407359, 0.46535741479717513, 0.4402953080601477, 0.3970280770628629, 0.4265688035886774, 0.42356514436509407, 0.46985080448769373, 0.46877357319261104, 0.4701765805245321, 0.4693850497099705, 0.4698859072136868, 0.4699136605442676, 0.43358870913080083, 0.46863297155127553, 0.4348297405570774, 0.4418894042786803, 0.43366982515107844, 0.4323360980108883, 0.4458157293953143, 0.4670313160981105, 0.4261543785643349, 0.4132651520371529, 0.4699306908788139, 0.4359791233032409, 0.41562427433256294, 0.0, 0.284380658091475, 0.44674983715678734, 0.44853161079069476, 0.4068367259133316, 0.4371766346730522, 0.39045458139766714, 0.37246528542245566, 0.419879192091656, 0.401284811599168, 0.48169717835013603, 0.4721584563213915]}, {\"categories\": [\"0\", \"1\", \"2\", \"3\", \"4\", \"5\", \"6\", \"7\", \"8\", \"9\", \"10\", \"11\", \"12\", \"13\", \"14\", \"15\", \"16\", \"17\", \"18\", \"19\", \"20\", \"21\", \"22\", \"23\", \"24\", \"25\", \"26\", \"27\", \"28\", \"29\", \"30\", \"31\", \"32\", \"33\", \"34\", \"35\", \"36\", \"37\", \"38\", \"39\", \"48\", \"49\"], \"mode\": \"lines\", \"name\": \"matthews_correlation_max\", \"stepped\": true, \"type\": \"scatter\", \"data\": [0.4409331362173062, 0.47587648813320743, 0.47587648813320743, 0.47587648813320743, 0.47824366927566714, 0.47824366927566714, 0.47824366927566714, 0.47824366927566714, 0.47824366927566714, 0.47824366927566714, 0.47824366927566714, 0.47824366927566714, 0.47824366927566714, 0.47824366927566714, 0.47824366927566714, 0.47824366927566714, 0.47824366927566714, 0.47824366927566714, 0.47824366927566714, 0.47824366927566714, 0.47824366927566714, 0.47824366927566714, 0.47824366927566714, 0.47824366927566714, 0.47824366927566714, 0.47824366927566714, 0.47824366927566714, 0.47824366927566714, 0.47824366927566714, 0.47824366927566714, 0.47824366927566714, 0.47824366927566714, 0.47824366927566714, 0.47824366927566714, 0.47824366927566714, 0.47824366927566714, 0.47824366927566714, 0.47824366927566714, 0.47824366927566714, 0.47824366927566714, 0.48169717835013603, 0.48169717835013603]}], \"f1_score_micro\": [{\"categories\": [\"0\", \"1\", \"2\", \"3\", \"4\", \"5\", \"6\", \"7\", \"8\", \"9\", \"10\", \"11\", \"12\", \"13\", \"14\", \"15\", \"16\", \"17\", \"18\", \"19\", \"20\", \"21\", \"22\", \"23\", \"24\", \"25\", \"26\", \"27\", \"28\", \"29\", \"30\", \"31\", \"32\", \"33\", \"34\", \"35\", \"36\", \"37\", \"38\", \"39\", \"48\", \"49\"], \"mode\": \"markers\", \"name\": \"f1_score_micro\", \"stepped\": false, \"type\": \"scatter\", \"data\": [0.7934133417145186, 0.806332924194067, 0.7956843549838414, 0.7892949110188633, 0.7530869932667436, 0.7167398931592447, 0.8039192807665593, 0.7968200733256925, 0.7760894633452592, 0.7982400841796178, 0.7965356598380814, 0.8027836229124764, 0.8023574865832082, 0.7454199266549514, 0.7448519465084887, 0.8027835019369393, 0.8027835624247078, 0.7905728361045199, 0.802357365607671, 0.7902886040802145, 0.7942654933975181, 0.791140634787677, 0.7901465787997145, 0.7980978774358123, 0.804771130010716, 0.7873070409940124, 0.7934127973246018, 0.805623463157021, 0.7958261988010356, 0.7919928469584452, 0.7346307838706704, 0.7660099630613294, 0.7982396607652381, 0.8015062422167363, 0.7939805355199905, 0.7929864190442594, 0.7895782962144094, 0.7850357252858471, 0.7924187413366393, 0.7928443937637595, 0.8093148502068802, 0.807611091230798]}, {\"categories\": [\"0\", \"1\", \"2\", \"3\", \"4\", \"5\", \"6\", \"7\", \"8\", \"9\", \"10\", \"11\", \"12\", \"13\", \"14\", \"15\", \"16\", \"17\", \"18\", \"19\", \"20\", \"21\", \"22\", \"23\", \"24\", \"25\", \"26\", \"27\", \"28\", \"29\", \"30\", \"31\", \"32\", \"33\", \"34\", \"35\", \"36\", \"37\", \"38\", \"39\", \"48\", \"49\"], \"mode\": \"lines\", \"name\": \"f1_score_micro_max\", \"stepped\": true, \"type\": \"scatter\", \"data\": [0.7934133417145186, 0.806332924194067, 0.806332924194067, 0.806332924194067, 0.806332924194067, 0.806332924194067, 0.806332924194067, 0.806332924194067, 0.806332924194067, 0.806332924194067, 0.806332924194067, 0.806332924194067, 0.806332924194067, 0.806332924194067, 0.806332924194067, 0.806332924194067, 0.806332924194067, 0.806332924194067, 0.806332924194067, 0.806332924194067, 0.806332924194067, 0.806332924194067, 0.806332924194067, 0.806332924194067, 0.806332924194067, 0.806332924194067, 0.806332924194067, 0.806332924194067, 0.806332924194067, 0.806332924194067, 0.806332924194067, 0.806332924194067, 0.806332924194067, 0.806332924194067, 0.806332924194067, 0.806332924194067, 0.806332924194067, 0.806332924194067, 0.806332924194067, 0.806332924194067, 0.8093148502068802, 0.8093148502068802]}], \"norm_macro_recall\": [{\"categories\": [\"0\", \"1\", \"2\", \"3\", \"4\", \"5\", \"6\", \"7\", \"8\", \"9\", \"10\", \"11\", \"12\", \"13\", \"14\", \"15\", \"16\", \"17\", \"18\", \"19\", \"20\", \"21\", \"22\", \"23\", \"24\", \"25\", \"26\", \"27\", \"28\", \"29\", \"30\", \"31\", \"32\", \"33\", \"34\", \"35\", \"36\", \"37\", \"38\", \"39\", \"48\", \"49\"], \"mode\": \"markers\", \"name\": \"norm_macro_recall\", \"stepped\": false, \"type\": \"scatter\", \"data\": [0.4113759675500294, 0.44278955203961873, 0.34967407316258353, 0.3081348560595227, 0.530928070426243, 0.48722214492281357, 0.42698861943654604, 0.39672928824737735, 0.3738468768072654, 0.34858507449869397, 0.35228241434076896, 0.44279742556902973, 0.44186718348982407, 0.5242396410857931, 0.5234687580402279, 0.4428293746448308, 0.4428653252779829, 0.40504822682341546, 0.44152826582138643, 0.40863121548134046, 0.4105114649954167, 0.4031741530363162, 0.4037027365922506, 0.40432149173745174, 0.4274135071116678, 0.3998457280295245, 0.34246250387171173, 0.43099622497020396, 0.3900178763950555, 0.356847343718677, 0.0, 0.15198564209861246, 0.4054839779881296, 0.3946659423327898, 0.315338121294126, 0.40454706819014774, 0.2970799906104671, 0.2756849664888825, 0.36527936425253377, 0.3046788042378899, 0.4442107327796431, 0.4268345672645257]}, {\"categories\": [\"0\", \"1\", \"2\", \"3\", \"4\", \"5\", \"6\", \"7\", \"8\", \"9\", \"10\", \"11\", \"12\", \"13\", \"14\", \"15\", \"16\", \"17\", \"18\", \"19\", \"20\", \"21\", \"22\", \"23\", \"24\", \"25\", \"26\", \"27\", \"28\", \"29\", \"30\", \"31\", \"32\", \"33\", \"34\", \"35\", \"36\", \"37\", \"38\", \"39\", \"48\", \"49\"], \"mode\": \"lines\", \"name\": \"norm_macro_recall_max\", \"stepped\": true, \"type\": \"scatter\", \"data\": [0.4113759675500294, 0.44278955203961873, 0.44278955203961873, 0.44278955203961873, 0.530928070426243, 0.530928070426243, 0.530928070426243, 0.530928070426243, 0.530928070426243, 0.530928070426243, 0.530928070426243, 0.530928070426243, 0.530928070426243, 0.530928070426243, 0.530928070426243, 0.530928070426243, 0.530928070426243, 0.530928070426243, 0.530928070426243, 0.530928070426243, 0.530928070426243, 0.530928070426243, 0.530928070426243, 0.530928070426243, 0.530928070426243, 0.530928070426243, 0.530928070426243, 0.530928070426243, 0.530928070426243, 0.530928070426243, 0.530928070426243, 0.530928070426243, 0.530928070426243, 0.530928070426243, 0.530928070426243, 0.530928070426243, 0.530928070426243, 0.530928070426243, 0.530928070426243, 0.530928070426243, 0.530928070426243, 0.530928070426243]}], \"recall_score_weighted\": [{\"categories\": [\"0\", \"1\", \"2\", \"3\", \"4\", \"5\", \"6\", \"7\", \"8\", \"9\", \"10\", \"11\", \"12\", \"13\", \"14\", \"15\", \"16\", \"17\", \"18\", \"19\", \"20\", \"21\", \"22\", \"23\", \"24\", \"25\", \"26\", \"27\", \"28\", \"29\", \"30\", \"31\", \"32\", \"33\", \"34\", \"35\", \"36\", \"37\", \"38\", \"39\", \"48\", \"49\"], \"mode\": \"markers\", \"name\": \"recall_score_weighted\", \"stepped\": false, \"type\": \"scatter\", \"data\": [0.7934133417145185, 0.806332924194067, 0.7956843549838414, 0.7892949110188633, 0.7530869932667436, 0.7167398931592447, 0.803919280766559, 0.7968200733256925, 0.7760894633452592, 0.7982400841796178, 0.7965356598380815, 0.8027836229124764, 0.8023574865832082, 0.7454199266549514, 0.7448519465084887, 0.8027835019369393, 0.8027835624247078, 0.7905728361045199, 0.802357365607671, 0.7902886040802145, 0.7942654933975181, 0.791140634787677, 0.7901465787997145, 0.7980978774358123, 0.804771130010716, 0.7873070409940124, 0.7934127973246019, 0.8056234631570213, 0.7958261988010357, 0.7919928469584451, 0.7346307838706704, 0.7660099630613294, 0.7982396607652381, 0.8015062422167363, 0.7939805355199905, 0.7929864190442594, 0.7895782962144092, 0.785035725285847, 0.7924187413366393, 0.7928443937637595, 0.8093148502068802, 0.807611091230798]}, {\"categories\": [\"0\", \"1\", \"2\", \"3\", \"4\", \"5\", \"6\", \"7\", \"8\", \"9\", \"10\", \"11\", \"12\", \"13\", \"14\", \"15\", \"16\", \"17\", \"18\", \"19\", \"20\", \"21\", \"22\", \"23\", \"24\", \"25\", \"26\", \"27\", \"28\", \"29\", \"30\", \"31\", \"32\", \"33\", \"34\", \"35\", \"36\", \"37\", \"38\", \"39\", \"48\", \"49\"], \"mode\": \"lines\", \"name\": \"recall_score_weighted_max\", \"stepped\": true, \"type\": \"scatter\", \"data\": [0.7934133417145185, 0.806332924194067, 0.806332924194067, 0.806332924194067, 0.806332924194067, 0.806332924194067, 0.806332924194067, 0.806332924194067, 0.806332924194067, 0.806332924194067, 0.806332924194067, 0.806332924194067, 0.806332924194067, 0.806332924194067, 0.806332924194067, 0.806332924194067, 0.806332924194067, 0.806332924194067, 0.806332924194067, 0.806332924194067, 0.806332924194067, 0.806332924194067, 0.806332924194067, 0.806332924194067, 0.806332924194067, 0.806332924194067, 0.806332924194067, 0.806332924194067, 0.806332924194067, 0.806332924194067, 0.806332924194067, 0.806332924194067, 0.806332924194067, 0.806332924194067, 0.806332924194067, 0.806332924194067, 0.806332924194067, 0.806332924194067, 0.806332924194067, 0.806332924194067, 0.8093148502068802, 0.8093148502068802]}], \"precision_score_weighted\": [{\"categories\": [\"0\", \"1\", \"2\", \"3\", \"4\", \"5\", \"6\", \"7\", \"8\", \"9\", \"10\", \"11\", \"12\", \"13\", \"14\", \"15\", \"16\", \"17\", \"18\", \"19\", \"20\", \"21\", \"22\", \"23\", \"24\", \"25\", \"26\", \"27\", \"28\", \"29\", \"30\", \"31\", \"32\", \"33\", \"34\", \"35\", \"36\", \"37\", \"38\", \"39\", \"48\", \"49\"], \"mode\": \"markers\", \"name\": \"precision_score_weighted\", \"stepped\": false, \"type\": \"scatter\", \"data\": [0.7836627915151761, 0.7975167042252641, 0.7827543424315864, 0.7759038764105894, 0.8056701018696696, 0.7925635276401142, 0.7940602254649051, 0.7851065399206737, 0.7660874351279362, 0.7864905945866708, 0.7838227150373395, 0.7946056286797131, 0.7941875256811572, 0.8037109542881421, 0.8034560189312074, 0.7946277247669196, 0.7946315732300352, 0.7807229639912104, 0.7941616004156987, 0.7809622197879792, 0.784149007922952, 0.780981507743732, 0.7802960696935468, 0.7869015572625866, 0.7948539177057045, 0.777589891400687, 0.7798481420856082, 0.7958608227477044, 0.7838235878085594, 0.7783295312386781, 0.5397300513333371, 0.7671848520596276, 0.7874032294693333, 0.7898223850366571, 0.7828420960535958, 0.7824643053913718, 0.7775520558489749, 0.7725176815005006, 0.7791736873612206, 0.7823396508563972, 0.8002428376462949, 0.7976127106772709]}, {\"categories\": [\"0\", \"1\", \"2\", \"3\", \"4\", \"5\", \"6\", \"7\", \"8\", \"9\", \"10\", \"11\", \"12\", \"13\", \"14\", \"15\", \"16\", \"17\", \"18\", \"19\", \"20\", \"21\", \"22\", \"23\", \"24\", \"25\", \"26\", \"27\", \"28\", \"29\", \"30\", \"31\", \"32\", \"33\", \"34\", \"35\", \"36\", \"37\", \"38\", \"39\", \"48\", \"49\"], \"mode\": \"lines\", \"name\": \"precision_score_weighted_max\", \"stepped\": true, \"type\": \"scatter\", \"data\": [0.7836627915151761, 0.7975167042252641, 0.7975167042252641, 0.7975167042252641, 0.8056701018696696, 0.8056701018696696, 0.8056701018696696, 0.8056701018696696, 0.8056701018696696, 0.8056701018696696, 0.8056701018696696, 0.8056701018696696, 0.8056701018696696, 0.8056701018696696, 0.8056701018696696, 0.8056701018696696, 0.8056701018696696, 0.8056701018696696, 0.8056701018696696, 0.8056701018696696, 0.8056701018696696, 0.8056701018696696, 0.8056701018696696, 0.8056701018696696, 0.8056701018696696, 0.8056701018696696, 0.8056701018696696, 0.8056701018696696, 0.8056701018696696, 0.8056701018696696, 0.8056701018696696, 0.8056701018696696, 0.8056701018696696, 0.8056701018696696, 0.8056701018696696, 0.8056701018696696, 0.8056701018696696, 0.8056701018696696, 0.8056701018696696, 0.8056701018696696, 0.8056701018696696, 0.8056701018696696]}], \"AUC_weighted\": [{\"categories\": [\"0\", \"1\", \"2\", \"3\", \"4\", \"5\", \"6\", \"7\", \"8\", \"9\", \"10\", \"11\", \"12\", \"13\", \"14\", \"15\", \"16\", \"17\", \"18\", \"19\", \"20\", \"21\", \"22\", \"23\", \"24\", \"25\", \"26\", \"27\", \"28\", \"29\", \"30\", \"31\", \"32\", \"33\", \"34\", \"35\", \"36\", \"37\", \"38\", \"39\", \"48\", \"49\"], \"mode\": \"markers\", \"name\": \"AUC_weighted\", \"stepped\": false, \"type\": \"scatter\", \"data\": [0.8336521823108806, 0.8457764550980652, 0.8370382635223571, 0.8336645314581838, 0.8435476152158191, 0.8196850532156122, 0.8472173960238235, 0.8350211766357329, 0.8023166177195203, 0.8452507968411576, 0.8454785344051489, 0.8456710404248726, 0.8457287829344757, 0.8454429112748206, 0.8455127115337722, 0.8457214718202164, 0.8455682664763184, 0.8342491458018516, 0.8453973943233241, 0.8338205046956558, 0.8402515998373463, 0.8304800669533122, 0.828572193906313, 0.8387517886319459, 0.8475892716331046, 0.824692347782887, 0.8359420548167337, 0.8490458037170465, 0.8410317792496702, 0.8350528609016178, 0.5, 0.8361719340599983, 0.8406335200011341, 0.8432575605883189, 0.8447783471117019, 0.8324685406106425, 0.84066023891265, 0.8319950600227769, 0.8321838401281659, 0.8430460586229823, 0.8483492280018572, 0.8491279481394972]}, {\"categories\": [\"0\", \"1\", \"2\", \"3\", \"4\", \"5\", \"6\", \"7\", \"8\", \"9\", \"10\", \"11\", \"12\", \"13\", \"14\", \"15\", \"16\", \"17\", \"18\", \"19\", \"20\", \"21\", \"22\", \"23\", \"24\", \"25\", \"26\", \"27\", \"28\", \"29\", \"30\", \"31\", \"32\", \"33\", \"34\", \"35\", \"36\", \"37\", \"38\", \"39\", \"48\", \"49\"], \"mode\": \"lines\", \"name\": \"AUC_weighted_max\", \"stepped\": true, \"type\": \"scatter\", \"data\": [0.8336521823108806, 0.8457764550980652, 0.8457764550980652, 0.8457764550980652, 0.8457764550980652, 0.8457764550980652, 0.8472173960238235, 0.8472173960238235, 0.8472173960238235, 0.8472173960238235, 0.8472173960238235, 0.8472173960238235, 0.8472173960238235, 0.8472173960238235, 0.8472173960238235, 0.8472173960238235, 0.8472173960238235, 0.8472173960238235, 0.8472173960238235, 0.8472173960238235, 0.8472173960238235, 0.8472173960238235, 0.8472173960238235, 0.8472173960238235, 0.8475892716331046, 0.8475892716331046, 0.8475892716331046, 0.8490458037170465, 0.8490458037170465, 0.8490458037170465, 0.8490458037170465, 0.8490458037170465, 0.8490458037170465, 0.8490458037170465, 0.8490458037170465, 0.8490458037170465, 0.8490458037170465, 0.8490458037170465, 0.8490458037170465, 0.8490458037170465, 0.8490458037170465, 0.8491279481394972]}], \"average_precision_score_macro\": [{\"categories\": [\"0\", \"1\", \"2\", \"3\", \"4\", \"5\", \"6\", \"7\", \"8\", \"9\", \"10\", \"11\", \"12\", \"13\", \"14\", \"15\", \"16\", \"17\", \"18\", \"19\", \"20\", \"21\", \"22\", \"23\", \"24\", \"25\", \"26\", \"27\", \"28\", \"29\", \"30\", \"31\", \"32\", \"33\", \"34\", \"35\", \"36\", \"37\", \"38\", \"39\", \"48\", \"49\"], \"mode\": \"markers\", \"name\": \"average_precision_score_macro\", \"stepped\": false, \"type\": \"scatter\", \"data\": [0.7867665435577887, 0.799248532925596, 0.7816374595293714, 0.7812815272864032, 0.7930442028279252, 0.7574413892727319, 0.8000162498334445, 0.7848717054086386, 0.7502135206870856, 0.7962138492604858, 0.7953172490235314, 0.7958272589665868, 0.7959421610385297, 0.795154182803409, 0.795033973627198, 0.7959211674981642, 0.7957723774164392, 0.7820087555778642, 0.7953464716871975, 0.7819887956993838, 0.791736064769001, 0.7802612767622118, 0.777994360158618, 0.7913428477551081, 0.7988669634679466, 0.7704118072639936, 0.783005190445936, 0.8008299166729266, 0.7910206587145754, 0.7832442357046255, 0.5, 0.7833894981195414, 0.7895365569289745, 0.7936162375536191, 0.7931702229017645, 0.7791553190595492, 0.7872533652342124, 0.7786651391050965, 0.7790957817664772, 0.793476899711778, 0.8016858463026034, 0.8020549220760457]}, {\"categories\": [\"0\", \"1\", \"2\", \"3\", \"4\", \"5\", \"6\", \"7\", \"8\", \"9\", \"10\", \"11\", \"12\", \"13\", \"14\", \"15\", \"16\", \"17\", \"18\", \"19\", \"20\", \"21\", \"22\", \"23\", \"24\", \"25\", \"26\", \"27\", \"28\", \"29\", \"30\", \"31\", \"32\", \"33\", \"34\", \"35\", \"36\", \"37\", \"38\", \"39\", \"48\", \"49\"], \"mode\": \"lines\", \"name\": \"average_precision_score_macro_max\", \"stepped\": true, \"type\": \"scatter\", \"data\": [0.7867665435577887, 0.799248532925596, 0.799248532925596, 0.799248532925596, 0.799248532925596, 0.799248532925596, 0.8000162498334445, 0.8000162498334445, 0.8000162498334445, 0.8000162498334445, 0.8000162498334445, 0.8000162498334445, 0.8000162498334445, 0.8000162498334445, 0.8000162498334445, 0.8000162498334445, 0.8000162498334445, 0.8000162498334445, 0.8000162498334445, 0.8000162498334445, 0.8000162498334445, 0.8000162498334445, 0.8000162498334445, 0.8000162498334445, 0.8000162498334445, 0.8000162498334445, 0.8000162498334445, 0.8008299166729266, 0.8008299166729266, 0.8008299166729266, 0.8008299166729266, 0.8008299166729266, 0.8008299166729266, 0.8008299166729266, 0.8008299166729266, 0.8008299166729266, 0.8008299166729266, 0.8008299166729266, 0.8008299166729266, 0.8008299166729266, 0.8016858463026034, 0.8020549220760457]}], \"precision_score_macro\": [{\"categories\": [\"0\", \"1\", \"2\", \"3\", \"4\", \"5\", \"6\", \"7\", \"8\", \"9\", \"10\", \"11\", \"12\", \"13\", \"14\", \"15\", \"16\", \"17\", \"18\", \"19\", \"20\", \"21\", \"22\", \"23\", \"24\", \"25\", \"26\", \"27\", \"28\", \"29\", \"30\", \"31\", \"32\", \"33\", \"34\", \"35\", \"36\", \"37\", \"38\", \"39\", \"48\", \"49\"], \"mode\": \"markers\", \"name\": \"precision_score_macro\", \"stepped\": false, \"type\": \"scatter\", \"data\": [0.7363299616567219, 0.7557636201223872, 0.7534157106564168, 0.7505496762590614, 0.7154238322655123, 0.6927922025742794, 0.7536668726693883, 0.7443343516059203, 0.7108504606367098, 0.7611415452704456, 0.7547766704162931, 0.7492913985461552, 0.7486785725896704, 0.7108635596628278, 0.7104636741009037, 0.7493182831729518, 0.7493213648480331, 0.7320879904910506, 0.748715510656341, 0.7313613344944375, 0.7378438492763618, 0.7332676942333425, 0.7315174041863473, 0.7458396689719452, 0.7552351653632742, 0.7271017807332356, 0.7494353751301787, 0.7562408135402426, 0.7438506511313895, 0.7423086772043659, 0.3673153919353352, 0.7679651682797574, 0.7462153222796813, 0.7549565042901634, 0.7624682552907457, 0.7362263339042131, 0.7565977320486802, 0.751752776189333, 0.7415626999859787, 0.7642821431664677, 0.7612253841225597, 0.7612943123799373]}, {\"categories\": [\"0\", \"1\", \"2\", \"3\", \"4\", \"5\", \"6\", \"7\", \"8\", \"9\", \"10\", \"11\", \"12\", \"13\", \"14\", \"15\", \"16\", \"17\", \"18\", \"19\", \"20\", \"21\", \"22\", \"23\", \"24\", \"25\", \"26\", \"27\", \"28\", \"29\", \"30\", \"31\", \"32\", \"33\", \"34\", \"35\", \"36\", \"37\", \"38\", \"39\", \"48\", \"49\"], \"mode\": \"lines\", \"name\": \"precision_score_macro_max\", \"stepped\": true, \"type\": \"scatter\", \"data\": [0.7363299616567219, 0.7557636201223872, 0.7557636201223872, 0.7557636201223872, 0.7557636201223872, 0.7557636201223872, 0.7557636201223872, 0.7557636201223872, 0.7557636201223872, 0.7611415452704456, 0.7611415452704456, 0.7611415452704456, 0.7611415452704456, 0.7611415452704456, 0.7611415452704456, 0.7611415452704456, 0.7611415452704456, 0.7611415452704456, 0.7611415452704456, 0.7611415452704456, 0.7611415452704456, 0.7611415452704456, 0.7611415452704456, 0.7611415452704456, 0.7611415452704456, 0.7611415452704456, 0.7611415452704456, 0.7611415452704456, 0.7611415452704456, 0.7611415452704456, 0.7611415452704456, 0.7679651682797574, 0.7679651682797574, 0.7679651682797574, 0.7679651682797574, 0.7679651682797574, 0.7679651682797574, 0.7679651682797574, 0.7679651682797574, 0.7679651682797574, 0.7679651682797574, 0.7679651682797574]}], \"AUC_macro\": [{\"categories\": [\"0\", \"1\", \"2\", \"3\", \"4\", \"5\", \"6\", \"7\", \"8\", \"9\", \"10\", \"11\", \"12\", \"13\", \"14\", \"15\", \"16\", \"17\", \"18\", \"19\", \"20\", \"21\", \"22\", \"23\", \"24\", \"25\", \"26\", \"27\", \"28\", \"29\", \"30\", \"31\", \"32\", \"33\", \"34\", \"35\", \"36\", \"37\", \"38\", \"39\", \"48\", \"49\"], \"mode\": \"markers\", \"name\": \"AUC_macro\", \"stepped\": false, \"type\": \"scatter\", \"data\": [0.8336521823108806, 0.8457764927526638, 0.8370382635223571, 0.8336645314581838, 0.8435476152158191, 0.8196850532156125, 0.8472173960238235, 0.8350211766357329, 0.8023166177195203, 0.8452507968411576, 0.8454785344051489, 0.8456710404248726, 0.8457287829344757, 0.8454429112748206, 0.8455127115337722, 0.8457214718202164, 0.8455682664763184, 0.8342491458018516, 0.8453973943233241, 0.8338205046956558, 0.8402515998373464, 0.8304800669533122, 0.8285721562517144, 0.8387517886319461, 0.8475892716331046, 0.8246923477828871, 0.8359420548167336, 0.8490458037170466, 0.8410317792496702, 0.835052860901618, 0.5, 0.8361719340599983, 0.8406335200011341, 0.8432575605883189, 0.8447783471117019, 0.8324685406106425, 0.84066023891265, 0.8319950600227769, 0.8321838401281659, 0.8430460586229823, 0.8483492280018572, 0.8491279481394972]}, {\"categories\": [\"0\", \"1\", \"2\", \"3\", \"4\", \"5\", \"6\", \"7\", \"8\", \"9\", \"10\", \"11\", \"12\", \"13\", \"14\", \"15\", \"16\", \"17\", \"18\", \"19\", \"20\", \"21\", \"22\", \"23\", \"24\", \"25\", \"26\", \"27\", \"28\", \"29\", \"30\", \"31\", \"32\", \"33\", \"34\", \"35\", \"36\", \"37\", \"38\", \"39\", \"48\", \"49\"], \"mode\": \"lines\", \"name\": \"AUC_macro_max\", \"stepped\": true, \"type\": \"scatter\", \"data\": [0.8336521823108806, 0.8457764927526638, 0.8457764927526638, 0.8457764927526638, 0.8457764927526638, 0.8457764927526638, 0.8472173960238235, 0.8472173960238235, 0.8472173960238235, 0.8472173960238235, 0.8472173960238235, 0.8472173960238235, 0.8472173960238235, 0.8472173960238235, 0.8472173960238235, 0.8472173960238235, 0.8472173960238235, 0.8472173960238235, 0.8472173960238235, 0.8472173960238235, 0.8472173960238235, 0.8472173960238235, 0.8472173960238235, 0.8472173960238235, 0.8475892716331046, 0.8475892716331046, 0.8475892716331046, 0.8490458037170466, 0.8490458037170466, 0.8490458037170466, 0.8490458037170466, 0.8490458037170466, 0.8490458037170466, 0.8490458037170466, 0.8490458037170466, 0.8490458037170466, 0.8490458037170466, 0.8490458037170466, 0.8490458037170466, 0.8490458037170466, 0.8490458037170466, 0.8491279481394972]}], \"recall_score_macro\": [{\"categories\": [\"0\", \"1\", \"2\", \"3\", \"4\", \"5\", \"6\", \"7\", \"8\", \"9\", \"10\", \"11\", \"12\", \"13\", \"14\", \"15\", \"16\", \"17\", \"18\", \"19\", \"20\", \"21\", \"22\", \"23\", \"24\", \"25\", \"26\", \"27\", \"28\", \"29\", \"30\", \"31\", \"32\", \"33\", \"34\", \"35\", \"36\", \"37\", \"38\", \"39\", \"48\", \"49\"], \"mode\": \"markers\", \"name\": \"recall_score_macro\", \"stepped\": false, \"type\": \"scatter\", \"data\": [0.7056879837750146, 0.7213947760198094, 0.6748370365812918, 0.6540674280297613, 0.7654640352131215, 0.7436110724614068, 0.7134943097182731, 0.6983646441236887, 0.6869234384036327, 0.674292537249347, 0.6761412071703846, 0.7213987127845148, 0.7209335917449119, 0.7621198205428966, 0.761734379020114, 0.7214146873224155, 0.7214326626389914, 0.7025241134117076, 0.7207641329106932, 0.7043156077406701, 0.7052557324977083, 0.7015870765181581, 0.7018513682961253, 0.7021607458687259, 0.7137067535558339, 0.6999228640147622, 0.6712312519358559, 0.715498112485102, 0.6950089381975277, 0.6784236718593384, 0.5, 0.5759928210493063, 0.7027419889940648, 0.6973329711663948, 0.657669060647063, 0.7022735340950739, 0.6485399953052335, 0.6378424832444413, 0.6826396821262669, 0.6523394021189449, 0.7221053663898216, 0.7134172836322629]}, {\"categories\": [\"0\", \"1\", \"2\", \"3\", \"4\", \"5\", \"6\", \"7\", \"8\", \"9\", \"10\", \"11\", \"12\", \"13\", \"14\", \"15\", \"16\", \"17\", \"18\", \"19\", \"20\", \"21\", \"22\", \"23\", \"24\", \"25\", \"26\", \"27\", \"28\", \"29\", \"30\", \"31\", \"32\", \"33\", \"34\", \"35\", \"36\", \"37\", \"38\", \"39\", \"48\", \"49\"], \"mode\": \"lines\", \"name\": \"recall_score_macro_max\", \"stepped\": true, \"type\": \"scatter\", \"data\": [0.7056879837750146, 0.7213947760198094, 0.7213947760198094, 0.7213947760198094, 0.7654640352131215, 0.7654640352131215, 0.7654640352131215, 0.7654640352131215, 0.7654640352131215, 0.7654640352131215, 0.7654640352131215, 0.7654640352131215, 0.7654640352131215, 0.7654640352131215, 0.7654640352131215, 0.7654640352131215, 0.7654640352131215, 0.7654640352131215, 0.7654640352131215, 0.7654640352131215, 0.7654640352131215, 0.7654640352131215, 0.7654640352131215, 0.7654640352131215, 0.7654640352131215, 0.7654640352131215, 0.7654640352131215, 0.7654640352131215, 0.7654640352131215, 0.7654640352131215, 0.7654640352131215, 0.7654640352131215, 0.7654640352131215, 0.7654640352131215, 0.7654640352131215, 0.7654640352131215, 0.7654640352131215, 0.7654640352131215, 0.7654640352131215, 0.7654640352131215, 0.7654640352131215, 0.7654640352131215]}], \"AUC_micro\": [{\"categories\": [\"0\", \"1\", \"2\", \"3\", \"4\", \"5\", \"6\", \"7\", \"8\", \"9\", \"10\", \"11\", \"12\", \"13\", \"14\", \"15\", \"16\", \"17\", \"18\", \"19\", \"20\", \"21\", \"22\", \"23\", \"24\", \"25\", \"26\", \"27\", \"28\", \"29\", \"30\", \"31\", \"32\", \"33\", \"34\", \"35\", \"36\", \"37\", \"38\", \"39\", \"48\", \"49\"], \"mode\": \"markers\", \"name\": \"AUC_micro\", \"stepped\": false, \"type\": \"scatter\", \"data\": [0.8820266908081331, 0.8903040006188849, 0.8828544780931339, 0.8793440533667983, 0.8400699232576775, 0.8052598434095094, 0.8909415059088238, 0.8835980145665027, 0.8598796559517545, 0.8868354030208231, 0.8864278174479693, 0.8893458520738743, 0.8893889477769702, 0.8381734231139316, 0.8381635129104109, 0.889382364942125, 0.8893006943238816, 0.8812246070136274, 0.8891930446898293, 0.8811297756858442, 0.8860076575297599, 0.8794011265383164, 0.8781585922823677, 0.8859474392259005, 0.8909216688563723, 0.8749726437583684, 0.8816983910634749, 0.8919181017884061, 0.8866988254663922, 0.8817720338783245, 0.7346307838706704, 0.870463827004725, 0.8867039774657751, 0.8879181121965326, 0.8834321448380239, 0.8804763689202634, 0.8809711541319359, 0.8750350242392978, 0.8797228302426291, 0.8827449647141382, 0.8917544827075418, 0.8917390249699223]}, {\"categories\": [\"0\", \"1\", \"2\", \"3\", \"4\", \"5\", \"6\", \"7\", \"8\", \"9\", \"10\", \"11\", \"12\", \"13\", \"14\", \"15\", \"16\", \"17\", \"18\", \"19\", \"20\", \"21\", \"22\", \"23\", \"24\", \"25\", \"26\", \"27\", \"28\", \"29\", \"30\", \"31\", \"32\", \"33\", \"34\", \"35\", \"36\", \"37\", \"38\", \"39\", \"48\", \"49\"], \"mode\": \"lines\", \"name\": \"AUC_micro_max\", \"stepped\": true, \"type\": \"scatter\", \"data\": [0.8820266908081331, 0.8903040006188849, 0.8903040006188849, 0.8903040006188849, 0.8903040006188849, 0.8903040006188849, 0.8909415059088238, 0.8909415059088238, 0.8909415059088238, 0.8909415059088238, 0.8909415059088238, 0.8909415059088238, 0.8909415059088238, 0.8909415059088238, 0.8909415059088238, 0.8909415059088238, 0.8909415059088238, 0.8909415059088238, 0.8909415059088238, 0.8909415059088238, 0.8909415059088238, 0.8909415059088238, 0.8909415059088238, 0.8909415059088238, 0.8909415059088238, 0.8909415059088238, 0.8909415059088238, 0.8919181017884061, 0.8919181017884061, 0.8919181017884061, 0.8919181017884061, 0.8919181017884061, 0.8919181017884061, 0.8919181017884061, 0.8919181017884061, 0.8919181017884061, 0.8919181017884061, 0.8919181017884061, 0.8919181017884061, 0.8919181017884061, 0.8919181017884061, 0.8919181017884061]}], \"f1_score_weighted\": [{\"categories\": [\"0\", \"1\", \"2\", \"3\", \"4\", \"5\", \"6\", \"7\", \"8\", \"9\", \"10\", \"11\", \"12\", \"13\", \"14\", \"15\", \"16\", \"17\", \"18\", \"19\", \"20\", \"21\", \"22\", \"23\", \"24\", \"25\", \"26\", \"27\", \"28\", \"29\", \"30\", \"31\", \"32\", \"33\", \"34\", \"35\", \"36\", \"37\", \"38\", \"39\", \"48\", \"49\"], \"mode\": \"markers\", \"name\": \"f1_score_weighted\", \"stepped\": false, \"type\": \"scatter\", \"data\": [0.7862390227449835, 0.799346087766676, 0.7770984977135861, 0.7647906476155542, 0.7656419974599418, 0.7328053178110424, 0.7954647243778842, 0.7863457627349358, 0.7693968905529994, 0.7784120336568575, 0.7781790573096604, 0.7969324240604817, 0.7965123772800977, 0.7588908895651807, 0.7583773910453399, 0.796928606437551, 0.7969382227066658, 0.7834550565753453, 0.7964793365576508, 0.7837888929060269, 0.7866797024718323, 0.7835572927712581, 0.783010192936635, 0.7882557115019413, 0.7961139181843025, 0.7805466528076114, 0.7744651987500615, 0.7972143927777519, 0.7843721182565496, 0.7761793692373176, 0.6222629953683686, 0.7056549385016234, 0.7885560965752564, 0.7889112387114943, 0.7689682222594004, 0.7849925227603948, 0.7623337727870233, 0.7545651429474151, 0.7780775488086165, 0.7657950933957217, 0.8015868948167976, 0.7978473889616002]}, {\"categories\": [\"0\", \"1\", \"2\", \"3\", \"4\", \"5\", \"6\", \"7\", \"8\", \"9\", \"10\", \"11\", \"12\", \"13\", \"14\", \"15\", \"16\", \"17\", \"18\", \"19\", \"20\", \"21\", \"22\", \"23\", \"24\", \"25\", \"26\", \"27\", \"28\", \"29\", \"30\", \"31\", \"32\", \"33\", \"34\", \"35\", \"36\", \"37\", \"38\", \"39\", \"48\", \"49\"], \"mode\": \"lines\", \"name\": \"f1_score_weighted_max\", \"stepped\": true, \"type\": \"scatter\", \"data\": [0.7862390227449835, 0.799346087766676, 0.799346087766676, 0.799346087766676, 0.799346087766676, 0.799346087766676, 0.799346087766676, 0.799346087766676, 0.799346087766676, 0.799346087766676, 0.799346087766676, 0.799346087766676, 0.799346087766676, 0.799346087766676, 0.799346087766676, 0.799346087766676, 0.799346087766676, 0.799346087766676, 0.799346087766676, 0.799346087766676, 0.799346087766676, 0.799346087766676, 0.799346087766676, 0.799346087766676, 0.799346087766676, 0.799346087766676, 0.799346087766676, 0.799346087766676, 0.799346087766676, 0.799346087766676, 0.799346087766676, 0.799346087766676, 0.799346087766676, 0.799346087766676, 0.799346087766676, 0.799346087766676, 0.799346087766676, 0.799346087766676, 0.799346087766676, 0.799346087766676, 0.8015868948167976, 0.8015868948167976]}], \"f1_score_macro\": [{\"categories\": [\"0\", \"1\", \"2\", \"3\", \"4\", \"5\", \"6\", \"7\", \"8\", \"9\", \"10\", \"11\", \"12\", \"13\", \"14\", \"15\", \"16\", \"17\", \"18\", \"19\", \"20\", \"21\", \"22\", \"23\", \"24\", \"25\", \"26\", \"27\", \"28\", \"29\", \"30\", \"31\", \"32\", \"33\", \"34\", \"35\", \"36\", \"37\", \"38\", \"39\", \"48\", \"49\"], \"mode\": \"markers\", \"name\": \"f1_score_macro\", \"stepped\": false, \"type\": \"scatter\", \"data\": [0.7175132240967862, 0.7346304075371126, 0.6949029504099519, 0.6734855287256541, 0.7222234697648003, 0.6904077383356203, 0.7281567035558401, 0.7142035868627427, 0.6963320417104893, 0.6954457363973582, 0.6963996258078483, 0.7326602708528279, 0.7321242170335212, 0.7159030424139944, 0.7153872787980263, 0.7326596576354102, 0.732685014958034, 0.7139753295623713, 0.7320299804197242, 0.7150500012709774, 0.7176919918506037, 0.7136205003166299, 0.7133274565398962, 0.7174547822860505, 0.728768858422867, 0.7106277250025803, 0.6910201900299802, 0.7304404563230742, 0.7110000829503677, 0.6963071208259587, 0.4234992861864861, 0.5691666620116484, 0.7179109170501475, 0.715600544173287, 0.6785969952904659, 0.7150659841403657, 0.6681377300401934, 0.655443801570648, 0.7000250353942684, 0.6728641543806791, 0.7367578063723483, 0.7299839693881068]}, {\"categories\": [\"0\", \"1\", \"2\", \"3\", \"4\", \"5\", \"6\", \"7\", \"8\", \"9\", \"10\", \"11\", \"12\", \"13\", \"14\", \"15\", \"16\", \"17\", \"18\", \"19\", \"20\", \"21\", \"22\", \"23\", \"24\", \"25\", \"26\", \"27\", \"28\", \"29\", \"30\", \"31\", \"32\", \"33\", \"34\", \"35\", \"36\", \"37\", \"38\", \"39\", \"48\", \"49\"], \"mode\": \"lines\", \"name\": \"f1_score_macro_max\", \"stepped\": true, \"type\": \"scatter\", \"data\": [0.7175132240967862, 0.7346304075371126, 0.7346304075371126, 0.7346304075371126, 0.7346304075371126, 0.7346304075371126, 0.7346304075371126, 0.7346304075371126, 0.7346304075371126, 0.7346304075371126, 0.7346304075371126, 0.7346304075371126, 0.7346304075371126, 0.7346304075371126, 0.7346304075371126, 0.7346304075371126, 0.7346304075371126, 0.7346304075371126, 0.7346304075371126, 0.7346304075371126, 0.7346304075371126, 0.7346304075371126, 0.7346304075371126, 0.7346304075371126, 0.7346304075371126, 0.7346304075371126, 0.7346304075371126, 0.7346304075371126, 0.7346304075371126, 0.7346304075371126, 0.7346304075371126, 0.7346304075371126, 0.7346304075371126, 0.7346304075371126, 0.7346304075371126, 0.7346304075371126, 0.7346304075371126, 0.7346304075371126, 0.7346304075371126, 0.7346304075371126, 0.7367578063723483, 0.7367578063723483]}]}, \"metricName\": null, \"primaryMetricName\": \"accuracy\", \"showLegend\": false}, \"run_metrics\": [{\"name\": \"experiment_status\", \"run_id\": \"AutoML_5f84fc51-a209-4bae-a867-b016ddf108ef\", \"categories\": [0, 1, 2, 3, 4, 5, 6, 7, 8, 9, 10, 11, 12, 13], \"series\": [{\"data\": [\"DatasetEvaluation\", \"FeaturesGeneration\", \"DatasetFeaturization\", \"DatasetFeaturizationCompleted\", \"DatasetCrossValidationSplit\", \"ModelSelection\", \"BestRunExplainModel\", \"ModelExplanationDataSetSetup\", \"PickSurrogateModel\", \"EngineeredFeatureExplanations\", \"EngineeredFeatureExplanations\", \"RawFeaturesExplanations\", \"RawFeaturesExplanations\", \"BestRunExplainModel\"]}]}, {\"name\": \"experiment_status_description\", \"run_id\": \"AutoML_5f84fc51-a209-4bae-a867-b016ddf108ef\", \"categories\": [0, 1, 2, 3, 4, 5, 6, 7, 8, 9, 10, 11, 12, 13], \"series\": [{\"data\": [\"Gathering dataset statistics.\", \"Generating features for the dataset.\", \"Beginning to fit featurizers and featurize the dataset.\", \"Completed fit featurizers and featurizing the dataset.\", \"Generating individually featurized CV splits.\", \"Beginning model selection.\", \"Best run model explanations started\", \"Model explanations data setup completed\", \"Choosing LightGBM as the surrogate model for explanations\", \"Computation of engineered features started\", \"Computation of engineered features completed\", \"Computation of raw features started\", \"Computation of raw features completed\", \"Best run model explanations completed\"]}]}, {\"name\": \"norm_macro_recall\", \"run_id\": \"AutoML_5f84fc51-a209-4bae-a867-b016ddf108ef\", \"categories\": [0], \"series\": [{\"data\": [0.4442107327796431]}]}, {\"name\": \"average_precision_score_micro\", \"run_id\": \"AutoML_5f84fc51-a209-4bae-a867-b016ddf108ef\", \"categories\": [0], \"series\": [{\"data\": [0.8926044488759047]}]}, {\"name\": \"AUC_macro\", \"run_id\": \"AutoML_5f84fc51-a209-4bae-a867-b016ddf108ef\", \"categories\": [0], \"series\": [{\"data\": [0.8483492280018572]}]}, {\"name\": \"AUC_micro\", \"run_id\": \"AutoML_5f84fc51-a209-4bae-a867-b016ddf108ef\", \"categories\": [0], \"series\": [{\"data\": [0.8917544827075418]}]}, {\"name\": \"accuracy\", \"run_id\": \"AutoML_5f84fc51-a209-4bae-a867-b016ddf108ef\", \"categories\": [0], \"series\": [{\"data\": [0.8093148502068802]}]}, {\"name\": \"average_precision_score_weighted\", \"run_id\": \"AutoML_5f84fc51-a209-4bae-a867-b016ddf108ef\", \"categories\": [0], \"series\": [{\"data\": [0.865183869148305]}]}, {\"name\": \"recall_score_macro\", \"run_id\": \"AutoML_5f84fc51-a209-4bae-a867-b016ddf108ef\", \"categories\": [0], \"series\": [{\"data\": [0.7221053663898216]}]}, {\"name\": \"log_loss\", \"run_id\": \"AutoML_5f84fc51-a209-4bae-a867-b016ddf108ef\", \"categories\": [0], \"series\": [{\"data\": [0.41286600292995246]}]}, {\"name\": \"precision_score_weighted\", \"run_id\": \"AutoML_5f84fc51-a209-4bae-a867-b016ddf108ef\", \"categories\": [0], \"series\": [{\"data\": [0.8002428376462949]}]}, {\"name\": \"f1_score_macro\", \"run_id\": \"AutoML_5f84fc51-a209-4bae-a867-b016ddf108ef\", \"categories\": [0], \"series\": [{\"data\": [0.7367578063723483]}]}, {\"name\": \"recall_score_weighted\", \"run_id\": \"AutoML_5f84fc51-a209-4bae-a867-b016ddf108ef\", \"categories\": [0], \"series\": [{\"data\": [0.8093148502068802]}]}, {\"name\": \"precision_score_micro\", \"run_id\": \"AutoML_5f84fc51-a209-4bae-a867-b016ddf108ef\", \"categories\": [0], \"series\": [{\"data\": [0.8093148502068802]}]}, {\"name\": \"average_precision_score_macro\", \"run_id\": \"AutoML_5f84fc51-a209-4bae-a867-b016ddf108ef\", \"categories\": [0], \"series\": [{\"data\": [0.8016858463026034]}]}, {\"name\": \"weighted_accuracy\", \"run_id\": \"AutoML_5f84fc51-a209-4bae-a867-b016ddf108ef\", \"categories\": [0], \"series\": [{\"data\": [0.8650707413230325]}]}, {\"name\": \"precision_score_macro\", \"run_id\": \"AutoML_5f84fc51-a209-4bae-a867-b016ddf108ef\", \"categories\": [0], \"series\": [{\"data\": [0.7612253841225597]}]}, {\"name\": \"recall_score_micro\", \"run_id\": \"AutoML_5f84fc51-a209-4bae-a867-b016ddf108ef\", \"categories\": [0], \"series\": [{\"data\": [0.8093148502068802]}]}, {\"name\": \"f1_score_weighted\", \"run_id\": \"AutoML_5f84fc51-a209-4bae-a867-b016ddf108ef\", \"categories\": [0], \"series\": [{\"data\": [0.8015868948167976]}]}, {\"name\": \"matthews_correlation\", \"run_id\": \"AutoML_5f84fc51-a209-4bae-a867-b016ddf108ef\", \"categories\": [0], \"series\": [{\"data\": [0.48169717835013603]}]}, {\"name\": \"AUC_weighted\", \"run_id\": \"AutoML_5f84fc51-a209-4bae-a867-b016ddf108ef\", \"categories\": [0], \"series\": [{\"data\": [0.8483492280018572]}]}, {\"name\": \"balanced_accuracy\", \"run_id\": \"AutoML_5f84fc51-a209-4bae-a867-b016ddf108ef\", \"categories\": [0], \"series\": [{\"data\": [0.7221053663898216]}]}, {\"name\": \"f1_score_micro\", \"run_id\": \"AutoML_5f84fc51-a209-4bae-a867-b016ddf108ef\", \"categories\": [0], \"series\": [{\"data\": [0.8093148502068802]}]}], \"run_logs\": \"\\nRun is completed.\", \"graph\": {}, \"widget_settings\": {\"childWidgetDisplay\": \"popup\", \"send_telemetry\": false, \"log_level\": \"INFO\", \"sdk_version\": \"1.31.0\"}, \"loading\": false}"
          },
          "metadata": {}
        }
      ],
      "execution_count": 8,
      "metadata": {
        "gather": {
          "logged": 1598431121770
        },
        "jupyter": {
          "outputs_hidden": false,
          "source_hidden": false
        },
        "nteract": {
          "transient": {
            "deleting": false
          }
        }
      }
    },
    {
      "cell_type": "markdown",
      "source": [
        "## Best Model\n",
        "\n",
        "TODO: In the cell below, get the best model from the automl experiments and display all the properties of the model.\n",
        "\n"
      ],
      "metadata": {}
    },
    {
      "cell_type": "code",
      "source": [
        "import azureml.train.automl\n",
        "\n",
        "import azureml.automl.core\n",
        "from azureml.automl.runtime.onnx_convert import OnnxConverter\n",
        "\n",
        "remote_run.wait_for_completion()\n",
        "\n",
        "metrics_output_name = 'metrics_output'\n",
        "best_model_output_name = 'best_model_output'\n",
        "\n",
        "best_automl, best_model = remote_run.get_output()"
      ],
      "outputs": [
        {
          "output_type": "stream",
          "name": "stderr",
          "text": [
            "WARNING:root:The version of the SDK does not match the version the model was trained on.\n",
            "WARNING:root:The consistency in the result may not be guaranteed.\n",
            "WARNING:root:Package:azureml-automl-core, training version:1.32.0, current version:1.31.0\n",
            "Package:azureml-automl-runtime, training version:1.32.0, current version:1.31.0\n",
            "Package:azureml-core, training version:1.32.0, current version:1.31.0\n",
            "Package:azureml-dataset-runtime, training version:1.32.0, current version:1.31.0\n",
            "Package:azureml-defaults, training version:1.32.0, current version:1.31.0\n",
            "Package:azureml-interpret, training version:1.32.0, current version:1.31.0\n",
            "Package:azureml-mlflow, training version:1.32.0, current version:1.31.0\n",
            "Package:azureml-pipeline-core, training version:1.32.0, current version:1.31.0\n",
            "Package:azureml-telemetry, training version:1.32.0, current version:1.31.0\n",
            "Package:azureml-train-automl-client, training version:1.32.0, current version:1.31.0\n",
            "Package:azureml-train-automl-runtime, training version:1.32.0, current version:1.31.0\n",
            "WARNING:root:Please ensure the version of your local conda dependencies match the version on which your model was trained in order to properly retrieve your model.\n"
          ]
        }
      ],
      "execution_count": 9,
      "metadata": {
        "gather": {
          "logged": 1598431425670
        },
        "jupyter": {
          "outputs_hidden": false,
          "source_hidden": false
        },
        "nteract": {
          "transient": {
            "deleting": false
          }
        }
      }
    },
    {
      "cell_type": "code",
      "source": [
        "import joblib, pickle\n",
        "joblib.dump(best_model, 'best_run_automl.pkl')"
      ],
      "outputs": [
        {
          "output_type": "execute_result",
          "execution_count": 53,
          "data": {
            "text/plain": "['best_run_automl.pkl']"
          },
          "metadata": {}
        }
      ],
      "execution_count": 53,
      "metadata": {}
    },
    {
      "cell_type": "markdown",
      "source": [
        "## Model Deployment\n",
        "\n",
        "Remember you have to deploy only one of the two models you trained.. Perform the steps in the rest of this notebook only if you wish to deploy this model.\n",
        "\n",
        "TODO: In the cell below, register the model, create an inference config and deploy the model as a web service."
      ],
      "metadata": {}
    },
    {
      "cell_type": "code",
      "source": [
        "from azureml.core.model import Model\n",
        "from azureml.core.environment import Environment\n",
        "from azureml.core.model import InferenceConfig\n",
        "from azureml.core.webservice import LocalWebservice, Webservice, AciWebservice\n",
        "from azureml.core.conda_dependencies import CondaDependencies\n",
        "import azureml.train.automl\n",
        "\n",
        "model = Model.register(workspace = ws, model_name = 'best_run_automl', model_path = 'best_run_automl.pkl')\n",
        "print(model.name, model.id, model.version, sep='\\t')\n",
        "\n",
        "# Create the environment\n",
        "env = best_automl.get_environment()\n",
        "#conda_dep = CondaDependencies()\n"
      ],
      "outputs": [
        {
          "output_type": "stream",
          "name": "stdout",
          "text": [
            "Registering model best_run_automl\n",
            "best_run_automl\tbest_run_automl:6\t6\n"
          ]
        }
      ],
      "execution_count": 54,
      "metadata": {
        "gather": {
          "logged": 1598431435189
        },
        "jupyter": {
          "outputs_hidden": false,
          "source_hidden": false
        },
        "nteract": {
          "transient": {
            "deleting": false
          }
        },
        "scrolled": true
      }
    },
    {
      "cell_type": "code",
      "source": [
        "inference_config = InferenceConfig(entry_script='score.py', environment=env)"
      ],
      "outputs": [],
      "execution_count": 57,
      "metadata": {}
    },
    {
      "cell_type": "code",
      "source": [
        "\n",
        "deployment_config = AciWebservice.deploy_configuration(cpu_cores=1, memory_gb=4, enable_app_insights=True)\n",
        "service = Model.deploy(ws, \"telco-churn-automl-endpoint\", [model], inference_config, deployment_config)\n",
        "service.wait_for_deployment(show_output = True)\n",
        "\n",
        "print(service.state)\n",
        "print(service.scoring_uri)\n",
        "print(service.swagger_uri)"
      ],
      "outputs": [
        {
          "output_type": "stream",
          "name": "stdout",
          "text": [
            "Tips: You can try get_logs(): https://aka.ms/debugimage#dockerlog or local deployment: https://aka.ms/debugimage#debug-locally to debug if deployment takes longer than 10 minutes.\n",
            "Running\n",
            "2021-07-28 15:10:30+00:00 Creating Container Registry if not exists.\n",
            "2021-07-28 15:10:30+00:00 Registering the environment.\n",
            "2021-07-28 15:10:31+00:00 Use the existing image.\n",
            "2021-07-28 15:10:31+00:00 Generating deployment configuration.\n",
            "2021-07-28 15:10:32+00:00 Submitting deployment to compute.\n",
            "2021-07-28 15:10:35+00:00 Checking the status of deployment telco-churn-automl-endpoint..\n",
            "2021-07-28 15:13:07+00:00 Checking the status of inference endpoint telco-churn-automl-endpoint.\n",
            "Succeeded\n",
            "ACI service creation operation finished, operation \"Succeeded\"\n",
            "Healthy\n",
            "http://bc43d9a7-3650-4f5f-a71e-f602b038012a.eastus2.azurecontainer.io/score\n",
            "http://bc43d9a7-3650-4f5f-a71e-f602b038012a.eastus2.azurecontainer.io/swagger.json\n"
          ]
        }
      ],
      "execution_count": 58,
      "metadata": {
        "scrolled": false
      }
    },
    {
      "cell_type": "markdown",
      "source": [
        "TODO: In the cell below, send a request to the web service you deployed to test it."
      ],
      "metadata": {
        "collapsed": true,
        "gather": {
          "logged": 1598431657736
        },
        "jupyter": {
          "outputs_hidden": false,
          "source_hidden": false
        },
        "nteract": {
          "transient": {
            "deleting": false
          }
        }
      }
    },
    {
      "cell_type": "code",
      "source": [
        "print(\"Scoring URI: \" + service.scoring_uri)"
      ],
      "outputs": [
        {
          "output_type": "stream",
          "name": "stdout",
          "text": [
            "Scoring URI: http://bc43d9a7-3650-4f5f-a71e-f602b038012a.eastus2.azurecontainer.io/score\n"
          ]
        }
      ],
      "execution_count": 59,
      "metadata": {
        "gather": {
          "logged": 1598432707604
        },
        "jupyter": {
          "outputs_hidden": false,
          "source_hidden": false
        },
        "nteract": {
          "transient": {
            "deleting": false
          }
        },
        "scrolled": true
      }
    },
    {
      "cell_type": "code",
      "source": [
        "import json\n",
        "data = {\"data\":\n",
        "        [\n",
        "          {\n",
        "            \"gender\" :\"Female\",\n",
        "            \"SeniorCitizen\" :0,\n",
        "            \"Partner\" :0,\n",
        "            \"Dependents\" :0,\n",
        "            \"tenure\" :1,\n",
        "            \"PhoneService\" :0,\n",
        "            \"MultipleLines\" :\"No phone service\",\n",
        "            \"InternetService\" :\"DSL\",\n",
        "            \"OnlineSecurity\" :0,\n",
        "            \"OnlineBackup\" :0,\n",
        "            \"DeviceProtection\" :0,\n",
        "            \"TechSupport\" :0,\n",
        "            \"StreamingTV\" :0,\n",
        "            \"StreamingMovies\" :0,\n",
        "            \"Contract\" :\"Month-to-month\",\n",
        "            \"PaperlessBilling\" :1,\n",
        "            \"PaymentMethod\" :\"Electronic check\",\n",
        "            \"MonthlyCharges\" :1500.85,\n",
        "            \"TotalCharges\" :1500.85,\n",
        "          },\n",
        "            \n",
        "        {\n",
        "            \"gender\" :\"Male\",\n",
        "            \"SeniorCitizen\" :1,\n",
        "            \"Partner\" :1,\n",
        "            \"Dependents\" :0,\n",
        "            \"tenure\" :0,\n",
        "            \"PhoneService\" :0,\n",
        "            \"MultipleLines\" :\"No phone service\",\n",
        "            \"InternetService\" :\"DSL\",\n",
        "            \"OnlineSecurity\" :0,\n",
        "            \"OnlineBackup\" :0,\n",
        "            \"DeviceProtection\" :0,\n",
        "            \"TechSupport\" :0,\n",
        "            \"StreamingTV\" :0,\n",
        "            \"StreamingMovies\" :0,\n",
        "            \"Contract\" :\"Month-to-month\",\n",
        "            \"PaperlessBilling\" :0,\n",
        "            \"PaymentMethod\" :\"Electronic check\",\n",
        "            \"MonthlyCharges\" :20.50,\n",
        "            \"TotalCharges\" :20.50,\n",
        "            \n",
        "        }\n",
        "      ]}\n",
        "test_sample = json.dumps(data)\n",
        "output= service.run(test_sample)\n",
        "print(output)"
      ],
      "outputs": [
        {
          "output_type": "stream",
          "name": "stdout",
          "text": [
            "[False, False]\n"
          ]
        }
      ],
      "execution_count": 60,
      "metadata": {}
    },
    {
      "cell_type": "code",
      "source": [
        "%run endpoint.py"
      ],
      "outputs": [
        {
          "output_type": "stream",
          "name": "stdout",
          "text": [
            "[False, False]\n"
          ]
        }
      ],
      "execution_count": 61,
      "metadata": {}
    },
    {
      "cell_type": "markdown",
      "source": [
        "TODO: In the cell below, print the logs of the web service and delete the service"
      ],
      "metadata": {
        "collapsed": true,
        "gather": {
          "logged": 1598432765711
        },
        "jupyter": {
          "outputs_hidden": false,
          "source_hidden": false
        },
        "nteract": {
          "transient": {
            "deleting": false
          }
        }
      }
    },
    {
      "cell_type": "code",
      "source": [
        "print(service.get_logs())"
      ],
      "outputs": [
        {
          "output_type": "stream",
          "name": "stdout",
          "text": [
            "2021-07-28T15:12:58,728877300+00:00 - gunicorn/run \n",
            "Dynamic Python package installation is disabled.\n",
            "Starting HTTP server\n",
            "2021-07-28T15:12:58,737153700+00:00 - rsyslog/run \n",
            "2021-07-28T15:12:58,745734200+00:00 - iot-server/run \n",
            "2021-07-28T15:12:58,785900500+00:00 - nginx/run \n",
            "rsyslogd: /azureml-envs/azureml_fc92eee9a5613508afa12283dd0b27d8/lib/libuuid.so.1: no version information available (required by rsyslogd)\n",
            "Starting gunicorn 20.1.0\n",
            "Listening at: http://127.0.0.1:31311 (64)\n",
            "Using worker: sync\n",
            "worker timeout is set to 300\n",
            "Booting worker with pid: 88\n",
            "EdgeHubConnectionString and IOTEDGE_IOTHUBHOSTNAME are not set. Exiting...\n",
            "2021-07-28T15:13:01,500229300+00:00 - iot-server/finish 1 0\n",
            "2021-07-28T15:13:01,506411400+00:00 - Exit code 1 is normal. Not restarting iot-server.\n",
            "SPARK_HOME not set. Skipping PySpark Initialization.\n",
            "Generating new fontManager, this may take some time...\n",
            "Initializing logger\n",
            "2021-07-28 15:13:03,150 | root | INFO | Starting up app insights client\n",
            "logging socket was found. logging is available.\n",
            "logging socket was found. logging is available.\n",
            "2021-07-28 15:13:03,151 | root | INFO | Starting up request id generator\n",
            "2021-07-28 15:13:03,151 | root | INFO | Starting up app insight hooks\n",
            "2021-07-28 15:13:03,151 | root | INFO | Invoking user's init function\n",
            "2021-07-28 15:13:07,271 | azureml.core | WARNING | Failure while loading azureml_run_type_providers. Failed to load entrypoint automl = azureml.train.automl.run:AutoMLRun._from_run_dto with exception cannot import name 'RunType'.\n",
            "Failure while loading azureml_run_type_providers. Failed to load entrypoint automl = azureml.train.automl.run:AutoMLRun._from_run_dto with exception cannot import name 'RunType'.\n",
            "2021-07-28 15:13:07,849 | root | INFO | Users's init has completed successfully\n",
            "/azureml-envs/azureml_fc92eee9a5613508afa12283dd0b27d8/lib/python3.6/site-packages/sklearn/externals/joblib/__init__.py:15: FutureWarning: sklearn.externals.joblib is deprecated in 0.21 and will be removed in 0.23. Please import this functionality directly from joblib, which can be installed with: pip install joblib. If this warning is raised when loading pickled models, you may need to re-serialize those models with scikit-learn 0.21+.\n",
            "  warnings.warn(msg, category=FutureWarning)\n",
            "2021-07-28 15:13:07,859 | root | INFO | Skipping middleware: dbg_model_info as it's not enabled.\n",
            "2021-07-28 15:13:07,859 | root | INFO | Skipping middleware: dbg_resource_usage as it's not enabled.\n",
            "2021-07-28 15:13:07,861 | root | INFO | Scoring timeout is found from os.environ: 60000 ms\n",
            "2021-07-28 15:13:07,947 | root | INFO | Swagger file not present\n",
            "2021-07-28 15:13:07,947 | root | INFO | 404\n",
            "127.0.0.1 - - [28/Jul/2021:15:13:07 +0000] \"GET /swagger.json HTTP/1.0\" 404 19 \"-\" \"Go-http-client/1.1\"\n",
            "2021-07-28 15:13:13,009 | root | INFO | Swagger file not present\n",
            "2021-07-28 15:13:13,009 | root | INFO | 404\n",
            "127.0.0.1 - - [28/Jul/2021:15:13:12 +0000] \"GET /swagger.json HTTP/1.0\" 404 19 \"-\" \"Go-http-client/1.1\"\n",
            "2021-07-28 15:13:35,232 | root | INFO | Scoring Timer is set to 60.0 seconds\n",
            "2021-07-28 15:13:35,348 | root | INFO | 200\n",
            "127.0.0.1 - - [28/Jul/2021:15:13:35 +0000] \"POST /score HTTP/1.0\" 200 14 \"-\" \"python-requests/2.25.1\"\n",
            "2021-07-28 15:13:38,546 | root | INFO | Scoring Timer is set to 60.0 seconds\n",
            "2021-07-28 15:13:38,643 | root | INFO | 200\n",
            "127.0.0.1 - - [28/Jul/2021:15:13:38 +0000] \"POST /score HTTP/1.0\" 200 14 \"-\" \"python-requests/2.25.1\"\n",
            "\n"
          ]
        }
      ],
      "execution_count": 62,
      "metadata": {
        "jupyter": {
          "outputs_hidden": false,
          "source_hidden": false
        },
        "nteract": {
          "transient": {
            "deleting": false
          }
        }
      }
    },
    {
      "cell_type": "code",
      "source": [
        "service.delete()"
      ],
      "outputs": [],
      "execution_count": null,
      "metadata": {}
    },
    {
      "cell_type": "code",
      "source": [],
      "outputs": [],
      "execution_count": null,
      "metadata": {}
    }
  ],
  "metadata": {
    "kernel_info": {
      "name": "python3"
    },
    "kernelspec": {
      "name": "python3",
      "language": "python",
      "display_name": "Python 3"
    },
    "language_info": {
      "name": "python",
      "version": "3.6.9",
      "mimetype": "text/x-python",
      "codemirror_mode": {
        "name": "ipython",
        "version": 3
      },
      "pygments_lexer": "ipython3",
      "nbconvert_exporter": "python",
      "file_extension": ".py"
    },
    "nteract": {
      "version": "nteract-front-end@1.0.0"
    }
  },
  "nbformat": 4,
  "nbformat_minor": 2
}